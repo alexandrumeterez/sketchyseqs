{
 "cells": [
  {
   "cell_type": "code",
   "execution_count": 23,
   "metadata": {},
   "outputs": [],
   "source": [
    "from itertools import product\n",
    "import tqdm\n",
    "import time\n",
    "import editdistance \n",
    "import matplotlib.pyplot as plt\n",
    "import random\n",
    "\n",
    "import pandas as pd\n",
    "import numpy as np\n",
    "import numba as nb\n",
    "from numba import njit, jit, prange, cuda, objmode\n",
    "from numba.typed import List\n",
    "from numba.experimental import jitclass\n",
    "import plotly.graph_objects as go\n",
    "import random\n",
    "from collections import defaultdict\n",
    "from tqdm import tqdm\n",
    "np.random.seed(0)\n",
    "random.seed(0)"
   ]
  },
  {
   "cell_type": "code",
   "execution_count": 21,
   "metadata": {},
   "outputs": [
    {
     "data": {
      "text/plain": [
       "1731852455476782847"
      ]
     },
     "execution_count": 21,
     "metadata": {},
     "output_type": "execute_result"
    }
   ],
   "source": [
    "@njit(fastmath=True)\n",
    "def l2_dist(a, b): \n",
    "    d = a-b\n",
    "    return np.sum(d*d);\n",
    "\n",
    "\n",
    "@njit(fastmath=True)\n",
    "def hamming_distance(a, b):\n",
    "    return np.sum(a != b);\n",
    "\n",
    "\n",
    "# only works for k<=32, would overflow otherwise \n",
    "@njit(fastmath=True)\n",
    "def extract_kmers(seq,k):\n",
    "    kmer = 0\n",
    "    kmers = np.zeros(len(seq)-k+1,dtype=np.int64)\n",
    "    for i,c in enumerate(seq):\n",
    "        kmer = kmer * 4 + c\n",
    "        kmer = kmer % (4**k)\n",
    "        if i>=k:\n",
    "            kmers[i-k] = kmer\n",
    "    return kmers\n",
    "\n",
    "@jitclass([\n",
    "    ('A', nb.int32),\n",
    "    ('t', nb.int32),\n",
    "    ('D', nb.int32),\n",
    "    ('normalize', nb.bool_),\n",
    "    ('hashes', nb.int32[:, :]),\n",
    "    ('signs', nb.float32[:, :])])\n",
    "class TS():\n",
    "    def __init__(self, t, D, A, normalize = True):\n",
    "        self.A = A\n",
    "        self.t = t\n",
    "        self.D = D\n",
    "        self.normalize = normalize\n",
    "\n",
    "        # An A*t array of random integers in [0, D)\n",
    "        self.hashes = np.empty((self.A, self.t), dtype=np.int32)\n",
    "        # An A*t array of random +-1\n",
    "        self.signs = np.empty((self.A, self.t), dtype=np.float32)\n",
    "        for c in range(self.A):\n",
    "            for k in range(self.t):\n",
    "                self.hashes[c][k] = random.randrange(0, self.D)\n",
    "                self.signs[c][k] = random.randrange(-1, 2, 2)\n",
    "\n",
    "    def _full_sketch(self, seq: nb.int32[:]):\n",
    "        # NOTE: The sketch is stored as float64 here so counting won't overflow.\n",
    "        T = np.zeros((self.t + 1, self.D), dtype=np.float64)\n",
    "        T[0][0] = 1\n",
    "        \n",
    "        for c in seq:\n",
    "            for k in range(self.t - 1, -1, -1):\n",
    "                h = self.hashes[c][k]\n",
    "                s = self.signs[c][k]\n",
    "                for l in range(self.D):\n",
    "                    r = l + h if l + h < self.D else l + h - self.D\n",
    "                    T[k + 1][l] += s * T[k][r]\n",
    "\n",
    "        return T\n",
    "\n",
    "    def _normalize(self, seq, T)-> nb.float32[:]:\n",
    "        if self.normalize:\n",
    "            T = T / np.linalg.norm(T)\n",
    "        return T\n",
    "\n",
    "    def sketch_one(self, seq: np.ndarray) -> nb.float32[:]:\n",
    "        full_sketch = self._full_sketch(seq)\n",
    "\n",
    "        sketch = self._normalize(seq, full_sketch[self.t])\n",
    "\n",
    "        sketch = sketch.flatten()\n",
    "        return sketch\n",
    "\n",
    "    def sketch(self, seqs):\n",
    "        return [self.sketch_one(seq) for seq in seqs]\n",
    "\n",
    "    def dist(self, s1, s2):\n",
    "        return l2_dist(s1,s2)\n",
    "    \n",
    "class TSS():\n",
    "    def __init__(self, seq_len, t, W, S, D, A, normalize = True, sketch_class=TS):\n",
    "        # reduce sketch dim to ensure that the flattened sketch size is D \n",
    "        D2 = int(D/int((seq_len-W)/S)+1)   \n",
    "        self.sketcher = sketch_class(t=t,D=D2,A=A,normalize=normalize)\n",
    "        self.t = t\n",
    "        self.W = W\n",
    "        self.S = S\n",
    "        self.D2 = D2\n",
    "        self.D = D\n",
    "    \n",
    "    def sketch_one(self, seq: nb.int32[:]) -> nb.float32[:,:]:\n",
    "        L = int(np.ceil((len(seq)-self.W+1)/self.S))\n",
    "        sketch = np.zeros((self.D2,L), dtype=np.float32)\n",
    "        for si,i in enumerate(np.arange(0,len(seq)-self.W+1,self.S)):\n",
    "            sketch[:,si] = self.sketcher.sketch_one(seq[i:i+self.W])\n",
    "        \n",
    "        return sketch\n",
    "    \n",
    "    def sketch(self, seqs):\n",
    "        all_seqs = List()\n",
    "        starts = np.arange(0,len(seqs[0])-self.W+1,self.S)\n",
    "        n, m = len(seqs),len(starts)\n",
    "        for seq in seqs:\n",
    "            for i in starts:\n",
    "                all_seqs.append(seq[i:i+self.W])\n",
    "        all_sketches = self.sketcher.sketch(all_seqs)\n",
    "        sketches = List()\n",
    "        for i in range(n):\n",
    "            sk = np.array([x for sk in all_sketches[i*m:(i+1) * m] for x in sk])\n",
    "            sketches.append(sk)\n",
    "        return sketches\n",
    "    \n",
    "    def dist(self, s1, s2):\n",
    "        return l2_dist(s1,s2)\n",
    "    \n",
    "    \n",
    "@jitclass([\n",
    "    ('A', nb.int32),\n",
    "    ('t', nb.int32),\n",
    "    ('D', nb.int32),\n",
    "    ('D2', nb.int32),\n",
    "    ('normalize', nb.bool_),\n",
    "    ('hashes', nb.int32[:, :]),\n",
    "    ('G', nb.float64[:, :]),\n",
    "    ('H', nb.float64[:]),\n",
    "    ('signs', nb.float32[:, :])])\n",
    "class DTS():\n",
    "    def __init__(self, t, D, D2, A, normalize = True):\n",
    "        self.A = A\n",
    "        self.t = t\n",
    "        self.D = D\n",
    "        self.D2 = D2\n",
    "        self.normalize = normalize\n",
    "\n",
    "        # An A*t array of random integers in [0, D)\n",
    "        self.hashes = np.empty((self.A, self.t), dtype=np.int32)\n",
    "        # An A*t array of random +-1\n",
    "        self.signs = np.empty((self.A, self.t), dtype=np.float32)\n",
    "        # Gaussian matrix for discretization\n",
    "        self.G = np.empty((self.D , self.D2), dtype=np.float64)\n",
    "        for i in range(self.D):\n",
    "            for j in range(self.D2):\n",
    "                self.G[i,j] = random.normalvariate(0,1)\n",
    "                \n",
    "        for c in range(self.A):\n",
    "            for k in range(self.t):\n",
    "                self.hashes[c][k] = random.randrange(0, self.D)\n",
    "                self.signs[c][k] = random.randrange(-1, 2, 2)\n",
    "\n",
    "    def _full_sketch(self, seq: nb.int32[:]):\n",
    "        # NOTE: The sketch is stored as float64 here so counting won't overflow.\n",
    "        T = np.zeros((self.t + 1, self.D), dtype=np.float64)\n",
    "        T[0][0] = 1\n",
    "        \n",
    "        for c in seq:\n",
    "            for k in range(self.t - 1, -1, -1):\n",
    "                h = self.hashes[c][k]\n",
    "                s = self.signs[c][k]\n",
    "                for l in range(self.D):\n",
    "                    r = l + h if l + h < self.D else l + h - self.D\n",
    "                    T[k + 1][l] += s * T[k][r]\n",
    "\n",
    "        return T\n",
    "\n",
    "    def _normalize(self, seq, T)-> nb.float32[:]:\n",
    "        if self.normalize:\n",
    "            T = T / np.linalg.norm(T)\n",
    "        return T\n",
    "    \n",
    "\n",
    "    def discretize(self, x: nb.float64[:]) -> np.int64:\n",
    "        x = x.dot(self.G)\n",
    "#         H = np.tensordot(self.G, x, axes=(1, 0))\n",
    "        H = (x>0)\n",
    "        H = H.reshape(-1,8)\n",
    "        S = np.zeros((H.shape[0]),np.int64)\n",
    "        for i in range(H.shape[0]):\n",
    "            arr = H[i]\n",
    "            S[i] = (arr[0]<<8) + (arr[0]<<7)|(arr[1]<<6)|(arr[2]<<5)|(arr[3]<<4)|(arr[4]<<3)|(arr[5]<<2)|(arr[6]<<1)|arr[7]\n",
    "        sh = 0\n",
    "        for s in S:\n",
    "            sh = hash(sh) + hash(str(s))\n",
    "        return sh\n",
    "\n",
    "    def sketch_one(self, seq: np.ndarray)-> np.int64: #-> nb.float32[:]:\n",
    "        full_sketch = self._full_sketch(seq)\n",
    "\n",
    "        sketch = self._normalize(seq, full_sketch[self.t])\n",
    "        sketch = sketch.flatten()\n",
    "        sketch = self.discretize(sketch)\n",
    "        return sketch\n",
    "\n",
    "    def sketch(self, seqs):\n",
    "        return [self.sketch_one(seq) for seq in seqs]\n",
    "\n",
    "    def dist(self, s1, s2):\n",
    "        return l2_dist(s1,s2)"
   ]
  },
  {
   "cell_type": "code",
   "execution_count": 9,
   "metadata": {},
   "outputs": [],
   "source": [
    "def print_binary(x, dim):\n",
    "    s = \"\"\n",
    "    for i in range(dim - 1, -1, -1):\n",
    "        s += str((x >> i) & 1)\n",
    "    print(s)\n",
    "\n",
    "def mutate(seq, alphabet, rate):\n",
    "    new_seq = []\n",
    "    n = len(seq)\n",
    "    i = 0\n",
    "    alg = []\n",
    "    while i < n:\n",
    "        chance = np.random.uniform()\n",
    "        if chance > rate:\n",
    "            # do nothing\n",
    "            alg.append(i)\n",
    "            new_seq.append(seq[i])\n",
    "            i += 1\n",
    "        else:\n",
    "            # choose at random an operation between substitution, insertion, deletion\n",
    "            op = np.random.choice([0,1,2])            \n",
    "            if op == 0:\n",
    "                # substitution\n",
    "                c = np.random.choice(list(set(alphabet) - set([seq[i]])))\n",
    "                new_seq.append(c)\n",
    "                i += 1\n",
    "            elif op == 1:\n",
    "                # insertion\n",
    "                c = np.random.choice(alphabet)\n",
    "                alg.append(i)\n",
    "                new_seq.append(c)\n",
    "            elif op == 2:\n",
    "                # deletion\n",
    "                i += 1\n",
    "    return ''.join(new_seq),alg\n",
    "    \n",
    "def convert(seq, alphabet):\n",
    "    inv_map = {alphabet[i]:i for i in range(len(alphabet))}\n",
    "    new_seq = []\n",
    "    for c in seq:\n",
    "        new_seq.append(inv_map[c])\n",
    "    return np.asarray(new_seq, dtype=np.uint8)\n",
    "\n",
    "def generate_paths(seq, path_len, num_paths, k, mutation_rate, alphabet):\n",
    "    paths = []\n",
    "    for i in range(num_paths):\n",
    "        # pick random index\n",
    "        start = np.random.choice(len(seq) - path_len)\n",
    "        path = seq[start:start+path_len]\n",
    "        seq2, align =  mutate(path, alphabet, mutation_rate)\n",
    "        nodes = [start+i for i in align]\n",
    "        paths.append((path,seq2, nodes))\n",
    "    return paths\n",
    "\n",
    "def get_discrete_mmer_sketches(mmers, N, m, alphabet, G, sketcher):\n",
    "    sketches = []\n",
    "    for mmer in mmers:\n",
    "        sketch = sketcher.sketch_one(convert(mmer, alphabet))\n",
    "        sketches.append(sketch)\n",
    "\n",
    "    assert len(sketches) == N - m + 1, f\"{len(sketches)} != {N - m + 1}\"\n",
    "    return sketches\n",
    "\n",
    "def get_kmer_sketches(mmer_sketches, N, k, m, stride, embed_dim,stride2):\n",
    "    num_windows = int(np.ceil((k - m + 1) / stride))\n",
    "\n",
    "    kmer_sketches = []\n",
    "    for kmer in range(0, N - k + 1, stride2):\n",
    "        kmer_sketch = 0\n",
    "        for mmer in range(kmer, kmer + num_windows * stride, stride):\n",
    "            for bit in range(embed_dim - 1, -1, -1):\n",
    "                kmer_sketch <<= 1\n",
    "                kmer_sketch |= ((mmer_sketches[mmer] >> bit) & 1)\n",
    "        kmer_sketches.append(kmer_sketch)\n",
    "    return kmer_sketches\n",
    "\n",
    "def build_lookup(sketches, stride):\n",
    "    lut = defaultdict(list)\n",
    "    for i, s in enumerate(sketches):\n",
    "        lut[s].append(i*stride)\n",
    "    return lut\n",
    "\n",
    "def dict_configs(d):\n",
    "    for k,v in d.items():\n",
    "        if not isinstance(v,list):\n",
    "            d[k] = [v]\n",
    "    for vcomb in product(*d.values()):\n",
    "        yield dict(zip(d.keys(), vcomb))\n",
    "        \n"
   ]
  },
  {
   "cell_type": "code",
   "execution_count": null,
   "metadata": {},
   "outputs": [
    {
     "name": "stderr",
     "output_type": "stream",
     "text": [
      "100%|██████████| 1000/1000 [00:06<00:00, 152.72it/s]\n"
     ]
    },
    {
     "name": "stdout",
     "output_type": "stream",
     "text": [
      "\n",
      " {'num_paths': 1000, 'N': 1000, 'mutation_rate': 0.05, 'path_len': 200, 'tuple_length': 2, 'k': 15, 'embed_dim': 30, 'embed_dim2': 128, 'recall_distance': 0, 'm': 15, 'stride': 15, 'stride2': 15, 'precision': 0.9623012620881822, 'recall': 0.964, 'brute_force': 0.00620002682850488}\n"
     ]
    },
    {
     "name": "stderr",
     "output_type": "stream",
     "text": [
      "100%|██████████| 1000/1000 [00:07<00:00, 131.94it/s]\n"
     ]
    },
    {
     "name": "stdout",
     "output_type": "stream",
     "text": [
      "\n",
      " {'num_paths': 1000, 'N': 1000, 'mutation_rate': 0.05, 'path_len': 200, 'tuple_length': 3, 'k': 15, 'embed_dim': 30, 'embed_dim2': 128, 'recall_distance': 0, 'm': 15, 'stride': 15, 'stride2': 15, 'precision': 0.9774325429272281, 'recall': 0.978, 'brute_force': 0.006208033591400731}\n"
     ]
    },
    {
     "name": "stderr",
     "output_type": "stream",
     "text": [
      "100%|██████████| 1000/1000 [00:07<00:00, 135.02it/s]\n"
     ]
    },
    {
     "name": "stdout",
     "output_type": "stream",
     "text": [
      "\n",
      " {'num_paths': 1000, 'N': 1000, 'mutation_rate': 0.05, 'path_len': 200, 'tuple_length': 4, 'k': 15, 'embed_dim': 30, 'embed_dim2': 128, 'recall_distance': 0, 'm': 15, 'stride': 15, 'stride2': 15, 'precision': 0.9649211144679423, 'recall': 0.971, 'brute_force': 0.0060425963488843805}\n"
     ]
    },
    {
     "name": "stderr",
     "output_type": "stream",
     "text": [
      "100%|██████████| 1000/1000 [00:07<00:00, 142.73it/s]\n"
     ]
    },
    {
     "name": "stdout",
     "output_type": "stream",
     "text": [
      "\n",
      " {'num_paths': 1000, 'N': 1000, 'mutation_rate': 0.1, 'path_len': 200, 'tuple_length': 2, 'k': 15, 'embed_dim': 30, 'embed_dim2': 128, 'recall_distance': 0, 'm': 15, 'stride': 15, 'stride2': 15, 'precision': 0.9256198347107438, 'recall': 0.905, 'brute_force': 0.003039456414571807}\n"
     ]
    },
    {
     "name": "stderr",
     "output_type": "stream",
     "text": [
      "100%|██████████| 1000/1000 [00:06<00:00, 144.37it/s]\n"
     ]
    },
    {
     "name": "stdout",
     "output_type": "stream",
     "text": [
      "\n",
      " {'num_paths': 1000, 'N': 1000, 'mutation_rate': 0.1, 'path_len': 200, 'tuple_length': 3, 'k': 15, 'embed_dim': 30, 'embed_dim2': 128, 'recall_distance': 0, 'm': 15, 'stride': 15, 'stride2': 15, 'precision': 0.9450980392156862, 'recall': 0.913, 'brute_force': 0.002963362068965517}\n"
     ]
    },
    {
     "name": "stderr",
     "output_type": "stream",
     "text": [
      "100%|██████████| 1000/1000 [00:07<00:00, 137.37it/s]\n"
     ]
    },
    {
     "name": "stdout",
     "output_type": "stream",
     "text": [
      "\n",
      " {'num_paths': 1000, 'N': 1000, 'mutation_rate': 0.1, 'path_len': 200, 'tuple_length': 4, 'k': 15, 'embed_dim': 30, 'embed_dim2': 128, 'recall_distance': 0, 'm': 15, 'stride': 15, 'stride2': 15, 'precision': 0.9384236453201971, 'recall': 0.903, 'brute_force': 0.0030213343198914784}\n"
     ]
    },
    {
     "name": "stderr",
     "output_type": "stream",
     "text": [
      "100%|██████████| 1000/1000 [00:06<00:00, 143.88it/s]\n"
     ]
    },
    {
     "name": "stdout",
     "output_type": "stream",
     "text": [
      "\n",
      " {'num_paths': 1000, 'N': 1000, 'mutation_rate': 0.15, 'path_len': 200, 'tuple_length': 2, 'k': 15, 'embed_dim': 30, 'embed_dim2': 128, 'recall_distance': 0, 'm': 15, 'stride': 15, 'stride2': 15, 'precision': 0.8933333333333333, 'recall': 0.698, 'brute_force': 0.0017991699829145488}\n"
     ]
    },
    {
     "name": "stderr",
     "output_type": "stream",
     "text": [
      "100%|██████████| 1000/1000 [00:06<00:00, 143.08it/s]\n"
     ]
    },
    {
     "name": "stdout",
     "output_type": "stream",
     "text": [
      "\n",
      " {'num_paths': 1000, 'N': 1000, 'mutation_rate': 0.15, 'path_len': 200, 'tuple_length': 3, 'k': 15, 'embed_dim': 30, 'embed_dim2': 128, 'recall_distance': 0, 'm': 15, 'stride': 15, 'stride2': 15, 'precision': 0.906832298136646, 'recall': 0.683, 'brute_force': 0.0017370851495403738}\n"
     ]
    },
    {
     "name": "stderr",
     "output_type": "stream",
     "text": [
      "100%|██████████| 1000/1000 [00:07<00:00, 138.65it/s]\n"
     ]
    },
    {
     "name": "stdout",
     "output_type": "stream",
     "text": [
      "\n",
      " {'num_paths': 1000, 'N': 1000, 'mutation_rate': 0.15, 'path_len': 200, 'tuple_length': 4, 'k': 15, 'embed_dim': 30, 'embed_dim2': 128, 'recall_distance': 0, 'm': 15, 'stride': 15, 'stride2': 15, 'precision': 0.9256068911511355, 'recall': 0.683, 'brute_force': 0.001759690007937208}\n"
     ]
    },
    {
     "name": "stderr",
     "output_type": "stream",
     "text": [
      "100%|██████████| 1000/1000 [00:07<00:00, 138.69it/s]\n"
     ]
    },
    {
     "name": "stdout",
     "output_type": "stream",
     "text": [
      "\n",
      " {'num_paths': 1000, 'N': 1000, 'mutation_rate': 0.2, 'path_len': 200, 'tuple_length': 2, 'k': 15, 'embed_dim': 30, 'embed_dim2': 128, 'recall_distance': 0, 'm': 15, 'stride': 15, 'stride2': 15, 'precision': 0.8488805970149254, 'recall': 0.357, 'brute_force': 0.0013099049341381752}\n"
     ]
    },
    {
     "name": "stderr",
     "output_type": "stream",
     "text": [
      "100%|██████████| 1000/1000 [00:07<00:00, 140.08it/s]\n"
     ]
    },
    {
     "name": "stdout",
     "output_type": "stream",
     "text": [
      "\n",
      " {'num_paths': 1000, 'N': 1000, 'mutation_rate': 0.2, 'path_len': 200, 'tuple_length': 3, 'k': 15, 'embed_dim': 30, 'embed_dim2': 128, 'recall_distance': 0, 'm': 15, 'stride': 15, 'stride2': 15, 'precision': 0.8620689655172413, 'recall': 0.395, 'brute_force': 0.001295672454003628}\n"
     ]
    },
    {
     "name": "stderr",
     "output_type": "stream",
     "text": [
      "100%|██████████| 1000/1000 [00:07<00:00, 141.82it/s]\n"
     ]
    },
    {
     "name": "stdout",
     "output_type": "stream",
     "text": [
      "\n",
      " {'num_paths': 1000, 'N': 1000, 'mutation_rate': 0.2, 'path_len': 200, 'tuple_length': 4, 'k': 15, 'embed_dim': 30, 'embed_dim2': 128, 'recall_distance': 0, 'm': 15, 'stride': 15, 'stride2': 15, 'precision': 0.855973813420622, 'recall': 0.413, 'brute_force': 0.0013073321864756381}\n"
     ]
    },
    {
     "name": "stderr",
     "output_type": "stream",
     "text": [
      "100%|██████████| 1000/1000 [00:06<00:00, 148.37it/s]\n"
     ]
    },
    {
     "name": "stdout",
     "output_type": "stream",
     "text": [
      "\n",
      " {'num_paths': 1000, 'N': 1000, 'mutation_rate': 0.25, 'path_len': 200, 'tuple_length': 2, 'k': 15, 'embed_dim': 30, 'embed_dim2': 128, 'recall_distance': 0, 'm': 15, 'stride': 15, 'stride2': 15, 'precision': 0.6226415094339622, 'recall': 0.173, 'brute_force': 0.001190093036833005}\n"
     ]
    },
    {
     "name": "stderr",
     "output_type": "stream",
     "text": [
      "100%|██████████| 1000/1000 [00:07<00:00, 140.89it/s]\n"
     ]
    },
    {
     "name": "stdout",
     "output_type": "stream",
     "text": [
      "\n",
      " {'num_paths': 1000, 'N': 1000, 'mutation_rate': 0.25, 'path_len': 200, 'tuple_length': 3, 'k': 15, 'embed_dim': 30, 'embed_dim2': 128, 'recall_distance': 0, 'm': 15, 'stride': 15, 'stride2': 15, 'precision': 0.8066037735849056, 'recall': 0.159, 'brute_force': 0.0011257075496745007}\n"
     ]
    },
    {
     "name": "stderr",
     "output_type": "stream",
     "text": [
      "100%|██████████| 1000/1000 [00:07<00:00, 139.55it/s]\n"
     ]
    },
    {
     "name": "stdout",
     "output_type": "stream",
     "text": [
      "\n",
      " {'num_paths': 1000, 'N': 1000, 'mutation_rate': 0.25, 'path_len': 200, 'tuple_length': 4, 'k': 15, 'embed_dim': 30, 'embed_dim2': 128, 'recall_distance': 0, 'm': 15, 'stride': 15, 'stride2': 15, 'precision': 0.8810408921933085, 'recall': 0.208, 'brute_force': 0.0011609339260282249}\n"
     ]
    },
    {
     "name": "stderr",
     "output_type": "stream",
     "text": [
      "100%|██████████| 1000/1000 [00:07<00:00, 136.19it/s]\n"
     ]
    },
    {
     "name": "stdout",
     "output_type": "stream",
     "text": [
      "\n",
      " {'num_paths': 1000, 'N': 1000, 'mutation_rate': 0.3, 'path_len': 200, 'tuple_length': 2, 'k': 15, 'embed_dim': 30, 'embed_dim2': 128, 'recall_distance': 0, 'm': 15, 'stride': 15, 'stride2': 15, 'precision': 0.5948275862068966, 'recall': 0.066, 'brute_force': 0.001041124414367517}\n"
     ]
    },
    {
     "name": "stderr",
     "output_type": "stream",
     "text": [
      "100%|██████████| 1000/1000 [00:06<00:00, 146.54it/s]\n"
     ]
    },
    {
     "name": "stdout",
     "output_type": "stream",
     "text": [
      "\n",
      " {'num_paths': 1000, 'N': 1000, 'mutation_rate': 0.3, 'path_len': 200, 'tuple_length': 3, 'k': 15, 'embed_dim': 30, 'embed_dim2': 128, 'recall_distance': 0, 'm': 15, 'stride': 15, 'stride2': 15, 'precision': 0.8488372093023255, 'recall': 0.071, 'brute_force': 0.001050856570297417}\n"
     ]
    },
    {
     "name": "stderr",
     "output_type": "stream",
     "text": [
      "100%|██████████| 1000/1000 [00:07<00:00, 142.48it/s]\n"
     ]
    },
    {
     "name": "stdout",
     "output_type": "stream",
     "text": [
      "\n",
      " {'num_paths': 1000, 'N': 1000, 'mutation_rate': 0.3, 'path_len': 200, 'tuple_length': 4, 'k': 15, 'embed_dim': 30, 'embed_dim2': 128, 'recall_distance': 0, 'm': 15, 'stride': 15, 'stride2': 15, 'precision': 0.8688524590163934, 'recall': 0.052, 'brute_force': 0.001031102096010818}\n"
     ]
    },
    {
     "name": "stderr",
     "output_type": "stream",
     "text": [
      "100%|██████████| 1000/1000 [00:06<00:00, 143.19it/s]\n"
     ]
    },
    {
     "name": "stdout",
     "output_type": "stream",
     "text": [
      "\n",
      " {'num_paths': 1000, 'N': 10000, 'mutation_rate': 0.05, 'path_len': 200, 'tuple_length': 2, 'k': 15, 'embed_dim': 30, 'embed_dim2': 128, 'recall_distance': 0, 'm': 15, 'stride': 15, 'stride2': 15, 'precision': 0.9297134715846129, 'recall': 0.963, 'brute_force': 0.0006325856198678148}\n"
     ]
    },
    {
     "name": "stderr",
     "output_type": "stream",
     "text": [
      "100%|██████████| 1000/1000 [00:07<00:00, 140.68it/s]\n"
     ]
    },
    {
     "name": "stdout",
     "output_type": "stream",
     "text": [
      "\n",
      " {'num_paths': 1000, 'N': 10000, 'mutation_rate': 0.05, 'path_len': 200, 'tuple_length': 3, 'k': 15, 'embed_dim': 30, 'embed_dim2': 128, 'recall_distance': 0, 'm': 15, 'stride': 15, 'stride2': 15, 'precision': 0.9694745621351126, 'recall': 0.972, 'brute_force': 0.0006003404766673344}\n"
     ]
    },
    {
     "name": "stderr",
     "output_type": "stream",
     "text": [
      "100%|██████████| 1000/1000 [00:07<00:00, 136.98it/s]\n"
     ]
    },
    {
     "name": "stdout",
     "output_type": "stream",
     "text": [
      "\n",
      " {'num_paths': 1000, 'N': 10000, 'mutation_rate': 0.05, 'path_len': 200, 'tuple_length': 4, 'k': 15, 'embed_dim': 30, 'embed_dim2': 128, 'recall_distance': 0, 'm': 15, 'stride': 15, 'stride2': 15, 'precision': 0.9713391533520013, 'recall': 0.971, 'brute_force': 0.0006079511315842178}\n"
     ]
    },
    {
     "name": "stderr",
     "output_type": "stream",
     "text": [
      "100%|██████████| 1000/1000 [00:07<00:00, 139.93it/s]\n"
     ]
    },
    {
     "name": "stdout",
     "output_type": "stream",
     "text": [
      "\n",
      " {'num_paths': 1000, 'N': 10000, 'mutation_rate': 0.1, 'path_len': 200, 'tuple_length': 2, 'k': 15, 'embed_dim': 30, 'embed_dim2': 128, 'recall_distance': 0, 'm': 15, 'stride': 15, 'stride2': 15, 'precision': 0.8879892037786775, 'recall': 0.899, 'brute_force': 0.00030854006419798525}\n"
     ]
    },
    {
     "name": "stderr",
     "output_type": "stream",
     "text": [
      "100%|██████████| 1000/1000 [00:07<00:00, 140.84it/s]\n"
     ]
    },
    {
     "name": "stdout",
     "output_type": "stream",
     "text": [
      "\n",
      " {'num_paths': 1000, 'N': 10000, 'mutation_rate': 0.1, 'path_len': 200, 'tuple_length': 3, 'k': 15, 'embed_dim': 30, 'embed_dim2': 128, 'recall_distance': 0, 'm': 15, 'stride': 15, 'stride2': 15, 'precision': 0.9382759843916282, 'recall': 0.897, 'brute_force': 0.00029344616767008116}\n"
     ]
    },
    {
     "name": "stderr",
     "output_type": "stream",
     "text": [
      "100%|██████████| 1000/1000 [00:07<00:00, 138.30it/s]\n"
     ]
    },
    {
     "name": "stdout",
     "output_type": "stream",
     "text": [
      "\n",
      " {'num_paths': 1000, 'N': 10000, 'mutation_rate': 0.1, 'path_len': 200, 'tuple_length': 4, 'k': 15, 'embed_dim': 30, 'embed_dim2': 128, 'recall_distance': 0, 'm': 15, 'stride': 15, 'stride2': 15, 'precision': 0.9383869851159571, 'recall': 0.911, 'brute_force': 0.0003010458137750812}\n"
     ]
    },
    {
     "name": "stderr",
     "output_type": "stream",
     "text": [
      "100%|██████████| 1000/1000 [00:06<00:00, 147.73it/s]\n"
     ]
    },
    {
     "name": "stdout",
     "output_type": "stream",
     "text": [
      "\n",
      " {'num_paths': 1000, 'N': 10000, 'mutation_rate': 0.15, 'path_len': 200, 'tuple_length': 2, 'k': 15, 'embed_dim': 30, 'embed_dim2': 128, 'recall_distance': 0, 'm': 15, 'stride': 15, 'stride2': 15, 'precision': 0.6838709677419355, 'recall': 0.684, 'brute_force': 0.00020847256977839796}\n"
     ]
    },
    {
     "name": "stderr",
     "output_type": "stream",
     "text": [
      "100%|██████████| 1000/1000 [00:07<00:00, 142.47it/s]\n"
     ]
    },
    {
     "name": "stdout",
     "output_type": "stream",
     "text": [
      "\n",
      " {'num_paths': 1000, 'N': 10000, 'mutation_rate': 0.15, 'path_len': 200, 'tuple_length': 3, 'k': 15, 'embed_dim': 30, 'embed_dim2': 128, 'recall_distance': 0, 'm': 15, 'stride': 15, 'stride2': 15, 'precision': 0.8897700237906423, 'recall': 0.653, 'brute_force': 0.0001744154523515242}\n"
     ]
    },
    {
     "name": "stderr",
     "output_type": "stream",
     "text": [
      "100%|██████████| 1000/1000 [00:07<00:00, 135.97it/s]\n"
     ]
    },
    {
     "name": "stdout",
     "output_type": "stream",
     "text": [
      "\n",
      " {'num_paths': 1000, 'N': 10000, 'mutation_rate': 0.15, 'path_len': 200, 'tuple_length': 4, 'k': 15, 'embed_dim': 30, 'embed_dim2': 128, 'recall_distance': 0, 'm': 15, 'stride': 15, 'stride2': 15, 'precision': 0.9215844785772029, 'recall': 0.658, 'brute_force': 0.0001744696095660686}\n"
     ]
    },
    {
     "name": "stderr",
     "output_type": "stream",
     "text": [
      "100%|██████████| 1000/1000 [00:06<00:00, 151.86it/s]\n"
     ]
    },
    {
     "name": "stdout",
     "output_type": "stream",
     "text": [
      "\n",
      " {'num_paths': 1000, 'N': 10000, 'mutation_rate': 0.2, 'path_len': 200, 'tuple_length': 2, 'k': 15, 'embed_dim': 30, 'embed_dim2': 128, 'recall_distance': 0, 'm': 15, 'stride': 15, 'stride2': 15, 'precision': 0.5392895586652314, 'recall': 0.391, 'brute_force': 0.0001510231206806412}\n"
     ]
    },
    {
     "name": "stderr",
     "output_type": "stream",
     "text": [
      "100%|██████████| 1000/1000 [00:07<00:00, 141.93it/s]\n"
     ]
    },
    {
     "name": "stdout",
     "output_type": "stream",
     "text": [
      "\n",
      " {'num_paths': 1000, 'N': 10000, 'mutation_rate': 0.2, 'path_len': 200, 'tuple_length': 3, 'k': 15, 'embed_dim': 30, 'embed_dim2': 128, 'recall_distance': 0, 'm': 15, 'stride': 15, 'stride2': 15, 'precision': 0.8587786259541985, 'recall': 0.356, 'brute_force': 0.0001286114285489882}\n"
     ]
    },
    {
     "name": "stderr",
     "output_type": "stream",
     "text": [
      "100%|██████████| 1000/1000 [00:07<00:00, 137.43it/s]\n"
     ]
    },
    {
     "name": "stdout",
     "output_type": "stream",
     "text": [
      "\n",
      " {'num_paths': 1000, 'N': 10000, 'mutation_rate': 0.2, 'path_len': 200, 'tuple_length': 4, 'k': 15, 'embed_dim': 30, 'embed_dim2': 128, 'recall_distance': 0, 'm': 15, 'stride': 15, 'stride2': 15, 'precision': 0.888135593220339, 'recall': 0.399, 'brute_force': 0.0001318810620583102}\n"
     ]
    },
    {
     "name": "stderr",
     "output_type": "stream",
     "text": [
      "100%|██████████| 1000/1000 [00:07<00:00, 141.64it/s]\n"
     ]
    },
    {
     "name": "stdout",
     "output_type": "stream",
     "text": [
      "\n",
      " {'num_paths': 1000, 'N': 10000, 'mutation_rate': 0.25, 'path_len': 200, 'tuple_length': 2, 'k': 15, 'embed_dim': 30, 'embed_dim2': 128, 'recall_distance': 0, 'm': 15, 'stride': 15, 'stride2': 15, 'precision': 0.18790849673202614, 'recall': 0.201, 'brute_force': 0.00017815639569816348}\n"
     ]
    },
    {
     "name": "stderr",
     "output_type": "stream",
     "text": [
      "100%|██████████| 1000/1000 [00:07<00:00, 140.15it/s]\n"
     ]
    },
    {
     "name": "stdout",
     "output_type": "stream",
     "text": [
      "\n",
      " {'num_paths': 1000, 'N': 10000, 'mutation_rate': 0.25, 'path_len': 200, 'tuple_length': 3, 'k': 15, 'embed_dim': 30, 'embed_dim2': 128, 'recall_distance': 0, 'm': 15, 'stride': 15, 'stride2': 15, 'precision': 0.8014705882352942, 'recall': 0.197, 'brute_force': 0.00011255427019314644}\n"
     ]
    },
    {
     "name": "stderr",
     "output_type": "stream",
     "text": [
      "100%|██████████| 1000/1000 [00:07<00:00, 138.13it/s]\n"
     ]
    },
    {
     "name": "stdout",
     "output_type": "stream",
     "text": [
      "\n",
      " {'num_paths': 1000, 'N': 10000, 'mutation_rate': 0.25, 'path_len': 200, 'tuple_length': 4, 'k': 15, 'embed_dim': 30, 'embed_dim2': 128, 'recall_distance': 0, 'm': 15, 'stride': 15, 'stride2': 15, 'precision': 0.8385650224215246, 'recall': 0.168, 'brute_force': 0.00011165631884638493}\n"
     ]
    },
    {
     "name": "stderr",
     "output_type": "stream",
     "text": [
      "100%|██████████| 1000/1000 [00:06<00:00, 146.68it/s]\n"
     ]
    },
    {
     "name": "stdout",
     "output_type": "stream",
     "text": [
      "\n",
      " {'num_paths': 1000, 'N': 10000, 'mutation_rate': 0.3, 'path_len': 200, 'tuple_length': 2, 'k': 15, 'embed_dim': 30, 'embed_dim2': 128, 'recall_distance': 0, 'm': 15, 'stride': 15, 'stride2': 15, 'precision': 0.41237113402061853, 'recall': 0.075, 'brute_force': 0.00011038180725743314}\n"
     ]
    },
    {
     "name": "stderr",
     "output_type": "stream",
     "text": [
      "100%|██████████| 1000/1000 [00:06<00:00, 145.87it/s]\n"
     ]
    },
    {
     "name": "stdout",
     "output_type": "stream",
     "text": [
      "\n",
      " {'num_paths': 1000, 'N': 10000, 'mutation_rate': 0.3, 'path_len': 200, 'tuple_length': 3, 'k': 15, 'embed_dim': 30, 'embed_dim2': 128, 'recall_distance': 0, 'm': 15, 'stride': 15, 'stride2': 15, 'precision': 0.8108108108108109, 'recall': 0.083, 'brute_force': 0.00010897609594608924}\n"
     ]
    },
    {
     "name": "stderr",
     "output_type": "stream",
     "text": [
      "100%|██████████| 1000/1000 [00:07<00:00, 137.89it/s]\n"
     ]
    },
    {
     "name": "stdout",
     "output_type": "stream",
     "text": [
      "\n",
      " {'num_paths': 1000, 'N': 10000, 'mutation_rate': 0.3, 'path_len': 200, 'tuple_length': 4, 'k': 15, 'embed_dim': 30, 'embed_dim2': 128, 'recall_distance': 0, 'm': 15, 'stride': 15, 'stride2': 15, 'precision': 0.8163265306122449, 'recall': 0.077, 'brute_force': 0.00010440148122264789}\n"
     ]
    },
    {
     "name": "stderr",
     "output_type": "stream",
     "text": [
      "100%|██████████| 1000/1000 [00:07<00:00, 134.07it/s]\n"
     ]
    },
    {
     "name": "stdout",
     "output_type": "stream",
     "text": [
      "\n",
      " {'num_paths': 1000, 'N': 100000, 'mutation_rate': 0.05, 'path_len': 200, 'tuple_length': 2, 'k': 15, 'embed_dim': 30, 'embed_dim2': 128, 'recall_distance': 0, 'm': 15, 'stride': 15, 'stride2': 15, 'precision': 0.7976902173913043, 'recall': 0.971, 'brute_force': 7.361030544276198e-05}\n"
     ]
    },
    {
     "name": "stderr",
     "output_type": "stream",
     "text": [
      "100%|██████████| 1000/1000 [00:07<00:00, 137.44it/s]\n"
     ]
    },
    {
     "name": "stdout",
     "output_type": "stream",
     "text": [
      "\n",
      " {'num_paths': 1000, 'N': 100000, 'mutation_rate': 0.05, 'path_len': 200, 'tuple_length': 3, 'k': 15, 'embed_dim': 30, 'embed_dim2': 128, 'recall_distance': 0, 'm': 15, 'stride': 15, 'stride2': 15, 'precision': 0.9612839179351423, 'recall': 0.968, 'brute_force': 6.044846278478987e-05}\n"
     ]
    },
    {
     "name": "stderr",
     "output_type": "stream",
     "text": [
      "100%|██████████| 1000/1000 [00:07<00:00, 138.53it/s]\n"
     ]
    },
    {
     "name": "stdout",
     "output_type": "stream",
     "text": [
      "\n",
      " {'num_paths': 1000, 'N': 100000, 'mutation_rate': 0.05, 'path_len': 200, 'tuple_length': 4, 'k': 15, 'embed_dim': 30, 'embed_dim2': 128, 'recall_distance': 0, 'm': 15, 'stride': 15, 'stride2': 15, 'precision': 0.9645857354636798, 'recall': 0.977, 'brute_force': 6.077927986995256e-05}\n"
     ]
    },
    {
     "name": "stderr",
     "output_type": "stream",
     "text": [
      "100%|██████████| 1000/1000 [00:07<00:00, 141.97it/s]\n"
     ]
    },
    {
     "name": "stdout",
     "output_type": "stream",
     "text": [
      "\n",
      " {'num_paths': 1000, 'N': 100000, 'mutation_rate': 0.1, 'path_len': 200, 'tuple_length': 2, 'k': 15, 'embed_dim': 30, 'embed_dim2': 128, 'recall_distance': 0, 'm': 15, 'stride': 15, 'stride2': 15, 'precision': 0.21007692307692308, 'recall': 0.922, 'brute_force': 0.00013001820254835678}\n"
     ]
    },
    {
     "name": "stderr",
     "output_type": "stream",
     "text": [
      "100%|██████████| 1000/1000 [00:07<00:00, 140.81it/s]\n"
     ]
    },
    {
     "name": "stdout",
     "output_type": "stream",
     "text": [
      "\n",
      " {'num_paths': 1000, 'N': 100000, 'mutation_rate': 0.1, 'path_len': 200, 'tuple_length': 3, 'k': 15, 'embed_dim': 30, 'embed_dim2': 128, 'recall_distance': 0, 'm': 15, 'stride': 15, 'stride2': 15, 'precision': 0.9190609670637702, 'recall': 0.896, 'brute_force': 2.9579270631567177e-05}\n"
     ]
    },
    {
     "name": "stderr",
     "output_type": "stream",
     "text": [
      "100%|██████████| 1000/1000 [00:07<00:00, 134.86it/s]\n"
     ]
    },
    {
     "name": "stdout",
     "output_type": "stream",
     "text": [
      "\n",
      " {'num_paths': 1000, 'N': 100000, 'mutation_rate': 0.1, 'path_len': 200, 'tuple_length': 4, 'k': 15, 'embed_dim': 30, 'embed_dim2': 128, 'recall_distance': 0, 'm': 15, 'stride': 15, 'stride2': 15, 'precision': 0.940028388928318, 'recall': 0.905, 'brute_force': 2.94503090411759e-05}\n"
     ]
    },
    {
     "name": "stderr",
     "output_type": "stream",
     "text": [
      "100%|██████████| 1000/1000 [00:07<00:00, 140.81it/s]\n"
     ]
    },
    {
     "name": "stdout",
     "output_type": "stream",
     "text": [
      "\n",
      " {'num_paths': 1000, 'N': 100000, 'mutation_rate': 0.15, 'path_len': 200, 'tuple_length': 2, 'k': 15, 'embed_dim': 30, 'embed_dim2': 128, 'recall_distance': 0, 'm': 15, 'stride': 15, 'stride2': 15, 'precision': 0.12603305785123967, 'recall': 0.688, 'brute_force': 9.691046436190755e-05}\n"
     ]
    },
    {
     "name": "stderr",
     "output_type": "stream",
     "text": [
      "100%|██████████| 1000/1000 [00:07<00:00, 138.96it/s]\n"
     ]
    },
    {
     "name": "stdout",
     "output_type": "stream",
     "text": [
      "\n",
      " {'num_paths': 1000, 'N': 100000, 'mutation_rate': 0.15, 'path_len': 200, 'tuple_length': 3, 'k': 15, 'embed_dim': 30, 'embed_dim2': 128, 'recall_distance': 0, 'm': 15, 'stride': 15, 'stride2': 15, 'precision': 0.8891547049441786, 'recall': 0.657, 'brute_force': 1.7251383556834132e-05}\n"
     ]
    },
    {
     "name": "stderr",
     "output_type": "stream",
     "text": [
      "100%|██████████| 1000/1000 [00:07<00:00, 139.19it/s]\n"
     ]
    },
    {
     "name": "stdout",
     "output_type": "stream",
     "text": [
      "\n",
      " {'num_paths': 1000, 'N': 100000, 'mutation_rate': 0.15, 'path_len': 200, 'tuple_length': 4, 'k': 15, 'embed_dim': 30, 'embed_dim2': 128, 'recall_distance': 0, 'm': 15, 'stride': 15, 'stride2': 15, 'precision': 0.9206225680933852, 'recall': 0.699, 'brute_force': 1.7044826594025552e-05}\n"
     ]
    },
    {
     "name": "stderr",
     "output_type": "stream",
     "text": [
      "100%|██████████| 1000/1000 [00:07<00:00, 141.01it/s]\n"
     ]
    },
    {
     "name": "stdout",
     "output_type": "stream",
     "text": [
      "\n",
      " {'num_paths': 1000, 'N': 100000, 'mutation_rate': 0.2, 'path_len': 200, 'tuple_length': 2, 'k': 15, 'embed_dim': 30, 'embed_dim2': 128, 'recall_distance': 0, 'm': 15, 'stride': 15, 'stride2': 15, 'precision': 0.15851657367902855, 'recall': 0.385, 'brute_force': 3.259279828587767e-05}\n"
     ]
    },
    {
     "name": "stderr",
     "output_type": "stream",
     "text": [
      "100%|██████████| 1000/1000 [00:06<00:00, 143.37it/s]\n"
     ]
    },
    {
     "name": "stdout",
     "output_type": "stream",
     "text": [
      "\n",
      " {'num_paths': 1000, 'N': 100000, 'mutation_rate': 0.2, 'path_len': 200, 'tuple_length': 3, 'k': 15, 'embed_dim': 30, 'embed_dim2': 128, 'recall_distance': 0, 'm': 15, 'stride': 15, 'stride2': 15, 'precision': 0.8869565217391304, 'recall': 0.42, 'brute_force': 1.2183909137109704e-05}\n"
     ]
    },
    {
     "name": "stderr",
     "output_type": "stream",
     "text": [
      "100%|██████████| 1000/1000 [00:07<00:00, 140.63it/s]\n"
     ]
    },
    {
     "name": "stdout",
     "output_type": "stream",
     "text": [
      "\n",
      " {'num_paths': 1000, 'N': 100000, 'mutation_rate': 0.2, 'path_len': 200, 'tuple_length': 4, 'k': 15, 'embed_dim': 30, 'embed_dim2': 128, 'recall_distance': 0, 'm': 15, 'stride': 15, 'stride2': 15, 'precision': 0.843167701863354, 'recall': 0.416, 'brute_force': 1.3307648194714202e-05}\n"
     ]
    },
    {
     "name": "stderr",
     "output_type": "stream",
     "text": [
      "100%|██████████| 1000/1000 [00:07<00:00, 139.94it/s]\n"
     ]
    },
    {
     "name": "stdout",
     "output_type": "stream",
     "text": [
      "\n",
      " {'num_paths': 1000, 'N': 100000, 'mutation_rate': 0.25, 'path_len': 200, 'tuple_length': 2, 'k': 15, 'embed_dim': 30, 'embed_dim2': 128, 'recall_distance': 0, 'm': 15, 'stride': 15, 'stride2': 15, 'precision': 0.03760739179769817, 'recall': 0.206, 'brute_force': 6.225896852602755e-05}\n"
     ]
    },
    {
     "name": "stderr",
     "output_type": "stream",
     "text": [
      "100%|██████████| 1000/1000 [00:06<00:00, 153.24it/s]\n"
     ]
    },
    {
     "name": "stdout",
     "output_type": "stream",
     "text": [
      "\n",
      " {'num_paths': 1000, 'N': 100000, 'mutation_rate': 0.25, 'path_len': 200, 'tuple_length': 3, 'k': 15, 'embed_dim': 30, 'embed_dim2': 128, 'recall_distance': 0, 'm': 15, 'stride': 15, 'stride2': 15, 'precision': 0.8327137546468402, 'recall': 0.204, 'brute_force': 1.1117258895584225e-05}\n"
     ]
    },
    {
     "name": "stderr",
     "output_type": "stream",
     "text": [
      "100%|██████████| 1000/1000 [00:07<00:00, 139.98it/s]\n"
     ]
    },
    {
     "name": "stdout",
     "output_type": "stream",
     "text": [
      "\n",
      " {'num_paths': 1000, 'N': 100000, 'mutation_rate': 0.25, 'path_len': 200, 'tuple_length': 4, 'k': 15, 'embed_dim': 30, 'embed_dim2': 128, 'recall_distance': 0, 'm': 15, 'stride': 15, 'stride2': 15, 'precision': 0.9214876033057852, 'recall': 0.205, 'brute_force': 1.0951759490672585e-05}\n"
     ]
    },
    {
     "name": "stderr",
     "output_type": "stream",
     "text": [
      " 93%|█████████▎| 934/1000 [00:06<00:00, 151.27it/s]"
     ]
    }
   ],
   "source": [
    "\n",
    "alphabet = ['A', 'C', 'T', 'G']\n",
    "w = 15\n",
    "\n",
    "config_grid = dict(\n",
    "    num_paths = 1000,\n",
    "    N = [1000, 10000, 100000],\n",
    "    mutation_rate = [ 0.05, 0.1, .15, .2, .25, 0.3],\n",
    "    path_len = 200,\n",
    "    tuple_length = [2,3,4, 5],\n",
    "    k=w,\n",
    "    embed_dim=[30],\n",
    "    embed_dim2=[2**7],\n",
    "    recall_distance = 1,\n",
    "    m = w,\n",
    "    stride = [w],\n",
    "    stride2 = [ w],\n",
    ")\n",
    "\n",
    "results = []\n",
    "for conf in dict_configs(config_grid):\n",
    "    N = conf['N']\n",
    "    k = conf['k']\n",
    "    m = conf['m']\n",
    "    num_paths = conf['num_paths']\n",
    "    recall_distance = conf['recall_distance']\n",
    "    mutation_rate = conf['mutation_rate']\n",
    "    path_len = conf['path_len']\n",
    "    stride = conf['stride']\n",
    "    stride2 = conf['stride2']\n",
    "    tuple_length = conf['tuple_length']\n",
    "    embed_dim = conf['embed_dim'] \n",
    "    embed_dim2 = conf['embed_dim2']   \n",
    "    \n",
    "    seqv = np.random.choice(alphabet, N)\n",
    "    seq = ''.join(seqv)\n",
    "    sketcher = DTS(t=tuple_length, D=embed_dim, D2=embed_dim2, A=len(alphabet))    \n",
    "    \n",
    "    # Change this to use TSS!\n",
    "    mmers = [seqv[i:i+m] for i in range(N - m + 1)]\n",
    "    mmer_sketches = get_discrete_mmer_sketches(mmers, N, m, alphabet, G, sketcher)\n",
    "    sketches = get_kmer_sketches(mmer_sketches, N, k, m, stride, embed_dim2,stride2)\n",
    "    lut = build_lookup(sketches, stride2)\n",
    "    \n",
    "    paths = generate_paths(seq, path_len, num_paths, k, mutation_rate, alphabet)\n",
    "    recall = np.array([False for _ in range(num_paths)])\n",
    "    hits = np.array([0 for _ in range(num_paths)])\n",
    "    tp = np.array([0 for _ in range(num_paths)])\n",
    "    num_found_hits = 0\n",
    "    hits_out_of_total = ([0 for _ in range(num_paths)])\n",
    "\n",
    "    for i, path in enumerate(tqdm(paths)):\n",
    "        reference, query, node_path = path\n",
    "        query_mmers = [query[j:j+m] for j in range(len(query) - m + 1)]\n",
    "        query_mmer_sketches = get_discrete_mmer_sketches(query_mmers, len(query), m, alphabet, G, sketcher)\n",
    "        query_sketches = get_kmer_sketches(query_mmer_sketches, len(query), k, m, stride, embed_dim2,stride2=1)\n",
    "        \n",
    "        # Lookup\n",
    "        for qi,query_sketch in enumerate(query_sketches):\n",
    "            if query_sketch not in lut:\n",
    "                continue\n",
    "            for node in lut[query_sketch]: # for each node j in the matches\n",
    "                hits[i] += 1 # count a hit\n",
    "                ri = (node-node_path[0]) # relative node location to reference head \n",
    "                d1 = editdistance.eval(reference[:ri], query[:qi])\n",
    "                d2 = editdistance.eval(reference[ri:], query[qi:])\n",
    "                d = editdistance.eval(reference, query)\n",
    "                if(  d1+d2 <= d + recall_distance):\n",
    "                    tp[i] += 1\n",
    "                    recall[i] = 1\n",
    "                            \n",
    "        hits_out_of_total[i] = hits[i] / (N - k + 1)\n",
    "    seqs_that_hit = np.argwhere(hits > 0)\n",
    "    conf['precision'] = np.sum(tp) / np.sum(hits)\n",
    "    conf['recall'] = np.mean(recall) \n",
    "    conf['brute_force'] = np.sum(hits_out_of_total) / len(seqs_that_hit)\n",
    "    results.append(conf)\n",
    "    print('\\n',conf)    \n",
    "\n",
    "df = pd.DataFrame(results)\n",
    "df[['N','mutation_rate','recall_distance','embed_dim','embed_dim2','precision','recall']]"
   ]
  },
  {
   "cell_type": "code",
   "execution_count": 48,
   "metadata": {},
   "outputs": [
    {
     "data": {
      "image/png": "[encoded data removed]",
      "text/plain": [
       "<Figure size 1080x504 with 2 Axes>"
      ]
     },
     "metadata": {},
     "output_type": "display_data"
    }
   ],
   "source": [
    "import seaborn as sns\n",
    "import plotly.express as px\n",
    "import matplotlib.pyplot as plt\n",
    "import pandas as pd\n",
    "df = pd.DataFrame(results)\n",
    "fig,axes = plt.subplots(1,2,figsize=(15,7))\n",
    "for y,ax in zip(['precision', 'recall'],axes):\n",
    "    sns.set_style(\"whitegrid\")\n",
    "    sns.lineplot(ax=ax,data=df,y=y,x='mutation_rate', hue='N', style='tuple_length')\n",
    "    ax.set_ylim(0,1)\n",
    "\n",
    "\n",
    "plt.grid(True)"
   ]
  },
  {
   "cell_type": "code",
   "execution_count": 29,
   "metadata": {},
   "outputs": [
    {
     "name": "stderr",
     "output_type": "stream",
     "text": [
      "100%|██████████| 1000/1000 [00:07<00:00, 139.11it/s]"
     ]
    },
    {
     "name": "stdout",
     "output_type": "stream",
     "text": [
      "(array([  0,   1,  26,  70,  86,  88, 136, 176, 202, 222, 263, 266, 278,\n",
      "       334, 348]), array([899,  88,   1,   1,   1,   1,   1,   1,   1,   1,   1,   1,   1,\n",
      "         1,   1]))\n"
     ]
    },
    {
     "name": "stderr",
     "output_type": "stream",
     "text": [
      "\n"
     ]
    },
    {
     "data": {
      "text/plain": [
       "(0.434, 0.9703315881326352)"
      ]
     },
     "execution_count": 29,
     "metadata": {},
     "output_type": "execute_result"
    }
   ],
   "source": [
    "hits = np.array([0 for _ in range(num_paths)])\n",
    "tp = np.array([0 for _ in range(num_paths)])\n",
    "recall = np.array([0 for _ in range(num_paths)])\n",
    "paths = generate_paths(seq, path_len, num_paths, k, 0.2, alphabet)\n",
    "dists = np.array([0 for _ in range(num_paths)])\n",
    "\n",
    "for i,path in tqdm(enumerate(paths),total=len(paths)):\n",
    "    path = paths[i]\n",
    "    reference, query, node_path = path\n",
    "    query_mmers = [query[j:j+m] for j in range(len(query) - m + 1)]\n",
    "    query_mmer_sketches = get_discrete_mmer_sketches(query_mmers, len(query), m, alphabet, G, sketcher)\n",
    "    query_sketches = get_kmer_sketches(query_mmer_sketches, len(query), k, m, stride, embed_dim2,stride2=1)\n",
    "\n",
    "    for qi,query_sketch in enumerate(query_sketches):\n",
    "        if query_sketch in lut:\n",
    "            for node in lut[query_sketch]: # for each node j in the matches\n",
    "                hits[i] += 1\n",
    "                for j in range(-3,4):\n",
    "                    qj = qi + j\n",
    "                    d1 = editdistance.eval(reference[:(node-node_path[0])], query[:qj])\n",
    "                    d2 = editdistance.eval(reference[(node-node_path[0]):], query[qj:])\n",
    "                    d = editdistance.eval(reference, query)\n",
    "                    dists[i] = d1+d2 - d\n",
    "                    if(  d1+d2 <= d + recall_distance):\n",
    "                        tp[i] += 1\n",
    "                        recall[i] = 1\n",
    "                        break\n",
    "print(np.unique(dists,return_counts=True))               \n",
    "np.mean(recall), np.sum(tp) / np.sum(hits)"
   ]
  },
  {
   "cell_type": "code",
   "execution_count": 50,
   "metadata": {},
   "outputs": [
    {
     "name": "stdout",
     "output_type": "stream",
     "text": [
      "1000000: 12.36048674583435\n",
      "2000000: 24.3324134349823\n",
      "5000000: 61.178688764572144\n",
      "10000000: 121.78581070899963\n"
     ]
    }
   ],
   "source": [
    "times = []\n",
    "sketcher = TS(t=tuple_length, D=embed_dim, A=len(alphabet))    \n",
    "# sketcher = DTS(t=tuple_length, D=embed_dim, D2=embed_dim2, A=len(alphabet))    \n",
    "\n",
    "for N in [1000000, 2000000,5000000, 10000000]:\n",
    "    seqv = np.random.choice(alphabet, N)\n",
    "    seq = ''.join(seqv)\n",
    "    mmers = [seqv[i:i+m] for i in range(N - m + 1)]\n",
    "    start = time.time()\n",
    "    mmer_sketches = get_discrete_mmer_sketches(mmers, N, m, alphabet, G, sketcher)\n",
    "    end = time.time()\n",
    "    print(f'{N}: {end-start}')\n",
    "    times.append(end-start)\n"
   ]
  },
  {
   "cell_type": "code",
   "execution_count": null,
   "metadata": {},
   "outputs": [],
   "source": [
    "seqv = np.random.choice(alphabet, N)\n",
    "seq = ''.join(seqv)\n",
    "sketcher = DTS(t=tuple_length, D=embed_dim, D2=embed_dim2, A=len(alphabet))    \n",
    "\n",
    "# Change this to use TSS!\n",
    "mmers = [seqv[i:i+m] for i in range(N - m + 1)]\n",
    "mmer_sketches = get_discrete_mmer_sketches(mmers, N, m, alphabet, G, sketcher)\n",
    "sketches = get_kmer_sketches(mmer_sketches, N, k, m, stride, embed_dim2,stride2)"
   ]
  }
 ],
 "metadata": {
  "kernelspec": {
   "display_name": "Python 3",
   "language": "python",
   "name": "python3"
  },
  "language_info": {
   "codemirror_mode": {
    "name": "ipython",
    "version": 3
   },
   "file_extension": ".py",
   "mimetype": "text/x-python",
   "name": "python",
   "nbconvert_exporter": "python",
   "pygments_lexer": "ipython3",
   "version": "3.8.5"
  }
 },
 "nbformat": 4,
 "nbformat_minor": 5
}
