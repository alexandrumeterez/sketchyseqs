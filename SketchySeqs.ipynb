{
 "cells": [
  {
   "cell_type": "code",
   "execution_count": 1,
   "id": "f8753e08",
   "metadata": {},
   "outputs": [],
   "source": [
    "from itertools import product\n",
    "import tqdm\n",
    "import time\n",
    "import editdistance \n",
    "import matplotlib.pyplot as plt\n",
    "import plotly.express as px\n",
    "import random\n",
    "\n",
    "import pandas as pd\n",
    "import numpy as np\n",
    "import numba as nb\n",
    "from numba import njit, jit, prange, cuda, objmode\n",
    "from numba.typed import List\n",
    "from numba.experimental import jitclass\n",
    "import plotly.graph_objects as go\n",
    "import random\n",
    "from collections import defaultdict\n",
    "from tqdm import tqdm\n",
    "np.random.seed(0)\n",
    "random.seed(0)"
   ]
  },
  {
   "cell_type": "markdown",
   "id": "8d6435c0-69ca-45e6-8782-0c5629670296",
   "metadata": {
    "tags": []
   },
   "source": [
    "# Definitions "
   ]
  },
  {
   "cell_type": "code",
   "execution_count": 2,
   "id": "e98e7517",
   "metadata": {},
   "outputs": [],
   "source": [
    "@njit(fastmath=True)\n",
    "def l2_dist(a, b): \n",
    "    d = a-b\n",
    "    return np.sum(d*d);\n",
    "\n",
    "@njit(fastmath=True)\n",
    "def hamming_distance(a, b):\n",
    "    return np.sum(a != b);\n",
    "\n",
    "# only works for k<=32, would overflow otherwise \n",
    "@njit(fastmath=True)\n",
    "def extract_kmers(seq,k):\n",
    "    kmer = 0\n",
    "    kmers = np.zeros(len(seq)-k+1,dtype=np.int64)\n",
    "    for i,c in enumerate(seq):\n",
    "        kmer = kmer * 4 + c\n",
    "        kmer = kmer % (4**k)\n",
    "        if i>=k:\n",
    "            kmers[i-k] = kmer\n",
    "    return kmers\n",
    "\n",
    "@jitclass([\n",
    "    ('A', nb.int32),\n",
    "    ('t', nb.int32),\n",
    "    ('D', nb.int32),\n",
    "    ('normalize', nb.bool_),\n",
    "    ('hashes', nb.int32[:, :]),\n",
    "    ('signs', nb.float32[:, :])])\n",
    "class TS():\n",
    "    def __init__(self, t, D, A, normalize = True):\n",
    "        self.A = A\n",
    "        self.t = t\n",
    "        self.D = D\n",
    "        self.normalize = normalize\n",
    "\n",
    "        # An A*t array of random integers in [0, D)\n",
    "        self.hashes = np.empty((self.A, self.t), dtype=np.int32)\n",
    "        # An A*t array of random +-1\n",
    "        self.signs = np.empty((self.A, self.t), dtype=np.float32)\n",
    "        for c in range(self.A):\n",
    "            for k in range(self.t):\n",
    "                self.hashes[c][k] = random.randrange(0, self.D)\n",
    "                self.signs[c][k] = random.randrange(-1, 2, 2)\n",
    "\n",
    "    def _full_sketch(self, seq: nb.int32[:]):\n",
    "        # NOTE: The sketch is stored as float64 here so counting won't overflow.\n",
    "        T = np.zeros((self.t + 1, self.D), dtype=np.float64)\n",
    "        T[0][0] = 1\n",
    "        \n",
    "        for c in seq:\n",
    "            for k in range(self.t - 1, -1, -1):\n",
    "                h = self.hashes[c][k]\n",
    "                s = self.signs[c][k]\n",
    "                for l in range(self.D):\n",
    "                    r = l + h if l + h < self.D else l + h - self.D\n",
    "                    T[k + 1][l] += s * T[k][r]\n",
    "\n",
    "        return T\n",
    "\n",
    "    def _normalize(self, seq, T)-> nb.float32[:]:\n",
    "        if self.normalize:\n",
    "            T = T / np.linalg.norm(T)\n",
    "        return T\n",
    "\n",
    "    def sketch_one(self, seq: np.ndarray) -> nb.float32[:]:\n",
    "        full_sketch = self._full_sketch(seq)\n",
    "\n",
    "        sketch = self._normalize(seq, full_sketch[self.t])\n",
    "\n",
    "        sketch = sketch.flatten()\n",
    "        return sketch\n",
    "\n",
    "    def sketch(self, seqs):\n",
    "        return [self.sketch_one(seq) for seq in seqs]\n",
    "\n",
    "    def dist(self, s1, s2):\n",
    "        return l2_dist(s1,s2)\n",
    "    \n",
    "class TSS():\n",
    "    def __init__(self, seq_len, t, W, S, D, A, normalize = True, sketch_class=TS):\n",
    "        # reduce sketch dim to ensure that the flattened sketch size is D \n",
    "        D2 = int(D/int((seq_len-W)/S)+1)   \n",
    "        self.sketcher = sketch_class(t=t,D=D2,A=A,normalize=normalize)\n",
    "        self.t = t\n",
    "        self.W = W\n",
    "        self.S = S\n",
    "        self.D2 = D2\n",
    "        self.D = D\n",
    "    \n",
    "    def sketch_one(self, seq: nb.int32[:]) -> nb.float32[:,:]:\n",
    "        L = int(np.ceil((len(seq)-self.W+1)/self.S))\n",
    "        sketch = np.zeros((self.D2,L), dtype=np.float32)\n",
    "        for si,i in enumerate(np.arange(0,len(seq)-self.W+1,self.S)):\n",
    "            sketch[:,si] = self.sketcher.sketch_one(seq[i:i+self.W])\n",
    "        \n",
    "        return sketch\n",
    "    \n",
    "    def sketch(self, seqs):\n",
    "        all_seqs = List()\n",
    "        starts = np.arange(0,len(seqs[0])-self.W+1,self.S)\n",
    "        n, m = len(seqs),len(starts)\n",
    "        for seq in seqs:\n",
    "            for i in starts:\n",
    "                all_seqs.append(seq[i:i+self.W])\n",
    "        all_sketches = self.sketcher.sketch(all_seqs)\n",
    "        sketches = List()\n",
    "        for i in range(n):\n",
    "            sk = np.array([x for sk in all_sketches[i*m:(i+1) * m] for x in sk])\n",
    "            sketches.append(sk)\n",
    "        return sketches\n",
    "    \n",
    "    def dist(self, s1, s2):\n",
    "        return l2_dist(s1,s2)\n",
    "\n",
    "@jitclass([\n",
    "    ('A', nb.int32),\n",
    "    ('t', nb.int32),\n",
    "    ('D', nb.int32),\n",
    "    ('D2', nb.int32),\n",
    "    ('normalize', nb.bool_),\n",
    "    ('hashes', nb.int32[:, :]),\n",
    "    ('G', nb.float64[:, :]),\n",
    "    ('H', nb.float64[:]),\n",
    "    ('signs', nb.float32[:, :])])\n",
    "class DTS():\n",
    "    def __init__(self, t, D, D2, A, normalize = True):\n",
    "        self.A = A\n",
    "        self.t = t\n",
    "        self.D = D\n",
    "        self.D2 = D2\n",
    "        self.normalize = normalize\n",
    "\n",
    "        # An A*t array of random integers in [0, D)\n",
    "        self.hashes = np.empty((self.A, self.t), dtype=np.int32)\n",
    "        # An A*t array of random +-1\n",
    "        self.signs = np.empty((self.A, self.t), dtype=np.float32)\n",
    "        # Gaussian matrix for discretization\n",
    "        self.G = np.empty((self.D , self.D2), dtype=np.float64)\n",
    "        for i in range(self.D):\n",
    "            for j in range(self.D2):\n",
    "                self.G[i,j] = random.normalvariate(0,1)\n",
    "                \n",
    "        for c in range(self.A):\n",
    "            for k in range(self.t):\n",
    "                self.hashes[c][k] = random.randrange(0, self.D)\n",
    "                self.signs[c][k] = random.randrange(-1, 2, 2)\n",
    "\n",
    "    def _full_sketch(self, seq: nb.int32[:]):\n",
    "        # NOTE: The sketch is stored as float64 here so counting won't overflow.\n",
    "        T = np.zeros((self.t + 1, self.D), dtype=np.float64)\n",
    "        T[0][0] = 1\n",
    "        \n",
    "        for c in seq:\n",
    "            for k in range(self.t - 1, -1, -1):\n",
    "                h = self.hashes[c][k]\n",
    "                s = self.signs[c][k]\n",
    "                for l in range(self.D):\n",
    "                    r = l + h if l + h < self.D else l + h - self.D\n",
    "                    T[k + 1][l] += s * T[k][r]\n",
    "\n",
    "        return T\n",
    "\n",
    "    def _normalize(self, seq, T)-> nb.float32[:]:\n",
    "        if self.normalize:\n",
    "            T = T / np.linalg.norm(T)\n",
    "        return T\n",
    "    \n",
    "\n",
    "    def discretize(self, x: nb.float64[:]) -> np.int64:\n",
    "        x = x.dot(self.G)\n",
    "#         H = np.tensordot(self.G, x, axes=(1, 0))\n",
    "        H = (x>0)\n",
    "        H = H.reshape(-1,8)\n",
    "        S = np.zeros((H.shape[0]),np.int64)\n",
    "        for i in range(H.shape[0]):\n",
    "            arr = H[i]\n",
    "            S[i] = (arr[0]<<8) + (arr[0]<<7)|(arr[1]<<6)|(arr[2]<<5)|(arr[3]<<4)|(arr[4]<<3)|(arr[5]<<2)|(arr[6]<<1)|arr[7]\n",
    "        sh = 0\n",
    "        for s in S:\n",
    "            sh = hash(sh) ^ hash(str(s))\n",
    "        return sh\n",
    "\n",
    "    def sketch_one(self, seq: np.ndarray)-> np.int64: #-> nb.float32[:]:\n",
    "        full_sketch = self._full_sketch(seq)\n",
    "\n",
    "        sketch = self._normalize(seq, full_sketch[self.t])\n",
    "        sketch = sketch.flatten()\n",
    "        sketch = self.discretize(sketch)\n",
    "        return sketch\n",
    "\n",
    "    def sketch(self, seqs):\n",
    "        sketches = np.zeros((len(seqs)),np.int64)\n",
    "        for i in range(len(seqs)):\n",
    "            sketches[i] = self.sketch_one(seqs[i])\n",
    "        return sketches\n",
    "        # return [self.sketch_one(seq) for seq in seqs]\n",
    "\n",
    "    def dist(self, s1, s2):\n",
    "        return l2_dist(s1,s2)\n",
    "    \n",
    "\n",
    "def mutate(seq, alphabet, rate):\n",
    "    new_seq = []\n",
    "    n = len(seq)\n",
    "    i = 0\n",
    "    alg = []\n",
    "    while i < n:\n",
    "        chance = np.random.uniform()\n",
    "        if chance > rate:\n",
    "            # do nothing\n",
    "            alg.append(i)\n",
    "            new_seq.append(seq[i])\n",
    "            i += 1\n",
    "        else:\n",
    "            # choose at random an operation between substitution, insertion, deletion\n",
    "            op = np.random.choice([0,1,2])            \n",
    "            if op == 0:\n",
    "                # substitution\n",
    "                c = np.random.choice(list(set(alphabet) - set([seq[i]])))\n",
    "                new_seq.append(c)\n",
    "                alg.append(i)\n",
    "                i += 1\n",
    "            elif op == 1:\n",
    "                # insertion\n",
    "                c = np.random.choice(alphabet)\n",
    "                alg.append(i)\n",
    "                new_seq.append(c)\n",
    "            elif op == 2:\n",
    "                # deletion\n",
    "                i += 1\n",
    "    D = len(seq) - len(new_seq)\n",
    "    new_seq = new_seq + [np.random.choice(alphabet) for _ in range(D)]\n",
    "    alg = alg + [i for _ in range(D)]\n",
    "    return ''.join(new_seq),alg\n",
    "    \n",
    "def convert(seq, alphabet):\n",
    "    inv_map = {alphabet[i]:i for i in range(len(alphabet))}\n",
    "    new_seq = []\n",
    "    for c in seq:\n",
    "        new_seq.append(inv_map[c])\n",
    "    return np.asarray(new_seq, dtype=np.uint8)\n",
    "\n",
    "def generate_paths(seq, path_len, num_paths, k, mutation_rate, alphabet):\n",
    "    paths = []\n",
    "    for i in range(num_paths):\n",
    "        # pick random index\n",
    "        start = np.random.choice(len(seq) - path_len)\n",
    "        path = seq[start:start+path_len]\n",
    "        seq2,align =  mutate(path, alphabet, mutation_rate)\n",
    "        nodes = [start+i for i in align]\n",
    "        paths.append((path,seq2, nodes))\n",
    "    return paths\n",
    "\n",
    "def build_lookup(sketches, stride):\n",
    "    lut = defaultdict(list)\n",
    "    for i, s in enumerate(sketches):\n",
    "        lut[s].append(i*stride)\n",
    "    return lut\n",
    "\n",
    "def dict_configs(d):\n",
    "    for k,v in d.items():\n",
    "        if not isinstance(v,list):\n",
    "            d[k] = [v]\n",
    "    for vcomb in product(*d.values()):\n",
    "        yield dict(zip(d.keys(), vcomb))"
   ]
  },
  {
   "cell_type": "markdown",
   "id": "fd308a76-db7a-4ae7-bd61-91e2a29b729a",
   "metadata": {},
   "source": [
    "# Experiment "
   ]
  },
  {
   "cell_type": "code",
   "execution_count": 78,
   "id": "89c43e1c",
   "metadata": {
    "tags": []
   },
   "outputs": [
    {
     "name": "stderr",
     "output_type": "stream",
     "text": [
      "100%|██████████| 100/100 [00:01<00:00, 54.18it/s]\n"
     ]
    },
    {
     "name": "stdout",
     "output_type": "stream",
     "text": [
      "{'num_paths': 100, 'N': 100000, 'mr': 0.2, 'path_len': 200, 'recall_dist': 3, 'k': 50, 'm': 10, 'm2': 32, 'tuplen': 3, 'w': 50, 's': 3, 'P': 0.0006119875131369915, 'R': 1.0, 'dists_bins': [0, 1, 2, 3, 4, 5, 6, 7, 8, 9], 'dists_counts': array([99,  1,  0,  0,  0,  0,  0,  0,  0,  0])}\n"
     ]
    },
    {
     "name": "stderr",
     "output_type": "stream",
     "text": [
      "100%|██████████| 100/100 [00:00<00:00, 349.64it/s]\n"
     ]
    },
    {
     "name": "stdout",
     "output_type": "stream",
     "text": [
      "{'num_paths': 100, 'N': 100000, 'mr': 0.2, 'path_len': 200, 'recall_dist': 3, 'k': 50, 'm': 10, 'm2': 32, 'tuplen': 4, 'w': 50, 's': 3, 'P': 0.0031002750247377986, 'R': 0.78, 'dists_bins': [0, 1, 2, 3, 4, 5, 6, 7, 8, 9], 'dists_counts': array([54,  8, 13,  3,  1,  0,  3,  2,  1, 15])}\n"
     ]
    },
    {
     "name": "stderr",
     "output_type": "stream",
     "text": [
      "100%|██████████| 100/100 [00:00<00:00, 312.47it/s]\n"
     ]
    },
    {
     "name": "stdout",
     "output_type": "stream",
     "text": [
      "{'num_paths': 100, 'N': 100000, 'mr': 0.2, 'path_len': 200, 'recall_dist': 3, 'k': 50, 'm': 10, 'm2': 32, 'tuplen': 5, 'w': 50, 's': 3, 'P': 0.0017736715619212954, 'R': 0.81, 'dists_bins': [0, 1, 2, 3, 4, 5, 6, 7, 8, 9], 'dists_counts': array([55,  8, 16,  2,  7,  1,  1,  1,  0,  9])}\n"
     ]
    },
    {
     "name": "stderr",
     "output_type": "stream",
     "text": [
      "100%|██████████| 100/100 [00:00<00:00, 233.94it/s]\n"
     ]
    },
    {
     "name": "stdout",
     "output_type": "stream",
     "text": [
      "{'num_paths': 100, 'N': 100000, 'mr': 0.2, 'path_len': 200, 'recall_dist': 3, 'k': 50, 'm': 10, 'm2': 32, 'tuplen': 6, 'w': 50, 's': 3, 'P': 0.0013182323822051492, 'R': 0.88, 'dists_bins': [0, 1, 2, 3, 4, 5, 6, 7, 8, 9], 'dists_counts': array([65,  4, 15,  4,  3,  0,  2,  0,  0,  7])}\n"
     ]
    },
    {
     "name": "stderr",
     "output_type": "stream",
     "text": [
      "100%|██████████| 100/100 [00:00<00:00, 141.35it/s]\n"
     ]
    },
    {
     "name": "stdout",
     "output_type": "stream",
     "text": [
      "{'num_paths': 100, 'N': 100000, 'mr': 0.2, 'path_len': 200, 'recall_dist': 3, 'k': 50, 'm': 10, 'm2': 64, 'tuplen': 3, 'w': 50, 's': 3, 'P': 0.0011738695028999221, 'R': 0.99, 'dists_bins': [0, 1, 2, 3, 4, 5, 6, 7, 8, 9], 'dists_counts': array([88,  4,  7,  0,  1,  0,  0,  0,  0,  0])}\n"
     ]
    },
    {
     "name": "stderr",
     "output_type": "stream",
     "text": [
      "100%|██████████| 100/100 [00:00<00:00, 401.35it/s]\n"
     ]
    },
    {
     "name": "stdout",
     "output_type": "stream",
     "text": [
      "{'num_paths': 100, 'N': 100000, 'mr': 0.2, 'path_len': 200, 'recall_dist': 3, 'k': 50, 'm': 10, 'm2': 64, 'tuplen': 4, 'w': 50, 's': 3, 'P': 0.0013735816303771526, 'R': 0.5, 'dists_bins': [0, 1, 2, 3, 4, 5, 6, 7, 8, 9], 'dists_counts': array([25, 13, 10,  2,  9,  3,  3,  2,  2, 31])}\n"
     ]
    },
    {
     "name": "stderr",
     "output_type": "stream",
     "text": [
      "100%|██████████| 100/100 [00:00<00:00, 468.95it/s]\n"
     ]
    },
    {
     "name": "stdout",
     "output_type": "stream",
     "text": [
      "{'num_paths': 100, 'N': 100000, 'mr': 0.2, 'path_len': 200, 'recall_dist': 3, 'k': 50, 'm': 10, 'm2': 64, 'tuplen': 5, 'w': 50, 's': 3, 'P': 0.0022558894334439037, 'R': 0.13, 'dists_bins': [0, 1, 2, 3, 4, 5, 6, 7, 8, 9], 'dists_counts': array([ 3,  2,  8,  0,  0,  3,  2,  1,  2, 79])}\n"
     ]
    },
    {
     "name": "stderr",
     "output_type": "stream",
     "text": [
      "100%|██████████| 100/100 [00:00<00:00, 424.82it/s]\n"
     ]
    },
    {
     "name": "stdout",
     "output_type": "stream",
     "text": [
      "{'num_paths': 100, 'N': 100000, 'mr': 0.2, 'path_len': 200, 'recall_dist': 3, 'k': 50, 'm': 10, 'm2': 64, 'tuplen': 6, 'w': 50, 's': 3, 'P': 0.002039401549485087, 'R': 0.23, 'dists_bins': [0, 1, 2, 3, 4, 5, 6, 7, 8, 9], 'dists_counts': array([11,  2,  7,  3,  3,  2,  3,  2,  1, 66])}\n"
     ]
    },
    {
     "name": "stderr",
     "output_type": "stream",
     "text": [
      "100%|██████████| 100/100 [00:00<00:00, 467.56it/s]\n"
     ]
    },
    {
     "name": "stdout",
     "output_type": "stream",
     "text": [
      "{'num_paths': 100, 'N': 100000, 'mr': 0.2, 'path_len': 200, 'recall_dist': 3, 'k': 50, 'm': 10, 'm2': 128, 'tuplen': 3, 'w': 50, 's': 3, 'P': 0.0, 'R': 0.0, 'dists_bins': [0, 1, 2, 3, 4, 5, 6, 7, 8, 9], 'dists_counts': array([ 0,  0,  0,  0,  0,  0,  2,  0,  0, 98])}\n"
     ]
    },
    {
     "name": "stderr",
     "output_type": "stream",
     "text": [
      "100%|██████████| 100/100 [00:00<00:00, 476.76it/s]\n"
     ]
    },
    {
     "name": "stdout",
     "output_type": "stream",
     "text": [
      "{'num_paths': 100, 'N': 100000, 'mr': 0.2, 'path_len': 200, 'recall_dist': 3, 'k': 50, 'm': 10, 'm2': 128, 'tuplen': 4, 'w': 50, 's': 3, 'P': 0.0, 'R': 0.0, 'dists_bins': [0, 1, 2, 3, 4, 5, 6, 7, 8, 9], 'dists_counts': array([ 0,  0,  0,  0,  0,  0,  1,  0,  0, 99])}\n"
     ]
    },
    {
     "name": "stderr",
     "output_type": "stream",
     "text": [
      "100%|██████████| 100/100 [00:00<00:00, 452.08it/s]\n"
     ]
    },
    {
     "name": "stdout",
     "output_type": "stream",
     "text": [
      "{'num_paths': 100, 'N': 100000, 'mr': 0.2, 'path_len': 200, 'recall_dist': 3, 'k': 50, 'm': 10, 'm2': 128, 'tuplen': 5, 'w': 50, 's': 3, 'P': 0.003918128654970761, 'R': 0.04, 'dists_bins': [0, 1, 2, 3, 4, 5, 6, 7, 8, 9], 'dists_counts': array([ 1,  2,  1,  0,  1,  0,  1,  0,  2, 92])}\n"
     ]
    },
    {
     "name": "stderr",
     "output_type": "stream",
     "text": [
      "100%|██████████| 100/100 [00:00<00:00, 414.11it/s]\n"
     ]
    },
    {
     "name": "stdout",
     "output_type": "stream",
     "text": [
      "{'num_paths': 100, 'N': 100000, 'mr': 0.2, 'path_len': 200, 'recall_dist': 3, 'k': 50, 'm': 10, 'm2': 128, 'tuplen': 6, 'w': 50, 's': 3, 'P': 0.021577380952380952, 'R': 0.04, 'dists_bins': [0, 1, 2, 3, 4, 5, 6, 7, 8, 9], 'dists_counts': array([ 0,  0,  3,  1,  1,  1,  0,  0,  0, 94])}\n"
     ]
    },
    {
     "name": "stderr",
     "output_type": "stream",
     "text": [
      "100%|██████████| 100/100 [00:00<00:00, 202.02it/s]\n"
     ]
    },
    {
     "name": "stdout",
     "output_type": "stream",
     "text": [
      "{'num_paths': 100, 'N': 100000, 'mr': 0.2, 'path_len': 200, 'recall_dist': 3, 'k': 50, 'm': 20, 'm2': 32, 'tuplen': 3, 'w': 50, 's': 3, 'P': 0.0016530110042264603, 'R': 0.98, 'dists_bins': [0, 1, 2, 3, 4, 5, 6, 7, 8, 9], 'dists_counts': array([76,  4, 16,  2,  1,  0,  0,  0,  0,  1])}\n"
     ]
    },
    {
     "name": "stderr",
     "output_type": "stream",
     "text": [
      "100%|██████████| 100/100 [00:01<00:00, 52.77it/s]\n"
     ]
    },
    {
     "name": "stdout",
     "output_type": "stream",
     "text": [
      "{'num_paths': 100, 'N': 100000, 'mr': 0.2, 'path_len': 200, 'recall_dist': 3, 'k': 50, 'm': 20, 'm2': 32, 'tuplen': 4, 'w': 50, 's': 3, 'P': 0.0005946818968262034, 'R': 0.98, 'dists_bins': [0, 1, 2, 3, 4, 5, 6, 7, 8, 9], 'dists_counts': array([98,  0,  0,  0,  2,  0,  0,  0,  0,  0])}\n"
     ]
    },
    {
     "name": "stderr",
     "output_type": "stream",
     "text": [
      "100%|██████████| 100/100 [00:00<00:00, 345.53it/s]\n"
     ]
    },
    {
     "name": "stdout",
     "output_type": "stream",
     "text": [
      "{'num_paths': 100, 'N': 100000, 'mr': 0.2, 'path_len': 200, 'recall_dist': 3, 'k': 50, 'm': 20, 'm2': 32, 'tuplen': 5, 'w': 50, 's': 3, 'P': 0.0033534921524324217, 'R': 0.64, 'dists_bins': [0, 1, 2, 3, 4, 5, 6, 7, 8, 9], 'dists_counts': array([45,  3, 14,  2,  8,  0,  2,  1,  1, 24])}\n"
     ]
    },
    {
     "name": "stderr",
     "output_type": "stream",
     "text": [
      "100%|██████████| 100/100 [00:00<00:00, 264.87it/s]\n"
     ]
    },
    {
     "name": "stdout",
     "output_type": "stream",
     "text": [
      "{'num_paths': 100, 'N': 100000, 'mr': 0.2, 'path_len': 200, 'recall_dist': 3, 'k': 50, 'm': 20, 'm2': 32, 'tuplen': 6, 'w': 50, 's': 3, 'P': 0.00178481120379097, 'R': 0.77, 'dists_bins': [0, 1, 2, 3, 4, 5, 6, 7, 8, 9], 'dists_counts': array([44,  9, 19,  5,  4,  3,  0,  0,  3, 13])}\n"
     ]
    },
    {
     "name": "stderr",
     "output_type": "stream",
     "text": [
      "100%|██████████| 100/100 [00:00<00:00, 416.61it/s]\n"
     ]
    },
    {
     "name": "stdout",
     "output_type": "stream",
     "text": [
      "{'num_paths': 100, 'N': 100000, 'mr': 0.2, 'path_len': 200, 'recall_dist': 3, 'k': 50, 'm': 20, 'm2': 64, 'tuplen': 3, 'w': 50, 's': 3, 'P': 0.0044919420330017616, 'R': 0.42, 'dists_bins': [0, 1, 2, 3, 4, 5, 6, 7, 8, 9], 'dists_counts': array([20,  5, 13,  4,  2,  1,  4,  2,  1, 48])}\n"
     ]
    },
    {
     "name": "stderr",
     "output_type": "stream",
     "text": [
      "100%|██████████| 100/100 [00:00<00:00, 391.31it/s]\n"
     ]
    },
    {
     "name": "stdout",
     "output_type": "stream",
     "text": [
      "{'num_paths': 100, 'N': 100000, 'mr': 0.2, 'path_len': 200, 'recall_dist': 3, 'k': 50, 'm': 20, 'm2': 64, 'tuplen': 4, 'w': 50, 's': 3, 'P': 0.00444545900149936, 'R': 0.32, 'dists_bins': [0, 1, 2, 3, 4, 5, 6, 7, 8, 9], 'dists_counts': array([11,  2, 14,  5,  0,  3,  3,  4,  0, 58])}\n"
     ]
    },
    {
     "name": "stderr",
     "output_type": "stream",
     "text": [
      "100%|██████████| 100/100 [00:00<00:00, 374.95it/s]\n"
     ]
    },
    {
     "name": "stdout",
     "output_type": "stream",
     "text": [
      "{'num_paths': 100, 'N': 100000, 'mr': 0.2, 'path_len': 200, 'recall_dist': 3, 'k': 50, 'm': 20, 'm2': 64, 'tuplen': 5, 'w': 50, 's': 3, 'P': 0.009683758395098602, 'R': 0.11, 'dists_bins': [0, 1, 2, 3, 4, 5, 6, 7, 8, 9], 'dists_counts': array([ 6,  0,  4,  1,  2,  0,  0,  2,  2, 83])}\n"
     ]
    },
    {
     "name": "stderr",
     "output_type": "stream",
     "text": [
      "100%|██████████| 100/100 [00:00<00:00, 335.32it/s]\n"
     ]
    },
    {
     "name": "stdout",
     "output_type": "stream",
     "text": [
      "{'num_paths': 100, 'N': 100000, 'mr': 0.2, 'path_len': 200, 'recall_dist': 3, 'k': 50, 'm': 20, 'm2': 64, 'tuplen': 6, 'w': 50, 's': 3, 'P': 0.012512195710562604, 'R': 0.14, 'dists_bins': [0, 1, 2, 3, 4, 5, 6, 7, 8, 9], 'dists_counts': array([ 9,  2,  3,  0,  0,  0,  1,  1,  0, 84])}\n"
     ]
    },
    {
     "name": "stderr",
     "output_type": "stream",
     "text": [
      "100%|██████████| 100/100 [00:00<00:00, 406.40it/s]\n"
     ]
    },
    {
     "name": "stdout",
     "output_type": "stream",
     "text": [
      "{'num_paths': 100, 'N': 100000, 'mr': 0.2, 'path_len': 200, 'recall_dist': 3, 'k': 50, 'm': 20, 'm2': 128, 'tuplen': 3, 'w': 50, 's': 3, 'P': 0.01616588193719046, 'R': 0.07, 'dists_bins': [0, 1, 2, 3, 4, 5, 6, 7, 8, 9], 'dists_counts': array([ 2,  1,  3,  1,  4,  3,  2,  0,  1, 83])}\n"
     ]
    },
    {
     "name": "stderr",
     "output_type": "stream",
     "text": [
      "100%|██████████| 100/100 [00:00<00:00, 323.11it/s]\n"
     ]
    },
    {
     "name": "stdout",
     "output_type": "stream",
     "text": [
      "{'num_paths': 100, 'N': 100000, 'mr': 0.2, 'path_len': 200, 'recall_dist': 3, 'k': 50, 'm': 20, 'm2': 128, 'tuplen': 4, 'w': 50, 's': 3, 'P': 0.0020998201070170103, 'R': 0.44, 'dists_bins': [0, 1, 2, 3, 4, 5, 6, 7, 8, 9], 'dists_counts': array([24,  4, 15,  1, 12,  1,  3,  2,  1, 37])}\n"
     ]
    },
    {
     "name": "stderr",
     "output_type": "stream",
     "text": [
      "100%|██████████| 100/100 [00:00<00:00, 339.38it/s]\n"
     ]
    },
    {
     "name": "stdout",
     "output_type": "stream",
     "text": [
      "{'num_paths': 100, 'N': 100000, 'mr': 0.2, 'path_len': 200, 'recall_dist': 3, 'k': 50, 'm': 20, 'm2': 128, 'tuplen': 5, 'w': 50, 's': 3, 'P': 0.09090909090909091, 'R': 0.01, 'dists_bins': [0, 1, 2, 3, 4, 5, 6, 7, 8, 9], 'dists_counts': array([ 0,  0,  1,  0,  0,  0,  0,  0,  0, 99])}\n"
     ]
    },
    {
     "name": "stderr",
     "output_type": "stream",
     "text": [
      "100%|██████████| 100/100 [00:00<00:00, 314.17it/s]\n"
     ]
    },
    {
     "name": "stdout",
     "output_type": "stream",
     "text": [
      "{'num_paths': 100, 'N': 100000, 'mr': 0.2, 'path_len': 200, 'recall_dist': 3, 'k': 50, 'm': 20, 'm2': 128, 'tuplen': 6, 'w': 50, 's': 3, 'P': 0.0, 'R': 0.0, 'dists_bins': [0, 1, 2, 3, 4, 5, 6, 7, 8, 9], 'dists_counts': array([ 0,  0,  0,  0,  1,  0,  0,  0,  0, 99])}\n"
     ]
    },
    {
     "name": "stderr",
     "output_type": "stream",
     "text": [
      "100%|██████████| 100/100 [00:00<00:00, 172.15it/s]\n"
     ]
    },
    {
     "name": "stdout",
     "output_type": "stream",
     "text": [
      "{'num_paths': 100, 'N': 100000, 'mr': 0.2, 'path_len': 200, 'recall_dist': 3, 'k': 50, 'm': 30, 'm2': 32, 'tuplen': 3, 'w': 50, 's': 3, 'P': 0.0016984025716132506, 'R': 0.96, 'dists_bins': [0, 1, 2, 3, 4, 5, 6, 7, 8, 9], 'dists_counts': array([83,  5,  8,  0,  0,  0,  2,  0,  0,  2])}\n"
     ]
    },
    {
     "name": "stderr",
     "output_type": "stream",
     "text": [
      "100%|██████████| 100/100 [00:00<00:00, 294.60it/s]\n"
     ]
    },
    {
     "name": "stdout",
     "output_type": "stream",
     "text": [
      "{'num_paths': 100, 'N': 100000, 'mr': 0.2, 'path_len': 200, 'recall_dist': 3, 'k': 50, 'm': 30, 'm2': 32, 'tuplen': 4, 'w': 50, 's': 3, 'P': 0.003495261676806928, 'R': 0.56, 'dists_bins': [0, 1, 2, 3, 4, 5, 6, 7, 8, 9], 'dists_counts': array([39,  4, 11,  2,  7,  1,  2,  4,  1, 29])}\n"
     ]
    },
    {
     "name": "stderr",
     "output_type": "stream",
     "text": [
      "100%|██████████| 100/100 [00:00<00:00, 285.53it/s]\n"
     ]
    },
    {
     "name": "stdout",
     "output_type": "stream",
     "text": [
      "{'num_paths': 100, 'N': 100000, 'mr': 0.2, 'path_len': 200, 'recall_dist': 3, 'k': 50, 'm': 30, 'm2': 32, 'tuplen': 5, 'w': 50, 's': 3, 'P': 0.0035949968207974847, 'R': 0.64, 'dists_bins': [0, 1, 2, 3, 4, 5, 6, 7, 8, 9], 'dists_counts': array([41,  5, 13,  5,  8,  0,  8,  1,  0, 19])}\n"
     ]
    },
    {
     "name": "stderr",
     "output_type": "stream",
     "text": [
      "100%|██████████| 100/100 [00:00<00:00, 276.96it/s]\n"
     ]
    },
    {
     "name": "stdout",
     "output_type": "stream",
     "text": [
      "{'num_paths': 100, 'N': 100000, 'mr': 0.2, 'path_len': 200, 'recall_dist': 3, 'k': 50, 'm': 30, 'm2': 32, 'tuplen': 6, 'w': 50, 's': 3, 'P': 0.010752099560118314, 'R': 0.23, 'dists_bins': [0, 1, 2, 3, 4, 5, 6, 7, 8, 9], 'dists_counts': array([15,  4,  2,  2,  5,  0,  3,  3,  1, 65])}\n"
     ]
    },
    {
     "name": "stderr",
     "output_type": "stream",
     "text": [
      "100%|██████████| 100/100 [00:00<00:00, 327.52it/s]\n"
     ]
    },
    {
     "name": "stdout",
     "output_type": "stream",
     "text": [
      "{'num_paths': 100, 'N': 100000, 'mr': 0.2, 'path_len': 200, 'recall_dist': 3, 'k': 50, 'm': 30, 'm2': 64, 'tuplen': 3, 'w': 50, 's': 3, 'P': 0.003989812932875801, 'R': 0.67, 'dists_bins': [0, 1, 2, 3, 4, 5, 6, 7, 8, 9], 'dists_counts': array([41,  6, 19,  1,  2,  7,  2,  1,  1, 20])}\n"
     ]
    },
    {
     "name": "stderr",
     "output_type": "stream",
     "text": [
      "100%|██████████| 100/100 [00:00<00:00, 339.23it/s]\n"
     ]
    },
    {
     "name": "stdout",
     "output_type": "stream",
     "text": [
      "{'num_paths': 100, 'N': 100000, 'mr': 0.2, 'path_len': 200, 'recall_dist': 3, 'k': 50, 'm': 30, 'm2': 64, 'tuplen': 4, 'w': 50, 's': 3, 'P': 0.014883926989190149, 'R': 0.06, 'dists_bins': [0, 1, 2, 3, 4, 5, 6, 7, 8, 9], 'dists_counts': array([ 2,  1,  1,  2,  3,  3,  0,  0,  0, 88])}\n"
     ]
    },
    {
     "name": "stderr",
     "output_type": "stream",
     "text": [
      "100%|██████████| 100/100 [00:00<00:00, 286.11it/s]\n"
     ]
    },
    {
     "name": "stdout",
     "output_type": "stream",
     "text": [
      "{'num_paths': 100, 'N': 100000, 'mr': 0.2, 'path_len': 200, 'recall_dist': 3, 'k': 50, 'm': 30, 'm2': 64, 'tuplen': 5, 'w': 50, 's': 3, 'P': 0.007270623751559087, 'R': 0.27, 'dists_bins': [0, 1, 2, 3, 4, 5, 6, 7, 8, 9], 'dists_counts': array([11,  2, 12,  2,  5,  0,  3,  1,  2, 62])}\n"
     ]
    },
    {
     "name": "stderr",
     "output_type": "stream",
     "text": [
      "100%|██████████| 100/100 [00:00<00:00, 277.88it/s]\n"
     ]
    },
    {
     "name": "stdout",
     "output_type": "stream",
     "text": [
      "{'num_paths': 100, 'N': 100000, 'mr': 0.2, 'path_len': 200, 'recall_dist': 3, 'k': 50, 'm': 30, 'm2': 64, 'tuplen': 6, 'w': 50, 's': 3, 'P': 0.0770440251572327, 'R': 0.06, 'dists_bins': [0, 1, 2, 3, 4, 5, 6, 7, 8, 9], 'dists_counts': array([ 3,  2,  1,  0,  0,  0,  1,  0,  1, 92])}\n"
     ]
    },
    {
     "name": "stderr",
     "output_type": "stream",
     "text": [
      "100%|██████████| 100/100 [00:00<00:00, 346.99it/s]\n"
     ]
    },
    {
     "name": "stdout",
     "output_type": "stream",
     "text": [
      "{'num_paths': 100, 'N': 100000, 'mr': 0.2, 'path_len': 200, 'recall_dist': 3, 'k': 50, 'm': 30, 'm2': 128, 'tuplen': 3, 'w': 50, 's': 3, 'P': 0.024776785714285713, 'R': 0.07, 'dists_bins': [0, 1, 2, 3, 4, 5, 6, 7, 8, 9], 'dists_counts': array([ 5,  0,  2,  0,  3,  0,  0,  0,  0, 90])}\n"
     ]
    },
    {
     "name": "stderr",
     "output_type": "stream",
     "text": [
      "100%|██████████| 100/100 [00:00<00:00, 295.33it/s]\n"
     ]
    },
    {
     "name": "stdout",
     "output_type": "stream",
     "text": [
      "{'num_paths': 100, 'N': 100000, 'mr': 0.2, 'path_len': 200, 'recall_dist': 3, 'k': 50, 'm': 30, 'm2': 128, 'tuplen': 4, 'w': 50, 's': 3, 'P': 0.0, 'R': 0.0, 'dists_bins': [0, 1, 2, 3, 4, 5, 6, 7, 8, 9], 'dists_counts': array([  0,   0,   0,   0,   0,   0,   0,   0,   0, 100])}\n"
     ]
    },
    {
     "name": "stderr",
     "output_type": "stream",
     "text": [
      "100%|██████████| 100/100 [00:00<00:00, 269.32it/s]\n"
     ]
    },
    {
     "name": "stdout",
     "output_type": "stream",
     "text": [
      "{'num_paths': 100, 'N': 100000, 'mr': 0.2, 'path_len': 200, 'recall_dist': 3, 'k': 50, 'm': 30, 'm2': 128, 'tuplen': 5, 'w': 50, 's': 3, 'P': 1.0, 'R': 0.01, 'dists_bins': [0, 1, 2, 3, 4, 5, 6, 7, 8, 9], 'dists_counts': array([ 0,  0,  1,  0,  0,  0,  0,  0,  0, 99])}\n"
     ]
    },
    {
     "name": "stderr",
     "output_type": "stream",
     "text": [
      "100%|██████████| 100/100 [00:00<00:00, 241.59it/s]\n"
     ]
    },
    {
     "name": "stdout",
     "output_type": "stream",
     "text": [
      "{'num_paths': 100, 'N': 100000, 'mr': 0.2, 'path_len': 200, 'recall_dist': 3, 'k': 50, 'm': 30, 'm2': 128, 'tuplen': 6, 'w': 50, 's': 3, 'P': 0.0, 'R': 0.0, 'dists_bins': [0, 1, 2, 3, 4, 5, 6, 7, 8, 9], 'dists_counts': array([  0,   0,   0,   0,   0,   0,   0,   0,   0, 100])}\n"
     ]
    },
    {
     "name": "stderr",
     "output_type": "stream",
     "text": [
      "100%|██████████| 100/100 [00:01<00:00, 68.62it/s]\n"
     ]
    },
    {
     "name": "stdout",
     "output_type": "stream",
     "text": [
      "{'num_paths': 100, 'N': 100000, 'mr': 0.2, 'path_len': 200, 'recall_dist': 3, 'k': 50, 'm': 50, 'm2': 32, 'tuplen': 3, 'w': 50, 's': 3, 'P': 0.0008398985519945948, 'R': 1.0, 'dists_bins': [0, 1, 2, 3, 4, 5, 6, 7, 8, 9], 'dists_counts': array([97,  2,  1,  0,  0,  0,  0,  0,  0,  0])}\n"
     ]
    },
    {
     "name": "stderr",
     "output_type": "stream",
     "text": [
      "100%|██████████| 100/100 [00:00<00:00, 242.30it/s]\n"
     ]
    },
    {
     "name": "stdout",
     "output_type": "stream",
     "text": [
      "{'num_paths': 100, 'N': 100000, 'mr': 0.2, 'path_len': 200, 'recall_dist': 3, 'k': 50, 'm': 50, 'm2': 32, 'tuplen': 4, 'w': 50, 's': 3, 'P': 0.006417481254199554, 'R': 0.71, 'dists_bins': [0, 1, 2, 3, 4, 5, 6, 7, 8, 9], 'dists_counts': array([49, 10, 12,  0,  2,  2,  3,  0,  0, 22])}\n"
     ]
    },
    {
     "name": "stderr",
     "output_type": "stream",
     "text": [
      "100%|██████████| 100/100 [00:00<00:00, 225.80it/s]\n"
     ]
    },
    {
     "name": "stdout",
     "output_type": "stream",
     "text": [
      "{'num_paths': 100, 'N': 100000, 'mr': 0.2, 'path_len': 200, 'recall_dist': 3, 'k': 50, 'm': 50, 'm2': 32, 'tuplen': 5, 'w': 50, 's': 3, 'P': 0.005697154369389496, 'R': 0.44, 'dists_bins': [0, 1, 2, 3, 4, 5, 6, 7, 8, 9], 'dists_counts': array([29,  4, 11,  0,  7,  2,  1,  2,  0, 44])}\n"
     ]
    },
    {
     "name": "stderr",
     "output_type": "stream",
     "text": [
      "100%|██████████| 100/100 [00:00<00:00, 203.97it/s]\n"
     ]
    },
    {
     "name": "stdout",
     "output_type": "stream",
     "text": [
      "{'num_paths': 100, 'N': 100000, 'mr': 0.2, 'path_len': 200, 'recall_dist': 3, 'k': 50, 'm': 50, 'm2': 32, 'tuplen': 6, 'w': 50, 's': 3, 'P': 0.00964505764260698, 'R': 0.38, 'dists_bins': [0, 1, 2, 3, 4, 5, 6, 7, 8, 9], 'dists_counts': array([18,  5, 15,  0,  1,  2,  2,  0,  2, 55])}\n"
     ]
    },
    {
     "name": "stderr",
     "output_type": "stream",
     "text": [
      "100%|██████████| 100/100 [00:00<00:00, 279.50it/s]\n"
     ]
    },
    {
     "name": "stdout",
     "output_type": "stream",
     "text": [
      "{'num_paths': 100, 'N': 100000, 'mr': 0.2, 'path_len': 200, 'recall_dist': 3, 'k': 50, 'm': 50, 'm2': 64, 'tuplen': 3, 'w': 50, 's': 3, 'P': 0.005983307164727232, 'R': 0.37, 'dists_bins': [0, 1, 2, 3, 4, 5, 6, 7, 8, 9], 'dists_counts': array([20,  3, 13,  1, 11,  4,  3,  1,  1, 43])}\n"
     ]
    },
    {
     "name": "stderr",
     "output_type": "stream",
     "text": [
      "100%|██████████| 100/100 [00:00<00:00, 247.30it/s]\n"
     ]
    },
    {
     "name": "stdout",
     "output_type": "stream",
     "text": [
      "{'num_paths': 100, 'N': 100000, 'mr': 0.2, 'path_len': 200, 'recall_dist': 3, 'k': 50, 'm': 50, 'm2': 64, 'tuplen': 4, 'w': 50, 's': 3, 'P': 0.009797453792747572, 'R': 0.29, 'dists_bins': [0, 1, 2, 3, 4, 5, 6, 7, 8, 9], 'dists_counts': array([17,  2,  8,  2,  3,  1,  1,  2,  1, 63])}\n"
     ]
    },
    {
     "name": "stderr",
     "output_type": "stream",
     "text": [
      "100%|██████████| 100/100 [00:00<00:00, 228.81it/s]\n"
     ]
    },
    {
     "name": "stdout",
     "output_type": "stream",
     "text": [
      "{'num_paths': 100, 'N': 100000, 'mr': 0.2, 'path_len': 200, 'recall_dist': 3, 'k': 50, 'm': 50, 'm2': 64, 'tuplen': 5, 'w': 50, 's': 3, 'P': 0.006929011267520063, 'R': 0.15, 'dists_bins': [0, 1, 2, 3, 4, 5, 6, 7, 8, 9], 'dists_counts': array([ 8,  2,  4,  1,  4,  0,  2,  2,  1, 76])}\n"
     ]
    },
    {
     "name": "stderr",
     "output_type": "stream",
     "text": [
      "100%|██████████| 100/100 [00:00<00:00, 205.09it/s]\n"
     ]
    },
    {
     "name": "stdout",
     "output_type": "stream",
     "text": [
      "{'num_paths': 100, 'N': 100000, 'mr': 0.2, 'path_len': 200, 'recall_dist': 3, 'k': 50, 'm': 50, 'm2': 64, 'tuplen': 6, 'w': 50, 's': 3, 'P': 0.01075268817204301, 'R': 0.01, 'dists_bins': [0, 1, 2, 3, 4, 5, 6, 7, 8, 9], 'dists_counts': array([ 1,  0,  0,  0,  1,  0,  0,  0,  1, 97])}\n"
     ]
    },
    {
     "name": "stderr",
     "output_type": "stream",
     "text": [
      "100%|██████████| 100/100 [00:00<00:00, 263.63it/s]\n"
     ]
    },
    {
     "name": "stdout",
     "output_type": "stream",
     "text": [
      "{'num_paths': 100, 'N': 100000, 'mr': 0.2, 'path_len': 200, 'recall_dist': 3, 'k': 50, 'm': 50, 'm2': 128, 'tuplen': 3, 'w': 50, 's': 3, 'P': 0.019230769230769232, 'R': 0.01, 'dists_bins': [0, 1, 2, 3, 4, 5, 6, 7, 8, 9], 'dists_counts': array([ 1,  0,  0,  0,  1,  0,  1,  0,  0, 97])}\n"
     ]
    },
    {
     "name": "stderr",
     "output_type": "stream",
     "text": [
      "100%|██████████| 100/100 [00:00<00:00, 226.01it/s]\n"
     ]
    },
    {
     "name": "stdout",
     "output_type": "stream",
     "text": [
      "{'num_paths': 100, 'N': 100000, 'mr': 0.2, 'path_len': 200, 'recall_dist': 3, 'k': 50, 'm': 50, 'm2': 128, 'tuplen': 4, 'w': 50, 's': 3, 'P': 0.0, 'R': 0.0, 'dists_bins': [0, 1, 2, 3, 4, 5, 6, 7, 8, 9], 'dists_counts': array([  0,   0,   0,   0,   0,   0,   0,   0,   0, 100])}\n"
     ]
    },
    {
     "name": "stderr",
     "output_type": "stream",
     "text": [
      "100%|██████████| 100/100 [00:00<00:00, 201.56it/s]\n",
      "/home/amir/anaconda3/lib/python3.8/site-packages/numpy/core/fromnumeric.py:3372: RuntimeWarning:\n",
      "\n",
      "Mean of empty slice.\n",
      "\n",
      "/home/amir/anaconda3/lib/python3.8/site-packages/numpy/core/_methods.py:170: RuntimeWarning:\n",
      "\n",
      "invalid value encountered in double_scalars\n",
      "\n"
     ]
    },
    {
     "name": "stdout",
     "output_type": "stream",
     "text": [
      "{'num_paths': 100, 'N': 100000, 'mr': 0.2, 'path_len': 200, 'recall_dist': 3, 'k': 50, 'm': 50, 'm2': 128, 'tuplen': 5, 'w': 50, 's': 3, 'P': nan, 'R': 0.0, 'dists_bins': [0, 1, 2, 3, 4, 5, 6, 7, 8, 9], 'dists_counts': array([  0,   0,   0,   0,   0,   0,   0,   0,   0, 100])}\n"
     ]
    },
    {
     "name": "stderr",
     "output_type": "stream",
     "text": [
      "100%|██████████| 100/100 [00:00<00:00, 190.07it/s]\n"
     ]
    },
    {
     "name": "stdout",
     "output_type": "stream",
     "text": [
      "{'num_paths': 100, 'N': 100000, 'mr': 0.2, 'path_len': 200, 'recall_dist': 3, 'k': 50, 'm': 50, 'm2': 128, 'tuplen': 6, 'w': 50, 's': 3, 'P': nan, 'R': 0.0, 'dists_bins': [0, 1, 2, 3, 4, 5, 6, 7, 8, 9], 'dists_counts': array([  0,   0,   0,   0,   0,   0,   0,   0,   0, 100])}\n"
     ]
    },
    {
     "name": "stderr",
     "output_type": "stream",
     "text": [
      "100%|██████████| 100/100 [00:01<00:00, 72.47it/s]\n"
     ]
    },
    {
     "name": "stdout",
     "output_type": "stream",
     "text": [
      "{'num_paths': 100, 'N': 100000, 'mr': 0.2, 'path_len': 200, 'recall_dist': 3, 'k': 50, 'm': 80, 'm2': 32, 'tuplen': 3, 'w': 50, 's': 3, 'P': 0.0010224758856428346, 'R': 1.0, 'dists_bins': [0, 1, 2, 3, 4, 5, 6, 7, 8, 9], 'dists_counts': array([96,  2,  1,  1,  0,  0,  0,  0,  0,  0])}\n"
     ]
    },
    {
     "name": "stderr",
     "output_type": "stream",
     "text": [
      "100%|██████████| 100/100 [00:02<00:00, 33.35it/s]\n"
     ]
    },
    {
     "name": "stdout",
     "output_type": "stream",
     "text": [
      "{'num_paths': 100, 'N': 100000, 'mr': 0.2, 'path_len': 200, 'recall_dist': 3, 'k': 50, 'm': 80, 'm2': 32, 'tuplen': 4, 'w': 50, 's': 3, 'P': 0.00048766282110801695, 'R': 1.0, 'dists_bins': [0, 1, 2, 3, 4, 5, 6, 7, 8, 9], 'dists_counts': array([99,  1,  0,  0,  0,  0,  0,  0,  0,  0])}\n"
     ]
    },
    {
     "name": "stderr",
     "output_type": "stream",
     "text": [
      "100%|██████████| 100/100 [00:00<00:00, 121.79it/s]\n"
     ]
    },
    {
     "name": "stdout",
     "output_type": "stream",
     "text": [
      "{'num_paths': 100, 'N': 100000, 'mr': 0.2, 'path_len': 200, 'recall_dist': 3, 'k': 50, 'm': 80, 'm2': 32, 'tuplen': 5, 'w': 50, 's': 3, 'P': 0.0018206653409433948, 'R': 0.85, 'dists_bins': [0, 1, 2, 3, 4, 5, 6, 7, 8, 9], 'dists_counts': array([69,  7,  9,  0,  5,  1,  3,  1,  1,  4])}\n"
     ]
    },
    {
     "name": "stderr",
     "output_type": "stream",
     "text": [
      "100%|██████████| 100/100 [00:00<00:00, 151.55it/s]\n"
     ]
    },
    {
     "name": "stdout",
     "output_type": "stream",
     "text": [
      "{'num_paths': 100, 'N': 100000, 'mr': 0.2, 'path_len': 200, 'recall_dist': 3, 'k': 50, 'm': 80, 'm2': 32, 'tuplen': 6, 'w': 50, 's': 3, 'P': 0.007090046720137519, 'R': 0.49, 'dists_bins': [0, 1, 2, 3, 4, 5, 6, 7, 8, 9], 'dists_counts': array([26,  6, 13,  4,  9,  0,  5,  1,  1, 35])}\n"
     ]
    },
    {
     "name": "stderr",
     "output_type": "stream",
     "text": [
      "100%|██████████| 100/100 [00:00<00:00, 210.25it/s]\n"
     ]
    },
    {
     "name": "stdout",
     "output_type": "stream",
     "text": [
      "{'num_paths': 100, 'N': 100000, 'mr': 0.2, 'path_len': 200, 'recall_dist': 3, 'k': 50, 'm': 80, 'm2': 64, 'tuplen': 3, 'w': 50, 's': 3, 'P': 0.005577239441476978, 'R': 0.58, 'dists_bins': [0, 1, 2, 3, 4, 5, 6, 7, 8, 9], 'dists_counts': array([39,  9,  6,  4,  7,  1,  3,  1,  0, 30])}\n"
     ]
    },
    {
     "name": "stderr",
     "output_type": "stream",
     "text": [
      "100%|██████████| 100/100 [00:00<00:00, 186.86it/s]\n"
     ]
    },
    {
     "name": "stdout",
     "output_type": "stream",
     "text": [
      "{'num_paths': 100, 'N': 100000, 'mr': 0.2, 'path_len': 200, 'recall_dist': 3, 'k': 50, 'm': 80, 'm2': 64, 'tuplen': 4, 'w': 50, 's': 3, 'P': 0.006213500114307083, 'R': 0.35, 'dists_bins': [0, 1, 2, 3, 4, 5, 6, 7, 8, 9], 'dists_counts': array([15,  5, 11,  4,  6,  4,  4,  0,  1, 50])}\n"
     ]
    },
    {
     "name": "stderr",
     "output_type": "stream",
     "text": [
      "100%|██████████| 100/100 [00:00<00:00, 167.03it/s]\n"
     ]
    },
    {
     "name": "stdout",
     "output_type": "stream",
     "text": [
      "{'num_paths': 100, 'N': 100000, 'mr': 0.2, 'path_len': 200, 'recall_dist': 3, 'k': 50, 'm': 80, 'm2': 64, 'tuplen': 5, 'w': 50, 's': 3, 'P': 0.0625, 'R': 0.03, 'dists_bins': [0, 1, 2, 3, 4, 5, 6, 7, 8, 9], 'dists_counts': array([ 2,  0,  1,  0,  1,  0,  1,  1,  1, 93])}\n"
     ]
    },
    {
     "name": "stderr",
     "output_type": "stream",
     "text": [
      "100%|██████████| 100/100 [00:00<00:00, 147.56it/s]\n"
     ]
    },
    {
     "name": "stdout",
     "output_type": "stream",
     "text": [
      "{'num_paths': 100, 'N': 100000, 'mr': 0.2, 'path_len': 200, 'recall_dist': 3, 'k': 50, 'm': 80, 'm2': 64, 'tuplen': 6, 'w': 50, 's': 3, 'P': 0.02857142857142857, 'R': 0.01, 'dists_bins': [0, 1, 2, 3, 4, 5, 6, 7, 8, 9], 'dists_counts': array([ 1,  0,  0,  0,  0,  1,  0,  0,  0, 98])}\n"
     ]
    },
    {
     "name": "stderr",
     "output_type": "stream",
     "text": [
      "100%|██████████| 100/100 [00:00<00:00, 198.18it/s]\n"
     ]
    },
    {
     "name": "stdout",
     "output_type": "stream",
     "text": [
      "{'num_paths': 100, 'N': 100000, 'mr': 0.2, 'path_len': 200, 'recall_dist': 3, 'k': 50, 'm': 80, 'm2': 128, 'tuplen': 3, 'w': 50, 's': 3, 'P': 0.027210884353741496, 'R': 0.02, 'dists_bins': [0, 1, 2, 3, 4, 5, 6, 7, 8, 9], 'dists_counts': array([ 1,  0,  1,  0,  0,  0,  1,  0,  0, 97])}\n"
     ]
    },
    {
     "name": "stderr",
     "output_type": "stream",
     "text": [
      "100%|██████████| 100/100 [00:00<00:00, 169.55it/s]\n"
     ]
    },
    {
     "name": "stdout",
     "output_type": "stream",
     "text": [
      "{'num_paths': 100, 'N': 100000, 'mr': 0.2, 'path_len': 200, 'recall_dist': 3, 'k': 50, 'm': 80, 'm2': 128, 'tuplen': 4, 'w': 50, 's': 3, 'P': 0.2857142857142857, 'R': 0.02, 'dists_bins': [0, 1, 2, 3, 4, 5, 6, 7, 8, 9], 'dists_counts': array([ 1,  1,  0,  0,  0,  0,  0,  0,  0, 98])}\n"
     ]
    },
    {
     "name": "stderr",
     "output_type": "stream",
     "text": [
      "100%|██████████| 100/100 [00:00<00:00, 151.25it/s]\n"
     ]
    },
    {
     "name": "stdout",
     "output_type": "stream",
     "text": [
      "{'num_paths': 100, 'N': 100000, 'mr': 0.2, 'path_len': 200, 'recall_dist': 3, 'k': 50, 'm': 80, 'm2': 128, 'tuplen': 5, 'w': 50, 's': 3, 'P': nan, 'R': 0.0, 'dists_bins': [0, 1, 2, 3, 4, 5, 6, 7, 8, 9], 'dists_counts': array([  0,   0,   0,   0,   0,   0,   0,   0,   0, 100])}\n"
     ]
    },
    {
     "name": "stderr",
     "output_type": "stream",
     "text": [
      "100%|██████████| 100/100 [00:00<00:00, 133.33it/s]\n",
      "<ipython-input-78-08e4a0f9e3cb>:59: SettingWithCopyWarning:\n",
      "\n",
      "\n",
      "A value is trying to be set on a copy of a slice from a DataFrame.\n",
      "Try using .loc[row_indexer,col_indexer] = value instead\n",
      "\n",
      "See the caveats in the documentation: https://pandas.pydata.org/pandas-docs/stable/user_guide/indexing.html#returning-a-view-versus-a-copy\n",
      "\n"
     ]
    },
    {
     "name": "stdout",
     "output_type": "stream",
     "text": [
      "{'num_paths': 100, 'N': 100000, 'mr': 0.2, 'path_len': 200, 'recall_dist': 3, 'k': 50, 'm': 80, 'm2': 128, 'tuplen': 6, 'w': 50, 's': 3, 'P': nan, 'R': 0.0, 'dists_bins': [0, 1, 2, 3, 4, 5, 6, 7, 8, 9], 'dists_counts': array([  0,   0,   0,   0,   0,   0,   0,   0,   0, 100])}\n"
     ]
    },
    {
     "data": {
      "application/vnd.plotly.v1+json": {
       "config": {
        "plotlyServerURL": "https://plot.ly"
       },
       "data": [
        {
         "hovertemplate": "id=0<br>variable=%{x}<br>value=%{y}<extra></extra>",
         "legendgroup": "0",
         "line": {
          "color": "#636efa",
          "dash": "solid",
          "width": 1.5
         },
         "marker": {
          "symbol": "circle"
         },
         "mode": "markers+lines",
         "name": "0",
         "orientation": "v",
         "showlegend": true,
         "type": "scatter",
         "x": [
          "mr",
          "tuplen",
          "R",
          "P"
         ],
         "xaxis": "x",
         "y": [
          0.2,
          3,
          0.99,
          0.0012024541720577037
         ],
         "yaxis": "y"
        },
        {
         "hovertemplate": "id=1<br>variable=%{x}<br>value=%{y}<extra></extra>",
         "legendgroup": "1",
         "line": {
          "color": "#EF553B",
          "dash": "solid",
          "width": 1.5
         },
         "marker": {
          "symbol": "circle"
         },
         "mode": "markers+lines",
         "name": "1",
         "orientation": "v",
         "showlegend": true,
         "type": "scatter",
         "x": [
          "mr",
          "tuplen",
          "R",
          "P"
         ],
         "xaxis": "x",
         "y": [
          0.20500000000000002,
          4.005,
          0.925,
          0.005967502391840104
         ],
         "yaxis": "y"
        },
        {
         "hovertemplate": "id=2<br>variable=%{x}<br>value=%{y}<extra></extra>",
         "legendgroup": "2",
         "line": {
          "color": "#00cc96",
          "dash": "solid",
          "width": 1.5
         },
         "marker": {
          "symbol": "circle"
         },
         "mode": "markers+lines",
         "name": "2",
         "orientation": "v",
         "showlegend": true,
         "type": "scatter",
         "x": [
          "mr",
          "tuplen",
          "R",
          "P"
         ],
         "xaxis": "x",
         "y": [
          0.21000000000000002,
          5.01,
          0.97,
          0.010628059501442636
         ],
         "yaxis": "y"
        },
        {
         "hovertemplate": "id=3<br>variable=%{x}<br>value=%{y}<extra></extra>",
         "legendgroup": "3",
         "line": {
          "color": "#ab63fa",
          "dash": "solid",
          "width": 1.5
         },
         "marker": {
          "symbol": "circle"
         },
         "mode": "markers+lines",
         "name": "3",
         "orientation": "v",
         "showlegend": true,
         "type": "scatter",
         "x": [
          "mr",
          "tuplen",
          "R",
          "P"
         ],
         "xaxis": "x",
         "y": [
          0.21500000000000002,
          6.015,
          0.9450000000000001,
          0.015427879295222494
         ],
         "yaxis": "y"
        },
        {
         "hovertemplate": "id=4<br>variable=%{x}<br>value=%{y}<extra></extra>",
         "legendgroup": "4",
         "line": {
          "color": "#FFA15A",
          "dash": "solid",
          "width": 1.5
         },
         "marker": {
          "symbol": "circle"
         },
         "mode": "markers+lines",
         "name": "4",
         "orientation": "v",
         "showlegend": true,
         "type": "scatter",
         "x": [
          "mr",
          "tuplen",
          "R",
          "P"
         ],
         "xaxis": "x",
         "y": [
          0.22,
          3.02,
          0.55,
          0.023835244598066817
         ],
         "yaxis": "y"
        },
        {
         "hovertemplate": "id=5<br>variable=%{x}<br>value=%{y}<extra></extra>",
         "legendgroup": "5",
         "line": {
          "color": "#19d3f3",
          "dash": "solid",
          "width": 1.5
         },
         "marker": {
          "symbol": "circle"
         },
         "mode": "markers+lines",
         "name": "5",
         "orientation": "v",
         "showlegend": true,
         "type": "scatter",
         "x": [
          "mr",
          "tuplen",
          "R",
          "P"
         ],
         "xaxis": "x",
         "y": [
          0.225,
          4.025,
          0.865,
          0.026259332393101294
         ],
         "yaxis": "y"
        },
        {
         "hovertemplate": "id=6<br>variable=%{x}<br>value=%{y}<extra></extra>",
         "legendgroup": "6",
         "line": {
          "color": "#FF6692",
          "dash": "solid",
          "width": 1.5
         },
         "marker": {
          "symbol": "circle"
         },
         "mode": "markers+lines",
         "name": "6",
         "orientation": "v",
         "showlegend": true,
         "type": "scatter",
         "x": [
          "mr",
          "tuplen",
          "R",
          "P"
         ],
         "xaxis": "x",
         "y": [
          0.23,
          5.03,
          0.25,
          0.03799333568174982
         ],
         "yaxis": "y"
        },
        {
         "hovertemplate": "id=7<br>variable=%{x}<br>value=%{y}<extra></extra>",
         "legendgroup": "7",
         "line": {
          "color": "#B6E880",
          "dash": "solid",
          "width": 1.5
         },
         "marker": {
          "symbol": "circle"
         },
         "mode": "markers+lines",
         "name": "7",
         "orientation": "v",
         "showlegend": true,
         "type": "scatter",
         "x": [
          "mr",
          "tuplen",
          "R",
          "P"
         ],
         "xaxis": "x",
         "y": [
          0.23500000000000001,
          6.035,
          0.28500000000000003,
          0.03700972699765157
         ],
         "yaxis": "y"
        },
        {
         "hovertemplate": "id=8<br>variable=%{x}<br>value=%{y}<extra></extra>",
         "legendgroup": "8",
         "line": {
          "color": "#FF97FF",
          "dash": "solid",
          "width": 1.5
         },
         "marker": {
          "symbol": "circle"
         },
         "mode": "markers+lines",
         "name": "8",
         "orientation": "v",
         "showlegend": true,
         "type": "scatter",
         "x": [
          "mr",
          "tuplen",
          "R",
          "P"
         ],
         "xaxis": "x",
         "y": [
          0.24000000000000002,
          3.04,
          0.24000000000000002,
          0.04172999546783869
         ],
         "yaxis": "y"
        },
        {
         "hovertemplate": "id=9<br>variable=%{x}<br>value=%{y}<extra></extra>",
         "legendgroup": "9",
         "line": {
          "color": "#FECB52",
          "dash": "solid",
          "width": 1.5
         },
         "marker": {
          "symbol": "circle"
         },
         "mode": "markers+lines",
         "name": "9",
         "orientation": "v",
         "showlegend": true,
         "type": "scatter",
         "x": [
          "mr",
          "tuplen",
          "R",
          "P"
         ],
         "xaxis": "x",
         "y": [
          0.245,
          4.045,
          0.105,
          0.06853801169590643
         ],
         "yaxis": "y"
        },
        {
         "hovertemplate": "id=10<br>variable=%{x}<br>value=%{y}<extra></extra>",
         "legendgroup": "10",
         "line": {
          "color": "#636efa",
          "dash": "solid",
          "width": 1.5
         },
         "marker": {
          "symbol": "circle"
         },
         "mode": "markers+lines",
         "name": "10",
         "orientation": "v",
         "showlegend": true,
         "type": "scatter",
         "x": [
          "mr",
          "tuplen",
          "R",
          "P"
         ],
         "xaxis": "x",
         "y": [
          0.25,
          5.05,
          0.11,
          0.056880341880341884
         ],
         "yaxis": "y"
        },
        {
         "hovertemplate": "id=11<br>variable=%{x}<br>value=%{y}<extra></extra>",
         "legendgroup": "11",
         "line": {
          "color": "#EF553B",
          "dash": "solid",
          "width": 1.5
         },
         "marker": {
          "symbol": "circle"
         },
         "mode": "markers+lines",
         "name": "11",
         "orientation": "v",
         "showlegend": true,
         "type": "scatter",
         "x": [
          "mr",
          "tuplen",
          "R",
          "P"
         ],
         "xaxis": "x",
         "y": [
          0.255,
          6.055,
          0.055,
          0.055
         ],
         "yaxis": "y"
        },
        {
         "hovertemplate": "id=12<br>variable=%{x}<br>value=%{y}<extra></extra>",
         "legendgroup": "12",
         "line": {
          "color": "#00cc96",
          "dash": "solid",
          "width": 1.5
         },
         "marker": {
          "symbol": "circle"
         },
         "mode": "markers+lines",
         "name": "12",
         "orientation": "v",
         "showlegend": true,
         "type": "scatter",
         "x": [
          "mr",
          "tuplen",
          "R",
          "P"
         ],
         "xaxis": "x",
         "y": [
          0.26,
          3.06,
          1.04,
          0.060654221036256936
         ],
         "yaxis": "y"
        },
        {
         "hovertemplate": "id=13<br>variable=%{x}<br>value=%{y}<extra></extra>",
         "legendgroup": "13",
         "line": {
          "color": "#ab63fa",
          "dash": "solid",
          "width": 1.5
         },
         "marker": {
          "symbol": "circle"
         },
         "mode": "markers+lines",
         "name": "13",
         "orientation": "v",
         "showlegend": true,
         "type": "scatter",
         "x": [
          "mr",
          "tuplen",
          "R",
          "P"
         ],
         "xaxis": "x",
         "y": [
          0.265,
          4.065,
          0.9550000000000001,
          0.06722289676370581
         ],
         "yaxis": "y"
        },
        {
         "hovertemplate": "id=14<br>variable=%{x}<br>value=%{y}<extra></extra>",
         "legendgroup": "14",
         "line": {
          "color": "#FFA15A",
          "dash": "solid",
          "width": 1.5
         },
         "marker": {
          "symbol": "circle"
         },
         "mode": "markers+lines",
         "name": "14",
         "orientation": "v",
         "showlegend": true,
         "type": "scatter",
         "x": [
          "mr",
          "tuplen",
          "R",
          "P"
         ],
         "xaxis": "x",
         "y": [
          0.27,
          5.07,
          0.81,
          0.07306453456601228
         ],
         "yaxis": "y"
        },
        {
         "hovertemplate": "id=15<br>variable=%{x}<br>value=%{y}<extra></extra>",
         "legendgroup": "15",
         "line": {
          "color": "#19d3f3",
          "dash": "solid",
          "width": 1.5
         },
         "marker": {
          "symbol": "circle"
         },
         "mode": "markers+lines",
         "name": "15",
         "orientation": "v",
         "showlegend": true,
         "type": "scatter",
         "x": [
          "mr",
          "tuplen",
          "R",
          "P"
         ],
         "xaxis": "x",
         "y": [
          0.275,
          6.075,
          0.615,
          0.08030816395973034
         ],
         "yaxis": "y"
        },
        {
         "hovertemplate": "id=16<br>variable=%{x}<br>value=%{y}<extra></extra>",
         "legendgroup": "16",
         "line": {
          "color": "#FF6692",
          "dash": "solid",
          "width": 1.5
         },
         "marker": {
          "symbol": "circle"
         },
         "mode": "markers+lines",
         "name": "16",
         "orientation": "v",
         "showlegend": true,
         "type": "scatter",
         "x": [
          "mr",
          "tuplen",
          "R",
          "P"
         ],
         "xaxis": "x",
         "y": [
          0.28,
          3.08,
          0.48000000000000004,
          0.08564008239983395
         ],
         "yaxis": "y"
        },
        {
         "hovertemplate": "id=17<br>variable=%{x}<br>value=%{y}<extra></extra>",
         "legendgroup": "17",
         "line": {
          "color": "#B6E880",
          "dash": "solid",
          "width": 1.5
         },
         "marker": {
          "symbol": "circle"
         },
         "mode": "markers+lines",
         "name": "17",
         "orientation": "v",
         "showlegend": true,
         "type": "scatter",
         "x": [
          "mr",
          "tuplen",
          "R",
          "P"
         ],
         "xaxis": "x",
         "y": [
          0.28500000000000003,
          4.085,
          0.535,
          0.08809766716666804
         ],
         "yaxis": "y"
        },
        {
         "hovertemplate": "id=18<br>variable=%{x}<br>value=%{y}<extra></extra>",
         "legendgroup": "18",
         "line": {
          "color": "#FF97FF",
          "dash": "solid",
          "width": 1.5
         },
         "marker": {
          "symbol": "circle"
         },
         "mode": "markers+lines",
         "name": "18",
         "orientation": "v",
         "showlegend": true,
         "type": "scatter",
         "x": [
          "mr",
          "tuplen",
          "R",
          "P"
         ],
         "xaxis": "x",
         "y": [
          0.29000000000000004,
          5.09,
          0.26,
          0.09437205586358183
         ],
         "yaxis": "y"
        },
        {
         "hovertemplate": "id=19<br>variable=%{x}<br>value=%{y}<extra></extra>",
         "legendgroup": "19",
         "line": {
          "color": "#FECB52",
          "dash": "solid",
          "width": 1.5
         },
         "marker": {
          "symbol": "circle"
         },
         "mode": "markers+lines",
         "name": "19",
         "orientation": "v",
         "showlegend": true,
         "type": "scatter",
         "x": [
          "mr",
          "tuplen",
          "R",
          "P"
         ],
         "xaxis": "x",
         "y": [
          0.29500000000000004,
          6.095,
          0.215,
          0.10335066898065891
         ],
         "yaxis": "y"
        },
        {
         "hovertemplate": "id=20<br>variable=%{x}<br>value=%{y}<extra></extra>",
         "legendgroup": "20",
         "line": {
          "color": "#636efa",
          "dash": "solid",
          "width": 1.5
         },
         "marker": {
          "symbol": "circle"
         },
         "mode": "markers+lines",
         "name": "20",
         "orientation": "v",
         "showlegend": true,
         "type": "scatter",
         "x": [
          "mr",
          "tuplen",
          "R",
          "P"
         ],
         "xaxis": "x",
         "y": [
          0.30000000000000004,
          3.1,
          0.2,
          0.11662182228679116
         ],
         "yaxis": "y"
        },
        {
         "hovertemplate": "id=21<br>variable=%{x}<br>value=%{y}<extra></extra>",
         "legendgroup": "21",
         "line": {
          "color": "#EF553B",
          "dash": "solid",
          "width": 1.5
         },
         "marker": {
          "symbol": "circle"
         },
         "mode": "markers+lines",
         "name": "21",
         "orientation": "v",
         "showlegend": true,
         "type": "scatter",
         "x": [
          "mr",
          "tuplen",
          "R",
          "P"
         ],
         "xaxis": "x",
         "y": [
          0.305,
          4.105,
          0.11499999999999999,
          0.1061111111111111
         ],
         "yaxis": "y"
        },
        {
         "hovertemplate": "id=22<br>variable=%{x}<br>value=%{y}<extra></extra>",
         "legendgroup": "22",
         "line": {
          "color": "#00cc96",
          "dash": "solid",
          "width": 1.5
         },
         "marker": {
          "symbol": "circle"
         },
         "mode": "markers+lines",
         "name": "22",
         "orientation": "v",
         "showlegend": true,
         "type": "scatter",
         "x": [
          "mr",
          "tuplen",
          "R",
          "P"
         ],
         "xaxis": "x",
         "y": [
          0.31,
          5.11,
          0.12,
          0.12428571428571429
         ],
         "yaxis": "y"
        },
        {
         "hovertemplate": "id=23<br>variable=%{x}<br>value=%{y}<extra></extra>",
         "legendgroup": "23",
         "line": {
          "color": "#ab63fa",
          "dash": "solid",
          "width": 1.5
         },
         "marker": {
          "symbol": "circle"
         },
         "mode": "markers+lines",
         "name": "23",
         "orientation": "v",
         "showlegend": true,
         "type": "scatter",
         "x": [
          "mr",
          "tuplen",
          "R",
          "P"
         ],
         "xaxis": "x",
         "y": [
          0.315,
          6.115,
          0.965,
          0.11553798299378247
         ],
         "yaxis": "y"
        },
        {
         "hovertemplate": "id=24<br>variable=%{x}<br>value=%{y}<extra></extra>",
         "legendgroup": "24",
         "line": {
          "color": "#FFA15A",
          "dash": "solid",
          "width": 1.5
         },
         "marker": {
          "symbol": "circle"
         },
         "mode": "markers+lines",
         "name": "24",
         "orientation": "v",
         "showlegend": true,
         "type": "scatter",
         "x": [
          "mr",
          "tuplen",
          "R",
          "P"
         ],
         "xaxis": "x",
         "y": [
          0.32,
          3.12,
          1.08,
          0.12180060228487584
         ],
         "yaxis": "y"
        },
        {
         "hovertemplate": "id=25<br>variable=%{x}<br>value=%{y}<extra></extra>",
         "legendgroup": "25",
         "line": {
          "color": "#19d3f3",
          "dash": "solid",
          "width": 1.5
         },
         "marker": {
          "symbol": "circle"
         },
         "mode": "markers+lines",
         "name": "25",
         "orientation": "v",
         "showlegend": true,
         "type": "scatter",
         "x": [
          "mr",
          "tuplen",
          "R",
          "P"
         ],
         "xaxis": "x",
         "y": [
          0.325,
          4.125,
          1.0550000000000002,
          0.12731905140627503
         ],
         "yaxis": "y"
        },
        {
         "hovertemplate": "id=26<br>variable=%{x}<br>value=%{y}<extra></extra>",
         "legendgroup": "26",
         "line": {
          "color": "#FF6692",
          "dash": "solid",
          "width": 1.5
         },
         "marker": {
          "symbol": "circle"
         },
         "mode": "markers+lines",
         "name": "26",
         "orientation": "v",
         "showlegend": true,
         "type": "scatter",
         "x": [
          "mr",
          "tuplen",
          "R",
          "P"
         ],
         "xaxis": "x",
         "y": [
          0.33,
          5.13,
          1.1099999999999999,
          0.1311387022360964
         ],
         "yaxis": "y"
        },
        {
         "hovertemplate": "id=27<br>variable=%{x}<br>value=%{y}<extra></extra>",
         "legendgroup": "27",
         "line": {
          "color": "#B6E880",
          "dash": "solid",
          "width": 1.5
         },
         "marker": {
          "symbol": "circle"
         },
         "mode": "markers+lines",
         "name": "27",
         "orientation": "v",
         "showlegend": true,
         "type": "scatter",
         "x": [
          "mr",
          "tuplen",
          "R",
          "P"
         ],
         "xaxis": "x",
         "y": [
          0.335,
          6.135,
          0.795,
          0.13833971254411676
         ],
         "yaxis": "y"
        },
        {
         "hovertemplate": "id=28<br>variable=%{x}<br>value=%{y}<extra></extra>",
         "legendgroup": "28",
         "line": {
          "color": "#FF97FF",
          "dash": "solid",
          "width": 1.5
         },
         "marker": {
          "symbol": "circle"
         },
         "mode": "markers+lines",
         "name": "28",
         "orientation": "v",
         "showlegend": true,
         "type": "scatter",
         "x": [
          "mr",
          "tuplen",
          "R",
          "P"
         ],
         "xaxis": "x",
         "y": [
          0.34,
          3.14,
          0.8,
          0.1429403429386748
         ],
         "yaxis": "y"
        },
        {
         "hovertemplate": "id=29<br>variable=%{x}<br>value=%{y}<extra></extra>",
         "legendgroup": "29",
         "line": {
          "color": "#FECB52",
          "dash": "solid",
          "width": 1.5
         },
         "marker": {
          "symbol": "circle"
         },
         "mode": "markers+lines",
         "name": "29",
         "orientation": "v",
         "showlegend": true,
         "type": "scatter",
         "x": [
          "mr",
          "tuplen",
          "R",
          "P"
         ],
         "xaxis": "x",
         "y": [
          0.345,
          4.145,
          0.485,
          0.15295825405468175
         ],
         "yaxis": "y"
        },
        {
         "hovertemplate": "id=30<br>variable=%{x}<br>value=%{y}<extra></extra>",
         "legendgroup": "30",
         "line": {
          "color": "#636efa",
          "dash": "solid",
          "width": 1.5
         },
         "marker": {
          "symbol": "circle"
         },
         "mode": "markers+lines",
         "name": "30",
         "orientation": "v",
         "showlegend": true,
         "type": "scatter",
         "x": [
          "mr",
          "tuplen",
          "R",
          "P"
         ],
         "xaxis": "x",
         "y": [
          0.35,
          5.15,
          0.27,
          0.17127757694768003
         ],
         "yaxis": "y"
        },
        {
         "hovertemplate": "id=31<br>variable=%{x}<br>value=%{y}<extra></extra>",
         "legendgroup": "31",
         "line": {
          "color": "#EF553B",
          "dash": "solid",
          "width": 1.5
         },
         "marker": {
          "symbol": "circle"
         },
         "mode": "markers+lines",
         "name": "31",
         "orientation": "v",
         "showlegend": true,
         "type": "scatter",
         "x": [
          "mr",
          "tuplen",
          "R",
          "P"
         ],
         "xaxis": "x",
         "y": [
          0.355,
          6.155,
          0.175,
          0.23192307692307693
         ],
         "yaxis": "y"
        },
        {
         "hovertemplate": "id=32<br>variable=%{x}<br>value=%{y}<extra></extra>",
         "legendgroup": "32",
         "line": {
          "color": "#00cc96",
          "dash": "solid",
          "width": 1.5
         },
         "marker": {
          "symbol": "circle"
         },
         "mode": "markers+lines",
         "name": "32",
         "orientation": "v",
         "showlegend": true,
         "type": "scatter",
         "x": [
          "mr",
          "tuplen",
          "R",
          "P"
         ],
         "xaxis": "x",
         "y": [
          0.36,
          3.16,
          0.29000000000000004,
          0.17011172637880217
         ],
         "yaxis": "y"
        },
        {
         "hovertemplate": "id=33<br>variable=%{x}<br>value=%{y}<extra></extra>",
         "legendgroup": "33",
         "line": {
          "color": "#ab63fa",
          "dash": "solid",
          "width": 1.5
         },
         "marker": {
          "symbol": "circle"
         },
         "mode": "markers+lines",
         "name": "33",
         "orientation": "v",
         "showlegend": true,
         "type": "scatter",
         "x": [
          "mr",
          "tuplen",
          "R",
          "P"
         ],
         "xaxis": "x",
         "y": [
          0.365,
          4.165,
          0.195,
          0.2611538461538462
         ],
         "yaxis": "y"
        },
        {
         "hovertemplate": "id=34<br>variable=%{x}<br>value=%{y}<extra></extra>",
         "legendgroup": "34",
         "line": {
          "color": "#FFA15A",
          "dash": "solid",
          "width": 1.5
         },
         "marker": {
          "symbol": "circle"
         },
         "mode": "markers+lines",
         "name": "34",
         "orientation": "v",
         "showlegend": true,
         "type": "scatter",
         "x": [
          "mr",
          "tuplen",
          "R",
          "P"
         ],
         "xaxis": "x",
         "y": [
          0.37,
          5.17,
          0.17,
          0.17
         ],
         "yaxis": "y"
        },
        {
         "hovertemplate": "id=35<br>variable=%{x}<br>value=%{y}<extra></extra>",
         "legendgroup": "35",
         "line": {
          "color": "#19d3f3",
          "dash": "solid",
          "width": 1.5
         },
         "marker": {
          "symbol": "circle"
         },
         "mode": "markers+lines",
         "name": "35",
         "orientation": "v",
         "showlegend": true,
         "type": "scatter",
         "x": [
          "mr",
          "tuplen",
          "R",
          "P"
         ],
         "xaxis": "x",
         "y": [
          0.375,
          6.175,
          0.17500000000000002,
          null
         ],
         "yaxis": "y"
        },
        {
         "hovertemplate": "id=36<br>variable=%{x}<br>value=%{y}<extra></extra>",
         "legendgroup": "36",
         "line": {
          "color": "#FF6692",
          "dash": "solid",
          "width": 1.5
         },
         "marker": {
          "symbol": "circle"
         },
         "mode": "markers+lines",
         "name": "36",
         "orientation": "v",
         "showlegend": true,
         "type": "scatter",
         "x": [
          "mr",
          "tuplen",
          "R",
          "P"
         ],
         "xaxis": "x",
         "y": [
          0.38,
          3.18,
          1.15,
          0.18099383555364276
         ],
         "yaxis": "y"
        },
        {
         "hovertemplate": "id=37<br>variable=%{x}<br>value=%{y}<extra></extra>",
         "legendgroup": "37",
         "line": {
          "color": "#B6E880",
          "dash": "solid",
          "width": 1.5
         },
         "marker": {
          "symbol": "circle"
         },
         "mode": "markers+lines",
         "name": "37",
         "orientation": "v",
         "showlegend": true,
         "type": "scatter",
         "x": [
          "mr",
          "tuplen",
          "R",
          "P"
         ],
         "xaxis": "x",
         "y": [
          0.385,
          4.185,
          1.135,
          0.18634859181929073
         ],
         "yaxis": "y"
        },
        {
         "hovertemplate": "id=38<br>variable=%{x}<br>value=%{y}<extra></extra>",
         "legendgroup": "38",
         "line": {
          "color": "#FF97FF",
          "dash": "solid",
          "width": 1.5
         },
         "marker": {
          "symbol": "circle"
         },
         "mode": "markers+lines",
         "name": "38",
         "orientation": "v",
         "showlegend": true,
         "type": "scatter",
         "x": [
          "mr",
          "tuplen",
          "R",
          "P"
         ],
         "xaxis": "x",
         "y": [
          0.39,
          5.19,
          0.95,
          0.19353089207818927
         ],
         "yaxis": "y"
        },
        {
         "hovertemplate": "id=39<br>variable=%{x}<br>value=%{y}<extra></extra>",
         "legendgroup": "39",
         "line": {
          "color": "#FECB52",
          "dash": "solid",
          "width": 1.5
         },
         "marker": {
          "symbol": "circle"
         },
         "mode": "markers+lines",
         "name": "39",
         "orientation": "v",
         "showlegend": true,
         "type": "scatter",
         "x": [
          "mr",
          "tuplen",
          "R",
          "P"
         ],
         "xaxis": "x",
         "y": [
          0.395,
          6.195,
          0.7350000000000001,
          0.2005117874960941
         ],
         "yaxis": "y"
        },
        {
         "hovertemplate": "id=40<br>variable=%{x}<br>value=%{y}<extra></extra>",
         "legendgroup": "40",
         "line": {
          "color": "#636efa",
          "dash": "solid",
          "width": 1.5
         },
         "marker": {
          "symbol": "circle"
         },
         "mode": "markers+lines",
         "name": "40",
         "orientation": "v",
         "showlegend": true,
         "type": "scatter",
         "x": [
          "mr",
          "tuplen",
          "R",
          "P"
         ],
         "xaxis": "x",
         "y": [
          0.4,
          3.2,
          0.56,
          0.20714031048568646
         ],
         "yaxis": "y"
        },
        {
         "hovertemplate": "id=41<br>variable=%{x}<br>value=%{y}<extra></extra>",
         "legendgroup": "41",
         "line": {
          "color": "#EF553B",
          "dash": "solid",
          "width": 1.5
         },
         "marker": {
          "symbol": "circle"
         },
         "mode": "markers+lines",
         "name": "41",
         "orientation": "v",
         "showlegend": true,
         "type": "scatter",
         "x": [
          "mr",
          "tuplen",
          "R",
          "P"
         ],
         "xaxis": "x",
         "y": [
          0.405,
          4.205,
          0.325,
          0.24250313745569912
         ],
         "yaxis": "y"
        },
        {
         "hovertemplate": "id=42<br>variable=%{x}<br>value=%{y}<extra></extra>",
         "legendgroup": "42",
         "line": {
          "color": "#00cc96",
          "dash": "solid",
          "width": 1.5
         },
         "marker": {
          "symbol": "circle"
         },
         "mode": "markers+lines",
         "name": "42",
         "orientation": "v",
         "showlegend": true,
         "type": "scatter",
         "x": [
          "mr",
          "tuplen",
          "R",
          "P"
         ],
         "xaxis": "x",
         "y": [
          0.41000000000000003,
          5.21,
          0.29,
          0.2334065934065934
         ],
         "yaxis": "y"
        },
        {
         "hovertemplate": "id=43<br>variable=%{x}<br>value=%{y}<extra></extra>",
         "legendgroup": "43",
         "line": {
          "color": "#ab63fa",
          "dash": "solid",
          "width": 1.5
         },
         "marker": {
          "symbol": "circle"
         },
         "mode": "markers+lines",
         "name": "43",
         "orientation": "v",
         "showlegend": true,
         "type": "scatter",
         "x": [
          "mr",
          "tuplen",
          "R",
          "P"
         ],
         "xaxis": "x",
         "y": [
          0.41500000000000004,
          6.215,
          0.255,
          0.273
         ],
         "yaxis": "y"
        },
        {
         "hovertemplate": "id=44<br>variable=%{x}<br>value=%{y}<extra></extra>",
         "legendgroup": "44",
         "line": {
          "color": "#FFA15A",
          "dash": "solid",
          "width": 1.5
         },
         "marker": {
          "symbol": "circle"
         },
         "mode": "markers+lines",
         "name": "44",
         "orientation": "v",
         "showlegend": true,
         "type": "scatter",
         "x": [
          "mr",
          "tuplen",
          "R",
          "P"
         ],
         "xaxis": "x",
         "y": [
          0.42000000000000004,
          3.22,
          0.27,
          0.227179675994109
         ],
         "yaxis": "y"
        },
        {
         "hovertemplate": "id=45<br>variable=%{x}<br>value=%{y}<extra></extra>",
         "legendgroup": "45",
         "line": {
          "color": "#19d3f3",
          "dash": "solid",
          "width": 1.5
         },
         "marker": {
          "symbol": "circle"
         },
         "mode": "markers+lines",
         "name": "45",
         "orientation": "v",
         "showlegend": true,
         "type": "scatter",
         "x": [
          "mr",
          "tuplen",
          "R",
          "P"
         ],
         "xaxis": "x",
         "y": [
          0.42500000000000004,
          4.225,
          0.23500000000000001,
          0.42500000000000004
         ],
         "yaxis": "y"
        },
        {
         "hovertemplate": "id=46<br>variable=%{x}<br>value=%{y}<extra></extra>",
         "legendgroup": "46",
         "line": {
          "color": "#FF6692",
          "dash": "solid",
          "width": 1.5
         },
         "marker": {
          "symbol": "circle"
         },
         "mode": "markers+lines",
         "name": "46",
         "orientation": "v",
         "showlegend": true,
         "type": "scatter",
         "x": [
          "mr",
          "tuplen",
          "R",
          "P"
         ],
         "xaxis": "x",
         "y": [
          0.43000000000000005,
          5.23,
          0.24000000000000002,
          0.24492537313432836
         ],
         "yaxis": "y"
        },
        {
         "hovertemplate": "id=47<br>variable=%{x}<br>value=%{y}<extra></extra>",
         "legendgroup": "47",
         "line": {
          "color": "#B6E880",
          "dash": "solid",
          "width": 1.5
         },
         "marker": {
          "symbol": "circle"
         },
         "mode": "markers+lines",
         "name": "47",
         "orientation": "v",
         "showlegend": true,
         "type": "scatter",
         "x": [
          "mr",
          "tuplen",
          "R",
          "P"
         ],
         "xaxis": "x",
         "y": [
          0.43500000000000005,
          6.235,
          0.24500000000000002,
          1.235
         ],
         "yaxis": "y"
        },
        {
         "hovertemplate": "id=48<br>variable=%{x}<br>value=%{y}<extra></extra>",
         "legendgroup": "48",
         "line": {
          "color": "#FF97FF",
          "dash": "solid",
          "width": 1.5
         },
         "marker": {
          "symbol": "circle"
         },
         "mode": "markers+lines",
         "name": "48",
         "orientation": "v",
         "showlegend": true,
         "type": "scatter",
         "x": [
          "mr",
          "tuplen",
          "R",
          "P"
         ],
         "xaxis": "x",
         "y": [
          0.44,
          3.24,
          1.24,
          0.2415790215476599
         ],
         "yaxis": "y"
        },
        {
         "hovertemplate": "id=49<br>variable=%{x}<br>value=%{y}<extra></extra>",
         "legendgroup": "49",
         "line": {
          "color": "#FECB52",
          "dash": "solid",
          "width": 1.5
         },
         "marker": {
          "symbol": "circle"
         },
         "mode": "markers+lines",
         "name": "49",
         "orientation": "v",
         "showlegend": true,
         "type": "scatter",
         "x": [
          "mr",
          "tuplen",
          "R",
          "P"
         ],
         "xaxis": "x",
         "y": [
          0.445,
          4.245,
          0.915,
          0.25312579612519726
         ],
         "yaxis": "y"
        },
        {
         "hovertemplate": "id=50<br>variable=%{x}<br>value=%{y}<extra></extra>",
         "legendgroup": "50",
         "line": {
          "color": "#636efa",
          "dash": "solid",
          "width": 1.5
         },
         "marker": {
          "symbol": "circle"
         },
         "mode": "markers+lines",
         "name": "50",
         "orientation": "v",
         "showlegend": true,
         "type": "scatter",
         "x": [
          "mr",
          "tuplen",
          "R",
          "P"
         ],
         "xaxis": "x",
         "y": [
          0.45,
          5.25,
          0.87,
          0.25503634799788677
         ],
         "yaxis": "y"
        },
        {
         "hovertemplate": "id=51<br>variable=%{x}<br>value=%{y}<extra></extra>",
         "legendgroup": "51",
         "line": {
          "color": "#EF553B",
          "dash": "solid",
          "width": 1.5
         },
         "marker": {
          "symbol": "circle"
         },
         "mode": "markers+lines",
         "name": "51",
         "orientation": "v",
         "showlegend": true,
         "type": "scatter",
         "x": [
          "mr",
          "tuplen",
          "R",
          "P"
         ],
         "xaxis": "x",
         "y": [
          0.455,
          6.255,
          1.105,
          0.2577179647849234
         ],
         "yaxis": "y"
        },
        {
         "hovertemplate": "id=52<br>variable=%{x}<br>value=%{y}<extra></extra>",
         "legendgroup": "52",
         "line": {
          "color": "#00cc96",
          "dash": "solid",
          "width": 1.5
         },
         "marker": {
          "symbol": "circle"
         },
         "mode": "markers+lines",
         "name": "52",
         "orientation": "v",
         "showlegend": true,
         "type": "scatter",
         "x": [
          "mr",
          "tuplen",
          "R",
          "P"
         ],
         "xaxis": "x",
         "y": [
          0.46,
          3.26,
          0.96,
          0.2629398462800812
         ],
         "yaxis": "y"
        },
        {
         "hovertemplate": "id=53<br>variable=%{x}<br>value=%{y}<extra></extra>",
         "legendgroup": "53",
         "line": {
          "color": "#ab63fa",
          "dash": "solid",
          "width": 1.5
         },
         "marker": {
          "symbol": "circle"
         },
         "mode": "markers+lines",
         "name": "53",
         "orientation": "v",
         "showlegend": true,
         "type": "scatter",
         "x": [
          "mr",
          "tuplen",
          "R",
          "P"
         ],
         "xaxis": "x",
         "y": [
          0.465,
          4.265,
          0.365,
          0.3021415770609319
         ],
         "yaxis": "y"
        },
        {
         "hovertemplate": "id=54<br>variable=%{x}<br>value=%{y}<extra></extra>",
         "legendgroup": "54",
         "line": {
          "color": "#FFA15A",
          "dash": "solid",
          "width": 1.5
         },
         "marker": {
          "symbol": "circle"
         },
         "mode": "markers+lines",
         "name": "54",
         "orientation": "v",
         "showlegend": true,
         "type": "scatter",
         "x": [
          "mr",
          "tuplen",
          "R",
          "P"
         ],
         "xaxis": "x",
         "y": [
          0.47000000000000003,
          5.27,
          0.39,
          0.29722272892922863
         ],
         "yaxis": "y"
        },
        {
         "hovertemplate": "id=55<br>variable=%{x}<br>value=%{y}<extra></extra>",
         "legendgroup": "55",
         "line": {
          "color": "#19d3f3",
          "dash": "solid",
          "width": 1.5
         },
         "marker": {
          "symbol": "circle"
         },
         "mode": "markers+lines",
         "name": "55",
         "orientation": "v",
         "showlegend": true,
         "type": "scatter",
         "x": [
          "mr",
          "tuplen",
          "R",
          "P"
         ],
         "xaxis": "x",
         "y": [
          0.47500000000000003,
          6.275,
          0.30500000000000005,
          0.3003731343283582
         ],
         "yaxis": "y"
        },
        {
         "hovertemplate": "id=56<br>variable=%{x}<br>value=%{y}<extra></extra>",
         "legendgroup": "56",
         "line": {
          "color": "#FF6692",
          "dash": "solid",
          "width": 1.5
         },
         "marker": {
          "symbol": "circle"
         },
         "mode": "markers+lines",
         "name": "56",
         "orientation": "v",
         "showlegend": true,
         "type": "scatter",
         "x": [
          "mr",
          "tuplen",
          "R",
          "P"
         ],
         "xaxis": "x",
         "y": [
          0.48000000000000004,
          3.2800000000000002,
          0.37,
          0.2958476297365187
         ],
         "yaxis": "y"
        },
        {
         "hovertemplate": "id=57<br>variable=%{x}<br>value=%{y}<extra></extra>",
         "legendgroup": "57",
         "line": {
          "color": "#B6E880",
          "dash": "solid",
          "width": 1.5
         },
         "marker": {
          "symbol": "circle"
         },
         "mode": "markers+lines",
         "name": "57",
         "orientation": "v",
         "showlegend": true,
         "type": "scatter",
         "x": [
          "mr",
          "tuplen",
          "R",
          "P"
         ],
         "xaxis": "x",
         "y": [
          0.48500000000000004,
          4.285,
          0.28500000000000003,
          0.28500000000000003
         ],
         "yaxis": "y"
        },
        {
         "hovertemplate": "id=58<br>variable=%{x}<br>value=%{y}<extra></extra>",
         "legendgroup": "58",
         "line": {
          "color": "#FF97FF",
          "dash": "solid",
          "width": 1.5
         },
         "marker": {
          "symbol": "circle"
         },
         "mode": "markers+lines",
         "name": "58",
         "orientation": "v",
         "showlegend": true,
         "type": "scatter",
         "x": [
          "mr",
          "tuplen",
          "R",
          "P"
         ],
         "xaxis": "x",
         "y": [
          0.49,
          5.29,
          0.3,
          0.43285714285714283
         ],
         "yaxis": "y"
        },
        {
         "hovertemplate": "id=59<br>variable=%{x}<br>value=%{y}<extra></extra>",
         "legendgroup": "59",
         "line": {
          "color": "#FECB52",
          "dash": "solid",
          "width": 1.5
         },
         "marker": {
          "symbol": "circle"
         },
         "mode": "markers+lines",
         "name": "59",
         "orientation": "v",
         "showlegend": true,
         "type": "scatter",
         "x": [
          "mr",
          "tuplen",
          "R",
          "P"
         ],
         "xaxis": "x",
         "y": [
          0.495,
          6.295,
          0.295,
          0.295
         ],
         "yaxis": "y"
        },
        {
         "hovertemplate": "id=60<br>variable=%{x}<br>value=%{y}<extra></extra>",
         "legendgroup": "60",
         "line": {
          "color": "#636efa",
          "dash": "solid",
          "width": 1.5
         },
         "marker": {
          "symbol": "circle"
         },
         "mode": "markers+lines",
         "name": "60",
         "orientation": "v",
         "showlegend": true,
         "type": "scatter",
         "x": [
          "mr",
          "tuplen",
          "R",
          "P"
         ],
         "xaxis": "x",
         "y": [
          0.5,
          3.3,
          1.3,
          0.300611987513137
         ],
         "yaxis": "y"
        },
        {
         "hovertemplate": "id=61<br>variable=%{x}<br>value=%{y}<extra></extra>",
         "legendgroup": "61",
         "line": {
          "color": "#EF553B",
          "dash": "solid",
          "width": 1.5
         },
         "marker": {
          "symbol": "circle"
         },
         "mode": "markers+lines",
         "name": "61",
         "orientation": "v",
         "showlegend": true,
         "type": "scatter",
         "x": [
          "mr",
          "tuplen",
          "R",
          "P"
         ],
         "xaxis": "x",
         "y": [
          0.505,
          4.305,
          1.085,
          0.3081002750247378
         ],
         "yaxis": "y"
        },
        {
         "hovertemplate": "id=62<br>variable=%{x}<br>value=%{y}<extra></extra>",
         "legendgroup": "62",
         "line": {
          "color": "#00cc96",
          "dash": "solid",
          "width": 1.5
         },
         "marker": {
          "symbol": "circle"
         },
         "mode": "markers+lines",
         "name": "62",
         "orientation": "v",
         "showlegend": true,
         "type": "scatter",
         "x": [
          "mr",
          "tuplen",
          "R",
          "P"
         ],
         "xaxis": "x",
         "y": [
          0.51,
          5.31,
          1.12,
          0.3117736715619213
         ],
         "yaxis": "y"
        },
        {
         "hovertemplate": "id=63<br>variable=%{x}<br>value=%{y}<extra></extra>",
         "legendgroup": "63",
         "line": {
          "color": "#ab63fa",
          "dash": "solid",
          "width": 1.5
         },
         "marker": {
          "symbol": "circle"
         },
         "mode": "markers+lines",
         "name": "63",
         "orientation": "v",
         "showlegend": true,
         "type": "scatter",
         "x": [
          "mr",
          "tuplen",
          "R",
          "P"
         ],
         "xaxis": "x",
         "y": [
          0.515,
          6.315,
          1.195,
          0.31631823238220513
         ],
         "yaxis": "y"
        },
        {
         "hovertemplate": "id=64<br>variable=%{x}<br>value=%{y}<extra></extra>",
         "legendgroup": "64",
         "line": {
          "color": "#FFA15A",
          "dash": "solid",
          "width": 1.5
         },
         "marker": {
          "symbol": "circle"
         },
         "mode": "markers+lines",
         "name": "64",
         "orientation": "v",
         "showlegend": true,
         "type": "scatter",
         "x": [
          "mr",
          "tuplen",
          "R",
          "P"
         ],
         "xaxis": "x",
         "y": [
          0.52,
          3.32,
          1.31,
          0.32117386950289994
         ],
         "yaxis": "y"
        },
        {
         "hovertemplate": "id=65<br>variable=%{x}<br>value=%{y}<extra></extra>",
         "legendgroup": "65",
         "line": {
          "color": "#19d3f3",
          "dash": "solid",
          "width": 1.5
         },
         "marker": {
          "symbol": "circle"
         },
         "mode": "markers+lines",
         "name": "65",
         "orientation": "v",
         "showlegend": true,
         "type": "scatter",
         "x": [
          "mr",
          "tuplen",
          "R",
          "P"
         ],
         "xaxis": "x",
         "y": [
          0.525,
          4.325,
          0.825,
          0.32637358163037716
         ],
         "yaxis": "y"
        },
        {
         "hovertemplate": "id=66<br>variable=%{x}<br>value=%{y}<extra></extra>",
         "legendgroup": "66",
         "line": {
          "color": "#FF6692",
          "dash": "solid",
          "width": 1.5
         },
         "marker": {
          "symbol": "circle"
         },
         "mode": "markers+lines",
         "name": "66",
         "orientation": "v",
         "showlegend": true,
         "type": "scatter",
         "x": [
          "mr",
          "tuplen",
          "R",
          "P"
         ],
         "xaxis": "x",
         "y": [
          0.53,
          5.33,
          0.46,
          0.3322558894334439
         ],
         "yaxis": "y"
        },
        {
         "hovertemplate": "id=67<br>variable=%{x}<br>value=%{y}<extra></extra>",
         "legendgroup": "67",
         "line": {
          "color": "#B6E880",
          "dash": "solid",
          "width": 1.5
         },
         "marker": {
          "symbol": "circle"
         },
         "mode": "markers+lines",
         "name": "67",
         "orientation": "v",
         "showlegend": true,
         "type": "scatter",
         "x": [
          "mr",
          "tuplen",
          "R",
          "P"
         ],
         "xaxis": "x",
         "y": [
          0.535,
          6.335,
          0.5650000000000001,
          0.3370394015494851
         ],
         "yaxis": "y"
        },
        {
         "hovertemplate": "id=68<br>variable=%{x}<br>value=%{y}<extra></extra>",
         "legendgroup": "68",
         "line": {
          "color": "#FF97FF",
          "dash": "solid",
          "width": 1.5
         },
         "marker": {
          "symbol": "circle"
         },
         "mode": "markers+lines",
         "name": "68",
         "orientation": "v",
         "showlegend": true,
         "type": "scatter",
         "x": [
          "mr",
          "tuplen",
          "R",
          "P"
         ],
         "xaxis": "x",
         "y": [
          0.54,
          3.34,
          0.34,
          0.34
         ],
         "yaxis": "y"
        },
        {
         "hovertemplate": "id=69<br>variable=%{x}<br>value=%{y}<extra></extra>",
         "legendgroup": "69",
         "line": {
          "color": "#FECB52",
          "dash": "solid",
          "width": 1.5
         },
         "marker": {
          "symbol": "circle"
         },
         "mode": "markers+lines",
         "name": "69",
         "orientation": "v",
         "showlegend": true,
         "type": "scatter",
         "x": [
          "mr",
          "tuplen",
          "R",
          "P"
         ],
         "xaxis": "x",
         "y": [
          0.545,
          4.345,
          0.34500000000000003,
          0.34500000000000003
         ],
         "yaxis": "y"
        },
        {
         "hovertemplate": "id=70<br>variable=%{x}<br>value=%{y}<extra></extra>",
         "legendgroup": "70",
         "line": {
          "color": "#636efa",
          "dash": "solid",
          "width": 1.5
         },
         "marker": {
          "symbol": "circle"
         },
         "mode": "markers+lines",
         "name": "70",
         "orientation": "v",
         "showlegend": true,
         "type": "scatter",
         "x": [
          "mr",
          "tuplen",
          "R",
          "P"
         ],
         "xaxis": "x",
         "y": [
          0.55,
          5.35,
          0.39,
          0.3539181286549708
         ],
         "yaxis": "y"
        },
        {
         "hovertemplate": "id=71<br>variable=%{x}<br>value=%{y}<extra></extra>",
         "legendgroup": "71",
         "line": {
          "color": "#EF553B",
          "dash": "solid",
          "width": 1.5
         },
         "marker": {
          "symbol": "circle"
         },
         "mode": "markers+lines",
         "name": "71",
         "orientation": "v",
         "showlegend": true,
         "type": "scatter",
         "x": [
          "mr",
          "tuplen",
          "R",
          "P"
         ],
         "xaxis": "x",
         "y": [
          0.5549999999999999,
          6.355,
          0.39499999999999996,
          0.3765773809523809
         ],
         "yaxis": "y"
        },
        {
         "hovertemplate": "id=72<br>variable=%{x}<br>value=%{y}<extra></extra>",
         "legendgroup": "72",
         "line": {
          "color": "#00cc96",
          "dash": "solid",
          "width": 1.5
         },
         "marker": {
          "symbol": "circle"
         },
         "mode": "markers+lines",
         "name": "72",
         "orientation": "v",
         "showlegend": true,
         "type": "scatter",
         "x": [
          "mr",
          "tuplen",
          "R",
          "P"
         ],
         "xaxis": "x",
         "y": [
          0.56,
          3.36,
          1.3399999999999999,
          0.3616530110042264
         ],
         "yaxis": "y"
        },
        {
         "hovertemplate": "id=73<br>variable=%{x}<br>value=%{y}<extra></extra>",
         "legendgroup": "73",
         "line": {
          "color": "#ab63fa",
          "dash": "solid",
          "width": 1.5
         },
         "marker": {
          "symbol": "circle"
         },
         "mode": "markers+lines",
         "name": "73",
         "orientation": "v",
         "showlegend": true,
         "type": "scatter",
         "x": [
          "mr",
          "tuplen",
          "R",
          "P"
         ],
         "xaxis": "x",
         "y": [
          0.565,
          4.365,
          1.345,
          0.3655946818968262
         ],
         "yaxis": "y"
        },
        {
         "hovertemplate": "id=74<br>variable=%{x}<br>value=%{y}<extra></extra>",
         "legendgroup": "74",
         "line": {
          "color": "#FFA15A",
          "dash": "solid",
          "width": 1.5
         },
         "marker": {
          "symbol": "circle"
         },
         "mode": "markers+lines",
         "name": "74",
         "orientation": "v",
         "showlegend": true,
         "type": "scatter",
         "x": [
          "mr",
          "tuplen",
          "R",
          "P"
         ],
         "xaxis": "x",
         "y": [
          0.5700000000000001,
          5.37,
          1.01,
          0.3733534921524324
         ],
         "yaxis": "y"
        },
        {
         "hovertemplate": "id=75<br>variable=%{x}<br>value=%{y}<extra></extra>",
         "legendgroup": "75",
         "line": {
          "color": "#19d3f3",
          "dash": "solid",
          "width": 1.5
         },
         "marker": {
          "symbol": "circle"
         },
         "mode": "markers+lines",
         "name": "75",
         "orientation": "v",
         "showlegend": true,
         "type": "scatter",
         "x": [
          "mr",
          "tuplen",
          "R",
          "P"
         ],
         "xaxis": "x",
         "y": [
          0.575,
          6.375,
          1.145,
          0.376784811203791
         ],
         "yaxis": "y"
        },
        {
         "hovertemplate": "id=76<br>variable=%{x}<br>value=%{y}<extra></extra>",
         "legendgroup": "76",
         "line": {
          "color": "#FF6692",
          "dash": "solid",
          "width": 1.5
         },
         "marker": {
          "symbol": "circle"
         },
         "mode": "markers+lines",
         "name": "76",
         "orientation": "v",
         "showlegend": true,
         "type": "scatter",
         "x": [
          "mr",
          "tuplen",
          "R",
          "P"
         ],
         "xaxis": "x",
         "y": [
          0.5800000000000001,
          3.38,
          0.8,
          0.38449194203300174
         ],
         "yaxis": "y"
        },
        {
         "hovertemplate": "id=77<br>variable=%{x}<br>value=%{y}<extra></extra>",
         "legendgroup": "77",
         "line": {
          "color": "#B6E880",
          "dash": "solid",
          "width": 1.5
         },
         "marker": {
          "symbol": "circle"
         },
         "mode": "markers+lines",
         "name": "77",
         "orientation": "v",
         "showlegend": true,
         "type": "scatter",
         "x": [
          "mr",
          "tuplen",
          "R",
          "P"
         ],
         "xaxis": "x",
         "y": [
          0.585,
          4.385,
          0.7050000000000001,
          0.38944545900149935
         ],
         "yaxis": "y"
        },
        {
         "hovertemplate": "id=78<br>variable=%{x}<br>value=%{y}<extra></extra>",
         "legendgroup": "78",
         "line": {
          "color": "#FF97FF",
          "dash": "solid",
          "width": 1.5
         },
         "marker": {
          "symbol": "circle"
         },
         "mode": "markers+lines",
         "name": "78",
         "orientation": "v",
         "showlegend": true,
         "type": "scatter",
         "x": [
          "mr",
          "tuplen",
          "R",
          "P"
         ],
         "xaxis": "x",
         "y": [
          0.5900000000000001,
          5.39,
          0.5,
          0.3996837583950986
         ],
         "yaxis": "y"
        },
        {
         "hovertemplate": "id=79<br>variable=%{x}<br>value=%{y}<extra></extra>",
         "legendgroup": "79",
         "line": {
          "color": "#FECB52",
          "dash": "solid",
          "width": 1.5
         },
         "marker": {
          "symbol": "circle"
         },
         "mode": "markers+lines",
         "name": "79",
         "orientation": "v",
         "showlegend": true,
         "type": "scatter",
         "x": [
          "mr",
          "tuplen",
          "R",
          "P"
         ],
         "xaxis": "x",
         "y": [
          0.595,
          6.395,
          0.535,
          0.40751219571056263
         ],
         "yaxis": "y"
        },
        {
         "hovertemplate": "id=80<br>variable=%{x}<br>value=%{y}<extra></extra>",
         "legendgroup": "80",
         "line": {
          "color": "#636efa",
          "dash": "solid",
          "width": 1.5
         },
         "marker": {
          "symbol": "circle"
         },
         "mode": "markers+lines",
         "name": "80",
         "orientation": "v",
         "showlegend": true,
         "type": "scatter",
         "x": [
          "mr",
          "tuplen",
          "R",
          "P"
         ],
         "xaxis": "x",
         "y": [
          0.6000000000000001,
          3.4,
          0.47000000000000003,
          0.4161658819371905
         ],
         "yaxis": "y"
        },
        {
         "hovertemplate": "id=81<br>variable=%{x}<br>value=%{y}<extra></extra>",
         "legendgroup": "81",
         "line": {
          "color": "#EF553B",
          "dash": "solid",
          "width": 1.5
         },
         "marker": {
          "symbol": "circle"
         },
         "mode": "markers+lines",
         "name": "81",
         "orientation": "v",
         "showlegend": true,
         "type": "scatter",
         "x": [
          "mr",
          "tuplen",
          "R",
          "P"
         ],
         "xaxis": "x",
         "y": [
          0.605,
          4.405,
          0.845,
          0.40709982010701706
         ],
         "yaxis": "y"
        },
        {
         "hovertemplate": "id=82<br>variable=%{x}<br>value=%{y}<extra></extra>",
         "legendgroup": "82",
         "line": {
          "color": "#00cc96",
          "dash": "solid",
          "width": 1.5
         },
         "marker": {
          "symbol": "circle"
         },
         "mode": "markers+lines",
         "name": "82",
         "orientation": "v",
         "showlegend": true,
         "type": "scatter",
         "x": [
          "mr",
          "tuplen",
          "R",
          "P"
         ],
         "xaxis": "x",
         "y": [
          0.6100000000000001,
          5.41,
          0.42000000000000004,
          0.500909090909091
         ],
         "yaxis": "y"
        },
        {
         "hovertemplate": "id=83<br>variable=%{x}<br>value=%{y}<extra></extra>",
         "legendgroup": "83",
         "line": {
          "color": "#ab63fa",
          "dash": "solid",
          "width": 1.5
         },
         "marker": {
          "symbol": "circle"
         },
         "mode": "markers+lines",
         "name": "83",
         "orientation": "v",
         "showlegend": true,
         "type": "scatter",
         "x": [
          "mr",
          "tuplen",
          "R",
          "P"
         ],
         "xaxis": "x",
         "y": [
          0.615,
          6.415,
          0.41500000000000004,
          0.41500000000000004
         ],
         "yaxis": "y"
        },
        {
         "hovertemplate": "id=84<br>variable=%{x}<br>value=%{y}<extra></extra>",
         "legendgroup": "84",
         "line": {
          "color": "#FFA15A",
          "dash": "solid",
          "width": 1.5
         },
         "marker": {
          "symbol": "circle"
         },
         "mode": "markers+lines",
         "name": "84",
         "orientation": "v",
         "showlegend": true,
         "type": "scatter",
         "x": [
          "mr",
          "tuplen",
          "R",
          "P"
         ],
         "xaxis": "x",
         "y": [
          0.62,
          3.42,
          1.38,
          0.42169840257161323
         ],
         "yaxis": "y"
        },
        {
         "hovertemplate": "id=85<br>variable=%{x}<br>value=%{y}<extra></extra>",
         "legendgroup": "85",
         "line": {
          "color": "#19d3f3",
          "dash": "solid",
          "width": 1.5
         },
         "marker": {
          "symbol": "circle"
         },
         "mode": "markers+lines",
         "name": "85",
         "orientation": "v",
         "showlegend": true,
         "type": "scatter",
         "x": [
          "mr",
          "tuplen",
          "R",
          "P"
         ],
         "xaxis": "x",
         "y": [
          0.625,
          4.425,
          0.9850000000000001,
          0.4284952616768069
         ],
         "yaxis": "y"
        },
        {
         "hovertemplate": "id=86<br>variable=%{x}<br>value=%{y}<extra></extra>",
         "legendgroup": "86",
         "line": {
          "color": "#FF6692",
          "dash": "solid",
          "width": 1.5
         },
         "marker": {
          "symbol": "circle"
         },
         "mode": "markers+lines",
         "name": "86",
         "orientation": "v",
         "showlegend": true,
         "type": "scatter",
         "x": [
          "mr",
          "tuplen",
          "R",
          "P"
         ],
         "xaxis": "x",
         "y": [
          0.63,
          5.43,
          1.07,
          0.4335949968207975
         ],
         "yaxis": "y"
        },
        {
         "hovertemplate": "id=87<br>variable=%{x}<br>value=%{y}<extra></extra>",
         "legendgroup": "87",
         "line": {
          "color": "#B6E880",
          "dash": "solid",
          "width": 1.5
         },
         "marker": {
          "symbol": "circle"
         },
         "mode": "markers+lines",
         "name": "87",
         "orientation": "v",
         "showlegend": true,
         "type": "scatter",
         "x": [
          "mr",
          "tuplen",
          "R",
          "P"
         ],
         "xaxis": "x",
         "y": [
          0.635,
          6.435,
          0.665,
          0.4457520995601183
         ],
         "yaxis": "y"
        },
        {
         "hovertemplate": "id=88<br>variable=%{x}<br>value=%{y}<extra></extra>",
         "legendgroup": "88",
         "line": {
          "color": "#FF97FF",
          "dash": "solid",
          "width": 1.5
         },
         "marker": {
          "symbol": "circle"
         },
         "mode": "markers+lines",
         "name": "88",
         "orientation": "v",
         "showlegend": true,
         "type": "scatter",
         "x": [
          "mr",
          "tuplen",
          "R",
          "P"
         ],
         "xaxis": "x",
         "y": [
          0.64,
          3.44,
          1.11,
          0.4439898129328758
         ],
         "yaxis": "y"
        },
        {
         "hovertemplate": "id=89<br>variable=%{x}<br>value=%{y}<extra></extra>",
         "legendgroup": "89",
         "line": {
          "color": "#FECB52",
          "dash": "solid",
          "width": 1.5
         },
         "marker": {
          "symbol": "circle"
         },
         "mode": "markers+lines",
         "name": "89",
         "orientation": "v",
         "showlegend": true,
         "type": "scatter",
         "x": [
          "mr",
          "tuplen",
          "R",
          "P"
         ],
         "xaxis": "x",
         "y": [
          0.645,
          4.445,
          0.505,
          0.4598839269891902
         ],
         "yaxis": "y"
        },
        {
         "hovertemplate": "id=90<br>variable=%{x}<br>value=%{y}<extra></extra>",
         "legendgroup": "90",
         "line": {
          "color": "#636efa",
          "dash": "solid",
          "width": 1.5
         },
         "marker": {
          "symbol": "circle"
         },
         "mode": "markers+lines",
         "name": "90",
         "orientation": "v",
         "showlegend": true,
         "type": "scatter",
         "x": [
          "mr",
          "tuplen",
          "R",
          "P"
         ],
         "xaxis": "x",
         "y": [
          0.65,
          5.45,
          0.72,
          0.4572706237515591
         ],
         "yaxis": "y"
        },
        {
         "hovertemplate": "id=91<br>variable=%{x}<br>value=%{y}<extra></extra>",
         "legendgroup": "91",
         "line": {
          "color": "#EF553B",
          "dash": "solid",
          "width": 1.5
         },
         "marker": {
          "symbol": "circle"
         },
         "mode": "markers+lines",
         "name": "91",
         "orientation": "v",
         "showlegend": true,
         "type": "scatter",
         "x": [
          "mr",
          "tuplen",
          "R",
          "P"
         ],
         "xaxis": "x",
         "y": [
          0.655,
          6.455,
          0.515,
          0.5320440251572327
         ],
         "yaxis": "y"
        },
        {
         "hovertemplate": "id=92<br>variable=%{x}<br>value=%{y}<extra></extra>",
         "legendgroup": "92",
         "line": {
          "color": "#00cc96",
          "dash": "solid",
          "width": 1.5
         },
         "marker": {
          "symbol": "circle"
         },
         "mode": "markers+lines",
         "name": "92",
         "orientation": "v",
         "showlegend": true,
         "type": "scatter",
         "x": [
          "mr",
          "tuplen",
          "R",
          "P"
         ],
         "xaxis": "x",
         "y": [
          0.66,
          3.46,
          0.53,
          0.48477678571428573
         ],
         "yaxis": "y"
        },
        {
         "hovertemplate": "id=93<br>variable=%{x}<br>value=%{y}<extra></extra>",
         "legendgroup": "93",
         "line": {
          "color": "#ab63fa",
          "dash": "solid",
          "width": 1.5
         },
         "marker": {
          "symbol": "circle"
         },
         "mode": "markers+lines",
         "name": "93",
         "orientation": "v",
         "showlegend": true,
         "type": "scatter",
         "x": [
          "mr",
          "tuplen",
          "R",
          "P"
         ],
         "xaxis": "x",
         "y": [
          0.665,
          4.465,
          0.465,
          0.465
         ],
         "yaxis": "y"
        },
        {
         "hovertemplate": "id=94<br>variable=%{x}<br>value=%{y}<extra></extra>",
         "legendgroup": "94",
         "line": {
          "color": "#FFA15A",
          "dash": "solid",
          "width": 1.5
         },
         "marker": {
          "symbol": "circle"
         },
         "mode": "markers+lines",
         "name": "94",
         "orientation": "v",
         "showlegend": true,
         "type": "scatter",
         "x": [
          "mr",
          "tuplen",
          "R",
          "P"
         ],
         "xaxis": "x",
         "y": [
          0.67,
          5.47,
          0.48000000000000004,
          1.47
         ],
         "yaxis": "y"
        },
        {
         "hovertemplate": "id=95<br>variable=%{x}<br>value=%{y}<extra></extra>",
         "legendgroup": "95",
         "line": {
          "color": "#19d3f3",
          "dash": "solid",
          "width": 1.5
         },
         "marker": {
          "symbol": "circle"
         },
         "mode": "markers+lines",
         "name": "95",
         "orientation": "v",
         "showlegend": true,
         "type": "scatter",
         "x": [
          "mr",
          "tuplen",
          "R",
          "P"
         ],
         "xaxis": "x",
         "y": [
          0.675,
          6.475,
          0.47500000000000003,
          0.47500000000000003
         ],
         "yaxis": "y"
        },
        {
         "hovertemplate": "id=96<br>variable=%{x}<br>value=%{y}<extra></extra>",
         "legendgroup": "96",
         "line": {
          "color": "#FF6692",
          "dash": "solid",
          "width": 1.5
         },
         "marker": {
          "symbol": "circle"
         },
         "mode": "markers+lines",
         "name": "96",
         "orientation": "v",
         "showlegend": true,
         "type": "scatter",
         "x": [
          "mr",
          "tuplen",
          "R",
          "P"
         ],
         "xaxis": "x",
         "y": [
          0.6799999999999999,
          3.48,
          1.48,
          0.4808398985519946
         ],
         "yaxis": "y"
        },
        {
         "hovertemplate": "id=97<br>variable=%{x}<br>value=%{y}<extra></extra>",
         "legendgroup": "97",
         "line": {
          "color": "#B6E880",
          "dash": "solid",
          "width": 1.5
         },
         "marker": {
          "symbol": "circle"
         },
         "mode": "markers+lines",
         "name": "97",
         "orientation": "v",
         "showlegend": true,
         "type": "scatter",
         "x": [
          "mr",
          "tuplen",
          "R",
          "P"
         ],
         "xaxis": "x",
         "y": [
          0.685,
          4.485,
          1.1949999999999998,
          0.49141748125419954
         ],
         "yaxis": "y"
        },
        {
         "hovertemplate": "id=98<br>variable=%{x}<br>value=%{y}<extra></extra>",
         "legendgroup": "98",
         "line": {
          "color": "#FF97FF",
          "dash": "solid",
          "width": 1.5
         },
         "marker": {
          "symbol": "circle"
         },
         "mode": "markers+lines",
         "name": "98",
         "orientation": "v",
         "showlegend": true,
         "type": "scatter",
         "x": [
          "mr",
          "tuplen",
          "R",
          "P"
         ],
         "xaxis": "x",
         "y": [
          0.69,
          5.49,
          0.9299999999999999,
          0.4956971543693895
         ],
         "yaxis": "y"
        },
        {
         "hovertemplate": "id=99<br>variable=%{x}<br>value=%{y}<extra></extra>",
         "legendgroup": "99",
         "line": {
          "color": "#FECB52",
          "dash": "solid",
          "width": 1.5
         },
         "marker": {
          "symbol": "circle"
         },
         "mode": "markers+lines",
         "name": "99",
         "orientation": "v",
         "showlegend": true,
         "type": "scatter",
         "x": [
          "mr",
          "tuplen",
          "R",
          "P"
         ],
         "xaxis": "x",
         "y": [
          0.6950000000000001,
          6.495,
          0.875,
          0.5046450576426069
         ],
         "yaxis": "y"
        },
        {
         "hovertemplate": "id=100<br>variable=%{x}<br>value=%{y}<extra></extra>",
         "legendgroup": "100",
         "line": {
          "color": "#636efa",
          "dash": "solid",
          "width": 1.5
         },
         "marker": {
          "symbol": "circle"
         },
         "mode": "markers+lines",
         "name": "100",
         "orientation": "v",
         "showlegend": true,
         "type": "scatter",
         "x": [
          "mr",
          "tuplen",
          "R",
          "P"
         ],
         "xaxis": "x",
         "y": [
          0.7,
          3.5,
          0.87,
          0.5059833071647273
         ],
         "yaxis": "y"
        },
        {
         "hovertemplate": "id=101<br>variable=%{x}<br>value=%{y}<extra></extra>",
         "legendgroup": "101",
         "line": {
          "color": "#EF553B",
          "dash": "solid",
          "width": 1.5
         },
         "marker": {
          "symbol": "circle"
         },
         "mode": "markers+lines",
         "name": "101",
         "orientation": "v",
         "showlegend": true,
         "type": "scatter",
         "x": [
          "mr",
          "tuplen",
          "R",
          "P"
         ],
         "xaxis": "x",
         "y": [
          0.7050000000000001,
          4.505,
          0.7949999999999999,
          0.5147974537927476
         ],
         "yaxis": "y"
        },
        {
         "hovertemplate": "id=102<br>variable=%{x}<br>value=%{y}<extra></extra>",
         "legendgroup": "102",
         "line": {
          "color": "#00cc96",
          "dash": "solid",
          "width": 1.5
         },
         "marker": {
          "symbol": "circle"
         },
         "mode": "markers+lines",
         "name": "102",
         "orientation": "v",
         "showlegend": true,
         "type": "scatter",
         "x": [
          "mr",
          "tuplen",
          "R",
          "P"
         ],
         "xaxis": "x",
         "y": [
          0.71,
          5.51,
          0.66,
          0.5169290112675201
         ],
         "yaxis": "y"
        },
        {
         "hovertemplate": "id=103<br>variable=%{x}<br>value=%{y}<extra></extra>",
         "legendgroup": "103",
         "line": {
          "color": "#ab63fa",
          "dash": "solid",
          "width": 1.5
         },
         "marker": {
          "symbol": "circle"
         },
         "mode": "markers+lines",
         "name": "103",
         "orientation": "v",
         "showlegend": true,
         "type": "scatter",
         "x": [
          "mr",
          "tuplen",
          "R",
          "P"
         ],
         "xaxis": "x",
         "y": [
          0.7150000000000001,
          6.515,
          0.525,
          0.525752688172043
         ],
         "yaxis": "y"
        },
        {
         "hovertemplate": "id=104<br>variable=%{x}<br>value=%{y}<extra></extra>",
         "legendgroup": "104",
         "line": {
          "color": "#FFA15A",
          "dash": "solid",
          "width": 1.5
         },
         "marker": {
          "symbol": "circle"
         },
         "mode": "markers+lines",
         "name": "104",
         "orientation": "v",
         "showlegend": true,
         "type": "scatter",
         "x": [
          "mr",
          "tuplen",
          "R",
          "P"
         ],
         "xaxis": "x",
         "y": [
          0.72,
          3.52,
          0.53,
          0.5392307692307693
         ],
         "yaxis": "y"
        },
        {
         "hovertemplate": "id=105<br>variable=%{x}<br>value=%{y}<extra></extra>",
         "legendgroup": "105",
         "line": {
          "color": "#19d3f3",
          "dash": "solid",
          "width": 1.5
         },
         "marker": {
          "symbol": "circle"
         },
         "mode": "markers+lines",
         "name": "105",
         "orientation": "v",
         "showlegend": true,
         "type": "scatter",
         "x": [
          "mr",
          "tuplen",
          "R",
          "P"
         ],
         "xaxis": "x",
         "y": [
          0.7250000000000001,
          4.525,
          0.525,
          0.525
         ],
         "yaxis": "y"
        },
        {
         "hovertemplate": "id=106<br>variable=%{x}<br>value=%{y}<extra></extra>",
         "legendgroup": "106",
         "line": {
          "color": "#FF6692",
          "dash": "solid",
          "width": 1.5
         },
         "marker": {
          "symbol": "circle"
         },
         "mode": "markers+lines",
         "name": "106",
         "orientation": "v",
         "showlegend": true,
         "type": "scatter",
         "x": [
          "mr",
          "tuplen",
          "R",
          "P"
         ],
         "xaxis": "x",
         "y": [
          0.73,
          5.53,
          0.53,
          null
         ],
         "yaxis": "y"
        },
        {
         "hovertemplate": "id=107<br>variable=%{x}<br>value=%{y}<extra></extra>",
         "legendgroup": "107",
         "line": {
          "color": "#B6E880",
          "dash": "solid",
          "width": 1.5
         },
         "marker": {
          "symbol": "circle"
         },
         "mode": "markers+lines",
         "name": "107",
         "orientation": "v",
         "showlegend": true,
         "type": "scatter",
         "x": [
          "mr",
          "tuplen",
          "R",
          "P"
         ],
         "xaxis": "x",
         "y": [
          0.7350000000000001,
          6.535,
          0.535,
          null
         ],
         "yaxis": "y"
        },
        {
         "hovertemplate": "id=108<br>variable=%{x}<br>value=%{y}<extra></extra>",
         "legendgroup": "108",
         "line": {
          "color": "#FF97FF",
          "dash": "solid",
          "width": 1.5
         },
         "marker": {
          "symbol": "circle"
         },
         "mode": "markers+lines",
         "name": "108",
         "orientation": "v",
         "showlegend": true,
         "type": "scatter",
         "x": [
          "mr",
          "tuplen",
          "R",
          "P"
         ],
         "xaxis": "x",
         "y": [
          0.74,
          3.54,
          1.54,
          0.5410224758856429
         ],
         "yaxis": "y"
        },
        {
         "hovertemplate": "id=109<br>variable=%{x}<br>value=%{y}<extra></extra>",
         "legendgroup": "109",
         "line": {
          "color": "#FECB52",
          "dash": "solid",
          "width": 1.5
         },
         "marker": {
          "symbol": "circle"
         },
         "mode": "markers+lines",
         "name": "109",
         "orientation": "v",
         "showlegend": true,
         "type": "scatter",
         "x": [
          "mr",
          "tuplen",
          "R",
          "P"
         ],
         "xaxis": "x",
         "y": [
          0.7450000000000001,
          4.545,
          1.545,
          0.545487662821108
         ],
         "yaxis": "y"
        },
        {
         "hovertemplate": "id=110<br>variable=%{x}<br>value=%{y}<extra></extra>",
         "legendgroup": "110",
         "line": {
          "color": "#636efa",
          "dash": "solid",
          "width": 1.5
         },
         "marker": {
          "symbol": "circle"
         },
         "mode": "markers+lines",
         "name": "110",
         "orientation": "v",
         "showlegend": true,
         "type": "scatter",
         "x": [
          "mr",
          "tuplen",
          "R",
          "P"
         ],
         "xaxis": "x",
         "y": [
          0.75,
          5.55,
          1.4,
          0.5518206653409434
         ],
         "yaxis": "y"
        },
        {
         "hovertemplate": "id=111<br>variable=%{x}<br>value=%{y}<extra></extra>",
         "legendgroup": "111",
         "line": {
          "color": "#EF553B",
          "dash": "solid",
          "width": 1.5
         },
         "marker": {
          "symbol": "circle"
         },
         "mode": "markers+lines",
         "name": "111",
         "orientation": "v",
         "showlegend": true,
         "type": "scatter",
         "x": [
          "mr",
          "tuplen",
          "R",
          "P"
         ],
         "xaxis": "x",
         "y": [
          0.7550000000000001,
          6.555,
          1.045,
          0.5620900467201375
         ],
         "yaxis": "y"
        },
        {
         "hovertemplate": "id=112<br>variable=%{x}<br>value=%{y}<extra></extra>",
         "legendgroup": "112",
         "line": {
          "color": "#00cc96",
          "dash": "solid",
          "width": 1.5
         },
         "marker": {
          "symbol": "circle"
         },
         "mode": "markers+lines",
         "name": "112",
         "orientation": "v",
         "showlegend": true,
         "type": "scatter",
         "x": [
          "mr",
          "tuplen",
          "R",
          "P"
         ],
         "xaxis": "x",
         "y": [
          0.76,
          3.56,
          1.1400000000000001,
          0.5655772394414771
         ],
         "yaxis": "y"
        },
        {
         "hovertemplate": "id=113<br>variable=%{x}<br>value=%{y}<extra></extra>",
         "legendgroup": "113",
         "line": {
          "color": "#ab63fa",
          "dash": "solid",
          "width": 1.5
         },
         "marker": {
          "symbol": "circle"
         },
         "mode": "markers+lines",
         "name": "113",
         "orientation": "v",
         "showlegend": true,
         "type": "scatter",
         "x": [
          "mr",
          "tuplen",
          "R",
          "P"
         ],
         "xaxis": "x",
         "y": [
          0.7650000000000001,
          4.565,
          0.915,
          0.5712135001143072
         ],
         "yaxis": "y"
        },
        {
         "hovertemplate": "id=114<br>variable=%{x}<br>value=%{y}<extra></extra>",
         "legendgroup": "114",
         "line": {
          "color": "#FFA15A",
          "dash": "solid",
          "width": 1.5
         },
         "marker": {
          "symbol": "circle"
         },
         "mode": "markers+lines",
         "name": "114",
         "orientation": "v",
         "showlegend": true,
         "type": "scatter",
         "x": [
          "mr",
          "tuplen",
          "R",
          "P"
         ],
         "xaxis": "x",
         "y": [
          0.77,
          5.57,
          0.6000000000000001,
          0.6325000000000001
         ],
         "yaxis": "y"
        },
        {
         "hovertemplate": "id=115<br>variable=%{x}<br>value=%{y}<extra></extra>",
         "legendgroup": "115",
         "line": {
          "color": "#19d3f3",
          "dash": "solid",
          "width": 1.5
         },
         "marker": {
          "symbol": "circle"
         },
         "mode": "markers+lines",
         "name": "115",
         "orientation": "v",
         "showlegend": true,
         "type": "scatter",
         "x": [
          "mr",
          "tuplen",
          "R",
          "P"
         ],
         "xaxis": "x",
         "y": [
          0.7750000000000001,
          6.575,
          0.5850000000000001,
          0.6035714285714286
         ],
         "yaxis": "y"
        },
        {
         "hovertemplate": "id=116<br>variable=%{x}<br>value=%{y}<extra></extra>",
         "legendgroup": "116",
         "line": {
          "color": "#FF6692",
          "dash": "solid",
          "width": 1.5
         },
         "marker": {
          "symbol": "circle"
         },
         "mode": "markers+lines",
         "name": "116",
         "orientation": "v",
         "showlegend": true,
         "type": "scatter",
         "x": [
          "mr",
          "tuplen",
          "R",
          "P"
         ],
         "xaxis": "x",
         "y": [
          0.78,
          3.58,
          0.6,
          0.6072108843537415
         ],
         "yaxis": "y"
        },
        {
         "hovertemplate": "id=117<br>variable=%{x}<br>value=%{y}<extra></extra>",
         "legendgroup": "117",
         "line": {
          "color": "#B6E880",
          "dash": "solid",
          "width": 1.5
         },
         "marker": {
          "symbol": "circle"
         },
         "mode": "markers+lines",
         "name": "117",
         "orientation": "v",
         "showlegend": true,
         "type": "scatter",
         "x": [
          "mr",
          "tuplen",
          "R",
          "P"
         ],
         "xaxis": "x",
         "y": [
          0.7849999999999999,
          4.585,
          0.605,
          0.8707142857142857
         ],
         "yaxis": "y"
        },
        {
         "hovertemplate": "id=118<br>variable=%{x}<br>value=%{y}<extra></extra>",
         "legendgroup": "118",
         "line": {
          "color": "#FF97FF",
          "dash": "solid",
          "width": 1.5
         },
         "marker": {
          "symbol": "circle"
         },
         "mode": "markers+lines",
         "name": "118",
         "orientation": "v",
         "showlegend": true,
         "type": "scatter",
         "x": [
          "mr",
          "tuplen",
          "R",
          "P"
         ],
         "xaxis": "x",
         "y": [
          0.79,
          5.59,
          0.59,
          null
         ],
         "yaxis": "y"
        },
        {
         "hovertemplate": "id=119<br>variable=%{x}<br>value=%{y}<extra></extra>",
         "legendgroup": "119",
         "line": {
          "color": "#FECB52",
          "dash": "solid",
          "width": 1.5
         },
         "marker": {
          "symbol": "circle"
         },
         "mode": "markers+lines",
         "name": "119",
         "orientation": "v",
         "showlegend": true,
         "type": "scatter",
         "x": [
          "mr",
          "tuplen",
          "R",
          "P"
         ],
         "xaxis": "x",
         "y": [
          0.7949999999999999,
          6.595,
          0.595,
          null
         ],
         "yaxis": "y"
        }
       ],
       "layout": {
        "legend": {
         "title": {
          "text": "id"
         },
         "tracegroupgap": 0
        },
        "margin": {
         "t": 60
        },
        "template": {
         "data": {
          "bar": [
           {
            "error_x": {
             "color": "#2a3f5f"
            },
            "error_y": {
             "color": "#2a3f5f"
            },
            "marker": {
             "line": {
              "color": "#E5ECF6",
              "width": 0.5
             },
             "pattern": {
              "fillmode": "overlay",
              "size": 10,
              "solidity": 0.2
             }
            },
            "type": "bar"
           }
          ],
          "barpolar": [
           {
            "marker": {
             "line": {
              "color": "#E5ECF6",
              "width": 0.5
             },
             "pattern": {
              "fillmode": "overlay",
              "size": 10,
              "solidity": 0.2
             }
            },
            "type": "barpolar"
           }
          ],
          "carpet": [
           {
            "aaxis": {
             "endlinecolor": "#2a3f5f",
             "gridcolor": "white",
             "linecolor": "white",
             "minorgridcolor": "white",
             "startlinecolor": "#2a3f5f"
            },
            "baxis": {
             "endlinecolor": "#2a3f5f",
             "gridcolor": "white",
             "linecolor": "white",
             "minorgridcolor": "white",
             "startlinecolor": "#2a3f5f"
            },
            "type": "carpet"
           }
          ],
          "choropleth": [
           {
            "colorbar": {
             "outlinewidth": 0,
             "ticks": ""
            },
            "type": "choropleth"
           }
          ],
          "contour": [
           {
            "colorbar": {
             "outlinewidth": 0,
             "ticks": ""
            },
            "colorscale": [
             [
              0,
              "#0d0887"
             ],
             [
              0.1111111111111111,
              "#46039f"
             ],
             [
              0.2222222222222222,
              "#7201a8"
             ],
             [
              0.3333333333333333,
              "#9c179e"
             ],
             [
              0.4444444444444444,
              "#bd3786"
             ],
             [
              0.5555555555555556,
              "#d8576b"
             ],
             [
              0.6666666666666666,
              "#ed7953"
             ],
             [
              0.7777777777777778,
              "#fb9f3a"
             ],
             [
              0.8888888888888888,
              "#fdca26"
             ],
             [
              1,
              "#f0f921"
             ]
            ],
            "type": "contour"
           }
          ],
          "contourcarpet": [
           {
            "colorbar": {
             "outlinewidth": 0,
             "ticks": ""
            },
            "type": "contourcarpet"
           }
          ],
          "heatmap": [
           {
            "colorbar": {
             "outlinewidth": 0,
             "ticks": ""
            },
            "colorscale": [
             [
              0,
              "#0d0887"
             ],
             [
              0.1111111111111111,
              "#46039f"
             ],
             [
              0.2222222222222222,
              "#7201a8"
             ],
             [
              0.3333333333333333,
              "#9c179e"
             ],
             [
              0.4444444444444444,
              "#bd3786"
             ],
             [
              0.5555555555555556,
              "#d8576b"
             ],
             [
              0.6666666666666666,
              "#ed7953"
             ],
             [
              0.7777777777777778,
              "#fb9f3a"
             ],
             [
              0.8888888888888888,
              "#fdca26"
             ],
             [
              1,
              "#f0f921"
             ]
            ],
            "type": "heatmap"
           }
          ],
          "heatmapgl": [
           {
            "colorbar": {
             "outlinewidth": 0,
             "ticks": ""
            },
            "colorscale": [
             [
              0,
              "#0d0887"
             ],
             [
              0.1111111111111111,
              "#46039f"
             ],
             [
              0.2222222222222222,
              "#7201a8"
             ],
             [
              0.3333333333333333,
              "#9c179e"
             ],
             [
              0.4444444444444444,
              "#bd3786"
             ],
             [
              0.5555555555555556,
              "#d8576b"
             ],
             [
              0.6666666666666666,
              "#ed7953"
             ],
             [
              0.7777777777777778,
              "#fb9f3a"
             ],
             [
              0.8888888888888888,
              "#fdca26"
             ],
             [
              1,
              "#f0f921"
             ]
            ],
            "type": "heatmapgl"
           }
          ],
          "histogram": [
           {
            "marker": {
             "pattern": {
              "fillmode": "overlay",
              "size": 10,
              "solidity": 0.2
             }
            },
            "type": "histogram"
           }
          ],
          "histogram2d": [
           {
            "colorbar": {
             "outlinewidth": 0,
             "ticks": ""
            },
            "colorscale": [
             [
              0,
              "#0d0887"
             ],
             [
              0.1111111111111111,
              "#46039f"
             ],
             [
              0.2222222222222222,
              "#7201a8"
             ],
             [
              0.3333333333333333,
              "#9c179e"
             ],
             [
              0.4444444444444444,
              "#bd3786"
             ],
             [
              0.5555555555555556,
              "#d8576b"
             ],
             [
              0.6666666666666666,
              "#ed7953"
             ],
             [
              0.7777777777777778,
              "#fb9f3a"
             ],
             [
              0.8888888888888888,
              "#fdca26"
             ],
             [
              1,
              "#f0f921"
             ]
            ],
            "type": "histogram2d"
           }
          ],
          "histogram2dcontour": [
           {
            "colorbar": {
             "outlinewidth": 0,
             "ticks": ""
            },
            "colorscale": [
             [
              0,
              "#0d0887"
             ],
             [
              0.1111111111111111,
              "#46039f"
             ],
             [
              0.2222222222222222,
              "#7201a8"
             ],
             [
              0.3333333333333333,
              "#9c179e"
             ],
             [
              0.4444444444444444,
              "#bd3786"
             ],
             [
              0.5555555555555556,
              "#d8576b"
             ],
             [
              0.6666666666666666,
              "#ed7953"
             ],
             [
              0.7777777777777778,
              "#fb9f3a"
             ],
             [
              0.8888888888888888,
              "#fdca26"
             ],
             [
              1,
              "#f0f921"
             ]
            ],
            "type": "histogram2dcontour"
           }
          ],
          "mesh3d": [
           {
            "colorbar": {
             "outlinewidth": 0,
             "ticks": ""
            },
            "type": "mesh3d"
           }
          ],
          "parcoords": [
           {
            "line": {
             "colorbar": {
              "outlinewidth": 0,
              "ticks": ""
             }
            },
            "type": "parcoords"
           }
          ],
          "pie": [
           {
            "automargin": true,
            "type": "pie"
           }
          ],
          "scatter": [
           {
            "fillpattern": {
             "fillmode": "overlay",
             "size": 10,
             "solidity": 0.2
            },
            "type": "scatter"
           }
          ],
          "scatter3d": [
           {
            "line": {
             "colorbar": {
              "outlinewidth": 0,
              "ticks": ""
             }
            },
            "marker": {
             "colorbar": {
              "outlinewidth": 0,
              "ticks": ""
             }
            },
            "type": "scatter3d"
           }
          ],
          "scattercarpet": [
           {
            "marker": {
             "colorbar": {
              "outlinewidth": 0,
              "ticks": ""
             }
            },
            "type": "scattercarpet"
           }
          ],
          "scattergeo": [
           {
            "marker": {
             "colorbar": {
              "outlinewidth": 0,
              "ticks": ""
             }
            },
            "type": "scattergeo"
           }
          ],
          "scattergl": [
           {
            "marker": {
             "colorbar": {
              "outlinewidth": 0,
              "ticks": ""
             }
            },
            "type": "scattergl"
           }
          ],
          "scattermapbox": [
           {
            "marker": {
             "colorbar": {
              "outlinewidth": 0,
              "ticks": ""
             }
            },
            "type": "scattermapbox"
           }
          ],
          "scatterpolar": [
           {
            "marker": {
             "colorbar": {
              "outlinewidth": 0,
              "ticks": ""
             }
            },
            "type": "scatterpolar"
           }
          ],
          "scatterpolargl": [
           {
            "marker": {
             "colorbar": {
              "outlinewidth": 0,
              "ticks": ""
             }
            },
            "type": "scatterpolargl"
           }
          ],
          "scatterternary": [
           {
            "marker": {
             "colorbar": {
              "outlinewidth": 0,
              "ticks": ""
             }
            },
            "type": "scatterternary"
           }
          ],
          "surface": [
           {
            "colorbar": {
             "outlinewidth": 0,
             "ticks": ""
            },
            "colorscale": [
             [
              0,
              "#0d0887"
             ],
             [
              0.1111111111111111,
              "#46039f"
             ],
             [
              0.2222222222222222,
              "#7201a8"
             ],
             [
              0.3333333333333333,
              "#9c179e"
             ],
             [
              0.4444444444444444,
              "#bd3786"
             ],
             [
              0.5555555555555556,
              "#d8576b"
             ],
             [
              0.6666666666666666,
              "#ed7953"
             ],
             [
              0.7777777777777778,
              "#fb9f3a"
             ],
             [
              0.8888888888888888,
              "#fdca26"
             ],
             [
              1,
              "#f0f921"
             ]
            ],
            "type": "surface"
           }
          ],
          "table": [
           {
            "cells": {
             "fill": {
              "color": "#EBF0F8"
             },
             "line": {
              "color": "white"
             }
            },
            "header": {
             "fill": {
              "color": "#C8D4E3"
             },
             "line": {
              "color": "white"
             }
            },
            "type": "table"
           }
          ]
         },
         "layout": {
          "annotationdefaults": {
           "arrowcolor": "#2a3f5f",
           "arrowhead": 0,
           "arrowwidth": 1
          },
          "autotypenumbers": "strict",
          "coloraxis": {
           "colorbar": {
            "outlinewidth": 0,
            "ticks": ""
           }
          },
          "colorscale": {
           "diverging": [
            [
             0,
             "#8e0152"
            ],
            [
             0.1,
             "#c51b7d"
            ],
            [
             0.2,
             "#de77ae"
            ],
            [
             0.3,
             "#f1b6da"
            ],
            [
             0.4,
             "#fde0ef"
            ],
            [
             0.5,
             "#f7f7f7"
            ],
            [
             0.6,
             "#e6f5d0"
            ],
            [
             0.7,
             "#b8e186"
            ],
            [
             0.8,
             "#7fbc41"
            ],
            [
             0.9,
             "#4d9221"
            ],
            [
             1,
             "#276419"
            ]
           ],
           "sequential": [
            [
             0,
             "#0d0887"
            ],
            [
             0.1111111111111111,
             "#46039f"
            ],
            [
             0.2222222222222222,
             "#7201a8"
            ],
            [
             0.3333333333333333,
             "#9c179e"
            ],
            [
             0.4444444444444444,
             "#bd3786"
            ],
            [
             0.5555555555555556,
             "#d8576b"
            ],
            [
             0.6666666666666666,
             "#ed7953"
            ],
            [
             0.7777777777777778,
             "#fb9f3a"
            ],
            [
             0.8888888888888888,
             "#fdca26"
            ],
            [
             1,
             "#f0f921"
            ]
           ],
           "sequentialminus": [
            [
             0,
             "#0d0887"
            ],
            [
             0.1111111111111111,
             "#46039f"
            ],
            [
             0.2222222222222222,
             "#7201a8"
            ],
            [
             0.3333333333333333,
             "#9c179e"
            ],
            [
             0.4444444444444444,
             "#bd3786"
            ],
            [
             0.5555555555555556,
             "#d8576b"
            ],
            [
             0.6666666666666666,
             "#ed7953"
            ],
            [
             0.7777777777777778,
             "#fb9f3a"
            ],
            [
             0.8888888888888888,
             "#fdca26"
            ],
            [
             1,
             "#f0f921"
            ]
           ]
          },
          "colorway": [
           "#636efa",
           "#EF553B",
           "#00cc96",
           "#ab63fa",
           "#FFA15A",
           "#19d3f3",
           "#FF6692",
           "#B6E880",
           "#FF97FF",
           "#FECB52"
          ],
          "font": {
           "color": "#2a3f5f"
          },
          "geo": {
           "bgcolor": "white",
           "lakecolor": "white",
           "landcolor": "#E5ECF6",
           "showlakes": true,
           "showland": true,
           "subunitcolor": "white"
          },
          "hoverlabel": {
           "align": "left"
          },
          "hovermode": "closest",
          "mapbox": {
           "style": "light"
          },
          "paper_bgcolor": "white",
          "plot_bgcolor": "#E5ECF6",
          "polar": {
           "angularaxis": {
            "gridcolor": "white",
            "linecolor": "white",
            "ticks": ""
           },
           "bgcolor": "#E5ECF6",
           "radialaxis": {
            "gridcolor": "white",
            "linecolor": "white",
            "ticks": ""
           }
          },
          "scene": {
           "xaxis": {
            "backgroundcolor": "#E5ECF6",
            "gridcolor": "white",
            "gridwidth": 2,
            "linecolor": "white",
            "showbackground": true,
            "ticks": "",
            "zerolinecolor": "white"
           },
           "yaxis": {
            "backgroundcolor": "#E5ECF6",
            "gridcolor": "white",
            "gridwidth": 2,
            "linecolor": "white",
            "showbackground": true,
            "ticks": "",
            "zerolinecolor": "white"
           },
           "zaxis": {
            "backgroundcolor": "#E5ECF6",
            "gridcolor": "white",
            "gridwidth": 2,
            "linecolor": "white",
            "showbackground": true,
            "ticks": "",
            "zerolinecolor": "white"
           }
          },
          "shapedefaults": {
           "line": {
            "color": "#2a3f5f"
           }
          },
          "ternary": {
           "aaxis": {
            "gridcolor": "white",
            "linecolor": "white",
            "ticks": ""
           },
           "baxis": {
            "gridcolor": "white",
            "linecolor": "white",
            "ticks": ""
           },
           "bgcolor": "#E5ECF6",
           "caxis": {
            "gridcolor": "white",
            "linecolor": "white",
            "ticks": ""
           }
          },
          "title": {
           "x": 0.05
          },
          "xaxis": {
           "automargin": true,
           "gridcolor": "white",
           "linecolor": "white",
           "ticks": "",
           "title": {
            "standoff": 15
           },
           "zerolinecolor": "white",
           "zerolinewidth": 2
          },
          "yaxis": {
           "automargin": true,
           "gridcolor": "white",
           "linecolor": "white",
           "ticks": "",
           "title": {
            "standoff": 15
           },
           "zerolinecolor": "white",
           "zerolinewidth": 2
          }
         }
        },
        "xaxis": {
         "anchor": "y",
         "autorange": true,
         "domain": [
          0,
          1
         ],
         "range": [
          -0.17965098161421006,
          3.17965098161421
         ],
         "title": {
          "text": "variable"
         },
         "type": "category"
        },
        "yaxis": {
         "anchor": "x",
         "autorange": true,
         "domain": [
          0,
          1
         ],
         "range": [
          -0.5093409253605521,
          7.10554337953261
         ],
         "title": {
          "text": "value"
         },
         "type": "linear"
        }
       }
      },
      "image/png": "[encoded data removed]",
      "text/html": [
       "<div>                            <div id=\"2323eefd-de31-4d17-9cf5-c17dab48be08\" class=\"plotly-graph-div\" style=\"height:525px; width:100%;\"></div>            <script type=\"text/javascript\">                require([\"plotly\"], function(Plotly) {                    window.PLOTLYENV=window.PLOTLYENV || {};                                    if (document.getElementById(\"2323eefd-de31-4d17-9cf5-c17dab48be08\")) {                    Plotly.newPlot(                        \"2323eefd-de31-4d17-9cf5-c17dab48be08\",                        [{\"hovertemplate\":\"id=0<br>variable=%{x}<br>value=%{y}<extra></extra>\",\"legendgroup\":\"0\",\"line\":{\"color\":\"#636efa\",\"dash\":\"solid\",\"width\":1.5},\"marker\":{\"symbol\":\"circle\"},\"mode\":\"markers+lines\",\"name\":\"0\",\"orientation\":\"v\",\"showlegend\":true,\"x\":[\"mr\",\"tuplen\",\"R\",\"P\"],\"xaxis\":\"x\",\"y\":[0.2,3.0,0.99,0.0012024541720577037],\"yaxis\":\"y\",\"type\":\"scatter\"},{\"hovertemplate\":\"id=1<br>variable=%{x}<br>value=%{y}<extra></extra>\",\"legendgroup\":\"1\",\"line\":{\"color\":\"#EF553B\",\"dash\":\"solid\",\"width\":1.5},\"marker\":{\"symbol\":\"circle\"},\"mode\":\"markers+lines\",\"name\":\"1\",\"orientation\":\"v\",\"showlegend\":true,\"x\":[\"mr\",\"tuplen\",\"R\",\"P\"],\"xaxis\":\"x\",\"y\":[0.20500000000000002,4.005,0.925,0.005967502391840104],\"yaxis\":\"y\",\"type\":\"scatter\"},{\"hovertemplate\":\"id=2<br>variable=%{x}<br>value=%{y}<extra></extra>\",\"legendgroup\":\"2\",\"line\":{\"color\":\"#00cc96\",\"dash\":\"solid\",\"width\":1.5},\"marker\":{\"symbol\":\"circle\"},\"mode\":\"markers+lines\",\"name\":\"2\",\"orientation\":\"v\",\"showlegend\":true,\"x\":[\"mr\",\"tuplen\",\"R\",\"P\"],\"xaxis\":\"x\",\"y\":[0.21000000000000002,5.01,0.97,0.010628059501442636],\"yaxis\":\"y\",\"type\":\"scatter\"},{\"hovertemplate\":\"id=3<br>variable=%{x}<br>value=%{y}<extra></extra>\",\"legendgroup\":\"3\",\"line\":{\"color\":\"#ab63fa\",\"dash\":\"solid\",\"width\":1.5},\"marker\":{\"symbol\":\"circle\"},\"mode\":\"markers+lines\",\"name\":\"3\",\"orientation\":\"v\",\"showlegend\":true,\"x\":[\"mr\",\"tuplen\",\"R\",\"P\"],\"xaxis\":\"x\",\"y\":[0.21500000000000002,6.015,0.9450000000000001,0.015427879295222494],\"yaxis\":\"y\",\"type\":\"scatter\"},{\"hovertemplate\":\"id=4<br>variable=%{x}<br>value=%{y}<extra></extra>\",\"legendgroup\":\"4\",\"line\":{\"color\":\"#FFA15A\",\"dash\":\"solid\",\"width\":1.5},\"marker\":{\"symbol\":\"circle\"},\"mode\":\"markers+lines\",\"name\":\"4\",\"orientation\":\"v\",\"showlegend\":true,\"x\":[\"mr\",\"tuplen\",\"R\",\"P\"],\"xaxis\":\"x\",\"y\":[0.22,3.02,0.55,0.023835244598066817],\"yaxis\":\"y\",\"type\":\"scatter\"},{\"hovertemplate\":\"id=5<br>variable=%{x}<br>value=%{y}<extra></extra>\",\"legendgroup\":\"5\",\"line\":{\"color\":\"#19d3f3\",\"dash\":\"solid\",\"width\":1.5},\"marker\":{\"symbol\":\"circle\"},\"mode\":\"markers+lines\",\"name\":\"5\",\"orientation\":\"v\",\"showlegend\":true,\"x\":[\"mr\",\"tuplen\",\"R\",\"P\"],\"xaxis\":\"x\",\"y\":[0.225,4.025,0.865,0.026259332393101294],\"yaxis\":\"y\",\"type\":\"scatter\"},{\"hovertemplate\":\"id=6<br>variable=%{x}<br>value=%{y}<extra></extra>\",\"legendgroup\":\"6\",\"line\":{\"color\":\"#FF6692\",\"dash\":\"solid\",\"width\":1.5},\"marker\":{\"symbol\":\"circle\"},\"mode\":\"markers+lines\",\"name\":\"6\",\"orientation\":\"v\",\"showlegend\":true,\"x\":[\"mr\",\"tuplen\",\"R\",\"P\"],\"xaxis\":\"x\",\"y\":[0.23,5.03,0.25,0.03799333568174982],\"yaxis\":\"y\",\"type\":\"scatter\"},{\"hovertemplate\":\"id=7<br>variable=%{x}<br>value=%{y}<extra></extra>\",\"legendgroup\":\"7\",\"line\":{\"color\":\"#B6E880\",\"dash\":\"solid\",\"width\":1.5},\"marker\":{\"symbol\":\"circle\"},\"mode\":\"markers+lines\",\"name\":\"7\",\"orientation\":\"v\",\"showlegend\":true,\"x\":[\"mr\",\"tuplen\",\"R\",\"P\"],\"xaxis\":\"x\",\"y\":[0.23500000000000001,6.035,0.28500000000000003,0.03700972699765157],\"yaxis\":\"y\",\"type\":\"scatter\"},{\"hovertemplate\":\"id=8<br>variable=%{x}<br>value=%{y}<extra></extra>\",\"legendgroup\":\"8\",\"line\":{\"color\":\"#FF97FF\",\"dash\":\"solid\",\"width\":1.5},\"marker\":{\"symbol\":\"circle\"},\"mode\":\"markers+lines\",\"name\":\"8\",\"orientation\":\"v\",\"showlegend\":true,\"x\":[\"mr\",\"tuplen\",\"R\",\"P\"],\"xaxis\":\"x\",\"y\":[0.24000000000000002,3.04,0.24000000000000002,0.04172999546783869],\"yaxis\":\"y\",\"type\":\"scatter\"},{\"hovertemplate\":\"id=9<br>variable=%{x}<br>value=%{y}<extra></extra>\",\"legendgroup\":\"9\",\"line\":{\"color\":\"#FECB52\",\"dash\":\"solid\",\"width\":1.5},\"marker\":{\"symbol\":\"circle\"},\"mode\":\"markers+lines\",\"name\":\"9\",\"orientation\":\"v\",\"showlegend\":true,\"x\":[\"mr\",\"tuplen\",\"R\",\"P\"],\"xaxis\":\"x\",\"y\":[0.245,4.045,0.105,0.06853801169590643],\"yaxis\":\"y\",\"type\":\"scatter\"},{\"hovertemplate\":\"id=10<br>variable=%{x}<br>value=%{y}<extra></extra>\",\"legendgroup\":\"10\",\"line\":{\"color\":\"#636efa\",\"dash\":\"solid\",\"width\":1.5},\"marker\":{\"symbol\":\"circle\"},\"mode\":\"markers+lines\",\"name\":\"10\",\"orientation\":\"v\",\"showlegend\":true,\"x\":[\"mr\",\"tuplen\",\"R\",\"P\"],\"xaxis\":\"x\",\"y\":[0.25,5.05,0.11,0.056880341880341884],\"yaxis\":\"y\",\"type\":\"scatter\"},{\"hovertemplate\":\"id=11<br>variable=%{x}<br>value=%{y}<extra></extra>\",\"legendgroup\":\"11\",\"line\":{\"color\":\"#EF553B\",\"dash\":\"solid\",\"width\":1.5},\"marker\":{\"symbol\":\"circle\"},\"mode\":\"markers+lines\",\"name\":\"11\",\"orientation\":\"v\",\"showlegend\":true,\"x\":[\"mr\",\"tuplen\",\"R\",\"P\"],\"xaxis\":\"x\",\"y\":[0.255,6.055,0.055,0.055],\"yaxis\":\"y\",\"type\":\"scatter\"},{\"hovertemplate\":\"id=12<br>variable=%{x}<br>value=%{y}<extra></extra>\",\"legendgroup\":\"12\",\"line\":{\"color\":\"#00cc96\",\"dash\":\"solid\",\"width\":1.5},\"marker\":{\"symbol\":\"circle\"},\"mode\":\"markers+lines\",\"name\":\"12\",\"orientation\":\"v\",\"showlegend\":true,\"x\":[\"mr\",\"tuplen\",\"R\",\"P\"],\"xaxis\":\"x\",\"y\":[0.26,3.06,1.04,0.060654221036256936],\"yaxis\":\"y\",\"type\":\"scatter\"},{\"hovertemplate\":\"id=13<br>variable=%{x}<br>value=%{y}<extra></extra>\",\"legendgroup\":\"13\",\"line\":{\"color\":\"#ab63fa\",\"dash\":\"solid\",\"width\":1.5},\"marker\":{\"symbol\":\"circle\"},\"mode\":\"markers+lines\",\"name\":\"13\",\"orientation\":\"v\",\"showlegend\":true,\"x\":[\"mr\",\"tuplen\",\"R\",\"P\"],\"xaxis\":\"x\",\"y\":[0.265,4.065,0.9550000000000001,0.06722289676370581],\"yaxis\":\"y\",\"type\":\"scatter\"},{\"hovertemplate\":\"id=14<br>variable=%{x}<br>value=%{y}<extra></extra>\",\"legendgroup\":\"14\",\"line\":{\"color\":\"#FFA15A\",\"dash\":\"solid\",\"width\":1.5},\"marker\":{\"symbol\":\"circle\"},\"mode\":\"markers+lines\",\"name\":\"14\",\"orientation\":\"v\",\"showlegend\":true,\"x\":[\"mr\",\"tuplen\",\"R\",\"P\"],\"xaxis\":\"x\",\"y\":[0.27,5.07,0.81,0.07306453456601228],\"yaxis\":\"y\",\"type\":\"scatter\"},{\"hovertemplate\":\"id=15<br>variable=%{x}<br>value=%{y}<extra></extra>\",\"legendgroup\":\"15\",\"line\":{\"color\":\"#19d3f3\",\"dash\":\"solid\",\"width\":1.5},\"marker\":{\"symbol\":\"circle\"},\"mode\":\"markers+lines\",\"name\":\"15\",\"orientation\":\"v\",\"showlegend\":true,\"x\":[\"mr\",\"tuplen\",\"R\",\"P\"],\"xaxis\":\"x\",\"y\":[0.275,6.075,0.615,0.08030816395973034],\"yaxis\":\"y\",\"type\":\"scatter\"},{\"hovertemplate\":\"id=16<br>variable=%{x}<br>value=%{y}<extra></extra>\",\"legendgroup\":\"16\",\"line\":{\"color\":\"#FF6692\",\"dash\":\"solid\",\"width\":1.5},\"marker\":{\"symbol\":\"circle\"},\"mode\":\"markers+lines\",\"name\":\"16\",\"orientation\":\"v\",\"showlegend\":true,\"x\":[\"mr\",\"tuplen\",\"R\",\"P\"],\"xaxis\":\"x\",\"y\":[0.28,3.08,0.48000000000000004,0.08564008239983395],\"yaxis\":\"y\",\"type\":\"scatter\"},{\"hovertemplate\":\"id=17<br>variable=%{x}<br>value=%{y}<extra></extra>\",\"legendgroup\":\"17\",\"line\":{\"color\":\"#B6E880\",\"dash\":\"solid\",\"width\":1.5},\"marker\":{\"symbol\":\"circle\"},\"mode\":\"markers+lines\",\"name\":\"17\",\"orientation\":\"v\",\"showlegend\":true,\"x\":[\"mr\",\"tuplen\",\"R\",\"P\"],\"xaxis\":\"x\",\"y\":[0.28500000000000003,4.085,0.535,0.08809766716666804],\"yaxis\":\"y\",\"type\":\"scatter\"},{\"hovertemplate\":\"id=18<br>variable=%{x}<br>value=%{y}<extra></extra>\",\"legendgroup\":\"18\",\"line\":{\"color\":\"#FF97FF\",\"dash\":\"solid\",\"width\":1.5},\"marker\":{\"symbol\":\"circle\"},\"mode\":\"markers+lines\",\"name\":\"18\",\"orientation\":\"v\",\"showlegend\":true,\"x\":[\"mr\",\"tuplen\",\"R\",\"P\"],\"xaxis\":\"x\",\"y\":[0.29000000000000004,5.09,0.26,0.09437205586358183],\"yaxis\":\"y\",\"type\":\"scatter\"},{\"hovertemplate\":\"id=19<br>variable=%{x}<br>value=%{y}<extra></extra>\",\"legendgroup\":\"19\",\"line\":{\"color\":\"#FECB52\",\"dash\":\"solid\",\"width\":1.5},\"marker\":{\"symbol\":\"circle\"},\"mode\":\"markers+lines\",\"name\":\"19\",\"orientation\":\"v\",\"showlegend\":true,\"x\":[\"mr\",\"tuplen\",\"R\",\"P\"],\"xaxis\":\"x\",\"y\":[0.29500000000000004,6.095,0.215,0.10335066898065891],\"yaxis\":\"y\",\"type\":\"scatter\"},{\"hovertemplate\":\"id=20<br>variable=%{x}<br>value=%{y}<extra></extra>\",\"legendgroup\":\"20\",\"line\":{\"color\":\"#636efa\",\"dash\":\"solid\",\"width\":1.5},\"marker\":{\"symbol\":\"circle\"},\"mode\":\"markers+lines\",\"name\":\"20\",\"orientation\":\"v\",\"showlegend\":true,\"x\":[\"mr\",\"tuplen\",\"R\",\"P\"],\"xaxis\":\"x\",\"y\":[0.30000000000000004,3.1,0.2,0.11662182228679116],\"yaxis\":\"y\",\"type\":\"scatter\"},{\"hovertemplate\":\"id=21<br>variable=%{x}<br>value=%{y}<extra></extra>\",\"legendgroup\":\"21\",\"line\":{\"color\":\"#EF553B\",\"dash\":\"solid\",\"width\":1.5},\"marker\":{\"symbol\":\"circle\"},\"mode\":\"markers+lines\",\"name\":\"21\",\"orientation\":\"v\",\"showlegend\":true,\"x\":[\"mr\",\"tuplen\",\"R\",\"P\"],\"xaxis\":\"x\",\"y\":[0.305,4.105,0.11499999999999999,0.1061111111111111],\"yaxis\":\"y\",\"type\":\"scatter\"},{\"hovertemplate\":\"id=22<br>variable=%{x}<br>value=%{y}<extra></extra>\",\"legendgroup\":\"22\",\"line\":{\"color\":\"#00cc96\",\"dash\":\"solid\",\"width\":1.5},\"marker\":{\"symbol\":\"circle\"},\"mode\":\"markers+lines\",\"name\":\"22\",\"orientation\":\"v\",\"showlegend\":true,\"x\":[\"mr\",\"tuplen\",\"R\",\"P\"],\"xaxis\":\"x\",\"y\":[0.31,5.11,0.12,0.12428571428571429],\"yaxis\":\"y\",\"type\":\"scatter\"},{\"hovertemplate\":\"id=23<br>variable=%{x}<br>value=%{y}<extra></extra>\",\"legendgroup\":\"23\",\"line\":{\"color\":\"#ab63fa\",\"dash\":\"solid\",\"width\":1.5},\"marker\":{\"symbol\":\"circle\"},\"mode\":\"markers+lines\",\"name\":\"23\",\"orientation\":\"v\",\"showlegend\":true,\"x\":[\"mr\",\"tuplen\",\"R\",\"P\"],\"xaxis\":\"x\",\"y\":[0.315,6.115,0.965,0.11553798299378247],\"yaxis\":\"y\",\"type\":\"scatter\"},{\"hovertemplate\":\"id=24<br>variable=%{x}<br>value=%{y}<extra></extra>\",\"legendgroup\":\"24\",\"line\":{\"color\":\"#FFA15A\",\"dash\":\"solid\",\"width\":1.5},\"marker\":{\"symbol\":\"circle\"},\"mode\":\"markers+lines\",\"name\":\"24\",\"orientation\":\"v\",\"showlegend\":true,\"x\":[\"mr\",\"tuplen\",\"R\",\"P\"],\"xaxis\":\"x\",\"y\":[0.32,3.12,1.08,0.12180060228487584],\"yaxis\":\"y\",\"type\":\"scatter\"},{\"hovertemplate\":\"id=25<br>variable=%{x}<br>value=%{y}<extra></extra>\",\"legendgroup\":\"25\",\"line\":{\"color\":\"#19d3f3\",\"dash\":\"solid\",\"width\":1.5},\"marker\":{\"symbol\":\"circle\"},\"mode\":\"markers+lines\",\"name\":\"25\",\"orientation\":\"v\",\"showlegend\":true,\"x\":[\"mr\",\"tuplen\",\"R\",\"P\"],\"xaxis\":\"x\",\"y\":[0.325,4.125,1.0550000000000002,0.12731905140627503],\"yaxis\":\"y\",\"type\":\"scatter\"},{\"hovertemplate\":\"id=26<br>variable=%{x}<br>value=%{y}<extra></extra>\",\"legendgroup\":\"26\",\"line\":{\"color\":\"#FF6692\",\"dash\":\"solid\",\"width\":1.5},\"marker\":{\"symbol\":\"circle\"},\"mode\":\"markers+lines\",\"name\":\"26\",\"orientation\":\"v\",\"showlegend\":true,\"x\":[\"mr\",\"tuplen\",\"R\",\"P\"],\"xaxis\":\"x\",\"y\":[0.33,5.13,1.1099999999999999,0.1311387022360964],\"yaxis\":\"y\",\"type\":\"scatter\"},{\"hovertemplate\":\"id=27<br>variable=%{x}<br>value=%{y}<extra></extra>\",\"legendgroup\":\"27\",\"line\":{\"color\":\"#B6E880\",\"dash\":\"solid\",\"width\":1.5},\"marker\":{\"symbol\":\"circle\"},\"mode\":\"markers+lines\",\"name\":\"27\",\"orientation\":\"v\",\"showlegend\":true,\"x\":[\"mr\",\"tuplen\",\"R\",\"P\"],\"xaxis\":\"x\",\"y\":[0.335,6.135,0.795,0.13833971254411676],\"yaxis\":\"y\",\"type\":\"scatter\"},{\"hovertemplate\":\"id=28<br>variable=%{x}<br>value=%{y}<extra></extra>\",\"legendgroup\":\"28\",\"line\":{\"color\":\"#FF97FF\",\"dash\":\"solid\",\"width\":1.5},\"marker\":{\"symbol\":\"circle\"},\"mode\":\"markers+lines\",\"name\":\"28\",\"orientation\":\"v\",\"showlegend\":true,\"x\":[\"mr\",\"tuplen\",\"R\",\"P\"],\"xaxis\":\"x\",\"y\":[0.34,3.14,0.8,0.1429403429386748],\"yaxis\":\"y\",\"type\":\"scatter\"},{\"hovertemplate\":\"id=29<br>variable=%{x}<br>value=%{y}<extra></extra>\",\"legendgroup\":\"29\",\"line\":{\"color\":\"#FECB52\",\"dash\":\"solid\",\"width\":1.5},\"marker\":{\"symbol\":\"circle\"},\"mode\":\"markers+lines\",\"name\":\"29\",\"orientation\":\"v\",\"showlegend\":true,\"x\":[\"mr\",\"tuplen\",\"R\",\"P\"],\"xaxis\":\"x\",\"y\":[0.345,4.145,0.485,0.15295825405468175],\"yaxis\":\"y\",\"type\":\"scatter\"},{\"hovertemplate\":\"id=30<br>variable=%{x}<br>value=%{y}<extra></extra>\",\"legendgroup\":\"30\",\"line\":{\"color\":\"#636efa\",\"dash\":\"solid\",\"width\":1.5},\"marker\":{\"symbol\":\"circle\"},\"mode\":\"markers+lines\",\"name\":\"30\",\"orientation\":\"v\",\"showlegend\":true,\"x\":[\"mr\",\"tuplen\",\"R\",\"P\"],\"xaxis\":\"x\",\"y\":[0.35,5.15,0.27,0.17127757694768003],\"yaxis\":\"y\",\"type\":\"scatter\"},{\"hovertemplate\":\"id=31<br>variable=%{x}<br>value=%{y}<extra></extra>\",\"legendgroup\":\"31\",\"line\":{\"color\":\"#EF553B\",\"dash\":\"solid\",\"width\":1.5},\"marker\":{\"symbol\":\"circle\"},\"mode\":\"markers+lines\",\"name\":\"31\",\"orientation\":\"v\",\"showlegend\":true,\"x\":[\"mr\",\"tuplen\",\"R\",\"P\"],\"xaxis\":\"x\",\"y\":[0.355,6.155,0.175,0.23192307692307693],\"yaxis\":\"y\",\"type\":\"scatter\"},{\"hovertemplate\":\"id=32<br>variable=%{x}<br>value=%{y}<extra></extra>\",\"legendgroup\":\"32\",\"line\":{\"color\":\"#00cc96\",\"dash\":\"solid\",\"width\":1.5},\"marker\":{\"symbol\":\"circle\"},\"mode\":\"markers+lines\",\"name\":\"32\",\"orientation\":\"v\",\"showlegend\":true,\"x\":[\"mr\",\"tuplen\",\"R\",\"P\"],\"xaxis\":\"x\",\"y\":[0.36,3.16,0.29000000000000004,0.17011172637880217],\"yaxis\":\"y\",\"type\":\"scatter\"},{\"hovertemplate\":\"id=33<br>variable=%{x}<br>value=%{y}<extra></extra>\",\"legendgroup\":\"33\",\"line\":{\"color\":\"#ab63fa\",\"dash\":\"solid\",\"width\":1.5},\"marker\":{\"symbol\":\"circle\"},\"mode\":\"markers+lines\",\"name\":\"33\",\"orientation\":\"v\",\"showlegend\":true,\"x\":[\"mr\",\"tuplen\",\"R\",\"P\"],\"xaxis\":\"x\",\"y\":[0.365,4.165,0.195,0.2611538461538462],\"yaxis\":\"y\",\"type\":\"scatter\"},{\"hovertemplate\":\"id=34<br>variable=%{x}<br>value=%{y}<extra></extra>\",\"legendgroup\":\"34\",\"line\":{\"color\":\"#FFA15A\",\"dash\":\"solid\",\"width\":1.5},\"marker\":{\"symbol\":\"circle\"},\"mode\":\"markers+lines\",\"name\":\"34\",\"orientation\":\"v\",\"showlegend\":true,\"x\":[\"mr\",\"tuplen\",\"R\",\"P\"],\"xaxis\":\"x\",\"y\":[0.37,5.17,0.17,0.17],\"yaxis\":\"y\",\"type\":\"scatter\"},{\"hovertemplate\":\"id=35<br>variable=%{x}<br>value=%{y}<extra></extra>\",\"legendgroup\":\"35\",\"line\":{\"color\":\"#19d3f3\",\"dash\":\"solid\",\"width\":1.5},\"marker\":{\"symbol\":\"circle\"},\"mode\":\"markers+lines\",\"name\":\"35\",\"orientation\":\"v\",\"showlegend\":true,\"x\":[\"mr\",\"tuplen\",\"R\",\"P\"],\"xaxis\":\"x\",\"y\":[0.375,6.175,0.17500000000000002,null],\"yaxis\":\"y\",\"type\":\"scatter\"},{\"hovertemplate\":\"id=36<br>variable=%{x}<br>value=%{y}<extra></extra>\",\"legendgroup\":\"36\",\"line\":{\"color\":\"#FF6692\",\"dash\":\"solid\",\"width\":1.5},\"marker\":{\"symbol\":\"circle\"},\"mode\":\"markers+lines\",\"name\":\"36\",\"orientation\":\"v\",\"showlegend\":true,\"x\":[\"mr\",\"tuplen\",\"R\",\"P\"],\"xaxis\":\"x\",\"y\":[0.38,3.18,1.15,0.18099383555364276],\"yaxis\":\"y\",\"type\":\"scatter\"},{\"hovertemplate\":\"id=37<br>variable=%{x}<br>value=%{y}<extra></extra>\",\"legendgroup\":\"37\",\"line\":{\"color\":\"#B6E880\",\"dash\":\"solid\",\"width\":1.5},\"marker\":{\"symbol\":\"circle\"},\"mode\":\"markers+lines\",\"name\":\"37\",\"orientation\":\"v\",\"showlegend\":true,\"x\":[\"mr\",\"tuplen\",\"R\",\"P\"],\"xaxis\":\"x\",\"y\":[0.385,4.185,1.135,0.18634859181929073],\"yaxis\":\"y\",\"type\":\"scatter\"},{\"hovertemplate\":\"id=38<br>variable=%{x}<br>value=%{y}<extra></extra>\",\"legendgroup\":\"38\",\"line\":{\"color\":\"#FF97FF\",\"dash\":\"solid\",\"width\":1.5},\"marker\":{\"symbol\":\"circle\"},\"mode\":\"markers+lines\",\"name\":\"38\",\"orientation\":\"v\",\"showlegend\":true,\"x\":[\"mr\",\"tuplen\",\"R\",\"P\"],\"xaxis\":\"x\",\"y\":[0.39,5.19,0.95,0.19353089207818927],\"yaxis\":\"y\",\"type\":\"scatter\"},{\"hovertemplate\":\"id=39<br>variable=%{x}<br>value=%{y}<extra></extra>\",\"legendgroup\":\"39\",\"line\":{\"color\":\"#FECB52\",\"dash\":\"solid\",\"width\":1.5},\"marker\":{\"symbol\":\"circle\"},\"mode\":\"markers+lines\",\"name\":\"39\",\"orientation\":\"v\",\"showlegend\":true,\"x\":[\"mr\",\"tuplen\",\"R\",\"P\"],\"xaxis\":\"x\",\"y\":[0.395,6.195,0.7350000000000001,0.2005117874960941],\"yaxis\":\"y\",\"type\":\"scatter\"},{\"hovertemplate\":\"id=40<br>variable=%{x}<br>value=%{y}<extra></extra>\",\"legendgroup\":\"40\",\"line\":{\"color\":\"#636efa\",\"dash\":\"solid\",\"width\":1.5},\"marker\":{\"symbol\":\"circle\"},\"mode\":\"markers+lines\",\"name\":\"40\",\"orientation\":\"v\",\"showlegend\":true,\"x\":[\"mr\",\"tuplen\",\"R\",\"P\"],\"xaxis\":\"x\",\"y\":[0.4,3.2,0.56,0.20714031048568646],\"yaxis\":\"y\",\"type\":\"scatter\"},{\"hovertemplate\":\"id=41<br>variable=%{x}<br>value=%{y}<extra></extra>\",\"legendgroup\":\"41\",\"line\":{\"color\":\"#EF553B\",\"dash\":\"solid\",\"width\":1.5},\"marker\":{\"symbol\":\"circle\"},\"mode\":\"markers+lines\",\"name\":\"41\",\"orientation\":\"v\",\"showlegend\":true,\"x\":[\"mr\",\"tuplen\",\"R\",\"P\"],\"xaxis\":\"x\",\"y\":[0.405,4.205,0.325,0.24250313745569912],\"yaxis\":\"y\",\"type\":\"scatter\"},{\"hovertemplate\":\"id=42<br>variable=%{x}<br>value=%{y}<extra></extra>\",\"legendgroup\":\"42\",\"line\":{\"color\":\"#00cc96\",\"dash\":\"solid\",\"width\":1.5},\"marker\":{\"symbol\":\"circle\"},\"mode\":\"markers+lines\",\"name\":\"42\",\"orientation\":\"v\",\"showlegend\":true,\"x\":[\"mr\",\"tuplen\",\"R\",\"P\"],\"xaxis\":\"x\",\"y\":[0.41000000000000003,5.21,0.29,0.2334065934065934],\"yaxis\":\"y\",\"type\":\"scatter\"},{\"hovertemplate\":\"id=43<br>variable=%{x}<br>value=%{y}<extra></extra>\",\"legendgroup\":\"43\",\"line\":{\"color\":\"#ab63fa\",\"dash\":\"solid\",\"width\":1.5},\"marker\":{\"symbol\":\"circle\"},\"mode\":\"markers+lines\",\"name\":\"43\",\"orientation\":\"v\",\"showlegend\":true,\"x\":[\"mr\",\"tuplen\",\"R\",\"P\"],\"xaxis\":\"x\",\"y\":[0.41500000000000004,6.215,0.255,0.273],\"yaxis\":\"y\",\"type\":\"scatter\"},{\"hovertemplate\":\"id=44<br>variable=%{x}<br>value=%{y}<extra></extra>\",\"legendgroup\":\"44\",\"line\":{\"color\":\"#FFA15A\",\"dash\":\"solid\",\"width\":1.5},\"marker\":{\"symbol\":\"circle\"},\"mode\":\"markers+lines\",\"name\":\"44\",\"orientation\":\"v\",\"showlegend\":true,\"x\":[\"mr\",\"tuplen\",\"R\",\"P\"],\"xaxis\":\"x\",\"y\":[0.42000000000000004,3.22,0.27,0.227179675994109],\"yaxis\":\"y\",\"type\":\"scatter\"},{\"hovertemplate\":\"id=45<br>variable=%{x}<br>value=%{y}<extra></extra>\",\"legendgroup\":\"45\",\"line\":{\"color\":\"#19d3f3\",\"dash\":\"solid\",\"width\":1.5},\"marker\":{\"symbol\":\"circle\"},\"mode\":\"markers+lines\",\"name\":\"45\",\"orientation\":\"v\",\"showlegend\":true,\"x\":[\"mr\",\"tuplen\",\"R\",\"P\"],\"xaxis\":\"x\",\"y\":[0.42500000000000004,4.225,0.23500000000000001,0.42500000000000004],\"yaxis\":\"y\",\"type\":\"scatter\"},{\"hovertemplate\":\"id=46<br>variable=%{x}<br>value=%{y}<extra></extra>\",\"legendgroup\":\"46\",\"line\":{\"color\":\"#FF6692\",\"dash\":\"solid\",\"width\":1.5},\"marker\":{\"symbol\":\"circle\"},\"mode\":\"markers+lines\",\"name\":\"46\",\"orientation\":\"v\",\"showlegend\":true,\"x\":[\"mr\",\"tuplen\",\"R\",\"P\"],\"xaxis\":\"x\",\"y\":[0.43000000000000005,5.23,0.24000000000000002,0.24492537313432836],\"yaxis\":\"y\",\"type\":\"scatter\"},{\"hovertemplate\":\"id=47<br>variable=%{x}<br>value=%{y}<extra></extra>\",\"legendgroup\":\"47\",\"line\":{\"color\":\"#B6E880\",\"dash\":\"solid\",\"width\":1.5},\"marker\":{\"symbol\":\"circle\"},\"mode\":\"markers+lines\",\"name\":\"47\",\"orientation\":\"v\",\"showlegend\":true,\"x\":[\"mr\",\"tuplen\",\"R\",\"P\"],\"xaxis\":\"x\",\"y\":[0.43500000000000005,6.235,0.24500000000000002,1.235],\"yaxis\":\"y\",\"type\":\"scatter\"},{\"hovertemplate\":\"id=48<br>variable=%{x}<br>value=%{y}<extra></extra>\",\"legendgroup\":\"48\",\"line\":{\"color\":\"#FF97FF\",\"dash\":\"solid\",\"width\":1.5},\"marker\":{\"symbol\":\"circle\"},\"mode\":\"markers+lines\",\"name\":\"48\",\"orientation\":\"v\",\"showlegend\":true,\"x\":[\"mr\",\"tuplen\",\"R\",\"P\"],\"xaxis\":\"x\",\"y\":[0.44,3.24,1.24,0.2415790215476599],\"yaxis\":\"y\",\"type\":\"scatter\"},{\"hovertemplate\":\"id=49<br>variable=%{x}<br>value=%{y}<extra></extra>\",\"legendgroup\":\"49\",\"line\":{\"color\":\"#FECB52\",\"dash\":\"solid\",\"width\":1.5},\"marker\":{\"symbol\":\"circle\"},\"mode\":\"markers+lines\",\"name\":\"49\",\"orientation\":\"v\",\"showlegend\":true,\"x\":[\"mr\",\"tuplen\",\"R\",\"P\"],\"xaxis\":\"x\",\"y\":[0.445,4.245,0.915,0.25312579612519726],\"yaxis\":\"y\",\"type\":\"scatter\"},{\"hovertemplate\":\"id=50<br>variable=%{x}<br>value=%{y}<extra></extra>\",\"legendgroup\":\"50\",\"line\":{\"color\":\"#636efa\",\"dash\":\"solid\",\"width\":1.5},\"marker\":{\"symbol\":\"circle\"},\"mode\":\"markers+lines\",\"name\":\"50\",\"orientation\":\"v\",\"showlegend\":true,\"x\":[\"mr\",\"tuplen\",\"R\",\"P\"],\"xaxis\":\"x\",\"y\":[0.45,5.25,0.87,0.25503634799788677],\"yaxis\":\"y\",\"type\":\"scatter\"},{\"hovertemplate\":\"id=51<br>variable=%{x}<br>value=%{y}<extra></extra>\",\"legendgroup\":\"51\",\"line\":{\"color\":\"#EF553B\",\"dash\":\"solid\",\"width\":1.5},\"marker\":{\"symbol\":\"circle\"},\"mode\":\"markers+lines\",\"name\":\"51\",\"orientation\":\"v\",\"showlegend\":true,\"x\":[\"mr\",\"tuplen\",\"R\",\"P\"],\"xaxis\":\"x\",\"y\":[0.455,6.255,1.105,0.2577179647849234],\"yaxis\":\"y\",\"type\":\"scatter\"},{\"hovertemplate\":\"id=52<br>variable=%{x}<br>value=%{y}<extra></extra>\",\"legendgroup\":\"52\",\"line\":{\"color\":\"#00cc96\",\"dash\":\"solid\",\"width\":1.5},\"marker\":{\"symbol\":\"circle\"},\"mode\":\"markers+lines\",\"name\":\"52\",\"orientation\":\"v\",\"showlegend\":true,\"x\":[\"mr\",\"tuplen\",\"R\",\"P\"],\"xaxis\":\"x\",\"y\":[0.46,3.26,0.96,0.2629398462800812],\"yaxis\":\"y\",\"type\":\"scatter\"},{\"hovertemplate\":\"id=53<br>variable=%{x}<br>value=%{y}<extra></extra>\",\"legendgroup\":\"53\",\"line\":{\"color\":\"#ab63fa\",\"dash\":\"solid\",\"width\":1.5},\"marker\":{\"symbol\":\"circle\"},\"mode\":\"markers+lines\",\"name\":\"53\",\"orientation\":\"v\",\"showlegend\":true,\"x\":[\"mr\",\"tuplen\",\"R\",\"P\"],\"xaxis\":\"x\",\"y\":[0.465,4.265,0.365,0.3021415770609319],\"yaxis\":\"y\",\"type\":\"scatter\"},{\"hovertemplate\":\"id=54<br>variable=%{x}<br>value=%{y}<extra></extra>\",\"legendgroup\":\"54\",\"line\":{\"color\":\"#FFA15A\",\"dash\":\"solid\",\"width\":1.5},\"marker\":{\"symbol\":\"circle\"},\"mode\":\"markers+lines\",\"name\":\"54\",\"orientation\":\"v\",\"showlegend\":true,\"x\":[\"mr\",\"tuplen\",\"R\",\"P\"],\"xaxis\":\"x\",\"y\":[0.47000000000000003,5.27,0.39,0.29722272892922863],\"yaxis\":\"y\",\"type\":\"scatter\"},{\"hovertemplate\":\"id=55<br>variable=%{x}<br>value=%{y}<extra></extra>\",\"legendgroup\":\"55\",\"line\":{\"color\":\"#19d3f3\",\"dash\":\"solid\",\"width\":1.5},\"marker\":{\"symbol\":\"circle\"},\"mode\":\"markers+lines\",\"name\":\"55\",\"orientation\":\"v\",\"showlegend\":true,\"x\":[\"mr\",\"tuplen\",\"R\",\"P\"],\"xaxis\":\"x\",\"y\":[0.47500000000000003,6.275,0.30500000000000005,0.3003731343283582],\"yaxis\":\"y\",\"type\":\"scatter\"},{\"hovertemplate\":\"id=56<br>variable=%{x}<br>value=%{y}<extra></extra>\",\"legendgroup\":\"56\",\"line\":{\"color\":\"#FF6692\",\"dash\":\"solid\",\"width\":1.5},\"marker\":{\"symbol\":\"circle\"},\"mode\":\"markers+lines\",\"name\":\"56\",\"orientation\":\"v\",\"showlegend\":true,\"x\":[\"mr\",\"tuplen\",\"R\",\"P\"],\"xaxis\":\"x\",\"y\":[0.48000000000000004,3.2800000000000002,0.37,0.2958476297365187],\"yaxis\":\"y\",\"type\":\"scatter\"},{\"hovertemplate\":\"id=57<br>variable=%{x}<br>value=%{y}<extra></extra>\",\"legendgroup\":\"57\",\"line\":{\"color\":\"#B6E880\",\"dash\":\"solid\",\"width\":1.5},\"marker\":{\"symbol\":\"circle\"},\"mode\":\"markers+lines\",\"name\":\"57\",\"orientation\":\"v\",\"showlegend\":true,\"x\":[\"mr\",\"tuplen\",\"R\",\"P\"],\"xaxis\":\"x\",\"y\":[0.48500000000000004,4.285,0.28500000000000003,0.28500000000000003],\"yaxis\":\"y\",\"type\":\"scatter\"},{\"hovertemplate\":\"id=58<br>variable=%{x}<br>value=%{y}<extra></extra>\",\"legendgroup\":\"58\",\"line\":{\"color\":\"#FF97FF\",\"dash\":\"solid\",\"width\":1.5},\"marker\":{\"symbol\":\"circle\"},\"mode\":\"markers+lines\",\"name\":\"58\",\"orientation\":\"v\",\"showlegend\":true,\"x\":[\"mr\",\"tuplen\",\"R\",\"P\"],\"xaxis\":\"x\",\"y\":[0.49,5.29,0.3,0.43285714285714283],\"yaxis\":\"y\",\"type\":\"scatter\"},{\"hovertemplate\":\"id=59<br>variable=%{x}<br>value=%{y}<extra></extra>\",\"legendgroup\":\"59\",\"line\":{\"color\":\"#FECB52\",\"dash\":\"solid\",\"width\":1.5},\"marker\":{\"symbol\":\"circle\"},\"mode\":\"markers+lines\",\"name\":\"59\",\"orientation\":\"v\",\"showlegend\":true,\"x\":[\"mr\",\"tuplen\",\"R\",\"P\"],\"xaxis\":\"x\",\"y\":[0.495,6.295,0.295,0.295],\"yaxis\":\"y\",\"type\":\"scatter\"},{\"hovertemplate\":\"id=60<br>variable=%{x}<br>value=%{y}<extra></extra>\",\"legendgroup\":\"60\",\"line\":{\"color\":\"#636efa\",\"dash\":\"solid\",\"width\":1.5},\"marker\":{\"symbol\":\"circle\"},\"mode\":\"markers+lines\",\"name\":\"60\",\"orientation\":\"v\",\"showlegend\":true,\"x\":[\"mr\",\"tuplen\",\"R\",\"P\"],\"xaxis\":\"x\",\"y\":[0.5,3.3,1.3,0.300611987513137],\"yaxis\":\"y\",\"type\":\"scatter\"},{\"hovertemplate\":\"id=61<br>variable=%{x}<br>value=%{y}<extra></extra>\",\"legendgroup\":\"61\",\"line\":{\"color\":\"#EF553B\",\"dash\":\"solid\",\"width\":1.5},\"marker\":{\"symbol\":\"circle\"},\"mode\":\"markers+lines\",\"name\":\"61\",\"orientation\":\"v\",\"showlegend\":true,\"x\":[\"mr\",\"tuplen\",\"R\",\"P\"],\"xaxis\":\"x\",\"y\":[0.505,4.305,1.085,0.3081002750247378],\"yaxis\":\"y\",\"type\":\"scatter\"},{\"hovertemplate\":\"id=62<br>variable=%{x}<br>value=%{y}<extra></extra>\",\"legendgroup\":\"62\",\"line\":{\"color\":\"#00cc96\",\"dash\":\"solid\",\"width\":1.5},\"marker\":{\"symbol\":\"circle\"},\"mode\":\"markers+lines\",\"name\":\"62\",\"orientation\":\"v\",\"showlegend\":true,\"x\":[\"mr\",\"tuplen\",\"R\",\"P\"],\"xaxis\":\"x\",\"y\":[0.51,5.31,1.12,0.3117736715619213],\"yaxis\":\"y\",\"type\":\"scatter\"},{\"hovertemplate\":\"id=63<br>variable=%{x}<br>value=%{y}<extra></extra>\",\"legendgroup\":\"63\",\"line\":{\"color\":\"#ab63fa\",\"dash\":\"solid\",\"width\":1.5},\"marker\":{\"symbol\":\"circle\"},\"mode\":\"markers+lines\",\"name\":\"63\",\"orientation\":\"v\",\"showlegend\":true,\"x\":[\"mr\",\"tuplen\",\"R\",\"P\"],\"xaxis\":\"x\",\"y\":[0.515,6.315,1.195,0.31631823238220513],\"yaxis\":\"y\",\"type\":\"scatter\"},{\"hovertemplate\":\"id=64<br>variable=%{x}<br>value=%{y}<extra></extra>\",\"legendgroup\":\"64\",\"line\":{\"color\":\"#FFA15A\",\"dash\":\"solid\",\"width\":1.5},\"marker\":{\"symbol\":\"circle\"},\"mode\":\"markers+lines\",\"name\":\"64\",\"orientation\":\"v\",\"showlegend\":true,\"x\":[\"mr\",\"tuplen\",\"R\",\"P\"],\"xaxis\":\"x\",\"y\":[0.52,3.32,1.31,0.32117386950289994],\"yaxis\":\"y\",\"type\":\"scatter\"},{\"hovertemplate\":\"id=65<br>variable=%{x}<br>value=%{y}<extra></extra>\",\"legendgroup\":\"65\",\"line\":{\"color\":\"#19d3f3\",\"dash\":\"solid\",\"width\":1.5},\"marker\":{\"symbol\":\"circle\"},\"mode\":\"markers+lines\",\"name\":\"65\",\"orientation\":\"v\",\"showlegend\":true,\"x\":[\"mr\",\"tuplen\",\"R\",\"P\"],\"xaxis\":\"x\",\"y\":[0.525,4.325,0.825,0.32637358163037716],\"yaxis\":\"y\",\"type\":\"scatter\"},{\"hovertemplate\":\"id=66<br>variable=%{x}<br>value=%{y}<extra></extra>\",\"legendgroup\":\"66\",\"line\":{\"color\":\"#FF6692\",\"dash\":\"solid\",\"width\":1.5},\"marker\":{\"symbol\":\"circle\"},\"mode\":\"markers+lines\",\"name\":\"66\",\"orientation\":\"v\",\"showlegend\":true,\"x\":[\"mr\",\"tuplen\",\"R\",\"P\"],\"xaxis\":\"x\",\"y\":[0.53,5.33,0.46,0.3322558894334439],\"yaxis\":\"y\",\"type\":\"scatter\"},{\"hovertemplate\":\"id=67<br>variable=%{x}<br>value=%{y}<extra></extra>\",\"legendgroup\":\"67\",\"line\":{\"color\":\"#B6E880\",\"dash\":\"solid\",\"width\":1.5},\"marker\":{\"symbol\":\"circle\"},\"mode\":\"markers+lines\",\"name\":\"67\",\"orientation\":\"v\",\"showlegend\":true,\"x\":[\"mr\",\"tuplen\",\"R\",\"P\"],\"xaxis\":\"x\",\"y\":[0.535,6.335,0.5650000000000001,0.3370394015494851],\"yaxis\":\"y\",\"type\":\"scatter\"},{\"hovertemplate\":\"id=68<br>variable=%{x}<br>value=%{y}<extra></extra>\",\"legendgroup\":\"68\",\"line\":{\"color\":\"#FF97FF\",\"dash\":\"solid\",\"width\":1.5},\"marker\":{\"symbol\":\"circle\"},\"mode\":\"markers+lines\",\"name\":\"68\",\"orientation\":\"v\",\"showlegend\":true,\"x\":[\"mr\",\"tuplen\",\"R\",\"P\"],\"xaxis\":\"x\",\"y\":[0.54,3.34,0.34,0.34],\"yaxis\":\"y\",\"type\":\"scatter\"},{\"hovertemplate\":\"id=69<br>variable=%{x}<br>value=%{y}<extra></extra>\",\"legendgroup\":\"69\",\"line\":{\"color\":\"#FECB52\",\"dash\":\"solid\",\"width\":1.5},\"marker\":{\"symbol\":\"circle\"},\"mode\":\"markers+lines\",\"name\":\"69\",\"orientation\":\"v\",\"showlegend\":true,\"x\":[\"mr\",\"tuplen\",\"R\",\"P\"],\"xaxis\":\"x\",\"y\":[0.545,4.345,0.34500000000000003,0.34500000000000003],\"yaxis\":\"y\",\"type\":\"scatter\"},{\"hovertemplate\":\"id=70<br>variable=%{x}<br>value=%{y}<extra></extra>\",\"legendgroup\":\"70\",\"line\":{\"color\":\"#636efa\",\"dash\":\"solid\",\"width\":1.5},\"marker\":{\"symbol\":\"circle\"},\"mode\":\"markers+lines\",\"name\":\"70\",\"orientation\":\"v\",\"showlegend\":true,\"x\":[\"mr\",\"tuplen\",\"R\",\"P\"],\"xaxis\":\"x\",\"y\":[0.55,5.35,0.39,0.3539181286549708],\"yaxis\":\"y\",\"type\":\"scatter\"},{\"hovertemplate\":\"id=71<br>variable=%{x}<br>value=%{y}<extra></extra>\",\"legendgroup\":\"71\",\"line\":{\"color\":\"#EF553B\",\"dash\":\"solid\",\"width\":1.5},\"marker\":{\"symbol\":\"circle\"},\"mode\":\"markers+lines\",\"name\":\"71\",\"orientation\":\"v\",\"showlegend\":true,\"x\":[\"mr\",\"tuplen\",\"R\",\"P\"],\"xaxis\":\"x\",\"y\":[0.5549999999999999,6.355,0.39499999999999996,0.3765773809523809],\"yaxis\":\"y\",\"type\":\"scatter\"},{\"hovertemplate\":\"id=72<br>variable=%{x}<br>value=%{y}<extra></extra>\",\"legendgroup\":\"72\",\"line\":{\"color\":\"#00cc96\",\"dash\":\"solid\",\"width\":1.5},\"marker\":{\"symbol\":\"circle\"},\"mode\":\"markers+lines\",\"name\":\"72\",\"orientation\":\"v\",\"showlegend\":true,\"x\":[\"mr\",\"tuplen\",\"R\",\"P\"],\"xaxis\":\"x\",\"y\":[0.56,3.36,1.3399999999999999,0.3616530110042264],\"yaxis\":\"y\",\"type\":\"scatter\"},{\"hovertemplate\":\"id=73<br>variable=%{x}<br>value=%{y}<extra></extra>\",\"legendgroup\":\"73\",\"line\":{\"color\":\"#ab63fa\",\"dash\":\"solid\",\"width\":1.5},\"marker\":{\"symbol\":\"circle\"},\"mode\":\"markers+lines\",\"name\":\"73\",\"orientation\":\"v\",\"showlegend\":true,\"x\":[\"mr\",\"tuplen\",\"R\",\"P\"],\"xaxis\":\"x\",\"y\":[0.565,4.365,1.345,0.3655946818968262],\"yaxis\":\"y\",\"type\":\"scatter\"},{\"hovertemplate\":\"id=74<br>variable=%{x}<br>value=%{y}<extra></extra>\",\"legendgroup\":\"74\",\"line\":{\"color\":\"#FFA15A\",\"dash\":\"solid\",\"width\":1.5},\"marker\":{\"symbol\":\"circle\"},\"mode\":\"markers+lines\",\"name\":\"74\",\"orientation\":\"v\",\"showlegend\":true,\"x\":[\"mr\",\"tuplen\",\"R\",\"P\"],\"xaxis\":\"x\",\"y\":[0.5700000000000001,5.37,1.01,0.3733534921524324],\"yaxis\":\"y\",\"type\":\"scatter\"},{\"hovertemplate\":\"id=75<br>variable=%{x}<br>value=%{y}<extra></extra>\",\"legendgroup\":\"75\",\"line\":{\"color\":\"#19d3f3\",\"dash\":\"solid\",\"width\":1.5},\"marker\":{\"symbol\":\"circle\"},\"mode\":\"markers+lines\",\"name\":\"75\",\"orientation\":\"v\",\"showlegend\":true,\"x\":[\"mr\",\"tuplen\",\"R\",\"P\"],\"xaxis\":\"x\",\"y\":[0.575,6.375,1.145,0.376784811203791],\"yaxis\":\"y\",\"type\":\"scatter\"},{\"hovertemplate\":\"id=76<br>variable=%{x}<br>value=%{y}<extra></extra>\",\"legendgroup\":\"76\",\"line\":{\"color\":\"#FF6692\",\"dash\":\"solid\",\"width\":1.5},\"marker\":{\"symbol\":\"circle\"},\"mode\":\"markers+lines\",\"name\":\"76\",\"orientation\":\"v\",\"showlegend\":true,\"x\":[\"mr\",\"tuplen\",\"R\",\"P\"],\"xaxis\":\"x\",\"y\":[0.5800000000000001,3.38,0.8,0.38449194203300174],\"yaxis\":\"y\",\"type\":\"scatter\"},{\"hovertemplate\":\"id=77<br>variable=%{x}<br>value=%{y}<extra></extra>\",\"legendgroup\":\"77\",\"line\":{\"color\":\"#B6E880\",\"dash\":\"solid\",\"width\":1.5},\"marker\":{\"symbol\":\"circle\"},\"mode\":\"markers+lines\",\"name\":\"77\",\"orientation\":\"v\",\"showlegend\":true,\"x\":[\"mr\",\"tuplen\",\"R\",\"P\"],\"xaxis\":\"x\",\"y\":[0.585,4.385,0.7050000000000001,0.38944545900149935],\"yaxis\":\"y\",\"type\":\"scatter\"},{\"hovertemplate\":\"id=78<br>variable=%{x}<br>value=%{y}<extra></extra>\",\"legendgroup\":\"78\",\"line\":{\"color\":\"#FF97FF\",\"dash\":\"solid\",\"width\":1.5},\"marker\":{\"symbol\":\"circle\"},\"mode\":\"markers+lines\",\"name\":\"78\",\"orientation\":\"v\",\"showlegend\":true,\"x\":[\"mr\",\"tuplen\",\"R\",\"P\"],\"xaxis\":\"x\",\"y\":[0.5900000000000001,5.39,0.5,0.3996837583950986],\"yaxis\":\"y\",\"type\":\"scatter\"},{\"hovertemplate\":\"id=79<br>variable=%{x}<br>value=%{y}<extra></extra>\",\"legendgroup\":\"79\",\"line\":{\"color\":\"#FECB52\",\"dash\":\"solid\",\"width\":1.5},\"marker\":{\"symbol\":\"circle\"},\"mode\":\"markers+lines\",\"name\":\"79\",\"orientation\":\"v\",\"showlegend\":true,\"x\":[\"mr\",\"tuplen\",\"R\",\"P\"],\"xaxis\":\"x\",\"y\":[0.595,6.395,0.535,0.40751219571056263],\"yaxis\":\"y\",\"type\":\"scatter\"},{\"hovertemplate\":\"id=80<br>variable=%{x}<br>value=%{y}<extra></extra>\",\"legendgroup\":\"80\",\"line\":{\"color\":\"#636efa\",\"dash\":\"solid\",\"width\":1.5},\"marker\":{\"symbol\":\"circle\"},\"mode\":\"markers+lines\",\"name\":\"80\",\"orientation\":\"v\",\"showlegend\":true,\"x\":[\"mr\",\"tuplen\",\"R\",\"P\"],\"xaxis\":\"x\",\"y\":[0.6000000000000001,3.4,0.47000000000000003,0.4161658819371905],\"yaxis\":\"y\",\"type\":\"scatter\"},{\"hovertemplate\":\"id=81<br>variable=%{x}<br>value=%{y}<extra></extra>\",\"legendgroup\":\"81\",\"line\":{\"color\":\"#EF553B\",\"dash\":\"solid\",\"width\":1.5},\"marker\":{\"symbol\":\"circle\"},\"mode\":\"markers+lines\",\"name\":\"81\",\"orientation\":\"v\",\"showlegend\":true,\"x\":[\"mr\",\"tuplen\",\"R\",\"P\"],\"xaxis\":\"x\",\"y\":[0.605,4.405,0.845,0.40709982010701706],\"yaxis\":\"y\",\"type\":\"scatter\"},{\"hovertemplate\":\"id=82<br>variable=%{x}<br>value=%{y}<extra></extra>\",\"legendgroup\":\"82\",\"line\":{\"color\":\"#00cc96\",\"dash\":\"solid\",\"width\":1.5},\"marker\":{\"symbol\":\"circle\"},\"mode\":\"markers+lines\",\"name\":\"82\",\"orientation\":\"v\",\"showlegend\":true,\"x\":[\"mr\",\"tuplen\",\"R\",\"P\"],\"xaxis\":\"x\",\"y\":[0.6100000000000001,5.41,0.42000000000000004,0.500909090909091],\"yaxis\":\"y\",\"type\":\"scatter\"},{\"hovertemplate\":\"id=83<br>variable=%{x}<br>value=%{y}<extra></extra>\",\"legendgroup\":\"83\",\"line\":{\"color\":\"#ab63fa\",\"dash\":\"solid\",\"width\":1.5},\"marker\":{\"symbol\":\"circle\"},\"mode\":\"markers+lines\",\"name\":\"83\",\"orientation\":\"v\",\"showlegend\":true,\"x\":[\"mr\",\"tuplen\",\"R\",\"P\"],\"xaxis\":\"x\",\"y\":[0.615,6.415,0.41500000000000004,0.41500000000000004],\"yaxis\":\"y\",\"type\":\"scatter\"},{\"hovertemplate\":\"id=84<br>variable=%{x}<br>value=%{y}<extra></extra>\",\"legendgroup\":\"84\",\"line\":{\"color\":\"#FFA15A\",\"dash\":\"solid\",\"width\":1.5},\"marker\":{\"symbol\":\"circle\"},\"mode\":\"markers+lines\",\"name\":\"84\",\"orientation\":\"v\",\"showlegend\":true,\"x\":[\"mr\",\"tuplen\",\"R\",\"P\"],\"xaxis\":\"x\",\"y\":[0.62,3.42,1.38,0.42169840257161323],\"yaxis\":\"y\",\"type\":\"scatter\"},{\"hovertemplate\":\"id=85<br>variable=%{x}<br>value=%{y}<extra></extra>\",\"legendgroup\":\"85\",\"line\":{\"color\":\"#19d3f3\",\"dash\":\"solid\",\"width\":1.5},\"marker\":{\"symbol\":\"circle\"},\"mode\":\"markers+lines\",\"name\":\"85\",\"orientation\":\"v\",\"showlegend\":true,\"x\":[\"mr\",\"tuplen\",\"R\",\"P\"],\"xaxis\":\"x\",\"y\":[0.625,4.425,0.9850000000000001,0.4284952616768069],\"yaxis\":\"y\",\"type\":\"scatter\"},{\"hovertemplate\":\"id=86<br>variable=%{x}<br>value=%{y}<extra></extra>\",\"legendgroup\":\"86\",\"line\":{\"color\":\"#FF6692\",\"dash\":\"solid\",\"width\":1.5},\"marker\":{\"symbol\":\"circle\"},\"mode\":\"markers+lines\",\"name\":\"86\",\"orientation\":\"v\",\"showlegend\":true,\"x\":[\"mr\",\"tuplen\",\"R\",\"P\"],\"xaxis\":\"x\",\"y\":[0.63,5.43,1.07,0.4335949968207975],\"yaxis\":\"y\",\"type\":\"scatter\"},{\"hovertemplate\":\"id=87<br>variable=%{x}<br>value=%{y}<extra></extra>\",\"legendgroup\":\"87\",\"line\":{\"color\":\"#B6E880\",\"dash\":\"solid\",\"width\":1.5},\"marker\":{\"symbol\":\"circle\"},\"mode\":\"markers+lines\",\"name\":\"87\",\"orientation\":\"v\",\"showlegend\":true,\"x\":[\"mr\",\"tuplen\",\"R\",\"P\"],\"xaxis\":\"x\",\"y\":[0.635,6.435,0.665,0.4457520995601183],\"yaxis\":\"y\",\"type\":\"scatter\"},{\"hovertemplate\":\"id=88<br>variable=%{x}<br>value=%{y}<extra></extra>\",\"legendgroup\":\"88\",\"line\":{\"color\":\"#FF97FF\",\"dash\":\"solid\",\"width\":1.5},\"marker\":{\"symbol\":\"circle\"},\"mode\":\"markers+lines\",\"name\":\"88\",\"orientation\":\"v\",\"showlegend\":true,\"x\":[\"mr\",\"tuplen\",\"R\",\"P\"],\"xaxis\":\"x\",\"y\":[0.64,3.44,1.11,0.4439898129328758],\"yaxis\":\"y\",\"type\":\"scatter\"},{\"hovertemplate\":\"id=89<br>variable=%{x}<br>value=%{y}<extra></extra>\",\"legendgroup\":\"89\",\"line\":{\"color\":\"#FECB52\",\"dash\":\"solid\",\"width\":1.5},\"marker\":{\"symbol\":\"circle\"},\"mode\":\"markers+lines\",\"name\":\"89\",\"orientation\":\"v\",\"showlegend\":true,\"x\":[\"mr\",\"tuplen\",\"R\",\"P\"],\"xaxis\":\"x\",\"y\":[0.645,4.445,0.505,0.4598839269891902],\"yaxis\":\"y\",\"type\":\"scatter\"},{\"hovertemplate\":\"id=90<br>variable=%{x}<br>value=%{y}<extra></extra>\",\"legendgroup\":\"90\",\"line\":{\"color\":\"#636efa\",\"dash\":\"solid\",\"width\":1.5},\"marker\":{\"symbol\":\"circle\"},\"mode\":\"markers+lines\",\"name\":\"90\",\"orientation\":\"v\",\"showlegend\":true,\"x\":[\"mr\",\"tuplen\",\"R\",\"P\"],\"xaxis\":\"x\",\"y\":[0.65,5.45,0.72,0.4572706237515591],\"yaxis\":\"y\",\"type\":\"scatter\"},{\"hovertemplate\":\"id=91<br>variable=%{x}<br>value=%{y}<extra></extra>\",\"legendgroup\":\"91\",\"line\":{\"color\":\"#EF553B\",\"dash\":\"solid\",\"width\":1.5},\"marker\":{\"symbol\":\"circle\"},\"mode\":\"markers+lines\",\"name\":\"91\",\"orientation\":\"v\",\"showlegend\":true,\"x\":[\"mr\",\"tuplen\",\"R\",\"P\"],\"xaxis\":\"x\",\"y\":[0.655,6.455,0.515,0.5320440251572327],\"yaxis\":\"y\",\"type\":\"scatter\"},{\"hovertemplate\":\"id=92<br>variable=%{x}<br>value=%{y}<extra></extra>\",\"legendgroup\":\"92\",\"line\":{\"color\":\"#00cc96\",\"dash\":\"solid\",\"width\":1.5},\"marker\":{\"symbol\":\"circle\"},\"mode\":\"markers+lines\",\"name\":\"92\",\"orientation\":\"v\",\"showlegend\":true,\"x\":[\"mr\",\"tuplen\",\"R\",\"P\"],\"xaxis\":\"x\",\"y\":[0.66,3.46,0.53,0.48477678571428573],\"yaxis\":\"y\",\"type\":\"scatter\"},{\"hovertemplate\":\"id=93<br>variable=%{x}<br>value=%{y}<extra></extra>\",\"legendgroup\":\"93\",\"line\":{\"color\":\"#ab63fa\",\"dash\":\"solid\",\"width\":1.5},\"marker\":{\"symbol\":\"circle\"},\"mode\":\"markers+lines\",\"name\":\"93\",\"orientation\":\"v\",\"showlegend\":true,\"x\":[\"mr\",\"tuplen\",\"R\",\"P\"],\"xaxis\":\"x\",\"y\":[0.665,4.465,0.465,0.465],\"yaxis\":\"y\",\"type\":\"scatter\"},{\"hovertemplate\":\"id=94<br>variable=%{x}<br>value=%{y}<extra></extra>\",\"legendgroup\":\"94\",\"line\":{\"color\":\"#FFA15A\",\"dash\":\"solid\",\"width\":1.5},\"marker\":{\"symbol\":\"circle\"},\"mode\":\"markers+lines\",\"name\":\"94\",\"orientation\":\"v\",\"showlegend\":true,\"x\":[\"mr\",\"tuplen\",\"R\",\"P\"],\"xaxis\":\"x\",\"y\":[0.67,5.47,0.48000000000000004,1.47],\"yaxis\":\"y\",\"type\":\"scatter\"},{\"hovertemplate\":\"id=95<br>variable=%{x}<br>value=%{y}<extra></extra>\",\"legendgroup\":\"95\",\"line\":{\"color\":\"#19d3f3\",\"dash\":\"solid\",\"width\":1.5},\"marker\":{\"symbol\":\"circle\"},\"mode\":\"markers+lines\",\"name\":\"95\",\"orientation\":\"v\",\"showlegend\":true,\"x\":[\"mr\",\"tuplen\",\"R\",\"P\"],\"xaxis\":\"x\",\"y\":[0.675,6.475,0.47500000000000003,0.47500000000000003],\"yaxis\":\"y\",\"type\":\"scatter\"},{\"hovertemplate\":\"id=96<br>variable=%{x}<br>value=%{y}<extra></extra>\",\"legendgroup\":\"96\",\"line\":{\"color\":\"#FF6692\",\"dash\":\"solid\",\"width\":1.5},\"marker\":{\"symbol\":\"circle\"},\"mode\":\"markers+lines\",\"name\":\"96\",\"orientation\":\"v\",\"showlegend\":true,\"x\":[\"mr\",\"tuplen\",\"R\",\"P\"],\"xaxis\":\"x\",\"y\":[0.6799999999999999,3.48,1.48,0.4808398985519946],\"yaxis\":\"y\",\"type\":\"scatter\"},{\"hovertemplate\":\"id=97<br>variable=%{x}<br>value=%{y}<extra></extra>\",\"legendgroup\":\"97\",\"line\":{\"color\":\"#B6E880\",\"dash\":\"solid\",\"width\":1.5},\"marker\":{\"symbol\":\"circle\"},\"mode\":\"markers+lines\",\"name\":\"97\",\"orientation\":\"v\",\"showlegend\":true,\"x\":[\"mr\",\"tuplen\",\"R\",\"P\"],\"xaxis\":\"x\",\"y\":[0.685,4.485,1.1949999999999998,0.49141748125419954],\"yaxis\":\"y\",\"type\":\"scatter\"},{\"hovertemplate\":\"id=98<br>variable=%{x}<br>value=%{y}<extra></extra>\",\"legendgroup\":\"98\",\"line\":{\"color\":\"#FF97FF\",\"dash\":\"solid\",\"width\":1.5},\"marker\":{\"symbol\":\"circle\"},\"mode\":\"markers+lines\",\"name\":\"98\",\"orientation\":\"v\",\"showlegend\":true,\"x\":[\"mr\",\"tuplen\",\"R\",\"P\"],\"xaxis\":\"x\",\"y\":[0.69,5.49,0.9299999999999999,0.4956971543693895],\"yaxis\":\"y\",\"type\":\"scatter\"},{\"hovertemplate\":\"id=99<br>variable=%{x}<br>value=%{y}<extra></extra>\",\"legendgroup\":\"99\",\"line\":{\"color\":\"#FECB52\",\"dash\":\"solid\",\"width\":1.5},\"marker\":{\"symbol\":\"circle\"},\"mode\":\"markers+lines\",\"name\":\"99\",\"orientation\":\"v\",\"showlegend\":true,\"x\":[\"mr\",\"tuplen\",\"R\",\"P\"],\"xaxis\":\"x\",\"y\":[0.6950000000000001,6.495,0.875,0.5046450576426069],\"yaxis\":\"y\",\"type\":\"scatter\"},{\"hovertemplate\":\"id=100<br>variable=%{x}<br>value=%{y}<extra></extra>\",\"legendgroup\":\"100\",\"line\":{\"color\":\"#636efa\",\"dash\":\"solid\",\"width\":1.5},\"marker\":{\"symbol\":\"circle\"},\"mode\":\"markers+lines\",\"name\":\"100\",\"orientation\":\"v\",\"showlegend\":true,\"x\":[\"mr\",\"tuplen\",\"R\",\"P\"],\"xaxis\":\"x\",\"y\":[0.7,3.5,0.87,0.5059833071647273],\"yaxis\":\"y\",\"type\":\"scatter\"},{\"hovertemplate\":\"id=101<br>variable=%{x}<br>value=%{y}<extra></extra>\",\"legendgroup\":\"101\",\"line\":{\"color\":\"#EF553B\",\"dash\":\"solid\",\"width\":1.5},\"marker\":{\"symbol\":\"circle\"},\"mode\":\"markers+lines\",\"name\":\"101\",\"orientation\":\"v\",\"showlegend\":true,\"x\":[\"mr\",\"tuplen\",\"R\",\"P\"],\"xaxis\":\"x\",\"y\":[0.7050000000000001,4.505,0.7949999999999999,0.5147974537927476],\"yaxis\":\"y\",\"type\":\"scatter\"},{\"hovertemplate\":\"id=102<br>variable=%{x}<br>value=%{y}<extra></extra>\",\"legendgroup\":\"102\",\"line\":{\"color\":\"#00cc96\",\"dash\":\"solid\",\"width\":1.5},\"marker\":{\"symbol\":\"circle\"},\"mode\":\"markers+lines\",\"name\":\"102\",\"orientation\":\"v\",\"showlegend\":true,\"x\":[\"mr\",\"tuplen\",\"R\",\"P\"],\"xaxis\":\"x\",\"y\":[0.71,5.51,0.66,0.5169290112675201],\"yaxis\":\"y\",\"type\":\"scatter\"},{\"hovertemplate\":\"id=103<br>variable=%{x}<br>value=%{y}<extra></extra>\",\"legendgroup\":\"103\",\"line\":{\"color\":\"#ab63fa\",\"dash\":\"solid\",\"width\":1.5},\"marker\":{\"symbol\":\"circle\"},\"mode\":\"markers+lines\",\"name\":\"103\",\"orientation\":\"v\",\"showlegend\":true,\"x\":[\"mr\",\"tuplen\",\"R\",\"P\"],\"xaxis\":\"x\",\"y\":[0.7150000000000001,6.515,0.525,0.525752688172043],\"yaxis\":\"y\",\"type\":\"scatter\"},{\"hovertemplate\":\"id=104<br>variable=%{x}<br>value=%{y}<extra></extra>\",\"legendgroup\":\"104\",\"line\":{\"color\":\"#FFA15A\",\"dash\":\"solid\",\"width\":1.5},\"marker\":{\"symbol\":\"circle\"},\"mode\":\"markers+lines\",\"name\":\"104\",\"orientation\":\"v\",\"showlegend\":true,\"x\":[\"mr\",\"tuplen\",\"R\",\"P\"],\"xaxis\":\"x\",\"y\":[0.72,3.52,0.53,0.5392307692307693],\"yaxis\":\"y\",\"type\":\"scatter\"},{\"hovertemplate\":\"id=105<br>variable=%{x}<br>value=%{y}<extra></extra>\",\"legendgroup\":\"105\",\"line\":{\"color\":\"#19d3f3\",\"dash\":\"solid\",\"width\":1.5},\"marker\":{\"symbol\":\"circle\"},\"mode\":\"markers+lines\",\"name\":\"105\",\"orientation\":\"v\",\"showlegend\":true,\"x\":[\"mr\",\"tuplen\",\"R\",\"P\"],\"xaxis\":\"x\",\"y\":[0.7250000000000001,4.525,0.525,0.525],\"yaxis\":\"y\",\"type\":\"scatter\"},{\"hovertemplate\":\"id=106<br>variable=%{x}<br>value=%{y}<extra></extra>\",\"legendgroup\":\"106\",\"line\":{\"color\":\"#FF6692\",\"dash\":\"solid\",\"width\":1.5},\"marker\":{\"symbol\":\"circle\"},\"mode\":\"markers+lines\",\"name\":\"106\",\"orientation\":\"v\",\"showlegend\":true,\"x\":[\"mr\",\"tuplen\",\"R\",\"P\"],\"xaxis\":\"x\",\"y\":[0.73,5.53,0.53,null],\"yaxis\":\"y\",\"type\":\"scatter\"},{\"hovertemplate\":\"id=107<br>variable=%{x}<br>value=%{y}<extra></extra>\",\"legendgroup\":\"107\",\"line\":{\"color\":\"#B6E880\",\"dash\":\"solid\",\"width\":1.5},\"marker\":{\"symbol\":\"circle\"},\"mode\":\"markers+lines\",\"name\":\"107\",\"orientation\":\"v\",\"showlegend\":true,\"x\":[\"mr\",\"tuplen\",\"R\",\"P\"],\"xaxis\":\"x\",\"y\":[0.7350000000000001,6.535,0.535,null],\"yaxis\":\"y\",\"type\":\"scatter\"},{\"hovertemplate\":\"id=108<br>variable=%{x}<br>value=%{y}<extra></extra>\",\"legendgroup\":\"108\",\"line\":{\"color\":\"#FF97FF\",\"dash\":\"solid\",\"width\":1.5},\"marker\":{\"symbol\":\"circle\"},\"mode\":\"markers+lines\",\"name\":\"108\",\"orientation\":\"v\",\"showlegend\":true,\"x\":[\"mr\",\"tuplen\",\"R\",\"P\"],\"xaxis\":\"x\",\"y\":[0.74,3.54,1.54,0.5410224758856429],\"yaxis\":\"y\",\"type\":\"scatter\"},{\"hovertemplate\":\"id=109<br>variable=%{x}<br>value=%{y}<extra></extra>\",\"legendgroup\":\"109\",\"line\":{\"color\":\"#FECB52\",\"dash\":\"solid\",\"width\":1.5},\"marker\":{\"symbol\":\"circle\"},\"mode\":\"markers+lines\",\"name\":\"109\",\"orientation\":\"v\",\"showlegend\":true,\"x\":[\"mr\",\"tuplen\",\"R\",\"P\"],\"xaxis\":\"x\",\"y\":[0.7450000000000001,4.545,1.545,0.545487662821108],\"yaxis\":\"y\",\"type\":\"scatter\"},{\"hovertemplate\":\"id=110<br>variable=%{x}<br>value=%{y}<extra></extra>\",\"legendgroup\":\"110\",\"line\":{\"color\":\"#636efa\",\"dash\":\"solid\",\"width\":1.5},\"marker\":{\"symbol\":\"circle\"},\"mode\":\"markers+lines\",\"name\":\"110\",\"orientation\":\"v\",\"showlegend\":true,\"x\":[\"mr\",\"tuplen\",\"R\",\"P\"],\"xaxis\":\"x\",\"y\":[0.75,5.55,1.4,0.5518206653409434],\"yaxis\":\"y\",\"type\":\"scatter\"},{\"hovertemplate\":\"id=111<br>variable=%{x}<br>value=%{y}<extra></extra>\",\"legendgroup\":\"111\",\"line\":{\"color\":\"#EF553B\",\"dash\":\"solid\",\"width\":1.5},\"marker\":{\"symbol\":\"circle\"},\"mode\":\"markers+lines\",\"name\":\"111\",\"orientation\":\"v\",\"showlegend\":true,\"x\":[\"mr\",\"tuplen\",\"R\",\"P\"],\"xaxis\":\"x\",\"y\":[0.7550000000000001,6.555,1.045,0.5620900467201375],\"yaxis\":\"y\",\"type\":\"scatter\"},{\"hovertemplate\":\"id=112<br>variable=%{x}<br>value=%{y}<extra></extra>\",\"legendgroup\":\"112\",\"line\":{\"color\":\"#00cc96\",\"dash\":\"solid\",\"width\":1.5},\"marker\":{\"symbol\":\"circle\"},\"mode\":\"markers+lines\",\"name\":\"112\",\"orientation\":\"v\",\"showlegend\":true,\"x\":[\"mr\",\"tuplen\",\"R\",\"P\"],\"xaxis\":\"x\",\"y\":[0.76,3.56,1.1400000000000001,0.5655772394414771],\"yaxis\":\"y\",\"type\":\"scatter\"},{\"hovertemplate\":\"id=113<br>variable=%{x}<br>value=%{y}<extra></extra>\",\"legendgroup\":\"113\",\"line\":{\"color\":\"#ab63fa\",\"dash\":\"solid\",\"width\":1.5},\"marker\":{\"symbol\":\"circle\"},\"mode\":\"markers+lines\",\"name\":\"113\",\"orientation\":\"v\",\"showlegend\":true,\"x\":[\"mr\",\"tuplen\",\"R\",\"P\"],\"xaxis\":\"x\",\"y\":[0.7650000000000001,4.565,0.915,0.5712135001143072],\"yaxis\":\"y\",\"type\":\"scatter\"},{\"hovertemplate\":\"id=114<br>variable=%{x}<br>value=%{y}<extra></extra>\",\"legendgroup\":\"114\",\"line\":{\"color\":\"#FFA15A\",\"dash\":\"solid\",\"width\":1.5},\"marker\":{\"symbol\":\"circle\"},\"mode\":\"markers+lines\",\"name\":\"114\",\"orientation\":\"v\",\"showlegend\":true,\"x\":[\"mr\",\"tuplen\",\"R\",\"P\"],\"xaxis\":\"x\",\"y\":[0.77,5.57,0.6000000000000001,0.6325000000000001],\"yaxis\":\"y\",\"type\":\"scatter\"},{\"hovertemplate\":\"id=115<br>variable=%{x}<br>value=%{y}<extra></extra>\",\"legendgroup\":\"115\",\"line\":{\"color\":\"#19d3f3\",\"dash\":\"solid\",\"width\":1.5},\"marker\":{\"symbol\":\"circle\"},\"mode\":\"markers+lines\",\"name\":\"115\",\"orientation\":\"v\",\"showlegend\":true,\"x\":[\"mr\",\"tuplen\",\"R\",\"P\"],\"xaxis\":\"x\",\"y\":[0.7750000000000001,6.575,0.5850000000000001,0.6035714285714286],\"yaxis\":\"y\",\"type\":\"scatter\"},{\"hovertemplate\":\"id=116<br>variable=%{x}<br>value=%{y}<extra></extra>\",\"legendgroup\":\"116\",\"line\":{\"color\":\"#FF6692\",\"dash\":\"solid\",\"width\":1.5},\"marker\":{\"symbol\":\"circle\"},\"mode\":\"markers+lines\",\"name\":\"116\",\"orientation\":\"v\",\"showlegend\":true,\"x\":[\"mr\",\"tuplen\",\"R\",\"P\"],\"xaxis\":\"x\",\"y\":[0.78,3.58,0.6,0.6072108843537415],\"yaxis\":\"y\",\"type\":\"scatter\"},{\"hovertemplate\":\"id=117<br>variable=%{x}<br>value=%{y}<extra></extra>\",\"legendgroup\":\"117\",\"line\":{\"color\":\"#B6E880\",\"dash\":\"solid\",\"width\":1.5},\"marker\":{\"symbol\":\"circle\"},\"mode\":\"markers+lines\",\"name\":\"117\",\"orientation\":\"v\",\"showlegend\":true,\"x\":[\"mr\",\"tuplen\",\"R\",\"P\"],\"xaxis\":\"x\",\"y\":[0.7849999999999999,4.585,0.605,0.8707142857142857],\"yaxis\":\"y\",\"type\":\"scatter\"},{\"hovertemplate\":\"id=118<br>variable=%{x}<br>value=%{y}<extra></extra>\",\"legendgroup\":\"118\",\"line\":{\"color\":\"#FF97FF\",\"dash\":\"solid\",\"width\":1.5},\"marker\":{\"symbol\":\"circle\"},\"mode\":\"markers+lines\",\"name\":\"118\",\"orientation\":\"v\",\"showlegend\":true,\"x\":[\"mr\",\"tuplen\",\"R\",\"P\"],\"xaxis\":\"x\",\"y\":[0.79,5.59,0.59,null],\"yaxis\":\"y\",\"type\":\"scatter\"},{\"hovertemplate\":\"id=119<br>variable=%{x}<br>value=%{y}<extra></extra>\",\"legendgroup\":\"119\",\"line\":{\"color\":\"#FECB52\",\"dash\":\"solid\",\"width\":1.5},\"marker\":{\"symbol\":\"circle\"},\"mode\":\"markers+lines\",\"name\":\"119\",\"orientation\":\"v\",\"showlegend\":true,\"x\":[\"mr\",\"tuplen\",\"R\",\"P\"],\"xaxis\":\"x\",\"y\":[0.7949999999999999,6.595,0.595,null],\"yaxis\":\"y\",\"type\":\"scatter\"}],                        {\"template\":{\"data\":{\"histogram2dcontour\":[{\"type\":\"histogram2dcontour\",\"colorbar\":{\"outlinewidth\":0,\"ticks\":\"\"},\"colorscale\":[[0.0,\"#0d0887\"],[0.1111111111111111,\"#46039f\"],[0.2222222222222222,\"#7201a8\"],[0.3333333333333333,\"#9c179e\"],[0.4444444444444444,\"#bd3786\"],[0.5555555555555556,\"#d8576b\"],[0.6666666666666666,\"#ed7953\"],[0.7777777777777778,\"#fb9f3a\"],[0.8888888888888888,\"#fdca26\"],[1.0,\"#f0f921\"]]}],\"choropleth\":[{\"type\":\"choropleth\",\"colorbar\":{\"outlinewidth\":0,\"ticks\":\"\"}}],\"histogram2d\":[{\"type\":\"histogram2d\",\"colorbar\":{\"outlinewidth\":0,\"ticks\":\"\"},\"colorscale\":[[0.0,\"#0d0887\"],[0.1111111111111111,\"#46039f\"],[0.2222222222222222,\"#7201a8\"],[0.3333333333333333,\"#9c179e\"],[0.4444444444444444,\"#bd3786\"],[0.5555555555555556,\"#d8576b\"],[0.6666666666666666,\"#ed7953\"],[0.7777777777777778,\"#fb9f3a\"],[0.8888888888888888,\"#fdca26\"],[1.0,\"#f0f921\"]]}],\"heatmap\":[{\"type\":\"heatmap\",\"colorbar\":{\"outlinewidth\":0,\"ticks\":\"\"},\"colorscale\":[[0.0,\"#0d0887\"],[0.1111111111111111,\"#46039f\"],[0.2222222222222222,\"#7201a8\"],[0.3333333333333333,\"#9c179e\"],[0.4444444444444444,\"#bd3786\"],[0.5555555555555556,\"#d8576b\"],[0.6666666666666666,\"#ed7953\"],[0.7777777777777778,\"#fb9f3a\"],[0.8888888888888888,\"#fdca26\"],[1.0,\"#f0f921\"]]}],\"heatmapgl\":[{\"type\":\"heatmapgl\",\"colorbar\":{\"outlinewidth\":0,\"ticks\":\"\"},\"colorscale\":[[0.0,\"#0d0887\"],[0.1111111111111111,\"#46039f\"],[0.2222222222222222,\"#7201a8\"],[0.3333333333333333,\"#9c179e\"],[0.4444444444444444,\"#bd3786\"],[0.5555555555555556,\"#d8576b\"],[0.6666666666666666,\"#ed7953\"],[0.7777777777777778,\"#fb9f3a\"],[0.8888888888888888,\"#fdca26\"],[1.0,\"#f0f921\"]]}],\"contourcarpet\":[{\"type\":\"contourcarpet\",\"colorbar\":{\"outlinewidth\":0,\"ticks\":\"\"}}],\"contour\":[{\"type\":\"contour\",\"colorbar\":{\"outlinewidth\":0,\"ticks\":\"\"},\"colorscale\":[[0.0,\"#0d0887\"],[0.1111111111111111,\"#46039f\"],[0.2222222222222222,\"#7201a8\"],[0.3333333333333333,\"#9c179e\"],[0.4444444444444444,\"#bd3786\"],[0.5555555555555556,\"#d8576b\"],[0.6666666666666666,\"#ed7953\"],[0.7777777777777778,\"#fb9f3a\"],[0.8888888888888888,\"#fdca26\"],[1.0,\"#f0f921\"]]}],\"surface\":[{\"type\":\"surface\",\"colorbar\":{\"outlinewidth\":0,\"ticks\":\"\"},\"colorscale\":[[0.0,\"#0d0887\"],[0.1111111111111111,\"#46039f\"],[0.2222222222222222,\"#7201a8\"],[0.3333333333333333,\"#9c179e\"],[0.4444444444444444,\"#bd3786\"],[0.5555555555555556,\"#d8576b\"],[0.6666666666666666,\"#ed7953\"],[0.7777777777777778,\"#fb9f3a\"],[0.8888888888888888,\"#fdca26\"],[1.0,\"#f0f921\"]]}],\"mesh3d\":[{\"type\":\"mesh3d\",\"colorbar\":{\"outlinewidth\":0,\"ticks\":\"\"}}],\"scatter\":[{\"fillpattern\":{\"fillmode\":\"overlay\",\"size\":10,\"solidity\":0.2},\"type\":\"scatter\"}],\"parcoords\":[{\"type\":\"parcoords\",\"line\":{\"colorbar\":{\"outlinewidth\":0,\"ticks\":\"\"}}}],\"scatterpolargl\":[{\"type\":\"scatterpolargl\",\"marker\":{\"colorbar\":{\"outlinewidth\":0,\"ticks\":\"\"}}}],\"bar\":[{\"error_x\":{\"color\":\"#2a3f5f\"},\"error_y\":{\"color\":\"#2a3f5f\"},\"marker\":{\"line\":{\"color\":\"#E5ECF6\",\"width\":0.5},\"pattern\":{\"fillmode\":\"overlay\",\"size\":10,\"solidity\":0.2}},\"type\":\"bar\"}],\"scattergeo\":[{\"type\":\"scattergeo\",\"marker\":{\"colorbar\":{\"outlinewidth\":0,\"ticks\":\"\"}}}],\"scatterpolar\":[{\"type\":\"scatterpolar\",\"marker\":{\"colorbar\":{\"outlinewidth\":0,\"ticks\":\"\"}}}],\"histogram\":[{\"marker\":{\"pattern\":{\"fillmode\":\"overlay\",\"size\":10,\"solidity\":0.2}},\"type\":\"histogram\"}],\"scattergl\":[{\"type\":\"scattergl\",\"marker\":{\"colorbar\":{\"outlinewidth\":0,\"ticks\":\"\"}}}],\"scatter3d\":[{\"type\":\"scatter3d\",\"line\":{\"colorbar\":{\"outlinewidth\":0,\"ticks\":\"\"}},\"marker\":{\"colorbar\":{\"outlinewidth\":0,\"ticks\":\"\"}}}],\"scattermapbox\":[{\"type\":\"scattermapbox\",\"marker\":{\"colorbar\":{\"outlinewidth\":0,\"ticks\":\"\"}}}],\"scatterternary\":[{\"type\":\"scatterternary\",\"marker\":{\"colorbar\":{\"outlinewidth\":0,\"ticks\":\"\"}}}],\"scattercarpet\":[{\"type\":\"scattercarpet\",\"marker\":{\"colorbar\":{\"outlinewidth\":0,\"ticks\":\"\"}}}],\"carpet\":[{\"aaxis\":{\"endlinecolor\":\"#2a3f5f\",\"gridcolor\":\"white\",\"linecolor\":\"white\",\"minorgridcolor\":\"white\",\"startlinecolor\":\"#2a3f5f\"},\"baxis\":{\"endlinecolor\":\"#2a3f5f\",\"gridcolor\":\"white\",\"linecolor\":\"white\",\"minorgridcolor\":\"white\",\"startlinecolor\":\"#2a3f5f\"},\"type\":\"carpet\"}],\"table\":[{\"cells\":{\"fill\":{\"color\":\"#EBF0F8\"},\"line\":{\"color\":\"white\"}},\"header\":{\"fill\":{\"color\":\"#C8D4E3\"},\"line\":{\"color\":\"white\"}},\"type\":\"table\"}],\"barpolar\":[{\"marker\":{\"line\":{\"color\":\"#E5ECF6\",\"width\":0.5},\"pattern\":{\"fillmode\":\"overlay\",\"size\":10,\"solidity\":0.2}},\"type\":\"barpolar\"}],\"pie\":[{\"automargin\":true,\"type\":\"pie\"}]},\"layout\":{\"autotypenumbers\":\"strict\",\"colorway\":[\"#636efa\",\"#EF553B\",\"#00cc96\",\"#ab63fa\",\"#FFA15A\",\"#19d3f3\",\"#FF6692\",\"#B6E880\",\"#FF97FF\",\"#FECB52\"],\"font\":{\"color\":\"#2a3f5f\"},\"hovermode\":\"closest\",\"hoverlabel\":{\"align\":\"left\"},\"paper_bgcolor\":\"white\",\"plot_bgcolor\":\"#E5ECF6\",\"polar\":{\"bgcolor\":\"#E5ECF6\",\"angularaxis\":{\"gridcolor\":\"white\",\"linecolor\":\"white\",\"ticks\":\"\"},\"radialaxis\":{\"gridcolor\":\"white\",\"linecolor\":\"white\",\"ticks\":\"\"}},\"ternary\":{\"bgcolor\":\"#E5ECF6\",\"aaxis\":{\"gridcolor\":\"white\",\"linecolor\":\"white\",\"ticks\":\"\"},\"baxis\":{\"gridcolor\":\"white\",\"linecolor\":\"white\",\"ticks\":\"\"},\"caxis\":{\"gridcolor\":\"white\",\"linecolor\":\"white\",\"ticks\":\"\"}},\"coloraxis\":{\"colorbar\":{\"outlinewidth\":0,\"ticks\":\"\"}},\"colorscale\":{\"sequential\":[[0.0,\"#0d0887\"],[0.1111111111111111,\"#46039f\"],[0.2222222222222222,\"#7201a8\"],[0.3333333333333333,\"#9c179e\"],[0.4444444444444444,\"#bd3786\"],[0.5555555555555556,\"#d8576b\"],[0.6666666666666666,\"#ed7953\"],[0.7777777777777778,\"#fb9f3a\"],[0.8888888888888888,\"#fdca26\"],[1.0,\"#f0f921\"]],\"sequentialminus\":[[0.0,\"#0d0887\"],[0.1111111111111111,\"#46039f\"],[0.2222222222222222,\"#7201a8\"],[0.3333333333333333,\"#9c179e\"],[0.4444444444444444,\"#bd3786\"],[0.5555555555555556,\"#d8576b\"],[0.6666666666666666,\"#ed7953\"],[0.7777777777777778,\"#fb9f3a\"],[0.8888888888888888,\"#fdca26\"],[1.0,\"#f0f921\"]],\"diverging\":[[0,\"#8e0152\"],[0.1,\"#c51b7d\"],[0.2,\"#de77ae\"],[0.3,\"#f1b6da\"],[0.4,\"#fde0ef\"],[0.5,\"#f7f7f7\"],[0.6,\"#e6f5d0\"],[0.7,\"#b8e186\"],[0.8,\"#7fbc41\"],[0.9,\"#4d9221\"],[1,\"#276419\"]]},\"xaxis\":{\"gridcolor\":\"white\",\"linecolor\":\"white\",\"ticks\":\"\",\"title\":{\"standoff\":15},\"zerolinecolor\":\"white\",\"automargin\":true,\"zerolinewidth\":2},\"yaxis\":{\"gridcolor\":\"white\",\"linecolor\":\"white\",\"ticks\":\"\",\"title\":{\"standoff\":15},\"zerolinecolor\":\"white\",\"automargin\":true,\"zerolinewidth\":2},\"scene\":{\"xaxis\":{\"backgroundcolor\":\"#E5ECF6\",\"gridcolor\":\"white\",\"linecolor\":\"white\",\"showbackground\":true,\"ticks\":\"\",\"zerolinecolor\":\"white\",\"gridwidth\":2},\"yaxis\":{\"backgroundcolor\":\"#E5ECF6\",\"gridcolor\":\"white\",\"linecolor\":\"white\",\"showbackground\":true,\"ticks\":\"\",\"zerolinecolor\":\"white\",\"gridwidth\":2},\"zaxis\":{\"backgroundcolor\":\"#E5ECF6\",\"gridcolor\":\"white\",\"linecolor\":\"white\",\"showbackground\":true,\"ticks\":\"\",\"zerolinecolor\":\"white\",\"gridwidth\":2}},\"shapedefaults\":{\"line\":{\"color\":\"#2a3f5f\"}},\"annotationdefaults\":{\"arrowcolor\":\"#2a3f5f\",\"arrowhead\":0,\"arrowwidth\":1},\"geo\":{\"bgcolor\":\"white\",\"landcolor\":\"#E5ECF6\",\"subunitcolor\":\"white\",\"showland\":true,\"showlakes\":true,\"lakecolor\":\"white\"},\"title\":{\"x\":0.05},\"mapbox\":{\"style\":\"light\"}}},\"xaxis\":{\"anchor\":\"y\",\"domain\":[0.0,1.0],\"title\":{\"text\":\"variable\"}},\"yaxis\":{\"anchor\":\"x\",\"domain\":[0.0,1.0],\"title\":{\"text\":\"value\"}},\"legend\":{\"title\":{\"text\":\"id\"},\"tracegroupgap\":0},\"margin\":{\"t\":60}},                        {\"responsive\": true}                    ).then(function(){\n",
       "                            \n",
       "var gd = document.getElementById('2323eefd-de31-4d17-9cf5-c17dab48be08');\n",
       "var x = new MutationObserver(function (mutations, observer) {{\n",
       "        var display = window.getComputedStyle(gd).display;\n",
       "        if (!display || display === 'none') {{\n",
       "            console.log([gd, 'removed!']);\n",
       "            Plotly.purge(gd);\n",
       "            observer.disconnect();\n",
       "        }}\n",
       "}});\n",
       "\n",
       "// Listen for the removal of the full notebook cells\n",
       "var notebookContainer = gd.closest('#notebook-container');\n",
       "if (notebookContainer) {{\n",
       "    x.observe(notebookContainer, {childList: true});\n",
       "}}\n",
       "\n",
       "// Listen for the clearing of the current output cell\n",
       "var outputEl = gd.closest('.output');\n",
       "if (outputEl) {{\n",
       "    x.observe(outputEl, {childList: true});\n",
       "}}\n",
       "\n",
       "                        })                };                });            </script>        </div>"
      ]
     },
     "metadata": {},
     "output_type": "display_data"
    }
   ],
   "source": [
    "def experiment(conf):\n",
    "    seqInt = np.random.randint(0,len(alphabet), (conf['N']))\n",
    "    seqv = alphabet[seqInt]\n",
    "    seq = ''.join(seqv)\n",
    "    sketcher = DTS(t=conf['tuplen'], D=conf['m'], D2=conf['m2'], A=len(alphabet)) \n",
    "    wmers = [seqInt[i:i+conf['w']] for i in range(0,len(seqInt) - conf['w'] + 1,conf['s'])]\n",
    "    sketches = sketcher.sketch(wmers)\n",
    "    lut = build_lookup(sketches, conf['s'])\n",
    "\n",
    "    paths = generate_paths(seq, conf['path_len'], conf['num_paths'], conf['k'], conf['mr'], alphabet)\n",
    "    recall, hits, tp, dists = np.zeros((4,conf['num_paths']))\n",
    "    dists[:] = np.inf\n",
    "\n",
    "    for i, path in enumerate(tqdm(paths)):\n",
    "        reference, query, node_path = path\n",
    "        queryInt = convert(query, alphabet)\n",
    "\n",
    "        q_wmers = [queryInt[i:i+conf['w']] for i in range(len(queryInt) - conf['w'] + 1)]\n",
    "        q_sketches = sketcher.sketch(q_wmers)\n",
    "\n",
    "        # Lookup\n",
    "        for qi,query_sketch in enumerate(q_sketches):\n",
    "            if query_sketch not in lut:\n",
    "                continue\n",
    "            for node in lut[query_sketch]: # for each node j in the matches\n",
    "                hits[i] += 1 # count a hit\n",
    "                ri = (node-node_path[0]) # relative node location to reference head \n",
    "                # if abs(ri-qi) <= conf['recall_dist']:\n",
    "                #     tp[i] += 1\n",
    "                #     recall[i] = 1\n",
    "                if ri<=0 or ri>=len(node_path):\n",
    "                    continue\n",
    "                d1 = editdistance.eval(reference[:ri], query[:qi])\n",
    "                d2 = editdistance.eval(reference[ri:], query[qi:])\n",
    "                d = editdistance.eval(reference, query)\n",
    "                dists[i] = min(dists[i],d1+d2-d)\n",
    "                if(  d1+d2 <= d + conf['recall_dist']):\n",
    "                    tp[i] += 1\n",
    "                    recall[i] = 1\n",
    "\n",
    "    conf['P'] = np.mean(tp[hits>0]/hits[hits>0])  # np.sum(tp)/np.sum(hits) \n",
    "    conf['R'] = np.mean(recall) \n",
    "    conf['dists_bins'] = list(range(10))\n",
    "    conf['dists_counts'] = np.histogram(dists,bins=conf['dists_bins']+[np.inf])[0]\n",
    "    return conf \n",
    "\n",
    "def show_board(df, cols):  \n",
    "    def legend(x):\n",
    "        leg = []\n",
    "        for i,s in enumerate(x):\n",
    "            col = cols[i]\n",
    "            if int(s)==s:\n",
    "                leg.append(f'{col}:{int(s)}')\n",
    "            else:\n",
    "                leg.append(f'{col}:{s:.2f}')\n",
    "        return ' '.join(leg)\n",
    "\n",
    "    df2 = df[cols]\n",
    "    df2['id'] = df2.index\n",
    "    # df2['id'] = df2.apply(lambda x: legend(x.tolist()), axis=1)\n",
    "    # df2[cols] = df2[cols] / df2[cols].max()\n",
    "    for i in range(len(df2)):\n",
    "        df2.loc[i,cols] += i*5e-3 # add slight y to make them separately visible\n",
    "    df2 = pd.melt(df2, id_vars='id',value_vars=cols)\n",
    "    fig = px.line(df2,x='variable',y='value',color='id')\n",
    "    fig.update_traces(line=dict(width=1.5),mode=\"markers+lines\")\n",
    "    fig.show()\n",
    "\n",
    "# results = []\n",
    "alphabet = np.array(['A','C','G','T'])\n",
    "\n",
    "for w in [50]:\n",
    "    config_grid = dict(\n",
    "        num_paths = 100,\n",
    "        N = [int(1e5)],\n",
    "        mr = [0.2],\n",
    "        path_len = 200,\n",
    "        recall_dist = 3,\n",
    "        k=w,\n",
    "        m=[10,20,30,50,80],\n",
    "        m2=[2**5,2**6,2**7],\n",
    "        tuplen = [3,4,5,6],\n",
    "        w = w,\n",
    "        s = [3],\n",
    "    )\n",
    "\n",
    "    for conf in dict_configs(config_grid): \n",
    "        result = experiment(conf)\n",
    "        results.append(result)\n",
    "        print(conf)    \n",
    "\n",
    "df = pd.DataFrame(results)\n",
    "\n",
    "show_board(df,cols = ['mr','tuplen','R','P']) # 'N','w','s',m,m2"
   ]
  },
  {
   "cell_type": "code",
   "execution_count": 79,
   "id": "2a502535-b467-4de4-b69e-02d35da7e0d0",
   "metadata": {
    "tags": []
   },
   "outputs": [
    {
     "name": "stderr",
     "output_type": "stream",
     "text": [
      "<ipython-input-78-08e4a0f9e3cb>:59: SettingWithCopyWarning:\n",
      "\n",
      "\n",
      "A value is trying to be set on a copy of a slice from a DataFrame.\n",
      "Try using .loc[row_indexer,col_indexer] = value instead\n",
      "\n",
      "See the caveats in the documentation: https://pandas.pydata.org/pandas-docs/stable/user_guide/indexing.html#returning-a-view-versus-a-copy\n",
      "\n"
     ]
    },
    {
     "data": {
      "application/vnd.plotly.v1+json": {
       "config": {
        "plotlyServerURL": "https://plot.ly"
       },
       "data": [
        {
         "hovertemplate": "id=0<br>variable=%{x}<br>value=%{y}<extra></extra>",
         "legendgroup": "0",
         "line": {
          "color": "#636efa",
          "dash": "solid",
          "width": 1.5
         },
         "marker": {
          "symbol": "circle"
         },
         "mode": "markers+lines",
         "name": "0",
         "orientation": "v",
         "showlegend": true,
         "type": "scatter",
         "x": [
          "mr",
          "tuplen",
          "R",
          "P"
         ],
         "xaxis": "x",
         "y": [
          0.2,
          3,
          0.99,
          0.0012024541720577037
         ],
         "yaxis": "y"
        },
        {
         "hovertemplate": "id=1<br>variable=%{x}<br>value=%{y}<extra></extra>",
         "legendgroup": "1",
         "line": {
          "color": "#EF553B",
          "dash": "solid",
          "width": 1.5
         },
         "marker": {
          "symbol": "circle"
         },
         "mode": "markers+lines",
         "name": "1",
         "orientation": "v",
         "showlegend": true,
         "type": "scatter",
         "x": [
          "mr",
          "tuplen",
          "R",
          "P"
         ],
         "xaxis": "x",
         "y": [
          0.20500000000000002,
          4.005,
          0.925,
          0.005967502391840104
         ],
         "yaxis": "y"
        },
        {
         "hovertemplate": "id=2<br>variable=%{x}<br>value=%{y}<extra></extra>",
         "legendgroup": "2",
         "line": {
          "color": "#00cc96",
          "dash": "solid",
          "width": 1.5
         },
         "marker": {
          "symbol": "circle"
         },
         "mode": "markers+lines",
         "name": "2",
         "orientation": "v",
         "showlegend": true,
         "type": "scatter",
         "x": [
          "mr",
          "tuplen",
          "R",
          "P"
         ],
         "xaxis": "x",
         "y": [
          0.21000000000000002,
          5.01,
          0.97,
          0.010628059501442636
         ],
         "yaxis": "y"
        },
        {
         "hovertemplate": "id=3<br>variable=%{x}<br>value=%{y}<extra></extra>",
         "legendgroup": "3",
         "line": {
          "color": "#ab63fa",
          "dash": "solid",
          "width": 1.5
         },
         "marker": {
          "symbol": "circle"
         },
         "mode": "markers+lines",
         "name": "3",
         "orientation": "v",
         "showlegend": true,
         "type": "scatter",
         "x": [
          "mr",
          "tuplen",
          "R",
          "P"
         ],
         "xaxis": "x",
         "y": [
          0.21500000000000002,
          6.015,
          0.9450000000000001,
          0.015427879295222494
         ],
         "yaxis": "y"
        },
        {
         "hovertemplate": "id=4<br>variable=%{x}<br>value=%{y}<extra></extra>",
         "legendgroup": "4",
         "line": {
          "color": "#FFA15A",
          "dash": "solid",
          "width": 1.5
         },
         "marker": {
          "symbol": "circle"
         },
         "mode": "markers+lines",
         "name": "4",
         "orientation": "v",
         "showlegend": true,
         "type": "scatter",
         "x": [
          "mr",
          "tuplen",
          "R",
          "P"
         ],
         "xaxis": "x",
         "y": [
          0.22,
          3.02,
          0.55,
          0.023835244598066817
         ],
         "yaxis": "y"
        },
        {
         "hovertemplate": "id=5<br>variable=%{x}<br>value=%{y}<extra></extra>",
         "legendgroup": "5",
         "line": {
          "color": "#19d3f3",
          "dash": "solid",
          "width": 1.5
         },
         "marker": {
          "symbol": "circle"
         },
         "mode": "markers+lines",
         "name": "5",
         "orientation": "v",
         "showlegend": true,
         "type": "scatter",
         "x": [
          "mr",
          "tuplen",
          "R",
          "P"
         ],
         "xaxis": "x",
         "y": [
          0.225,
          4.025,
          0.865,
          0.026259332393101294
         ],
         "yaxis": "y"
        },
        {
         "hovertemplate": "id=6<br>variable=%{x}<br>value=%{y}<extra></extra>",
         "legendgroup": "6",
         "line": {
          "color": "#FF6692",
          "dash": "solid",
          "width": 1.5
         },
         "marker": {
          "symbol": "circle"
         },
         "mode": "markers+lines",
         "name": "6",
         "orientation": "v",
         "showlegend": true,
         "type": "scatter",
         "x": [
          "mr",
          "tuplen",
          "R",
          "P"
         ],
         "xaxis": "x",
         "y": [
          0.23,
          5.03,
          0.25,
          0.03799333568174982
         ],
         "yaxis": "y"
        },
        {
         "hovertemplate": "id=7<br>variable=%{x}<br>value=%{y}<extra></extra>",
         "legendgroup": "7",
         "line": {
          "color": "#B6E880",
          "dash": "solid",
          "width": 1.5
         },
         "marker": {
          "symbol": "circle"
         },
         "mode": "markers+lines",
         "name": "7",
         "orientation": "v",
         "showlegend": true,
         "type": "scatter",
         "x": [
          "mr",
          "tuplen",
          "R",
          "P"
         ],
         "xaxis": "x",
         "y": [
          0.23500000000000001,
          6.035,
          0.28500000000000003,
          0.03700972699765157
         ],
         "yaxis": "y"
        },
        {
         "hovertemplate": "id=8<br>variable=%{x}<br>value=%{y}<extra></extra>",
         "legendgroup": "8",
         "line": {
          "color": "#FF97FF",
          "dash": "solid",
          "width": 1.5
         },
         "marker": {
          "symbol": "circle"
         },
         "mode": "markers+lines",
         "name": "8",
         "orientation": "v",
         "showlegend": true,
         "type": "scatter",
         "x": [
          "mr",
          "tuplen",
          "R",
          "P"
         ],
         "xaxis": "x",
         "y": [
          0.24000000000000002,
          3.04,
          0.24000000000000002,
          0.04172999546783869
         ],
         "yaxis": "y"
        },
        {
         "hovertemplate": "id=9<br>variable=%{x}<br>value=%{y}<extra></extra>",
         "legendgroup": "9",
         "line": {
          "color": "#FECB52",
          "dash": "solid",
          "width": 1.5
         },
         "marker": {
          "symbol": "circle"
         },
         "mode": "markers+lines",
         "name": "9",
         "orientation": "v",
         "showlegend": true,
         "type": "scatter",
         "x": [
          "mr",
          "tuplen",
          "R",
          "P"
         ],
         "xaxis": "x",
         "y": [
          0.245,
          4.045,
          0.105,
          0.06853801169590643
         ],
         "yaxis": "y"
        },
        {
         "hovertemplate": "id=10<br>variable=%{x}<br>value=%{y}<extra></extra>",
         "legendgroup": "10",
         "line": {
          "color": "#636efa",
          "dash": "solid",
          "width": 1.5
         },
         "marker": {
          "symbol": "circle"
         },
         "mode": "markers+lines",
         "name": "10",
         "orientation": "v",
         "showlegend": true,
         "type": "scatter",
         "x": [
          "mr",
          "tuplen",
          "R",
          "P"
         ],
         "xaxis": "x",
         "y": [
          0.25,
          5.05,
          0.11,
          0.056880341880341884
         ],
         "yaxis": "y"
        },
        {
         "hovertemplate": "id=11<br>variable=%{x}<br>value=%{y}<extra></extra>",
         "legendgroup": "11",
         "line": {
          "color": "#EF553B",
          "dash": "solid",
          "width": 1.5
         },
         "marker": {
          "symbol": "circle"
         },
         "mode": "markers+lines",
         "name": "11",
         "orientation": "v",
         "showlegend": true,
         "type": "scatter",
         "x": [
          "mr",
          "tuplen",
          "R",
          "P"
         ],
         "xaxis": "x",
         "y": [
          0.255,
          6.055,
          0.055,
          0.055
         ],
         "yaxis": "y"
        },
        {
         "hovertemplate": "id=12<br>variable=%{x}<br>value=%{y}<extra></extra>",
         "legendgroup": "12",
         "line": {
          "color": "#00cc96",
          "dash": "solid",
          "width": 1.5
         },
         "marker": {
          "symbol": "circle"
         },
         "mode": "markers+lines",
         "name": "12",
         "orientation": "v",
         "showlegend": true,
         "type": "scatter",
         "x": [
          "mr",
          "tuplen",
          "R",
          "P"
         ],
         "xaxis": "x",
         "y": [
          0.26,
          3.06,
          1.04,
          0.060654221036256936
         ],
         "yaxis": "y"
        },
        {
         "hovertemplate": "id=13<br>variable=%{x}<br>value=%{y}<extra></extra>",
         "legendgroup": "13",
         "line": {
          "color": "#ab63fa",
          "dash": "solid",
          "width": 1.5
         },
         "marker": {
          "symbol": "circle"
         },
         "mode": "markers+lines",
         "name": "13",
         "orientation": "v",
         "showlegend": true,
         "type": "scatter",
         "x": [
          "mr",
          "tuplen",
          "R",
          "P"
         ],
         "xaxis": "x",
         "y": [
          0.265,
          4.065,
          0.9550000000000001,
          0.06722289676370581
         ],
         "yaxis": "y"
        },
        {
         "hovertemplate": "id=14<br>variable=%{x}<br>value=%{y}<extra></extra>",
         "legendgroup": "14",
         "line": {
          "color": "#FFA15A",
          "dash": "solid",
          "width": 1.5
         },
         "marker": {
          "symbol": "circle"
         },
         "mode": "markers+lines",
         "name": "14",
         "orientation": "v",
         "showlegend": true,
         "type": "scatter",
         "x": [
          "mr",
          "tuplen",
          "R",
          "P"
         ],
         "xaxis": "x",
         "y": [
          0.27,
          5.07,
          0.81,
          0.07306453456601228
         ],
         "yaxis": "y"
        },
        {
         "hovertemplate": "id=15<br>variable=%{x}<br>value=%{y}<extra></extra>",
         "legendgroup": "15",
         "line": {
          "color": "#19d3f3",
          "dash": "solid",
          "width": 1.5
         },
         "marker": {
          "symbol": "circle"
         },
         "mode": "markers+lines",
         "name": "15",
         "orientation": "v",
         "showlegend": true,
         "type": "scatter",
         "x": [
          "mr",
          "tuplen",
          "R",
          "P"
         ],
         "xaxis": "x",
         "y": [
          0.275,
          6.075,
          0.615,
          0.08030816395973034
         ],
         "yaxis": "y"
        },
        {
         "hovertemplate": "id=16<br>variable=%{x}<br>value=%{y}<extra></extra>",
         "legendgroup": "16",
         "line": {
          "color": "#FF6692",
          "dash": "solid",
          "width": 1.5
         },
         "marker": {
          "symbol": "circle"
         },
         "mode": "markers+lines",
         "name": "16",
         "orientation": "v",
         "showlegend": true,
         "type": "scatter",
         "x": [
          "mr",
          "tuplen",
          "R",
          "P"
         ],
         "xaxis": "x",
         "y": [
          0.28,
          3.08,
          0.48000000000000004,
          0.08564008239983395
         ],
         "yaxis": "y"
        },
        {
         "hovertemplate": "id=17<br>variable=%{x}<br>value=%{y}<extra></extra>",
         "legendgroup": "17",
         "line": {
          "color": "#B6E880",
          "dash": "solid",
          "width": 1.5
         },
         "marker": {
          "symbol": "circle"
         },
         "mode": "markers+lines",
         "name": "17",
         "orientation": "v",
         "showlegend": true,
         "type": "scatter",
         "x": [
          "mr",
          "tuplen",
          "R",
          "P"
         ],
         "xaxis": "x",
         "y": [
          0.28500000000000003,
          4.085,
          0.535,
          0.08809766716666804
         ],
         "yaxis": "y"
        },
        {
         "hovertemplate": "id=18<br>variable=%{x}<br>value=%{y}<extra></extra>",
         "legendgroup": "18",
         "line": {
          "color": "#FF97FF",
          "dash": "solid",
          "width": 1.5
         },
         "marker": {
          "symbol": "circle"
         },
         "mode": "markers+lines",
         "name": "18",
         "orientation": "v",
         "showlegend": true,
         "type": "scatter",
         "x": [
          "mr",
          "tuplen",
          "R",
          "P"
         ],
         "xaxis": "x",
         "y": [
          0.29000000000000004,
          5.09,
          0.26,
          0.09437205586358183
         ],
         "yaxis": "y"
        },
        {
         "hovertemplate": "id=19<br>variable=%{x}<br>value=%{y}<extra></extra>",
         "legendgroup": "19",
         "line": {
          "color": "#FECB52",
          "dash": "solid",
          "width": 1.5
         },
         "marker": {
          "symbol": "circle"
         },
         "mode": "markers+lines",
         "name": "19",
         "orientation": "v",
         "showlegend": true,
         "type": "scatter",
         "x": [
          "mr",
          "tuplen",
          "R",
          "P"
         ],
         "xaxis": "x",
         "y": [
          0.29500000000000004,
          6.095,
          0.215,
          0.10335066898065891
         ],
         "yaxis": "y"
        }
       ],
       "layout": {
        "legend": {
         "title": {
          "text": "id"
         },
         "tracegroupgap": 0
        },
        "margin": {
         "t": 60
        },
        "template": {
         "data": {
          "bar": [
           {
            "error_x": {
             "color": "#2a3f5f"
            },
            "error_y": {
             "color": "#2a3f5f"
            },
            "marker": {
             "line": {
              "color": "#E5ECF6",
              "width": 0.5
             },
             "pattern": {
              "fillmode": "overlay",
              "size": 10,
              "solidity": 0.2
             }
            },
            "type": "bar"
           }
          ],
          "barpolar": [
           {
            "marker": {
             "line": {
              "color": "#E5ECF6",
              "width": 0.5
             },
             "pattern": {
              "fillmode": "overlay",
              "size": 10,
              "solidity": 0.2
             }
            },
            "type": "barpolar"
           }
          ],
          "carpet": [
           {
            "aaxis": {
             "endlinecolor": "#2a3f5f",
             "gridcolor": "white",
             "linecolor": "white",
             "minorgridcolor": "white",
             "startlinecolor": "#2a3f5f"
            },
            "baxis": {
             "endlinecolor": "#2a3f5f",
             "gridcolor": "white",
             "linecolor": "white",
             "minorgridcolor": "white",
             "startlinecolor": "#2a3f5f"
            },
            "type": "carpet"
           }
          ],
          "choropleth": [
           {
            "colorbar": {
             "outlinewidth": 0,
             "ticks": ""
            },
            "type": "choropleth"
           }
          ],
          "contour": [
           {
            "colorbar": {
             "outlinewidth": 0,
             "ticks": ""
            },
            "colorscale": [
             [
              0,
              "#0d0887"
             ],
             [
              0.1111111111111111,
              "#46039f"
             ],
             [
              0.2222222222222222,
              "#7201a8"
             ],
             [
              0.3333333333333333,
              "#9c179e"
             ],
             [
              0.4444444444444444,
              "#bd3786"
             ],
             [
              0.5555555555555556,
              "#d8576b"
             ],
             [
              0.6666666666666666,
              "#ed7953"
             ],
             [
              0.7777777777777778,
              "#fb9f3a"
             ],
             [
              0.8888888888888888,
              "#fdca26"
             ],
             [
              1,
              "#f0f921"
             ]
            ],
            "type": "contour"
           }
          ],
          "contourcarpet": [
           {
            "colorbar": {
             "outlinewidth": 0,
             "ticks": ""
            },
            "type": "contourcarpet"
           }
          ],
          "heatmap": [
           {
            "colorbar": {
             "outlinewidth": 0,
             "ticks": ""
            },
            "colorscale": [
             [
              0,
              "#0d0887"
             ],
             [
              0.1111111111111111,
              "#46039f"
             ],
             [
              0.2222222222222222,
              "#7201a8"
             ],
             [
              0.3333333333333333,
              "#9c179e"
             ],
             [
              0.4444444444444444,
              "#bd3786"
             ],
             [
              0.5555555555555556,
              "#d8576b"
             ],
             [
              0.6666666666666666,
              "#ed7953"
             ],
             [
              0.7777777777777778,
              "#fb9f3a"
             ],
             [
              0.8888888888888888,
              "#fdca26"
             ],
             [
              1,
              "#f0f921"
             ]
            ],
            "type": "heatmap"
           }
          ],
          "heatmapgl": [
           {
            "colorbar": {
             "outlinewidth": 0,
             "ticks": ""
            },
            "colorscale": [
             [
              0,
              "#0d0887"
             ],
             [
              0.1111111111111111,
              "#46039f"
             ],
             [
              0.2222222222222222,
              "#7201a8"
             ],
             [
              0.3333333333333333,
              "#9c179e"
             ],
             [
              0.4444444444444444,
              "#bd3786"
             ],
             [
              0.5555555555555556,
              "#d8576b"
             ],
             [
              0.6666666666666666,
              "#ed7953"
             ],
             [
              0.7777777777777778,
              "#fb9f3a"
             ],
             [
              0.8888888888888888,
              "#fdca26"
             ],
             [
              1,
              "#f0f921"
             ]
            ],
            "type": "heatmapgl"
           }
          ],
          "histogram": [
           {
            "marker": {
             "pattern": {
              "fillmode": "overlay",
              "size": 10,
              "solidity": 0.2
             }
            },
            "type": "histogram"
           }
          ],
          "histogram2d": [
           {
            "colorbar": {
             "outlinewidth": 0,
             "ticks": ""
            },
            "colorscale": [
             [
              0,
              "#0d0887"
             ],
             [
              0.1111111111111111,
              "#46039f"
             ],
             [
              0.2222222222222222,
              "#7201a8"
             ],
             [
              0.3333333333333333,
              "#9c179e"
             ],
             [
              0.4444444444444444,
              "#bd3786"
             ],
             [
              0.5555555555555556,
              "#d8576b"
             ],
             [
              0.6666666666666666,
              "#ed7953"
             ],
             [
              0.7777777777777778,
              "#fb9f3a"
             ],
             [
              0.8888888888888888,
              "#fdca26"
             ],
             [
              1,
              "#f0f921"
             ]
            ],
            "type": "histogram2d"
           }
          ],
          "histogram2dcontour": [
           {
            "colorbar": {
             "outlinewidth": 0,
             "ticks": ""
            },
            "colorscale": [
             [
              0,
              "#0d0887"
             ],
             [
              0.1111111111111111,
              "#46039f"
             ],
             [
              0.2222222222222222,
              "#7201a8"
             ],
             [
              0.3333333333333333,
              "#9c179e"
             ],
             [
              0.4444444444444444,
              "#bd3786"
             ],
             [
              0.5555555555555556,
              "#d8576b"
             ],
             [
              0.6666666666666666,
              "#ed7953"
             ],
             [
              0.7777777777777778,
              "#fb9f3a"
             ],
             [
              0.8888888888888888,
              "#fdca26"
             ],
             [
              1,
              "#f0f921"
             ]
            ],
            "type": "histogram2dcontour"
           }
          ],
          "mesh3d": [
           {
            "colorbar": {
             "outlinewidth": 0,
             "ticks": ""
            },
            "type": "mesh3d"
           }
          ],
          "parcoords": [
           {
            "line": {
             "colorbar": {
              "outlinewidth": 0,
              "ticks": ""
             }
            },
            "type": "parcoords"
           }
          ],
          "pie": [
           {
            "automargin": true,
            "type": "pie"
           }
          ],
          "scatter": [
           {
            "fillpattern": {
             "fillmode": "overlay",
             "size": 10,
             "solidity": 0.2
            },
            "type": "scatter"
           }
          ],
          "scatter3d": [
           {
            "line": {
             "colorbar": {
              "outlinewidth": 0,
              "ticks": ""
             }
            },
            "marker": {
             "colorbar": {
              "outlinewidth": 0,
              "ticks": ""
             }
            },
            "type": "scatter3d"
           }
          ],
          "scattercarpet": [
           {
            "marker": {
             "colorbar": {
              "outlinewidth": 0,
              "ticks": ""
             }
            },
            "type": "scattercarpet"
           }
          ],
          "scattergeo": [
           {
            "marker": {
             "colorbar": {
              "outlinewidth": 0,
              "ticks": ""
             }
            },
            "type": "scattergeo"
           }
          ],
          "scattergl": [
           {
            "marker": {
             "colorbar": {
              "outlinewidth": 0,
              "ticks": ""
             }
            },
            "type": "scattergl"
           }
          ],
          "scattermapbox": [
           {
            "marker": {
             "colorbar": {
              "outlinewidth": 0,
              "ticks": ""
             }
            },
            "type": "scattermapbox"
           }
          ],
          "scatterpolar": [
           {
            "marker": {
             "colorbar": {
              "outlinewidth": 0,
              "ticks": ""
             }
            },
            "type": "scatterpolar"
           }
          ],
          "scatterpolargl": [
           {
            "marker": {
             "colorbar": {
              "outlinewidth": 0,
              "ticks": ""
             }
            },
            "type": "scatterpolargl"
           }
          ],
          "scatterternary": [
           {
            "marker": {
             "colorbar": {
              "outlinewidth": 0,
              "ticks": ""
             }
            },
            "type": "scatterternary"
           }
          ],
          "surface": [
           {
            "colorbar": {
             "outlinewidth": 0,
             "ticks": ""
            },
            "colorscale": [
             [
              0,
              "#0d0887"
             ],
             [
              0.1111111111111111,
              "#46039f"
             ],
             [
              0.2222222222222222,
              "#7201a8"
             ],
             [
              0.3333333333333333,
              "#9c179e"
             ],
             [
              0.4444444444444444,
              "#bd3786"
             ],
             [
              0.5555555555555556,
              "#d8576b"
             ],
             [
              0.6666666666666666,
              "#ed7953"
             ],
             [
              0.7777777777777778,
              "#fb9f3a"
             ],
             [
              0.8888888888888888,
              "#fdca26"
             ],
             [
              1,
              "#f0f921"
             ]
            ],
            "type": "surface"
           }
          ],
          "table": [
           {
            "cells": {
             "fill": {
              "color": "#EBF0F8"
             },
             "line": {
              "color": "white"
             }
            },
            "header": {
             "fill": {
              "color": "#C8D4E3"
             },
             "line": {
              "color": "white"
             }
            },
            "type": "table"
           }
          ]
         },
         "layout": {
          "annotationdefaults": {
           "arrowcolor": "#2a3f5f",
           "arrowhead": 0,
           "arrowwidth": 1
          },
          "autotypenumbers": "strict",
          "coloraxis": {
           "colorbar": {
            "outlinewidth": 0,
            "ticks": ""
           }
          },
          "colorscale": {
           "diverging": [
            [
             0,
             "#8e0152"
            ],
            [
             0.1,
             "#c51b7d"
            ],
            [
             0.2,
             "#de77ae"
            ],
            [
             0.3,
             "#f1b6da"
            ],
            [
             0.4,
             "#fde0ef"
            ],
            [
             0.5,
             "#f7f7f7"
            ],
            [
             0.6,
             "#e6f5d0"
            ],
            [
             0.7,
             "#b8e186"
            ],
            [
             0.8,
             "#7fbc41"
            ],
            [
             0.9,
             "#4d9221"
            ],
            [
             1,
             "#276419"
            ]
           ],
           "sequential": [
            [
             0,
             "#0d0887"
            ],
            [
             0.1111111111111111,
             "#46039f"
            ],
            [
             0.2222222222222222,
             "#7201a8"
            ],
            [
             0.3333333333333333,
             "#9c179e"
            ],
            [
             0.4444444444444444,
             "#bd3786"
            ],
            [
             0.5555555555555556,
             "#d8576b"
            ],
            [
             0.6666666666666666,
             "#ed7953"
            ],
            [
             0.7777777777777778,
             "#fb9f3a"
            ],
            [
             0.8888888888888888,
             "#fdca26"
            ],
            [
             1,
             "#f0f921"
            ]
           ],
           "sequentialminus": [
            [
             0,
             "#0d0887"
            ],
            [
             0.1111111111111111,
             "#46039f"
            ],
            [
             0.2222222222222222,
             "#7201a8"
            ],
            [
             0.3333333333333333,
             "#9c179e"
            ],
            [
             0.4444444444444444,
             "#bd3786"
            ],
            [
             0.5555555555555556,
             "#d8576b"
            ],
            [
             0.6666666666666666,
             "#ed7953"
            ],
            [
             0.7777777777777778,
             "#fb9f3a"
            ],
            [
             0.8888888888888888,
             "#fdca26"
            ],
            [
             1,
             "#f0f921"
            ]
           ]
          },
          "colorway": [
           "#636efa",
           "#EF553B",
           "#00cc96",
           "#ab63fa",
           "#FFA15A",
           "#19d3f3",
           "#FF6692",
           "#B6E880",
           "#FF97FF",
           "#FECB52"
          ],
          "font": {
           "color": "#2a3f5f"
          },
          "geo": {
           "bgcolor": "white",
           "lakecolor": "white",
           "landcolor": "#E5ECF6",
           "showlakes": true,
           "showland": true,
           "subunitcolor": "white"
          },
          "hoverlabel": {
           "align": "left"
          },
          "hovermode": "closest",
          "mapbox": {
           "style": "light"
          },
          "paper_bgcolor": "white",
          "plot_bgcolor": "#E5ECF6",
          "polar": {
           "angularaxis": {
            "gridcolor": "white",
            "linecolor": "white",
            "ticks": ""
           },
           "bgcolor": "#E5ECF6",
           "radialaxis": {
            "gridcolor": "white",
            "linecolor": "white",
            "ticks": ""
           }
          },
          "scene": {
           "xaxis": {
            "backgroundcolor": "#E5ECF6",
            "gridcolor": "white",
            "gridwidth": 2,
            "linecolor": "white",
            "showbackground": true,
            "ticks": "",
            "zerolinecolor": "white"
           },
           "yaxis": {
            "backgroundcolor": "#E5ECF6",
            "gridcolor": "white",
            "gridwidth": 2,
            "linecolor": "white",
            "showbackground": true,
            "ticks": "",
            "zerolinecolor": "white"
           },
           "zaxis": {
            "backgroundcolor": "#E5ECF6",
            "gridcolor": "white",
            "gridwidth": 2,
            "linecolor": "white",
            "showbackground": true,
            "ticks": "",
            "zerolinecolor": "white"
           }
          },
          "shapedefaults": {
           "line": {
            "color": "#2a3f5f"
           }
          },
          "ternary": {
           "aaxis": {
            "gridcolor": "white",
            "linecolor": "white",
            "ticks": ""
           },
           "baxis": {
            "gridcolor": "white",
            "linecolor": "white",
            "ticks": ""
           },
           "bgcolor": "#E5ECF6",
           "caxis": {
            "gridcolor": "white",
            "linecolor": "white",
            "ticks": ""
           }
          },
          "title": {
           "x": 0.05
          },
          "xaxis": {
           "automargin": true,
           "gridcolor": "white",
           "linecolor": "white",
           "ticks": "",
           "title": {
            "standoff": 15
           },
           "zerolinecolor": "white",
           "zerolinewidth": 2
          },
          "yaxis": {
           "automargin": true,
           "gridcolor": "white",
           "linecolor": "white",
           "ticks": "",
           "title": {
            "standoff": 15
           },
           "zerolinecolor": "white",
           "zerolinewidth": 2
          }
         }
        },
        "xaxis": {
         "anchor": "y",
         "autorange": true,
         "domain": [
          0,
          1
         ],
         "range": [
          -0.17956656346749228,
          3.179566563467492
         ],
         "title": {
          "text": "variable"
         },
         "type": "category"
        },
        "yaxis": {
         "anchor": "x",
         "autorange": true,
         "domain": [
          0,
          1
         ],
         "range": [
          -0.4706270145993971,
          6.566829468771455
         ],
         "title": {
          "text": "value"
         },
         "type": "linear"
        }
       }
      },
      "image/png": "[encoded data removed]",
      "text/html": [
       "<div>                            <div id=\"630f6c7d-ff08-4df9-a708-891f300d720a\" class=\"plotly-graph-div\" style=\"height:525px; width:100%;\"></div>            <script type=\"text/javascript\">                require([\"plotly\"], function(Plotly) {                    window.PLOTLYENV=window.PLOTLYENV || {};                                    if (document.getElementById(\"630f6c7d-ff08-4df9-a708-891f300d720a\")) {                    Plotly.newPlot(                        \"630f6c7d-ff08-4df9-a708-891f300d720a\",                        [{\"hovertemplate\":\"id=0<br>variable=%{x}<br>value=%{y}<extra></extra>\",\"legendgroup\":\"0\",\"line\":{\"color\":\"#636efa\",\"dash\":\"solid\",\"width\":1.5},\"marker\":{\"symbol\":\"circle\"},\"mode\":\"markers+lines\",\"name\":\"0\",\"orientation\":\"v\",\"showlegend\":true,\"x\":[\"mr\",\"tuplen\",\"R\",\"P\"],\"xaxis\":\"x\",\"y\":[0.2,3.0,0.99,0.0012024541720577037],\"yaxis\":\"y\",\"type\":\"scatter\"},{\"hovertemplate\":\"id=1<br>variable=%{x}<br>value=%{y}<extra></extra>\",\"legendgroup\":\"1\",\"line\":{\"color\":\"#EF553B\",\"dash\":\"solid\",\"width\":1.5},\"marker\":{\"symbol\":\"circle\"},\"mode\":\"markers+lines\",\"name\":\"1\",\"orientation\":\"v\",\"showlegend\":true,\"x\":[\"mr\",\"tuplen\",\"R\",\"P\"],\"xaxis\":\"x\",\"y\":[0.20500000000000002,4.005,0.925,0.005967502391840104],\"yaxis\":\"y\",\"type\":\"scatter\"},{\"hovertemplate\":\"id=2<br>variable=%{x}<br>value=%{y}<extra></extra>\",\"legendgroup\":\"2\",\"line\":{\"color\":\"#00cc96\",\"dash\":\"solid\",\"width\":1.5},\"marker\":{\"symbol\":\"circle\"},\"mode\":\"markers+lines\",\"name\":\"2\",\"orientation\":\"v\",\"showlegend\":true,\"x\":[\"mr\",\"tuplen\",\"R\",\"P\"],\"xaxis\":\"x\",\"y\":[0.21000000000000002,5.01,0.97,0.010628059501442636],\"yaxis\":\"y\",\"type\":\"scatter\"},{\"hovertemplate\":\"id=3<br>variable=%{x}<br>value=%{y}<extra></extra>\",\"legendgroup\":\"3\",\"line\":{\"color\":\"#ab63fa\",\"dash\":\"solid\",\"width\":1.5},\"marker\":{\"symbol\":\"circle\"},\"mode\":\"markers+lines\",\"name\":\"3\",\"orientation\":\"v\",\"showlegend\":true,\"x\":[\"mr\",\"tuplen\",\"R\",\"P\"],\"xaxis\":\"x\",\"y\":[0.21500000000000002,6.015,0.9450000000000001,0.015427879295222494],\"yaxis\":\"y\",\"type\":\"scatter\"},{\"hovertemplate\":\"id=4<br>variable=%{x}<br>value=%{y}<extra></extra>\",\"legendgroup\":\"4\",\"line\":{\"color\":\"#FFA15A\",\"dash\":\"solid\",\"width\":1.5},\"marker\":{\"symbol\":\"circle\"},\"mode\":\"markers+lines\",\"name\":\"4\",\"orientation\":\"v\",\"showlegend\":true,\"x\":[\"mr\",\"tuplen\",\"R\",\"P\"],\"xaxis\":\"x\",\"y\":[0.22,3.02,0.55,0.023835244598066817],\"yaxis\":\"y\",\"type\":\"scatter\"},{\"hovertemplate\":\"id=5<br>variable=%{x}<br>value=%{y}<extra></extra>\",\"legendgroup\":\"5\",\"line\":{\"color\":\"#19d3f3\",\"dash\":\"solid\",\"width\":1.5},\"marker\":{\"symbol\":\"circle\"},\"mode\":\"markers+lines\",\"name\":\"5\",\"orientation\":\"v\",\"showlegend\":true,\"x\":[\"mr\",\"tuplen\",\"R\",\"P\"],\"xaxis\":\"x\",\"y\":[0.225,4.025,0.865,0.026259332393101294],\"yaxis\":\"y\",\"type\":\"scatter\"},{\"hovertemplate\":\"id=6<br>variable=%{x}<br>value=%{y}<extra></extra>\",\"legendgroup\":\"6\",\"line\":{\"color\":\"#FF6692\",\"dash\":\"solid\",\"width\":1.5},\"marker\":{\"symbol\":\"circle\"},\"mode\":\"markers+lines\",\"name\":\"6\",\"orientation\":\"v\",\"showlegend\":true,\"x\":[\"mr\",\"tuplen\",\"R\",\"P\"],\"xaxis\":\"x\",\"y\":[0.23,5.03,0.25,0.03799333568174982],\"yaxis\":\"y\",\"type\":\"scatter\"},{\"hovertemplate\":\"id=7<br>variable=%{x}<br>value=%{y}<extra></extra>\",\"legendgroup\":\"7\",\"line\":{\"color\":\"#B6E880\",\"dash\":\"solid\",\"width\":1.5},\"marker\":{\"symbol\":\"circle\"},\"mode\":\"markers+lines\",\"name\":\"7\",\"orientation\":\"v\",\"showlegend\":true,\"x\":[\"mr\",\"tuplen\",\"R\",\"P\"],\"xaxis\":\"x\",\"y\":[0.23500000000000001,6.035,0.28500000000000003,0.03700972699765157],\"yaxis\":\"y\",\"type\":\"scatter\"},{\"hovertemplate\":\"id=8<br>variable=%{x}<br>value=%{y}<extra></extra>\",\"legendgroup\":\"8\",\"line\":{\"color\":\"#FF97FF\",\"dash\":\"solid\",\"width\":1.5},\"marker\":{\"symbol\":\"circle\"},\"mode\":\"markers+lines\",\"name\":\"8\",\"orientation\":\"v\",\"showlegend\":true,\"x\":[\"mr\",\"tuplen\",\"R\",\"P\"],\"xaxis\":\"x\",\"y\":[0.24000000000000002,3.04,0.24000000000000002,0.04172999546783869],\"yaxis\":\"y\",\"type\":\"scatter\"},{\"hovertemplate\":\"id=9<br>variable=%{x}<br>value=%{y}<extra></extra>\",\"legendgroup\":\"9\",\"line\":{\"color\":\"#FECB52\",\"dash\":\"solid\",\"width\":1.5},\"marker\":{\"symbol\":\"circle\"},\"mode\":\"markers+lines\",\"name\":\"9\",\"orientation\":\"v\",\"showlegend\":true,\"x\":[\"mr\",\"tuplen\",\"R\",\"P\"],\"xaxis\":\"x\",\"y\":[0.245,4.045,0.105,0.06853801169590643],\"yaxis\":\"y\",\"type\":\"scatter\"},{\"hovertemplate\":\"id=10<br>variable=%{x}<br>value=%{y}<extra></extra>\",\"legendgroup\":\"10\",\"line\":{\"color\":\"#636efa\",\"dash\":\"solid\",\"width\":1.5},\"marker\":{\"symbol\":\"circle\"},\"mode\":\"markers+lines\",\"name\":\"10\",\"orientation\":\"v\",\"showlegend\":true,\"x\":[\"mr\",\"tuplen\",\"R\",\"P\"],\"xaxis\":\"x\",\"y\":[0.25,5.05,0.11,0.056880341880341884],\"yaxis\":\"y\",\"type\":\"scatter\"},{\"hovertemplate\":\"id=11<br>variable=%{x}<br>value=%{y}<extra></extra>\",\"legendgroup\":\"11\",\"line\":{\"color\":\"#EF553B\",\"dash\":\"solid\",\"width\":1.5},\"marker\":{\"symbol\":\"circle\"},\"mode\":\"markers+lines\",\"name\":\"11\",\"orientation\":\"v\",\"showlegend\":true,\"x\":[\"mr\",\"tuplen\",\"R\",\"P\"],\"xaxis\":\"x\",\"y\":[0.255,6.055,0.055,0.055],\"yaxis\":\"y\",\"type\":\"scatter\"},{\"hovertemplate\":\"id=12<br>variable=%{x}<br>value=%{y}<extra></extra>\",\"legendgroup\":\"12\",\"line\":{\"color\":\"#00cc96\",\"dash\":\"solid\",\"width\":1.5},\"marker\":{\"symbol\":\"circle\"},\"mode\":\"markers+lines\",\"name\":\"12\",\"orientation\":\"v\",\"showlegend\":true,\"x\":[\"mr\",\"tuplen\",\"R\",\"P\"],\"xaxis\":\"x\",\"y\":[0.26,3.06,1.04,0.060654221036256936],\"yaxis\":\"y\",\"type\":\"scatter\"},{\"hovertemplate\":\"id=13<br>variable=%{x}<br>value=%{y}<extra></extra>\",\"legendgroup\":\"13\",\"line\":{\"color\":\"#ab63fa\",\"dash\":\"solid\",\"width\":1.5},\"marker\":{\"symbol\":\"circle\"},\"mode\":\"markers+lines\",\"name\":\"13\",\"orientation\":\"v\",\"showlegend\":true,\"x\":[\"mr\",\"tuplen\",\"R\",\"P\"],\"xaxis\":\"x\",\"y\":[0.265,4.065,0.9550000000000001,0.06722289676370581],\"yaxis\":\"y\",\"type\":\"scatter\"},{\"hovertemplate\":\"id=14<br>variable=%{x}<br>value=%{y}<extra></extra>\",\"legendgroup\":\"14\",\"line\":{\"color\":\"#FFA15A\",\"dash\":\"solid\",\"width\":1.5},\"marker\":{\"symbol\":\"circle\"},\"mode\":\"markers+lines\",\"name\":\"14\",\"orientation\":\"v\",\"showlegend\":true,\"x\":[\"mr\",\"tuplen\",\"R\",\"P\"],\"xaxis\":\"x\",\"y\":[0.27,5.07,0.81,0.07306453456601228],\"yaxis\":\"y\",\"type\":\"scatter\"},{\"hovertemplate\":\"id=15<br>variable=%{x}<br>value=%{y}<extra></extra>\",\"legendgroup\":\"15\",\"line\":{\"color\":\"#19d3f3\",\"dash\":\"solid\",\"width\":1.5},\"marker\":{\"symbol\":\"circle\"},\"mode\":\"markers+lines\",\"name\":\"15\",\"orientation\":\"v\",\"showlegend\":true,\"x\":[\"mr\",\"tuplen\",\"R\",\"P\"],\"xaxis\":\"x\",\"y\":[0.275,6.075,0.615,0.08030816395973034],\"yaxis\":\"y\",\"type\":\"scatter\"},{\"hovertemplate\":\"id=16<br>variable=%{x}<br>value=%{y}<extra></extra>\",\"legendgroup\":\"16\",\"line\":{\"color\":\"#FF6692\",\"dash\":\"solid\",\"width\":1.5},\"marker\":{\"symbol\":\"circle\"},\"mode\":\"markers+lines\",\"name\":\"16\",\"orientation\":\"v\",\"showlegend\":true,\"x\":[\"mr\",\"tuplen\",\"R\",\"P\"],\"xaxis\":\"x\",\"y\":[0.28,3.08,0.48000000000000004,0.08564008239983395],\"yaxis\":\"y\",\"type\":\"scatter\"},{\"hovertemplate\":\"id=17<br>variable=%{x}<br>value=%{y}<extra></extra>\",\"legendgroup\":\"17\",\"line\":{\"color\":\"#B6E880\",\"dash\":\"solid\",\"width\":1.5},\"marker\":{\"symbol\":\"circle\"},\"mode\":\"markers+lines\",\"name\":\"17\",\"orientation\":\"v\",\"showlegend\":true,\"x\":[\"mr\",\"tuplen\",\"R\",\"P\"],\"xaxis\":\"x\",\"y\":[0.28500000000000003,4.085,0.535,0.08809766716666804],\"yaxis\":\"y\",\"type\":\"scatter\"},{\"hovertemplate\":\"id=18<br>variable=%{x}<br>value=%{y}<extra></extra>\",\"legendgroup\":\"18\",\"line\":{\"color\":\"#FF97FF\",\"dash\":\"solid\",\"width\":1.5},\"marker\":{\"symbol\":\"circle\"},\"mode\":\"markers+lines\",\"name\":\"18\",\"orientation\":\"v\",\"showlegend\":true,\"x\":[\"mr\",\"tuplen\",\"R\",\"P\"],\"xaxis\":\"x\",\"y\":[0.29000000000000004,5.09,0.26,0.09437205586358183],\"yaxis\":\"y\",\"type\":\"scatter\"},{\"hovertemplate\":\"id=19<br>variable=%{x}<br>value=%{y}<extra></extra>\",\"legendgroup\":\"19\",\"line\":{\"color\":\"#FECB52\",\"dash\":\"solid\",\"width\":1.5},\"marker\":{\"symbol\":\"circle\"},\"mode\":\"markers+lines\",\"name\":\"19\",\"orientation\":\"v\",\"showlegend\":true,\"x\":[\"mr\",\"tuplen\",\"R\",\"P\"],\"xaxis\":\"x\",\"y\":[0.29500000000000004,6.095,0.215,0.10335066898065891],\"yaxis\":\"y\",\"type\":\"scatter\"}],                        {\"template\":{\"data\":{\"histogram2dcontour\":[{\"type\":\"histogram2dcontour\",\"colorbar\":{\"outlinewidth\":0,\"ticks\":\"\"},\"colorscale\":[[0.0,\"#0d0887\"],[0.1111111111111111,\"#46039f\"],[0.2222222222222222,\"#7201a8\"],[0.3333333333333333,\"#9c179e\"],[0.4444444444444444,\"#bd3786\"],[0.5555555555555556,\"#d8576b\"],[0.6666666666666666,\"#ed7953\"],[0.7777777777777778,\"#fb9f3a\"],[0.8888888888888888,\"#fdca26\"],[1.0,\"#f0f921\"]]}],\"choropleth\":[{\"type\":\"choropleth\",\"colorbar\":{\"outlinewidth\":0,\"ticks\":\"\"}}],\"histogram2d\":[{\"type\":\"histogram2d\",\"colorbar\":{\"outlinewidth\":0,\"ticks\":\"\"},\"colorscale\":[[0.0,\"#0d0887\"],[0.1111111111111111,\"#46039f\"],[0.2222222222222222,\"#7201a8\"],[0.3333333333333333,\"#9c179e\"],[0.4444444444444444,\"#bd3786\"],[0.5555555555555556,\"#d8576b\"],[0.6666666666666666,\"#ed7953\"],[0.7777777777777778,\"#fb9f3a\"],[0.8888888888888888,\"#fdca26\"],[1.0,\"#f0f921\"]]}],\"heatmap\":[{\"type\":\"heatmap\",\"colorbar\":{\"outlinewidth\":0,\"ticks\":\"\"},\"colorscale\":[[0.0,\"#0d0887\"],[0.1111111111111111,\"#46039f\"],[0.2222222222222222,\"#7201a8\"],[0.3333333333333333,\"#9c179e\"],[0.4444444444444444,\"#bd3786\"],[0.5555555555555556,\"#d8576b\"],[0.6666666666666666,\"#ed7953\"],[0.7777777777777778,\"#fb9f3a\"],[0.8888888888888888,\"#fdca26\"],[1.0,\"#f0f921\"]]}],\"heatmapgl\":[{\"type\":\"heatmapgl\",\"colorbar\":{\"outlinewidth\":0,\"ticks\":\"\"},\"colorscale\":[[0.0,\"#0d0887\"],[0.1111111111111111,\"#46039f\"],[0.2222222222222222,\"#7201a8\"],[0.3333333333333333,\"#9c179e\"],[0.4444444444444444,\"#bd3786\"],[0.5555555555555556,\"#d8576b\"],[0.6666666666666666,\"#ed7953\"],[0.7777777777777778,\"#fb9f3a\"],[0.8888888888888888,\"#fdca26\"],[1.0,\"#f0f921\"]]}],\"contourcarpet\":[{\"type\":\"contourcarpet\",\"colorbar\":{\"outlinewidth\":0,\"ticks\":\"\"}}],\"contour\":[{\"type\":\"contour\",\"colorbar\":{\"outlinewidth\":0,\"ticks\":\"\"},\"colorscale\":[[0.0,\"#0d0887\"],[0.1111111111111111,\"#46039f\"],[0.2222222222222222,\"#7201a8\"],[0.3333333333333333,\"#9c179e\"],[0.4444444444444444,\"#bd3786\"],[0.5555555555555556,\"#d8576b\"],[0.6666666666666666,\"#ed7953\"],[0.7777777777777778,\"#fb9f3a\"],[0.8888888888888888,\"#fdca26\"],[1.0,\"#f0f921\"]]}],\"surface\":[{\"type\":\"surface\",\"colorbar\":{\"outlinewidth\":0,\"ticks\":\"\"},\"colorscale\":[[0.0,\"#0d0887\"],[0.1111111111111111,\"#46039f\"],[0.2222222222222222,\"#7201a8\"],[0.3333333333333333,\"#9c179e\"],[0.4444444444444444,\"#bd3786\"],[0.5555555555555556,\"#d8576b\"],[0.6666666666666666,\"#ed7953\"],[0.7777777777777778,\"#fb9f3a\"],[0.8888888888888888,\"#fdca26\"],[1.0,\"#f0f921\"]]}],\"mesh3d\":[{\"type\":\"mesh3d\",\"colorbar\":{\"outlinewidth\":0,\"ticks\":\"\"}}],\"scatter\":[{\"fillpattern\":{\"fillmode\":\"overlay\",\"size\":10,\"solidity\":0.2},\"type\":\"scatter\"}],\"parcoords\":[{\"type\":\"parcoords\",\"line\":{\"colorbar\":{\"outlinewidth\":0,\"ticks\":\"\"}}}],\"scatterpolargl\":[{\"type\":\"scatterpolargl\",\"marker\":{\"colorbar\":{\"outlinewidth\":0,\"ticks\":\"\"}}}],\"bar\":[{\"error_x\":{\"color\":\"#2a3f5f\"},\"error_y\":{\"color\":\"#2a3f5f\"},\"marker\":{\"line\":{\"color\":\"#E5ECF6\",\"width\":0.5},\"pattern\":{\"fillmode\":\"overlay\",\"size\":10,\"solidity\":0.2}},\"type\":\"bar\"}],\"scattergeo\":[{\"type\":\"scattergeo\",\"marker\":{\"colorbar\":{\"outlinewidth\":0,\"ticks\":\"\"}}}],\"scatterpolar\":[{\"type\":\"scatterpolar\",\"marker\":{\"colorbar\":{\"outlinewidth\":0,\"ticks\":\"\"}}}],\"histogram\":[{\"marker\":{\"pattern\":{\"fillmode\":\"overlay\",\"size\":10,\"solidity\":0.2}},\"type\":\"histogram\"}],\"scattergl\":[{\"type\":\"scattergl\",\"marker\":{\"colorbar\":{\"outlinewidth\":0,\"ticks\":\"\"}}}],\"scatter3d\":[{\"type\":\"scatter3d\",\"line\":{\"colorbar\":{\"outlinewidth\":0,\"ticks\":\"\"}},\"marker\":{\"colorbar\":{\"outlinewidth\":0,\"ticks\":\"\"}}}],\"scattermapbox\":[{\"type\":\"scattermapbox\",\"marker\":{\"colorbar\":{\"outlinewidth\":0,\"ticks\":\"\"}}}],\"scatterternary\":[{\"type\":\"scatterternary\",\"marker\":{\"colorbar\":{\"outlinewidth\":0,\"ticks\":\"\"}}}],\"scattercarpet\":[{\"type\":\"scattercarpet\",\"marker\":{\"colorbar\":{\"outlinewidth\":0,\"ticks\":\"\"}}}],\"carpet\":[{\"aaxis\":{\"endlinecolor\":\"#2a3f5f\",\"gridcolor\":\"white\",\"linecolor\":\"white\",\"minorgridcolor\":\"white\",\"startlinecolor\":\"#2a3f5f\"},\"baxis\":{\"endlinecolor\":\"#2a3f5f\",\"gridcolor\":\"white\",\"linecolor\":\"white\",\"minorgridcolor\":\"white\",\"startlinecolor\":\"#2a3f5f\"},\"type\":\"carpet\"}],\"table\":[{\"cells\":{\"fill\":{\"color\":\"#EBF0F8\"},\"line\":{\"color\":\"white\"}},\"header\":{\"fill\":{\"color\":\"#C8D4E3\"},\"line\":{\"color\":\"white\"}},\"type\":\"table\"}],\"barpolar\":[{\"marker\":{\"line\":{\"color\":\"#E5ECF6\",\"width\":0.5},\"pattern\":{\"fillmode\":\"overlay\",\"size\":10,\"solidity\":0.2}},\"type\":\"barpolar\"}],\"pie\":[{\"automargin\":true,\"type\":\"pie\"}]},\"layout\":{\"autotypenumbers\":\"strict\",\"colorway\":[\"#636efa\",\"#EF553B\",\"#00cc96\",\"#ab63fa\",\"#FFA15A\",\"#19d3f3\",\"#FF6692\",\"#B6E880\",\"#FF97FF\",\"#FECB52\"],\"font\":{\"color\":\"#2a3f5f\"},\"hovermode\":\"closest\",\"hoverlabel\":{\"align\":\"left\"},\"paper_bgcolor\":\"white\",\"plot_bgcolor\":\"#E5ECF6\",\"polar\":{\"bgcolor\":\"#E5ECF6\",\"angularaxis\":{\"gridcolor\":\"white\",\"linecolor\":\"white\",\"ticks\":\"\"},\"radialaxis\":{\"gridcolor\":\"white\",\"linecolor\":\"white\",\"ticks\":\"\"}},\"ternary\":{\"bgcolor\":\"#E5ECF6\",\"aaxis\":{\"gridcolor\":\"white\",\"linecolor\":\"white\",\"ticks\":\"\"},\"baxis\":{\"gridcolor\":\"white\",\"linecolor\":\"white\",\"ticks\":\"\"},\"caxis\":{\"gridcolor\":\"white\",\"linecolor\":\"white\",\"ticks\":\"\"}},\"coloraxis\":{\"colorbar\":{\"outlinewidth\":0,\"ticks\":\"\"}},\"colorscale\":{\"sequential\":[[0.0,\"#0d0887\"],[0.1111111111111111,\"#46039f\"],[0.2222222222222222,\"#7201a8\"],[0.3333333333333333,\"#9c179e\"],[0.4444444444444444,\"#bd3786\"],[0.5555555555555556,\"#d8576b\"],[0.6666666666666666,\"#ed7953\"],[0.7777777777777778,\"#fb9f3a\"],[0.8888888888888888,\"#fdca26\"],[1.0,\"#f0f921\"]],\"sequentialminus\":[[0.0,\"#0d0887\"],[0.1111111111111111,\"#46039f\"],[0.2222222222222222,\"#7201a8\"],[0.3333333333333333,\"#9c179e\"],[0.4444444444444444,\"#bd3786\"],[0.5555555555555556,\"#d8576b\"],[0.6666666666666666,\"#ed7953\"],[0.7777777777777778,\"#fb9f3a\"],[0.8888888888888888,\"#fdca26\"],[1.0,\"#f0f921\"]],\"diverging\":[[0,\"#8e0152\"],[0.1,\"#c51b7d\"],[0.2,\"#de77ae\"],[0.3,\"#f1b6da\"],[0.4,\"#fde0ef\"],[0.5,\"#f7f7f7\"],[0.6,\"#e6f5d0\"],[0.7,\"#b8e186\"],[0.8,\"#7fbc41\"],[0.9,\"#4d9221\"],[1,\"#276419\"]]},\"xaxis\":{\"gridcolor\":\"white\",\"linecolor\":\"white\",\"ticks\":\"\",\"title\":{\"standoff\":15},\"zerolinecolor\":\"white\",\"automargin\":true,\"zerolinewidth\":2},\"yaxis\":{\"gridcolor\":\"white\",\"linecolor\":\"white\",\"ticks\":\"\",\"title\":{\"standoff\":15},\"zerolinecolor\":\"white\",\"automargin\":true,\"zerolinewidth\":2},\"scene\":{\"xaxis\":{\"backgroundcolor\":\"#E5ECF6\",\"gridcolor\":\"white\",\"linecolor\":\"white\",\"showbackground\":true,\"ticks\":\"\",\"zerolinecolor\":\"white\",\"gridwidth\":2},\"yaxis\":{\"backgroundcolor\":\"#E5ECF6\",\"gridcolor\":\"white\",\"linecolor\":\"white\",\"showbackground\":true,\"ticks\":\"\",\"zerolinecolor\":\"white\",\"gridwidth\":2},\"zaxis\":{\"backgroundcolor\":\"#E5ECF6\",\"gridcolor\":\"white\",\"linecolor\":\"white\",\"showbackground\":true,\"ticks\":\"\",\"zerolinecolor\":\"white\",\"gridwidth\":2}},\"shapedefaults\":{\"line\":{\"color\":\"#2a3f5f\"}},\"annotationdefaults\":{\"arrowcolor\":\"#2a3f5f\",\"arrowhead\":0,\"arrowwidth\":1},\"geo\":{\"bgcolor\":\"white\",\"landcolor\":\"#E5ECF6\",\"subunitcolor\":\"white\",\"showland\":true,\"showlakes\":true,\"lakecolor\":\"white\"},\"title\":{\"x\":0.05},\"mapbox\":{\"style\":\"light\"}}},\"xaxis\":{\"anchor\":\"y\",\"domain\":[0.0,1.0],\"title\":{\"text\":\"variable\"}},\"yaxis\":{\"anchor\":\"x\",\"domain\":[0.0,1.0],\"title\":{\"text\":\"value\"}},\"legend\":{\"title\":{\"text\":\"id\"},\"tracegroupgap\":0},\"margin\":{\"t\":60}},                        {\"responsive\": true}                    ).then(function(){\n",
       "                            \n",
       "var gd = document.getElementById('630f6c7d-ff08-4df9-a708-891f300d720a');\n",
       "var x = new MutationObserver(function (mutations, observer) {{\n",
       "        var display = window.getComputedStyle(gd).display;\n",
       "        if (!display || display === 'none') {{\n",
       "            console.log([gd, 'removed!']);\n",
       "            Plotly.purge(gd);\n",
       "            observer.disconnect();\n",
       "        }}\n",
       "}});\n",
       "\n",
       "// Listen for the removal of the full notebook cells\n",
       "var notebookContainer = gd.closest('#notebook-container');\n",
       "if (notebookContainer) {{\n",
       "    x.observe(notebookContainer, {childList: true});\n",
       "}}\n",
       "\n",
       "// Listen for the clearing of the current output cell\n",
       "var outputEl = gd.closest('.output');\n",
       "if (outputEl) {{\n",
       "    x.observe(outputEl, {childList: true});\n",
       "}}\n",
       "\n",
       "                        })                };                });            </script>        </div>"
      ]
     },
     "metadata": {},
     "output_type": "display_data"
    }
   ],
   "source": [
    "# df.loc[~df.P.isna()]\n",
    "show_board(df.iloc[:20],cols = ['mr','tuplen','R','P']) # 'N','w','s',m,m2"
   ]
  },
  {
   "cell_type": "code",
   "execution_count": 74,
   "id": "ee1f66dd-4c76-412c-b370-323bfbe2cb2f",
   "metadata": {},
   "outputs": [
    {
     "data": {
      "image/png": "[encoded data removed]",
      "text/plain": [
       "<Figure size 864x432 with 2 Axes>"
      ]
     },
     "metadata": {},
     "output_type": "display_data"
    }
   ],
   "source": [
    "import seaborn as sns\n",
    "import plotly.express as px\n",
    "import matplotlib.pyplot as plt\n",
    "import pandas as pd\n",
    "df = pd.DataFrame(results)\n",
    "Ys = ['P', 'R']\n",
    "fig,axes = plt.subplots(1,len(Ys),figsize=(len(Ys)*6,6))\n",
    "for y,ax in zip(Ys,axes):\n",
    "    sns.set_style(\"whitegrid\")\n",
    "    fig = sns.lineplot(ax=ax,data=df,y=(df.R),x=(df.P),marker='.',markersize=10,hue='tuplen',style='k')\n",
    "    fig.set(xscale='log')\n",
    "    fig.set(yscale='log')\n",
    "    # ax.set_ylim(0,1)\n",
    "\n",
    "plt.grid(True)"
   ]
  },
  {
   "cell_type": "markdown",
   "id": "69060065",
   "metadata": {},
   "source": [
    "# Measuring time"
   ]
  },
  {
   "cell_type": "code",
   "execution_count": 20,
   "id": "86fd5c3d",
   "metadata": {},
   "outputs": [
    {
     "name": "stdout",
     "output_type": "stream",
     "text": [
      "1000000: 0.7615973949432373\n",
      "2000000: 1.5311558246612549\n",
      "5000000: 3.8517634868621826\n",
      "10000000: 7.619181394577026\n"
     ]
    }
   ],
   "source": [
    "times = []\n",
    "sketcher = DTS(t=conf['tuplen'], D=conf['m'], D2=conf['m2'], A=len(alphabet))    \n",
    "\n",
    "for N in [1000000, 2000000,5000000, 10000000]:\n",
    "    seqv = np.random.choice(alphabet, N)\n",
    "    seq = ''.join(seqv)\n",
    "    wmers = [np.random.randint(0,4,int(15)) for i in range(int(N/15))]\n",
    "    start = time.time()\n",
    "    sketcher.sketch(wmers)\n",
    "    end = time.time()\n",
    "    print(f'{N}: {end-start}')\n",
    "    times.append(end-start)\n"
   ]
  },
  {
   "cell_type": "markdown",
   "id": "0e0358ca-2fa8-4e47-ae83-7c8c5aa0a82c",
   "metadata": {},
   "source": [
    "# Multi-level sketching"
   ]
  },
  {
   "cell_type": "code",
   "execution_count": null,
   "id": "db7046bb-a555-492b-862a-c9ff2d4b70e6",
   "metadata": {},
   "outputs": [],
   "source": [
    "def sketch_multi(s):\n",
    "    h = s\n",
    "    m = conf['w']\n",
    "    h = [h[i:i+m] for i in range(0,len(h) - m + 1,m)]\n",
    "    h = np.array(sketcher.sketch(h)) % conf['alpha2']\n",
    "    h1 = h\n",
    "\n",
    "    m = conf['m2']\n",
    "    h = [h[i:i+m] for i in range(0,len(h) - m + 1,m)]\n",
    "    h = sketcher2.sketch(h)\n",
    "    h = np.array(h) % conf['alpha3']\n",
    "    h2 = h\n",
    "\n",
    "    return h1, h2\n",
    "\n",
    "\n",
    "w = 10\n",
    "w2 = 10\n",
    "alpha = 4\n",
    "\n",
    "\n",
    "config_grid = dict(\n",
    "    num_paths = 100,\n",
    "    N = [200],\n",
    "    mutation_rate = [0.1],\n",
    "    path_len = 20*w*w2,\n",
    "    embed_dim= 20,\n",
    "    embed_dim2= 2**4,\n",
    "    recall_distance = 3,\n",
    "    m = w,\n",
    "    tuple_length = 2,\n",
    "    m2 = w2,\n",
    "    tuple_length2= 4,\n",
    "    alpha2= 4 ,\n",
    "    alpha3= 8 ,\n",
    ")\n",
    "\n",
    "conf = next( dict_configs(config_grid) )\n",
    "\n",
    "Len = conf['path_len']\n",
    "Num = conf['N']\n",
    "sketcher = DTS(t=conf['tuple_length'], D=conf['embed_dim'], D2=conf['embed_dim2'], A=alpha) \n",
    "sketcher2 = DTS(t=conf['tuple_length2'], D=conf['embed_dim'], D2=conf['embed_dim2'], A=conf['alpha2'])   \n",
    "seqs = np.random.randint(0,alpha,(2,Num,Len))\n",
    "for i in range(Num):\n",
    "    I = np.random.permutation(Len)[:np.random.randint(Len)]\n",
    "    seqs[1,i,I] = seqs[0,i,I] \n",
    "seqs = seqs.reshape(2,Num,Len)\n",
    "Dists = np.zeros((3,Num))\n",
    "for i in range(Num):\n",
    "    seq, seq2 = seqs[0,i,:], seqs[1,i,:]\n",
    "    h, H = sketch_multi(seq)\n",
    "    h2,H2 = sketch_multi(seq2)\n",
    "    d1 = editdistance.eval(seq, seq2)\n",
    "    d2 = editdistance.eval(h, h2)\n",
    "    d3 = editdistance.eval(H, H2)\n",
    "    d3 = np.mean(H!=H2)\n",
    "    Dists[:,i] = (d1,d2,d3)\n",
    "\n",
    "fig, axes = plt.subplots(1,2,figsize=(10,5))\n",
    "axes[0].scatter(Dists[0]/Len,Dists[1],10,alpha=.5)\n",
    "axes[1].scatter(Dists[0]/Len,Dists[2],10,alpha=.5)"
   ]
  },
  {
   "cell_type": "code",
   "execution_count": null,
   "id": "495d8286-4ac7-4d6b-a5dc-9e7d8ae081a8",
   "metadata": {},
   "outputs": [],
   "source": []
  },
  {
   "cell_type": "code",
   "execution_count": null,
   "id": "f14e4895-1545-4aed-bf4f-781f332c5068",
   "metadata": {},
   "outputs": [],
   "source": []
  }
 ],
 "metadata": {
  "kernelspec": {
   "display_name": "Python 3",
   "language": "python",
   "name": "python3"
  },
  "language_info": {
   "codemirror_mode": {
    "name": "ipython",
    "version": 3
   },
   "file_extension": ".py",
   "mimetype": "text/x-python",
   "name": "python",
   "nbconvert_exporter": "python",
   "pygments_lexer": "ipython3",
   "version": "3.8.5"
  }
 },
 "nbformat": 4,
 "nbformat_minor": 5
}
