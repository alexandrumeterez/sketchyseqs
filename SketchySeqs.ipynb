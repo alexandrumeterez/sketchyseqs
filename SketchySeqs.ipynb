{
 "cells": [
  {
   "cell_type": "code",
   "execution_count": 3,
   "metadata": {},
   "outputs": [],
   "source": [
    "from itertools import product\n",
    "import tqdm\n",
    "import time\n",
    "import editdistance \n",
    "import matplotlib.pyplot as plt\n",
    "import random\n",
    "\n",
    "import numpy as np\n",
    "import numba as nb\n",
    "from numba import njit, jit, prange, cuda, objmode\n",
    "from numba.typed import List\n",
    "from numba.experimental import jitclass\n",
    "import plotly.graph_objects as go\n",
    "import random\n",
    "from collections import defaultdict\n",
    "from tqdm import tqdm\n",
    "np.random.seed(0)\n",
    "random.seed(0)"
   ]
  },
  {
   "cell_type": "code",
   "execution_count": 4,
   "metadata": {},
   "outputs": [],
   "source": [
    "@njit(fastmath=True)\n",
    "def l2_dist(a, b): \n",
    "    d = a-b\n",
    "    return np.sum(d*d);\n",
    "\n",
    "\n",
    "@njit(fastmath=True)\n",
    "def hamming_distance(a, b):\n",
    "    return np.sum(a != b);\n",
    "\n",
    "\n",
    "# only works for k<=32, would overflow otherwise \n",
    "@njit(fastmath=True)\n",
    "def extract_kmers(seq,k):\n",
    "    kmer = 0\n",
    "    kmers = np.zeros(len(seq)-k+1,dtype=np.int64)\n",
    "    for i,c in enumerate(seq):\n",
    "        kmer = kmer * 4 + c\n",
    "        kmer = kmer % (4**k)\n",
    "        if i>=k:\n",
    "            kmers[i-k] = kmer\n",
    "    return kmers\n",
    "\n",
    "@jitclass([\n",
    "    ('A', nb.int32),\n",
    "    ('t', nb.int32),\n",
    "    ('D', nb.int32),\n",
    "    ('normalize', nb.bool_),\n",
    "    ('hashes', nb.int32[:, :]),\n",
    "    ('signs', nb.float32[:, :])])\n",
    "class TS():\n",
    "    def __init__(self, t, D, A, normalize = True):\n",
    "        self.A = A\n",
    "        self.t = t\n",
    "        self.D = D\n",
    "        self.normalize = normalize\n",
    "\n",
    "        # An A*t array of random integers in [0, D)\n",
    "        self.hashes = np.empty((self.A, self.t), dtype=np.int32)\n",
    "        # An A*t array of random +-1\n",
    "        self.signs = np.empty((self.A, self.t), dtype=np.float32)\n",
    "        for c in range(self.A):\n",
    "            for k in range(self.t):\n",
    "                self.hashes[c][k] = random.randrange(0, self.D)\n",
    "                self.signs[c][k] = random.randrange(-1, 2, 2)\n",
    "\n",
    "    def _full_sketch(self, seq: nb.int32[:]):\n",
    "        # NOTE: The sketch is stored as float64 here so counting won't overflow.\n",
    "        T = np.zeros((self.t + 1, self.D), dtype=np.float64)\n",
    "        T[0][0] = 1\n",
    "        \n",
    "        for c in seq:\n",
    "            for k in range(self.t - 1, -1, -1):\n",
    "                h = self.hashes[c][k]\n",
    "                s = self.signs[c][k]\n",
    "                for l in range(self.D):\n",
    "                    r = l + h if l + h < self.D else l + h - self.D\n",
    "                    T[k + 1][l] += s * T[k][r]\n",
    "\n",
    "        return T\n",
    "\n",
    "    def _normalize(self, seq, T):\n",
    "        if self.normalize:\n",
    "            # Normalization factor.\n",
    "            n = len(seq)\n",
    "            nct = nb.float64(1)\n",
    "            for i in range(self.t):\n",
    "                nct = nct * (n - i) / (i + 1)\n",
    "            T /= nct\n",
    "        return T\n",
    "\n",
    "    def sketch_one(self, seq: np.ndarray) -> nb.float32[:]:\n",
    "        full_sketch = self._full_sketch(seq)\n",
    "\n",
    "        self._normalize(seq, full_sketch[self.t])\n",
    "\n",
    "        sketch = np.array([x for x in full_sketch[self.t]], dtype=np.float32)\n",
    "        return sketch\n",
    "\n",
    "    def sketch(self, seqs):\n",
    "        return [self.sketch_one(seq) for seq in seqs]\n",
    "\n",
    "    def dist(self, s1, s2):\n",
    "        return l2_dist(s1,s2)\n",
    "    \n",
    "class TSS():\n",
    "    def __init__(self, seq_len, t, W, S, D, A, normalize = True, sketch_class=TS):\n",
    "        # reduce sketch dim to ensure that the flattened sketch size is D \n",
    "        D2 = int(D/int((seq_len-W)/S)+1)   \n",
    "        self.sketcher = sketch_class(t=t,D=D2,A=A,normalize=normalize)\n",
    "        self.t = t\n",
    "        self.W = W\n",
    "        self.S = S\n",
    "        self.D2 = D2\n",
    "        self.D = D\n",
    "    \n",
    "    def sketch_one(self, seq: nb.int32[:]) -> nb.float32[:,:]:\n",
    "        L = int(np.ceil((len(seq)-self.W+1)/self.S))\n",
    "        sketch = np.zeros((self.D2,L), dtype=np.float32)\n",
    "        for si,i in enumerate(np.arange(0,len(seq)-self.W+1,self.S)):\n",
    "            sketch[:,si] = self.sketcher.sketch_one(seq[i:i+self.W])\n",
    "        \n",
    "        return sketch\n",
    "    \n",
    "    def sketch(self, seqs):\n",
    "        all_seqs = List()\n",
    "        starts = np.arange(0,len(seqs[0])-self.W+1,self.S)\n",
    "        n, m = len(seqs),len(starts)\n",
    "        for seq in seqs:\n",
    "            for i in starts:\n",
    "                all_seqs.append(seq[i:i+self.W])\n",
    "        all_sketches = self.sketcher.sketch(all_seqs)\n",
    "        sketches = List()\n",
    "        for i in range(n):\n",
    "            sk = np.array([x for sk in all_sketches[i*m:(i+1) * m] for x in sk])\n",
    "            sketches.append(sk)\n",
    "        return sketches\n",
    "    \n",
    "    def dist(self, s1, s2):\n",
    "        return l2_dist(s1,s2)"
   ]
  },
  {
   "cell_type": "code",
   "execution_count": 140,
   "metadata": {},
   "outputs": [],
   "source": [
    "def print_binary(x, dim):\n",
    "    s = \"\"\n",
    "    for i in range(dim - 1, -1, -1):\n",
    "        s += str((x >> i) & 1)\n",
    "    print(s)\n",
    "\n",
    "def mutate(seq, alphabet, rate):\n",
    "    new_seq = []\n",
    "    n = len(seq)\n",
    "    i = 0\n",
    "    alg = []\n",
    "    while i < n:\n",
    "        chance = np.random.uniform()\n",
    "        if chance > rate:\n",
    "            # do nothing\n",
    "            alg.append(i)\n",
    "            new_seq.append(seq[i])\n",
    "            i += 1\n",
    "        else:\n",
    "            # choose at random an operation between substitution, insertion, deletion\n",
    "            op = np.random.choice([0,1,2])            \n",
    "            if op == 0:\n",
    "                # substitution\n",
    "                c = np.random.choice(list(set(alphabet) - set([seq[i]])))\n",
    "                new_seq.append(c)\n",
    "                i += 1\n",
    "            elif op == 1:\n",
    "                # insertion\n",
    "                c = np.random.choice(alphabet)\n",
    "                alg.append(i)\n",
    "                new_seq.append(c)\n",
    "            elif op == 2:\n",
    "                # deletion\n",
    "                i += 1\n",
    "    return ''.join(new_seq),alg\n",
    "    \n",
    "def convert(seq, alphabet):\n",
    "    inv_map = {alphabet[i]:i for i in range(len(alphabet))}\n",
    "    new_seq = []\n",
    "    for c in seq:\n",
    "        new_seq.append(inv_map[c])\n",
    "    return np.asarray(new_seq, dtype=np.uint8)\n",
    "\n",
    "def generate_paths(seq, path_len, num_paths, k, mutation_rate, alphabet):\n",
    "    paths = []\n",
    "    for i in range(num_paths):\n",
    "        # pick random index\n",
    "        start = np.random.choice(len(seq) - path_len)\n",
    "        path = seq[start:start+path_len]\n",
    "        seq2, align =  mutate(path, alphabet, mutation_rate)\n",
    "        nodes = [start+i for i in align]\n",
    "        paths.append((path,seq2, nodes))\n",
    "    return paths\n",
    "\n",
    "def get_discrete_mmer_sketches(mmers, N, m, alphabet, G, sketcher):\n",
    "    sketches = []\n",
    "    for mmer in mmers:\n",
    "        sketch = sketcher.sketch_one(convert(mmer, alphabet))\n",
    "        discrete_sketch = discretize(G, sketch)\n",
    "        sketches.append(discrete_sketch)\n",
    "\n",
    "    assert len(sketches) == N - m + 1, f\"{len(sketches)} != {N - m + 1}\"\n",
    "    return sketches\n",
    "\n",
    "def get_kmer_sketches(mmer_sketches, N, k, m, stride, embed_dim,stride2):\n",
    "    num_windows = int(np.ceil((k - m + 1) / stride))\n",
    "\n",
    "    kmer_sketches = []\n",
    "    for kmer in range(0, N - k + 1, stride2):\n",
    "        kmer_sketch = 0\n",
    "        for mmer in range(kmer, kmer + num_windows * stride, stride):\n",
    "            for bit in range(embed_dim - 1, -1, -1):\n",
    "                kmer_sketch <<= 1\n",
    "                kmer_sketch |= ((mmer_sketches[mmer] >> bit) & 1)\n",
    "        kmer_sketches.append(kmer_sketch)\n",
    "    return kmer_sketches\n",
    "\n",
    "def build_lookup(sketches, stride):\n",
    "    lut = defaultdict(list)\n",
    "    for i, s in enumerate(sketches):\n",
    "        lut[s].append(i*stride)\n",
    "    return lut\n",
    "\n",
    "def discretize(G, mmer_sketch):\n",
    "    result = 0\n",
    "    product = np.asarray(np.sign(G@mmer_sketch) > 0, dtype=np.uint8)\n",
    "#     product = np.sign(mmer_sketch).astype(np.uint8)\n",
    "\n",
    "    for x in product:\n",
    "        result <<= 1\n",
    "        result |= x\n",
    "\n",
    "    return result\n",
    "\n",
    "def dict_configs(d):\n",
    "    for k,v in d.items():\n",
    "        if not isinstance(v,list):\n",
    "            d[k] = [v]\n",
    "    for vcomb in product(*d.values()):\n",
    "        yield dict(zip(d.keys(), vcomb))"
   ]
  },
  {
   "cell_type": "code",
   "execution_count": null,
   "metadata": {},
   "outputs": [
    {
     "name": "stderr",
     "output_type": "stream",
     "text": [
      "100%|██████████| 1000/1000 [00:16<00:00, 58.93it/s]\n"
     ]
    },
    {
     "name": "stdout",
     "output_type": "stream",
     "text": [
      "\n",
      " {'num_paths': 1000, 'N': 100000, 'mutation_rate': 0.05, 'path_len': 200, 'tuple_length': 4, 'k': 15, 'embed_dim': 40, 'embed_dim2': 60, 'recall_distance': 3, 'm': 15, 'stride': 15, 'stride2': 15, 'precision': 0.9914900717503754, 'recall': 0.999, 'brute_force': 5.9998389764557025e-05}\n"
     ]
    },
    {
     "name": "stderr",
     "output_type": "stream",
     "text": [
      "100%|██████████| 1000/1000 [00:16<00:00, 60.25it/s]\n"
     ]
    },
    {
     "name": "stdout",
     "output_type": "stream",
     "text": [
      "\n",
      " {'num_paths': 1000, 'N': 100000, 'mutation_rate': 0.1, 'path_len': 200, 'tuple_length': 4, 'k': 15, 'embed_dim': 40, 'embed_dim2': 60, 'recall_distance': 3, 'm': 15, 'stride': 15, 'stride2': 15, 'precision': 0.9408183970240108, 'recall': 0.962, 'brute_force': 3.0457405128376054e-05}\n"
     ]
    },
    {
     "name": "stderr",
     "output_type": "stream",
     "text": [
      "100%|██████████| 1000/1000 [00:16<00:00, 60.01it/s]\n"
     ]
    },
    {
     "name": "stdout",
     "output_type": "stream",
     "text": [
      "\n",
      " {'num_paths': 1000, 'N': 100000, 'mutation_rate': 0.15, 'path_len': 200, 'tuple_length': 4, 'k': 15, 'embed_dim': 40, 'embed_dim2': 60, 'recall_distance': 3, 'm': 15, 'stride': 15, 'stride2': 15, 'precision': 0.9312452253628725, 'recall': 0.709, 'brute_force': 1.78850175636611e-05}\n"
     ]
    },
    {
     "name": "stderr",
     "output_type": "stream",
     "text": [
      "100%|██████████| 1000/1000 [00:16<00:00, 59.22it/s]\n"
     ]
    },
    {
     "name": "stdout",
     "output_type": "stream",
     "text": [
      "\n",
      " {'num_paths': 1000, 'N': 100000, 'mutation_rate': 0.2, 'path_len': 200, 'tuple_length': 4, 'k': 15, 'embed_dim': 40, 'embed_dim2': 60, 'recall_distance': 3, 'm': 15, 'stride': 15, 'stride2': 15, 'precision': 0.8575380359612724, 'recall': 0.474, 'brute_force': 1.3440543386111231e-05}\n"
     ]
    },
    {
     "name": "stderr",
     "output_type": "stream",
     "text": [
      "100%|██████████| 1000/1000 [00:16<00:00, 59.90it/s]\n"
     ]
    },
    {
     "name": "stdout",
     "output_type": "stream",
     "text": [
      "\n",
      " {'num_paths': 1000, 'N': 100000, 'mutation_rate': 0.25, 'path_len': 200, 'tuple_length': 4, 'k': 15, 'embed_dim': 40, 'embed_dim2': 60, 'recall_distance': 3, 'm': 15, 'stride': 15, 'stride2': 15, 'precision': 0.7879858657243817, 'recall': 0.193, 'brute_force': 1.1647721215949658e-05}\n"
     ]
    },
    {
     "name": "stderr",
     "output_type": "stream",
     "text": [
      "100%|██████████| 1000/1000 [00:16<00:00, 60.24it/s]\n"
     ]
    },
    {
     "name": "stdout",
     "output_type": "stream",
     "text": [
      "\n",
      " {'num_paths': 1000, 'N': 100000, 'mutation_rate': 0.3, 'path_len': 200, 'tuple_length': 4, 'k': 15, 'embed_dim': 40, 'embed_dim2': 60, 'recall_distance': 3, 'm': 15, 'stride': 15, 'stride2': 15, 'precision': 0.5974025974025974, 'recall': 0.089, 'brute_force': 1.1080687986965658e-05}\n"
     ]
    },
    {
     "name": "stderr",
     "output_type": "stream",
     "text": [
      "100%|██████████| 1000/1000 [00:16<00:00, 59.10it/s]\n"
     ]
    },
    {
     "name": "stdout",
     "output_type": "stream",
     "text": [
      "\n",
      " {'num_paths': 1000, 'N': 1000000, 'mutation_rate': 0.05, 'path_len': 200, 'tuple_length': 4, 'k': 15, 'embed_dim': 40, 'embed_dim2': 60, 'recall_distance': 3, 'm': 15, 'stride': 15, 'stride2': 15, 'precision': 0.9046365364926138, 'recall': 0.999, 'brute_force': 6.843939658999071e-06}\n"
     ]
    },
    {
     "name": "stderr",
     "output_type": "stream",
     "text": [
      "100%|██████████| 1000/1000 [00:16<00:00, 59.61it/s]\n"
     ]
    },
    {
     "name": "stdout",
     "output_type": "stream",
     "text": [
      "\n",
      " {'num_paths': 1000, 'N': 1000000, 'mutation_rate': 0.1, 'path_len': 200, 'tuple_length': 4, 'k': 15, 'embed_dim': 40, 'embed_dim2': 60, 'recall_distance': 3, 'm': 15, 'stride': 15, 'stride2': 15, 'precision': 0.6143565423582669, 'recall': 0.966, 'brute_force': 4.667067351015348e-06}\n"
     ]
    }
   ],
   "source": [
    "\n",
    "alphabet = ['A', 'C', 'T', 'G']\n",
    "w = 15\n",
    "\n",
    "config_grid = dict(\n",
    "    num_paths = 1000,\n",
    "    N = [100000,1000000],\n",
    "    mutation_rate = [0.05, 0.1, .15, .2, 0.25, 0.3],\n",
    "    path_len = 200,\n",
    "    tuple_length = [4],\n",
    "    k=w,\n",
    "    embed_dim=[40],\n",
    "    embed_dim2=[60],\n",
    "    recall_distance = 3,\n",
    "    m = w,\n",
    "    stride = [w],\n",
    "    stride2 = [ w],\n",
    ")\n",
    "\n",
    "results = []\n",
    "for conf in dict_configs(config_grid):\n",
    "    N = conf['N']\n",
    "    k = conf['k']\n",
    "    m = conf['m']\n",
    "    num_paths = conf['num_paths']\n",
    "    recall_distance = conf['recall_distance']\n",
    "    mutation_rate = conf['mutation_rate']\n",
    "    path_len = conf['path_len']\n",
    "    stride = conf['stride']\n",
    "    stride2 = conf['stride2']\n",
    "    tuple_length = conf['tuple_length']\n",
    "    embed_dim = conf['embed_dim'] \n",
    "    embed_dim2 = conf['embed_dim2'] \n",
    "    \n",
    "    \n",
    "    seqv = np.random.choice(alphabet, N)\n",
    "    seq = ''.join(seqv)\n",
    "    G = np.random.normal(size=(embed_dim2 , embed_dim))\n",
    "    sketcher = TS(t=tuple_length, D=embed_dim, A=len(alphabet))    \n",
    "    \n",
    "    # Change this to use TSS!\n",
    "    mmers = [seqv[i:i+m] for i in range(N - m + 1)]\n",
    "    mmer_sketches = get_discrete_mmer_sketches(mmers, N, m, alphabet, G, sketcher)\n",
    "    sketches = get_kmer_sketches(mmer_sketches, N, k, m, stride, embed_dim2,stride2)\n",
    "    lut = build_lookup(sketches, stride2)\n",
    "    \n",
    "    paths = generate_paths(seq, path_len, num_paths, k, mutation_rate, alphabet)\n",
    "    recall = np.array([False for _ in range(num_paths)])\n",
    "    hits = np.array([0 for _ in range(num_paths)])\n",
    "    tp = np.array([0 for _ in range(num_paths)])\n",
    "    num_found_hits = 0\n",
    "    hits_out_of_total = ([0 for _ in range(num_paths)])\n",
    "\n",
    "    for i, path in enumerate(tqdm(paths)):\n",
    "        reference, query, node_path = path\n",
    "        query_mmers = [query[j:j+m] for j in range(len(query) - m + 1)]\n",
    "        query_mmer_sketches = get_discrete_mmer_sketches(query_mmers, len(query), m, alphabet, G, sketcher)\n",
    "        query_sketches = get_kmer_sketches(query_mmer_sketches, len(query), k, m, stride, embed_dim2,stride2=1)\n",
    "        \n",
    "        # Lookup\n",
    "        for qi,query_sketch in enumerate(query_sketches):\n",
    "            if query_sketch not in lut:\n",
    "                continue\n",
    "            for node in lut[query_sketch]: # for each node j in the matches\n",
    "                hits[i] += 1 # count a hit\n",
    "                ri = (node-node_path[0]) # relative node location to reference head \n",
    "                d1 = editdistance.eval(reference[:ri], query[:qi])\n",
    "                d2 = editdistance.eval(reference[ri:], query[qi:])\n",
    "                d = editdistance.eval(reference, query)\n",
    "                if(  d1+d2 <= d + recall_distance):\n",
    "                    tp[i] += 1\n",
    "                    recall[i] = 1\n",
    "                            \n",
    "        hits_out_of_total[i] = hits[i] / (N - k + 1)\n",
    "    seqs_that_hit = np.argwhere(hits > 0)\n",
    "    conf['precision'] = np.sum(tp) / np.sum(hits)\n",
    "    conf['recall'] = np.mean(recall) \n",
    "    conf['brute_force'] = np.sum(hits_out_of_total) / len(seqs_that_hit)\n",
    "    results.append(conf)\n",
    "    print('\\n',conf)    \n"
   ]
  },
  {
   "cell_type": "code",
   "execution_count": null,
   "metadata": {},
   "outputs": [],
   "source": [
    "df = pd.DataFrame(results)\n",
    "df[['N','mutation_rate','precision','recall']]"
   ]
  },
  {
   "cell_type": "code",
   "execution_count": 298,
   "metadata": {},
   "outputs": [
    {
     "data": {
      "image/png": "[encoded data removed]",
      "text/plain": [
       "<Figure size 576x576 with 1 Axes>"
      ]
     },
     "metadata": {
      "needs_background": "light"
     },
     "output_type": "display_data"
    }
   ],
   "source": [
    "import seaborn as sns\n",
    "import plotly.express as px\n",
    "import matplotlib.pyplot as plt\n",
    "import pandas as pd\n",
    "df = pd.DataFrame(results)\n",
    "plt.figure(figsize=(8,8))\n",
    "sns.lineplot(ax=plt.gca(),data=df,y='recall',x='precision')\n",
    "# plt.xlim(-.1,1.1)\n",
    "# plt.ylim(-.1,1.1)\n",
    "plt.grid(True)"
   ]
  },
  {
   "cell_type": "code",
   "execution_count": 262,
   "metadata": {},
   "outputs": [
    {
     "name": "stderr",
     "output_type": "stream",
     "text": [
      "100%|██████████| 300/300 [00:05<00:00, 58.85it/s]\n"
     ]
    },
    {
     "data": {
      "text/plain": [
       "(0.47333333333333333, 0.9402985074626866)"
      ]
     },
     "execution_count": 262,
     "metadata": {},
     "output_type": "execute_result"
    }
   ],
   "source": [
    "hits = np.array([0 for _ in range(num_paths)])\n",
    "tp = np.array([0 for _ in range(num_paths)])\n",
    "recall = np.array([0 for _ in range(num_paths)])\n",
    "paths = generate_paths(seq, path_len, num_paths, k, 0.2, alphabet)\n",
    "\n",
    "for i,path in tqdm(enumerate(paths),total=len(paths)):\n",
    "    path = paths[i]\n",
    "    reference, query, node_path = path\n",
    "    query_mmers = [query[j:j+m] for j in range(len(query) - m + 1)]\n",
    "    query_mmer_sketches = get_discrete_mmer_sketches(query_mmers, len(query), m, alphabet, G, sketcher)\n",
    "    query_sketches = get_kmer_sketches(query_mmer_sketches, len(query), k, m, stride, embed_dim2,stride2=1)\n",
    "\n",
    "    for qi,query_sketch in enumerate(query_sketches):\n",
    "        if query_sketch in lut:\n",
    "            for node in lut[query_sketch]: # for each node j in the matches\n",
    "                hits[i] += 1\n",
    "                for j in range(-3,4):\n",
    "                    qj = qi + j\n",
    "                    d1 = editdistance.eval(reference[:(node-node_path[0])], query[:qj])\n",
    "                    d2 = editdistance.eval(reference[(node-node_path[0]):], query[qj:])\n",
    "                    d = editdistance.eval(reference, query)\n",
    "                    if(  d1+d2 == d):\n",
    "                        tp[i] += 1\n",
    "                        recall[i] = 1\n",
    "                        break\n",
    "                \n",
    "np.mean(recall), np.sum(tp) / np.sum(hits)"
   ]
  },
  {
   "cell_type": "code",
   "execution_count": 252,
   "metadata": {},
   "outputs": [
    {
     "name": "stdout",
     "output_type": "stream",
     "text": [
      "0.3\n",
      "0.2\n",
      "0.2\n",
      "0.3\n",
      "0.1\n"
     ]
    }
   ],
   "source": [
    "for j in range(-2,3):\n",
    "    ri = (node-node_path[0]) + j\n",
    "    R, Q = reference[ri-5:ri+5], query[qj-5:qj+5]\n",
    "    print(np.mean([r==q for r,q in zip(R,Q)]))"
   ]
  },
  {
   "cell_type": "code",
   "execution_count": 101,
   "metadata": {},
   "outputs": [
    {
     "name": "stderr",
     "output_type": "stream",
     "text": [
      "100%|██████████| 100/100 [00:01<00:00, 60.14it/s]\n"
     ]
    },
    {
     "data": {
      "image/png": "[encoded data removed]",
      "text/plain": [
       "<Figure size 432x288 with 1 Axes>"
      ]
     },
     "metadata": {
      "needs_background": "light"
     },
     "output_type": "display_data"
    }
   ],
   "source": [
    "paths = generate_paths(seq, path_len, num_paths, k, mutation_rate, alphabet)\n",
    "recall = np.array([False for _ in range(num_paths)])\n",
    "hits = np.array([0 for _ in range(num_paths)])\n",
    "tp = np.array([0 for _ in range(num_paths)])\n",
    "num_found_hits = 0\n",
    "hits_out_of_total = ([0 for _ in range(num_paths)])\n",
    "dists = []\n",
    "for i, path in enumerate(tqdm(paths)):\n",
    "    reference, query, node_path = path\n",
    "    hit = False\n",
    "\n",
    "    # Mmers\n",
    "    query_mmers = [query[j:j+m] for j in range(len(query) - m + 1)]\n",
    "\n",
    "    # Build sketches\n",
    "    query_mmer_sketches = get_discrete_mmer_sketches(query_mmers, len(query), m, alphabet, G, sketcher)\n",
    "    query_sketches = get_kmer_sketches(query_mmer_sketches, len(query), k, m, stride, embed_dim2,stride2=1)\n",
    "\n",
    "    # Lookup\n",
    "    for qi,query_sketch in enumerate(query_sketches):\n",
    "        if query_sketch in lut:\n",
    "            for node in lut[query_sketch]: # for each node j in the matches\n",
    "                hits[i] += 1\n",
    "                d = abs(node-node_path[0]- qi)\n",
    "                dists.append(d)\n",
    "dists = np.array(dists)\n",
    "plt.hist(dists,100);"
   ]
  },
  {
   "cell_type": "code",
   "execution_count": 102,
   "metadata": {},
   "outputs": [
    {
     "data": {
      "text/plain": [
       "0.052083333333333336"
      ]
     },
     "execution_count": 102,
     "metadata": {},
     "output_type": "execute_result"
    }
   ],
   "source": [
    "np.mean(dists<=10)"
   ]
  },
  {
   "cell_type": "code",
   "execution_count": null,
   "metadata": {},
   "outputs": [],
   "source": []
  }
 ],
 "metadata": {
  "kernelspec": {
   "display_name": "Python 3",
   "language": "python",
   "name": "python3"
  },
  "language_info": {
   "codemirror_mode": {
    "name": "ipython",
    "version": 3
   },
   "file_extension": ".py",
   "mimetype": "text/x-python",
   "name": "python",
   "nbconvert_exporter": "python",
   "pygments_lexer": "ipython3",
   "version": "3.8.5"
  }
 },
 "nbformat": 4,
 "nbformat_minor": 5
}
