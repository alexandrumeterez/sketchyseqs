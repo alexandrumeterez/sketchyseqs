{
 "cells": [
  {
   "cell_type": "code",
   "execution_count": 4,
   "id": "f8753e08",
   "metadata": {},
   "outputs": [],
   "source": [
    "from itertools import product\n",
    "import tqdm\n",
    "import time\n",
    "import editdistance \n",
    "import matplotlib.pyplot as plt\n",
    "import plotly.express as px\n",
    "import random\n",
    "\n",
    "import pandas as pd\n",
    "import numpy as np\n",
    "import numba as nb\n",
    "from numba import njit, jit, prange, cuda, objmode\n",
    "from numba.typed import List\n",
    "from numba.experimental import jitclass\n",
    "import plotly.graph_objects as go\n",
    "import random\n",
    "from collections import defaultdict\n",
    "from tqdm import tqdm\n",
    "np.random.seed(0)\n",
    "random.seed(0)"
   ]
  },
  {
   "cell_type": "markdown",
   "id": "8d6435c0-69ca-45e6-8782-0c5629670296",
   "metadata": {
    "tags": []
   },
   "source": [
    "# Definitions "
   ]
  },
  {
   "cell_type": "code",
   "execution_count": 5,
   "id": "e98e7517",
   "metadata": {},
   "outputs": [],
   "source": [
    "@njit(fastmath=True)\n",
    "def l2_dist(a, b): \n",
    "    d = a-b\n",
    "    return np.sum(d*d);\n",
    "\n",
    "@njit(fastmath=True)\n",
    "def hamming_distance(a, b):\n",
    "    return np.sum(a != b);\n",
    "\n",
    "# only works for k<=32, would overflow otherwise \n",
    "@njit(fastmath=True)\n",
    "def extract_kmers(seq,k):\n",
    "    kmer = 0\n",
    "    kmers = np.zeros(len(seq)-k+1,dtype=np.int64)\n",
    "    for i,c in enumerate(seq):\n",
    "        kmer = kmer * 4 + c\n",
    "        kmer = kmer % (4**k)\n",
    "        if i>=k:\n",
    "            kmers[i-k] = kmer\n",
    "    return kmers\n",
    "\n",
    "@jitclass([\n",
    "    ('A', nb.int32),\n",
    "    ('t', nb.int32),\n",
    "    ('D', nb.int32),\n",
    "    ('normalize', nb.bool_),\n",
    "    ('hashes', nb.int32[:, :]),\n",
    "    ('signs', nb.float32[:, :])])\n",
    "class TS():\n",
    "    def __init__(self, t, D, A, normalize = True):\n",
    "        self.A = A\n",
    "        self.t = t\n",
    "        self.D = D\n",
    "        self.normalize = normalize\n",
    "\n",
    "        # An A*t array of random integers in [0, D)\n",
    "        self.hashes = np.empty((self.A, self.t), dtype=np.int32)\n",
    "        # An A*t array of random +-1\n",
    "        self.signs = np.empty((self.A, self.t), dtype=np.float32)\n",
    "        for c in range(self.A):\n",
    "            for k in range(self.t):\n",
    "                self.hashes[c][k] = random.randrange(0, self.D)\n",
    "                self.signs[c][k] = random.randrange(-1, 2, 2)\n",
    "\n",
    "    def _full_sketch(self, seq: nb.int32[:]):\n",
    "        # NOTE: The sketch is stored as float64 here so counting won't overflow.\n",
    "        T = np.zeros((self.t + 1, self.D), dtype=np.float64)\n",
    "        T[0][0] = 1\n",
    "        \n",
    "        for c in seq:\n",
    "            for k in range(self.t - 1, -1, -1):\n",
    "                h = self.hashes[c][k]\n",
    "                s = self.signs[c][k]\n",
    "                for l in range(self.D):\n",
    "                    r = l + h if l + h < self.D else l + h - self.D\n",
    "                    T[k + 1][l] += s * T[k][r]\n",
    "\n",
    "        return T\n",
    "\n",
    "    def _normalize(self, seq, T)-> nb.float32[:]:\n",
    "        if self.normalize:\n",
    "            T = T / np.linalg.norm(T)\n",
    "        return T\n",
    "\n",
    "    def sketch_one(self, seq: np.ndarray) -> nb.float32[:]:\n",
    "        full_sketch = self._full_sketch(seq)\n",
    "\n",
    "        sketch = self._normalize(seq, full_sketch[self.t])\n",
    "\n",
    "        sketch = sketch.flatten()\n",
    "        return sketch\n",
    "\n",
    "    def sketch(self, seqs):\n",
    "        return [self.sketch_one(seq) for seq in seqs]\n",
    "\n",
    "    def dist(self, s1, s2):\n",
    "        return l2_dist(s1,s2)\n",
    "    \n",
    "class TSS():\n",
    "    def __init__(self, seq_len, t, W, S, D, A, normalize = True, sketch_class=TS):\n",
    "        # reduce sketch dim to ensure that the flattened sketch size is D \n",
    "        D2 = int(D/int((seq_len-W)/S)+1)   \n",
    "        self.sketcher = sketch_class(t=t,D=D2,A=A,normalize=normalize)\n",
    "        self.t = t\n",
    "        self.W = W\n",
    "        self.S = S\n",
    "        self.D2 = D2\n",
    "        self.D = D\n",
    "    \n",
    "    def sketch_one(self, seq: nb.int32[:]) -> nb.float32[:,:]:\n",
    "        L = int(np.ceil((len(seq)-self.W+1)/self.S))\n",
    "        sketch = np.zeros((self.D2,L), dtype=np.float32)\n",
    "        for si,i in enumerate(np.arange(0,len(seq)-self.W+1,self.S)):\n",
    "            sketch[:,si] = self.sketcher.sketch_one(seq[i:i+self.W])\n",
    "        \n",
    "        return sketch\n",
    "    \n",
    "    def sketch(self, seqs):\n",
    "        all_seqs = List()\n",
    "        starts = np.arange(0,len(seqs[0])-self.W+1,self.S)\n",
    "        n, m = len(seqs),len(starts)\n",
    "        for seq in seqs:\n",
    "            for i in starts:\n",
    "                all_seqs.append(seq[i:i+self.W])\n",
    "        all_sketches = self.sketcher.sketch(all_seqs)\n",
    "        sketches = List()\n",
    "        for i in range(n):\n",
    "            sk = np.array([x for sk in all_sketches[i*m:(i+1) * m] for x in sk])\n",
    "            sketches.append(sk)\n",
    "        return sketches\n",
    "    \n",
    "    def dist(self, s1, s2):\n",
    "        return l2_dist(s1,s2)\n",
    "\n",
    "@jitclass([\n",
    "    ('A', nb.int32),\n",
    "    ('t', nb.int32),\n",
    "    ('D', nb.int32),\n",
    "    ('D2', nb.int32),\n",
    "    ('normalize', nb.bool_),\n",
    "    ('hashes', nb.int32[:, :]),\n",
    "    ('G', nb.float64[:, :]),\n",
    "    ('H', nb.float64[:]),\n",
    "    ('signs', nb.float32[:, :])])\n",
    "class DTS():\n",
    "    def __init__(self, t, D, D2, A, normalize = True):\n",
    "        self.A = A\n",
    "        self.t = t\n",
    "        self.D = D\n",
    "        self.D2 = D2\n",
    "        self.normalize = normalize\n",
    "\n",
    "        # An A*t array of random integers in [0, D)\n",
    "        self.hashes = np.empty((self.A, self.t), dtype=np.int32)\n",
    "        # An A*t array of random +-1\n",
    "        self.signs = np.empty((self.A, self.t), dtype=np.float32)\n",
    "        # Gaussian matrix for discretization\n",
    "        self.G = np.empty((self.D , self.D2), dtype=np.float64)\n",
    "        for i in range(self.D):\n",
    "            for j in range(self.D2):\n",
    "                self.G[i,j] = random.normalvariate(0,1)\n",
    "                \n",
    "        for c in range(self.A):\n",
    "            for k in range(self.t):\n",
    "                self.hashes[c][k] = random.randrange(0, self.D)\n",
    "                self.signs[c][k] = random.randrange(-1, 2, 2)\n",
    "\n",
    "    def _full_sketch(self, seq: nb.int32[:]):\n",
    "        # NOTE: The sketch is stored as float64 here so counting won't overflow.\n",
    "        T = np.zeros((self.t + 1, self.D), dtype=np.float64)\n",
    "        T[0][0] = 1\n",
    "        \n",
    "        for c in seq:\n",
    "            for k in range(self.t - 1, -1, -1):\n",
    "                h = self.hashes[c][k]\n",
    "                s = self.signs[c][k]\n",
    "                for l in range(self.D):\n",
    "                    r = l + h if l + h < self.D else l + h - self.D\n",
    "                    T[k + 1][l] += s * T[k][r]\n",
    "\n",
    "        return T\n",
    "\n",
    "    def _normalize(self, seq, T)-> nb.float32[:]:\n",
    "        if self.normalize:\n",
    "            T = T / np.linalg.norm(T)\n",
    "        return T\n",
    "    \n",
    "\n",
    "    def discretize(self, x: nb.float64[:]) -> np.int64:\n",
    "        x = x.dot(self.G)\n",
    "#         H = np.tensordot(self.G, x, axes=(1, 0))\n",
    "        H = (x>0)\n",
    "        H = H.reshape(-1,8)\n",
    "        S = np.zeros((H.shape[0]),np.int64)\n",
    "        for i in range(H.shape[0]):\n",
    "            arr = H[i]\n",
    "            S[i] = (arr[0]<<8) + (arr[0]<<7)|(arr[1]<<6)|(arr[2]<<5)|(arr[3]<<4)|(arr[4]<<3)|(arr[5]<<2)|(arr[6]<<1)|arr[7]\n",
    "        sh = 0\n",
    "        for s in S:\n",
    "            sh = hash(sh) ^ hash(str(s))\n",
    "        return sh\n",
    "\n",
    "    def sketch_one(self, seq: np.ndarray)-> np.int64: #-> nb.float32[:]:\n",
    "        full_sketch = self._full_sketch(seq)\n",
    "\n",
    "        sketch = self._normalize(seq, full_sketch[self.t])\n",
    "        sketch = sketch.flatten()\n",
    "        sketch = self.discretize(sketch)\n",
    "        return sketch\n",
    "\n",
    "    def sketch(self, seqs):\n",
    "        sketches = np.zeros((len(seqs)),np.int64)\n",
    "        for i in range(len(seqs)):\n",
    "            sketches[i] = self.sketch_one(seqs[i])\n",
    "        return sketches\n",
    "        # return [self.sketch_one(seq) for seq in seqs]\n",
    "\n",
    "    def dist(self, s1, s2):\n",
    "        return l2_dist(s1,s2)\n",
    "    \n",
    "\n",
    "def mutate(seq, alphabet, rate):\n",
    "    new_seq = []\n",
    "    n = len(seq)\n",
    "    i = 0\n",
    "    alg = []\n",
    "    while i < n:\n",
    "        chance = np.random.uniform()\n",
    "        if chance > rate:\n",
    "            # do nothing\n",
    "            alg.append(i)\n",
    "            new_seq.append(seq[i])\n",
    "            i += 1\n",
    "        else:\n",
    "            # choose at random an operation between substitution, insertion, deletion\n",
    "            op = np.random.choice([0,1,2])            \n",
    "            if op == 0:\n",
    "                # substitution\n",
    "                c = np.random.choice(list(set(alphabet) - set([seq[i]])))\n",
    "                new_seq.append(c)\n",
    "                alg.append(i)\n",
    "                i += 1\n",
    "            elif op == 1:\n",
    "                # insertion\n",
    "                c = np.random.choice(alphabet)\n",
    "                alg.append(i)\n",
    "                new_seq.append(c)\n",
    "            elif op == 2:\n",
    "                # deletion\n",
    "                i += 1\n",
    "    D = len(seq) - len(new_seq)\n",
    "    new_seq = new_seq + [np.random.choice(alphabet) for _ in range(D)]\n",
    "    alg = alg + [i for _ in range(D)]\n",
    "    return ''.join(new_seq),alg\n",
    "    \n",
    "def convert(seq, alphabet):\n",
    "    inv_map = {alphabet[i]:i for i in range(len(alphabet))}\n",
    "    new_seq = []\n",
    "    for c in seq:\n",
    "        new_seq.append(inv_map[c])\n",
    "    return np.asarray(new_seq, dtype=np.uint8)\n",
    "\n",
    "def generate_paths(seq, path_len, num_paths, k, mutation_rate, alphabet):\n",
    "    paths = []\n",
    "    for i in range(num_paths):\n",
    "        # pick random index\n",
    "        start = np.random.choice(len(seq) - path_len)\n",
    "        path = seq[start:start+path_len]\n",
    "        seq2,align =  mutate(path, alphabet, mutation_rate)\n",
    "        nodes = [start+i for i in align]\n",
    "        paths.append((path,seq2, nodes))\n",
    "    return paths\n",
    "\n",
    "def build_lookup(sketches, stride):\n",
    "    lut = defaultdict(list)\n",
    "    for i, s in enumerate(sketches):\n",
    "        lut[s].append(i*stride)\n",
    "    return lut\n",
    "\n",
    "def dict_configs(d):\n",
    "    for k,v in d.items():\n",
    "        if not isinstance(v,list):\n",
    "            d[k] = [v]\n",
    "    for vcomb in product(*d.values()):\n",
    "        yield dict(zip(d.keys(), vcomb))"
   ]
  },
  {
   "cell_type": "markdown",
   "id": "fd308a76-db7a-4ae7-bd61-91e2a29b729a",
   "metadata": {},
   "source": [
    "# Experiment "
   ]
  },
  {
   "cell_type": "code",
   "execution_count": 219,
   "id": "89c43e1c",
   "metadata": {
    "tags": []
   },
   "outputs": [
    {
     "name": "stderr",
     "output_type": "stream",
     "text": [
      "100%|██████████| 1000/1000 [00:02<00:00, 395.15it/s]\n"
     ]
    },
    {
     "name": "stdout",
     "output_type": "stream",
     "text": [
      "{'num_paths': 1000, 'N': 1000000, 'mr': 0.1, 'path_len': 200, 'recall_dist': 0, 'k': 14, 'm': 20, 'm2': 128, 'tuplen': 3, 'w': 14, 's': 14, 'P': 0.6380414058303505, 'R': 0.948, 'dists_bins': [0, 1, 2, 3, 4, 5, 6, 7, 8, 9], 'dists_counts': array([948,   9,  20,   0,   0,   0,   1,   0,   1,  21])}\n"
     ]
    },
    {
     "name": "stderr",
     "output_type": "stream",
     "text": [
      "100%|██████████| 1000/1000 [00:02<00:00, 397.64it/s]\n"
     ]
    },
    {
     "name": "stdout",
     "output_type": "stream",
     "text": [
      "{'num_paths': 1000, 'N': 1000000, 'mr': 0.1, 'path_len': 200, 'recall_dist': 0, 'k': 14, 'm': 20, 'm2': 128, 'tuplen': 4, 'w': 14, 's': 14, 'P': 0.9503584359745255, 'R': 0.956, 'dists_bins': [0, 1, 2, 3, 4, 5, 6, 7, 8, 9], 'dists_counts': array([956,   7,  18,   0,   0,   0,   0,   0,   0,  19])}\n"
     ]
    },
    {
     "name": "stderr",
     "output_type": "stream",
     "text": [
      "100%|██████████| 1000/1000 [00:02<00:00, 371.23it/s]\n"
     ]
    },
    {
     "name": "stdout",
     "output_type": "stream",
     "text": [
      "{'num_paths': 1000, 'N': 1000000, 'mr': 0.1, 'path_len': 200, 'recall_dist': 0, 'k': 14, 'm': 20, 'm2': 128, 'tuplen': 5, 'w': 14, 's': 14, 'P': 0.9522916464617075, 'R': 0.953, 'dists_bins': [0, 1, 2, 3, 4, 5, 6, 7, 8, 9], 'dists_counts': array([953,  10,  19,   0,   0,   0,   0,   0,   0,  18])}\n"
     ]
    },
    {
     "name": "stderr",
     "output_type": "stream",
     "text": [
      "100%|██████████| 1000/1000 [00:02<00:00, 407.50it/s]\n"
     ]
    },
    {
     "name": "stdout",
     "output_type": "stream",
     "text": [
      "{'num_paths': 1000, 'N': 1000000, 'mr': 0.15, 'path_len': 200, 'recall_dist': 0, 'k': 14, 'm': 20, 'm2': 128, 'tuplen': 3, 'w': 14, 's': 14, 'P': 0.7941755674232309, 'R': 0.765, 'dists_bins': [0, 1, 2, 3, 4, 5, 6, 7, 8, 9], 'dists_counts': array([765,  10,  26,   1,   2,   0,   0,   0,   1, 195])}\n"
     ]
    },
    {
     "name": "stderr",
     "output_type": "stream",
     "text": [
      "100%|██████████| 1000/1000 [00:02<00:00, 404.89it/s]\n"
     ]
    },
    {
     "name": "stdout",
     "output_type": "stream",
     "text": [
      "{'num_paths': 1000, 'N': 1000000, 'mr': 0.15, 'path_len': 200, 'recall_dist': 0, 'k': 14, 'm': 20, 'm2': 128, 'tuplen': 4, 'w': 14, 's': 14, 'P': 0.9002361275088547, 'R': 0.794, 'dists_bins': [0, 1, 2, 3, 4, 5, 6, 7, 8, 9], 'dists_counts': array([794,  14,  21,   0,   0,   0,   0,   0,   0, 171])}\n"
     ]
    },
    {
     "name": "stderr",
     "output_type": "stream",
     "text": [
      "100%|██████████| 1000/1000 [00:02<00:00, 385.58it/s]\n"
     ]
    },
    {
     "name": "stdout",
     "output_type": "stream",
     "text": [
      "{'num_paths': 1000, 'N': 1000000, 'mr': 0.15, 'path_len': 200, 'recall_dist': 0, 'k': 14, 'm': 20, 'm2': 128, 'tuplen': 5, 'w': 14, 's': 14, 'P': 0.9494190705128205, 'R': 0.802, 'dists_bins': [0, 1, 2, 3, 4, 5, 6, 7, 8, 9], 'dists_counts': array([802,   2,  20,   1,   0,   0,   0,   0,   0, 175])}\n"
     ]
    },
    {
     "name": "stderr",
     "output_type": "stream",
     "text": [
      "100%|██████████| 1000/1000 [00:02<00:00, 398.66it/s]\n"
     ]
    },
    {
     "name": "stdout",
     "output_type": "stream",
     "text": [
      "{'num_paths': 1000, 'N': 1000000, 'mr': 0.2, 'path_len': 200, 'recall_dist': 0, 'k': 14, 'm': 20, 'm2': 128, 'tuplen': 3, 'w': 14, 's': 14, 'P': 0.252604412354678, 'R': 0.514, 'dists_bins': [0, 1, 2, 3, 4, 5, 6, 7, 8, 9], 'dists_counts': array([514,  17,  27,   1,   3,   0,   3,   0,   4, 431])}\n"
     ]
    },
    {
     "name": "stderr",
     "output_type": "stream",
     "text": [
      "100%|██████████| 1000/1000 [00:02<00:00, 399.22it/s]\n"
     ]
    },
    {
     "name": "stdout",
     "output_type": "stream",
     "text": [
      "{'num_paths': 1000, 'N': 1000000, 'mr': 0.2, 'path_len': 200, 'recall_dist': 0, 'k': 14, 'm': 20, 'm2': 128, 'tuplen': 4, 'w': 14, 's': 14, 'P': 0.9030079803560466, 'R': 0.503, 'dists_bins': [0, 1, 2, 3, 4, 5, 6, 7, 8, 9], 'dists_counts': array([503,  12,  16,   0,   0,   0,   0,   0,   0, 469])}\n"
     ]
    },
    {
     "name": "stderr",
     "output_type": "stream",
     "text": [
      "100%|██████████| 1000/1000 [00:02<00:00, 388.12it/s]\n",
      "<ipython-input-219-57ced3db42a4>:54: SettingWithCopyWarning:\n",
      "\n",
      "\n",
      "A value is trying to be set on a copy of a slice from a DataFrame.\n",
      "Try using .loc[row_indexer,col_indexer] = value instead\n",
      "\n",
      "See the caveats in the documentation: https://pandas.pydata.org/pandas-docs/stable/user_guide/indexing.html#returning-a-view-versus-a-copy\n",
      "\n"
     ]
    },
    {
     "name": "stdout",
     "output_type": "stream",
     "text": [
      "{'num_paths': 1000, 'N': 1000000, 'mr': 0.2, 'path_len': 200, 'recall_dist': 0, 'k': 14, 'm': 20, 'm2': 128, 'tuplen': 5, 'w': 14, 's': 14, 'P': 0.8590553549939831, 'R': 0.495, 'dists_bins': [0, 1, 2, 3, 4, 5, 6, 7, 8, 9], 'dists_counts': array([495,  12,  18,   0,   0,   0,   0,   0,   0, 475])}\n"
     ]
    },
    {
     "data": {
      "application/vnd.plotly.v1+json": {
       "config": {
        "plotlyServerURL": "https://plot.ly"
       },
       "data": [
        {
         "hovertemplate": "id=mr:0.10 tuplen:3 R:0.95 P:0.64<br>variable=%{x}<br>value=%{y}<extra></extra>",
         "legendgroup": "mr:0.10 tuplen:3 R:0.95 P:0.64",
         "line": {
          "color": "#636efa",
          "dash": "solid",
          "width": 1.5
         },
         "marker": {
          "symbol": "circle"
         },
         "mode": "markers+lines",
         "name": "mr:0.10 tuplen:3 R:0.95 P:0.64",
         "orientation": "v",
         "showlegend": true,
         "type": "scatter",
         "x": [
          "mr",
          "tuplen",
          "R",
          "P"
         ],
         "xaxis": "x",
         "y": [
          0.5,
          0.6,
          0.9916317991631799,
          0.6700063034271369
         ],
         "yaxis": "y"
        },
        {
         "hovertemplate": "id=mr:0.10 tuplen:4 R:0.96 P:0.95<br>variable=%{x}<br>value=%{y}<extra></extra>",
         "legendgroup": "mr:0.10 tuplen:4 R:0.96 P:0.95",
         "line": {
          "color": "#EF553B",
          "dash": "solid",
          "width": 1.5
         },
         "marker": {
          "symbol": "circle"
         },
         "mode": "markers+lines",
         "name": "mr:0.10 tuplen:4 R:0.96 P:0.95",
         "orientation": "v",
         "showlegend": true,
         "type": "scatter",
         "x": [
          "mr",
          "tuplen",
          "R",
          "P"
         ],
         "xaxis": "x",
         "y": [
          0.505,
          0.805,
          1.005,
          1.002969938627137
         ],
         "yaxis": "y"
        },
        {
         "hovertemplate": "id=mr:0.10 tuplen:5 R:0.95 P:0.95<br>variable=%{x}<br>value=%{y}<extra></extra>",
         "legendgroup": "mr:0.10 tuplen:5 R:0.95 P:0.95",
         "line": {
          "color": "#00cc96",
          "dash": "solid",
          "width": 1.5
         },
         "marker": {
          "symbol": "circle"
         },
         "mode": "markers+lines",
         "name": "mr:0.10 tuplen:5 R:0.95 P:0.95",
         "orientation": "v",
         "showlegend": true,
         "type": "scatter",
         "x": [
          "mr",
          "tuplen",
          "R",
          "P"
         ],
         "xaxis": "x",
         "y": [
          0.51,
          1.01,
          1.0068619246861925,
          1.01
         ],
         "yaxis": "y"
        },
        {
         "hovertemplate": "id=mr:0.15 tuplen:3 R:0.77 P:0.79<br>variable=%{x}<br>value=%{y}<extra></extra>",
         "legendgroup": "mr:0.15 tuplen:3 R:0.77 P:0.79",
         "line": {
          "color": "#ab63fa",
          "dash": "solid",
          "width": 1.5
         },
         "marker": {
          "symbol": "circle"
         },
         "mode": "markers+lines",
         "name": "mr:0.15 tuplen:3 R:0.77 P:0.79",
         "orientation": "v",
         "showlegend": true,
         "type": "scatter",
         "visible": true,
         "x": [
          "mr",
          "tuplen",
          "R",
          "P"
         ],
         "xaxis": "x",
         "y": [
          0.7649999999999999,
          0.615,
          0.8152092050209205,
          0.8489625474759065
         ],
         "yaxis": "y"
        },
        {
         "hovertemplate": "id=mr:0.15 tuplen:4 R:0.79 P:0.90<br>variable=%{x}<br>value=%{y}<extra></extra>",
         "legendgroup": "mr:0.15 tuplen:4 R:0.79 P:0.90",
         "line": {
          "color": "#FFA15A",
          "dash": "solid",
          "width": 1.5
         },
         "marker": {
          "symbol": "circle"
         },
         "mode": "markers+lines",
         "name": "mr:0.15 tuplen:4 R:0.79 P:0.90",
         "orientation": "v",
         "showlegend": true,
         "type": "scatter",
         "x": [
          "mr",
          "tuplen",
          "R",
          "P"
         ],
         "xaxis": "x",
         "y": [
          0.7699999999999999,
          0.8200000000000001,
          0.8505439330543934,
          0.965336579244113
         ],
         "yaxis": "y"
        },
        {
         "hovertemplate": "id=mr:0.15 tuplen:5 R:0.80 P:0.95<br>variable=%{x}<br>value=%{y}<extra></extra>",
         "legendgroup": "mr:0.15 tuplen:5 R:0.80 P:0.95",
         "line": {
          "color": "#19d3f3",
          "dash": "solid",
          "width": 1.5
         },
         "marker": {
          "symbol": "circle"
         },
         "mode": "markers+lines",
         "name": "mr:0.15 tuplen:5 R:0.80 P:0.95",
         "orientation": "v",
         "showlegend": true,
         "type": "scatter",
         "x": [
          "mr",
          "tuplen",
          "R",
          "P"
         ],
         "xaxis": "x",
         "y": [
          0.7749999999999999,
          1.025,
          0.8639121338912135,
          1.0219835123939602
         ],
         "yaxis": "y"
        },
        {
         "hovertemplate": "id=mr:0.20 tuplen:3 R:0.51 P:0.25<br>variable=%{x}<br>value=%{y}<extra></extra>",
         "legendgroup": "mr:0.20 tuplen:3 R:0.51 P:0.25",
         "line": {
          "color": "#FF6692",
          "dash": "solid",
          "width": 1.5
         },
         "marker": {
          "symbol": "circle"
         },
         "mode": "markers+lines",
         "name": "mr:0.20 tuplen:3 R:0.51 P:0.25",
         "orientation": "v",
         "showlegend": true,
         "type": "scatter",
         "x": [
          "mr",
          "tuplen",
          "R",
          "P"
         ],
         "xaxis": "x",
         "y": [
          1.03,
          0.63,
          0.5676569037656904,
          0.2952595066786984
         ],
         "yaxis": "y"
        },
        {
         "hovertemplate": "id=mr:0.20 tuplen:4 R:0.50 P:0.90<br>variable=%{x}<br>value=%{y}<extra></extra>",
         "legendgroup": "mr:0.20 tuplen:4 R:0.50 P:0.90",
         "line": {
          "color": "#B6E880",
          "dash": "solid",
          "width": 1.5
         },
         "marker": {
          "symbol": "circle"
         },
         "mode": "markers+lines",
         "name": "mr:0.20 tuplen:4 R:0.50 P:0.90",
         "orientation": "v",
         "showlegend": true,
         "type": "scatter",
         "x": [
          "mr",
          "tuplen",
          "R",
          "P"
         ],
         "xaxis": "x",
         "y": [
          1.035,
          0.8350000000000001,
          0.5611506276150628,
          0.9832472976752689
         ],
         "yaxis": "y"
        },
        {
         "hovertemplate": "id=mr:0.20 tuplen:5 R:0.49 P:0.86<br>variable=%{x}<br>value=%{y}<extra></extra>",
         "legendgroup": "mr:0.20 tuplen:5 R:0.49 P:0.86",
         "line": {
          "color": "#FF97FF",
          "dash": "solid",
          "width": 1.5
         },
         "marker": {
          "symbol": "circle"
         },
         "mode": "markers+lines",
         "name": "mr:0.20 tuplen:5 R:0.49 P:0.86",
         "orientation": "v",
         "showlegend": true,
         "type": "scatter",
         "x": [
          "mr",
          "tuplen",
          "R",
          "P"
         ],
         "xaxis": "x",
         "y": [
          1.04,
          1.04,
          0.5577824267782427,
          0.9420927130736167
         ],
         "yaxis": "y"
        }
       ],
       "layout": {
        "autosize": true,
        "legend": {
         "title": {
          "text": "id"
         },
         "tracegroupgap": 0
        },
        "margin": {
         "t": 60
        },
        "template": {
         "data": {
          "bar": [
           {
            "error_x": {
             "color": "#2a3f5f"
            },
            "error_y": {
             "color": "#2a3f5f"
            },
            "marker": {
             "line": {
              "color": "#E5ECF6",
              "width": 0.5
             },
             "pattern": {
              "fillmode": "overlay",
              "size": 10,
              "solidity": 0.2
             }
            },
            "type": "bar"
           }
          ],
          "barpolar": [
           {
            "marker": {
             "line": {
              "color": "#E5ECF6",
              "width": 0.5
             },
             "pattern": {
              "fillmode": "overlay",
              "size": 10,
              "solidity": 0.2
             }
            },
            "type": "barpolar"
           }
          ],
          "carpet": [
           {
            "aaxis": {
             "endlinecolor": "#2a3f5f",
             "gridcolor": "white",
             "linecolor": "white",
             "minorgridcolor": "white",
             "startlinecolor": "#2a3f5f"
            },
            "baxis": {
             "endlinecolor": "#2a3f5f",
             "gridcolor": "white",
             "linecolor": "white",
             "minorgridcolor": "white",
             "startlinecolor": "#2a3f5f"
            },
            "type": "carpet"
           }
          ],
          "choropleth": [
           {
            "colorbar": {
             "outlinewidth": 0,
             "ticks": ""
            },
            "type": "choropleth"
           }
          ],
          "contour": [
           {
            "colorbar": {
             "outlinewidth": 0,
             "ticks": ""
            },
            "colorscale": [
             [
              0,
              "#0d0887"
             ],
             [
              0.1111111111111111,
              "#46039f"
             ],
             [
              0.2222222222222222,
              "#7201a8"
             ],
             [
              0.3333333333333333,
              "#9c179e"
             ],
             [
              0.4444444444444444,
              "#bd3786"
             ],
             [
              0.5555555555555556,
              "#d8576b"
             ],
             [
              0.6666666666666666,
              "#ed7953"
             ],
             [
              0.7777777777777778,
              "#fb9f3a"
             ],
             [
              0.8888888888888888,
              "#fdca26"
             ],
             [
              1,
              "#f0f921"
             ]
            ],
            "type": "contour"
           }
          ],
          "contourcarpet": [
           {
            "colorbar": {
             "outlinewidth": 0,
             "ticks": ""
            },
            "type": "contourcarpet"
           }
          ],
          "heatmap": [
           {
            "colorbar": {
             "outlinewidth": 0,
             "ticks": ""
            },
            "colorscale": [
             [
              0,
              "#0d0887"
             ],
             [
              0.1111111111111111,
              "#46039f"
             ],
             [
              0.2222222222222222,
              "#7201a8"
             ],
             [
              0.3333333333333333,
              "#9c179e"
             ],
             [
              0.4444444444444444,
              "#bd3786"
             ],
             [
              0.5555555555555556,
              "#d8576b"
             ],
             [
              0.6666666666666666,
              "#ed7953"
             ],
             [
              0.7777777777777778,
              "#fb9f3a"
             ],
             [
              0.8888888888888888,
              "#fdca26"
             ],
             [
              1,
              "#f0f921"
             ]
            ],
            "type": "heatmap"
           }
          ],
          "heatmapgl": [
           {
            "colorbar": {
             "outlinewidth": 0,
             "ticks": ""
            },
            "colorscale": [
             [
              0,
              "#0d0887"
             ],
             [
              0.1111111111111111,
              "#46039f"
             ],
             [
              0.2222222222222222,
              "#7201a8"
             ],
             [
              0.3333333333333333,
              "#9c179e"
             ],
             [
              0.4444444444444444,
              "#bd3786"
             ],
             [
              0.5555555555555556,
              "#d8576b"
             ],
             [
              0.6666666666666666,
              "#ed7953"
             ],
             [
              0.7777777777777778,
              "#fb9f3a"
             ],
             [
              0.8888888888888888,
              "#fdca26"
             ],
             [
              1,
              "#f0f921"
             ]
            ],
            "type": "heatmapgl"
           }
          ],
          "histogram": [
           {
            "marker": {
             "pattern": {
              "fillmode": "overlay",
              "size": 10,
              "solidity": 0.2
             }
            },
            "type": "histogram"
           }
          ],
          "histogram2d": [
           {
            "colorbar": {
             "outlinewidth": 0,
             "ticks": ""
            },
            "colorscale": [
             [
              0,
              "#0d0887"
             ],
             [
              0.1111111111111111,
              "#46039f"
             ],
             [
              0.2222222222222222,
              "#7201a8"
             ],
             [
              0.3333333333333333,
              "#9c179e"
             ],
             [
              0.4444444444444444,
              "#bd3786"
             ],
             [
              0.5555555555555556,
              "#d8576b"
             ],
             [
              0.6666666666666666,
              "#ed7953"
             ],
             [
              0.7777777777777778,
              "#fb9f3a"
             ],
             [
              0.8888888888888888,
              "#fdca26"
             ],
             [
              1,
              "#f0f921"
             ]
            ],
            "type": "histogram2d"
           }
          ],
          "histogram2dcontour": [
           {
            "colorbar": {
             "outlinewidth": 0,
             "ticks": ""
            },
            "colorscale": [
             [
              0,
              "#0d0887"
             ],
             [
              0.1111111111111111,
              "#46039f"
             ],
             [
              0.2222222222222222,
              "#7201a8"
             ],
             [
              0.3333333333333333,
              "#9c179e"
             ],
             [
              0.4444444444444444,
              "#bd3786"
             ],
             [
              0.5555555555555556,
              "#d8576b"
             ],
             [
              0.6666666666666666,
              "#ed7953"
             ],
             [
              0.7777777777777778,
              "#fb9f3a"
             ],
             [
              0.8888888888888888,
              "#fdca26"
             ],
             [
              1,
              "#f0f921"
             ]
            ],
            "type": "histogram2dcontour"
           }
          ],
          "mesh3d": [
           {
            "colorbar": {
             "outlinewidth": 0,
             "ticks": ""
            },
            "type": "mesh3d"
           }
          ],
          "parcoords": [
           {
            "line": {
             "colorbar": {
              "outlinewidth": 0,
              "ticks": ""
             }
            },
            "type": "parcoords"
           }
          ],
          "pie": [
           {
            "automargin": true,
            "type": "pie"
           }
          ],
          "scatter": [
           {
            "fillpattern": {
             "fillmode": "overlay",
             "size": 10,
             "solidity": 0.2
            },
            "type": "scatter"
           }
          ],
          "scatter3d": [
           {
            "line": {
             "colorbar": {
              "outlinewidth": 0,
              "ticks": ""
             }
            },
            "marker": {
             "colorbar": {
              "outlinewidth": 0,
              "ticks": ""
             }
            },
            "type": "scatter3d"
           }
          ],
          "scattercarpet": [
           {
            "marker": {
             "colorbar": {
              "outlinewidth": 0,
              "ticks": ""
             }
            },
            "type": "scattercarpet"
           }
          ],
          "scattergeo": [
           {
            "marker": {
             "colorbar": {
              "outlinewidth": 0,
              "ticks": ""
             }
            },
            "type": "scattergeo"
           }
          ],
          "scattergl": [
           {
            "marker": {
             "colorbar": {
              "outlinewidth": 0,
              "ticks": ""
             }
            },
            "type": "scattergl"
           }
          ],
          "scattermapbox": [
           {
            "marker": {
             "colorbar": {
              "outlinewidth": 0,
              "ticks": ""
             }
            },
            "type": "scattermapbox"
           }
          ],
          "scatterpolar": [
           {
            "marker": {
             "colorbar": {
              "outlinewidth": 0,
              "ticks": ""
             }
            },
            "type": "scatterpolar"
           }
          ],
          "scatterpolargl": [
           {
            "marker": {
             "colorbar": {
              "outlinewidth": 0,
              "ticks": ""
             }
            },
            "type": "scatterpolargl"
           }
          ],
          "scatterternary": [
           {
            "marker": {
             "colorbar": {
              "outlinewidth": 0,
              "ticks": ""
             }
            },
            "type": "scatterternary"
           }
          ],
          "surface": [
           {
            "colorbar": {
             "outlinewidth": 0,
             "ticks": ""
            },
            "colorscale": [
             [
              0,
              "#0d0887"
             ],
             [
              0.1111111111111111,
              "#46039f"
             ],
             [
              0.2222222222222222,
              "#7201a8"
             ],
             [
              0.3333333333333333,
              "#9c179e"
             ],
             [
              0.4444444444444444,
              "#bd3786"
             ],
             [
              0.5555555555555556,
              "#d8576b"
             ],
             [
              0.6666666666666666,
              "#ed7953"
             ],
             [
              0.7777777777777778,
              "#fb9f3a"
             ],
             [
              0.8888888888888888,
              "#fdca26"
             ],
             [
              1,
              "#f0f921"
             ]
            ],
            "type": "surface"
           }
          ],
          "table": [
           {
            "cells": {
             "fill": {
              "color": "#EBF0F8"
             },
             "line": {
              "color": "white"
             }
            },
            "header": {
             "fill": {
              "color": "#C8D4E3"
             },
             "line": {
              "color": "white"
             }
            },
            "type": "table"
           }
          ]
         },
         "layout": {
          "annotationdefaults": {
           "arrowcolor": "#2a3f5f",
           "arrowhead": 0,
           "arrowwidth": 1
          },
          "autotypenumbers": "strict",
          "coloraxis": {
           "colorbar": {
            "outlinewidth": 0,
            "ticks": ""
           }
          },
          "colorscale": {
           "diverging": [
            [
             0,
             "#8e0152"
            ],
            [
             0.1,
             "#c51b7d"
            ],
            [
             0.2,
             "#de77ae"
            ],
            [
             0.3,
             "#f1b6da"
            ],
            [
             0.4,
             "#fde0ef"
            ],
            [
             0.5,
             "#f7f7f7"
            ],
            [
             0.6,
             "#e6f5d0"
            ],
            [
             0.7,
             "#b8e186"
            ],
            [
             0.8,
             "#7fbc41"
            ],
            [
             0.9,
             "#4d9221"
            ],
            [
             1,
             "#276419"
            ]
           ],
           "sequential": [
            [
             0,
             "#0d0887"
            ],
            [
             0.1111111111111111,
             "#46039f"
            ],
            [
             0.2222222222222222,
             "#7201a8"
            ],
            [
             0.3333333333333333,
             "#9c179e"
            ],
            [
             0.4444444444444444,
             "#bd3786"
            ],
            [
             0.5555555555555556,
             "#d8576b"
            ],
            [
             0.6666666666666666,
             "#ed7953"
            ],
            [
             0.7777777777777778,
             "#fb9f3a"
            ],
            [
             0.8888888888888888,
             "#fdca26"
            ],
            [
             1,
             "#f0f921"
            ]
           ],
           "sequentialminus": [
            [
             0,
             "#0d0887"
            ],
            [
             0.1111111111111111,
             "#46039f"
            ],
            [
             0.2222222222222222,
             "#7201a8"
            ],
            [
             0.3333333333333333,
             "#9c179e"
            ],
            [
             0.4444444444444444,
             "#bd3786"
            ],
            [
             0.5555555555555556,
             "#d8576b"
            ],
            [
             0.6666666666666666,
             "#ed7953"
            ],
            [
             0.7777777777777778,
             "#fb9f3a"
            ],
            [
             0.8888888888888888,
             "#fdca26"
            ],
            [
             1,
             "#f0f921"
            ]
           ]
          },
          "colorway": [
           "#636efa",
           "#EF553B",
           "#00cc96",
           "#ab63fa",
           "#FFA15A",
           "#19d3f3",
           "#FF6692",
           "#B6E880",
           "#FF97FF",
           "#FECB52"
          ],
          "font": {
           "color": "#2a3f5f"
          },
          "geo": {
           "bgcolor": "white",
           "lakecolor": "white",
           "landcolor": "#E5ECF6",
           "showlakes": true,
           "showland": true,
           "subunitcolor": "white"
          },
          "hoverlabel": {
           "align": "left"
          },
          "hovermode": "closest",
          "mapbox": {
           "style": "light"
          },
          "paper_bgcolor": "white",
          "plot_bgcolor": "#E5ECF6",
          "polar": {
           "angularaxis": {
            "gridcolor": "white",
            "linecolor": "white",
            "ticks": ""
           },
           "bgcolor": "#E5ECF6",
           "radialaxis": {
            "gridcolor": "white",
            "linecolor": "white",
            "ticks": ""
           }
          },
          "scene": {
           "xaxis": {
            "backgroundcolor": "#E5ECF6",
            "gridcolor": "white",
            "gridwidth": 2,
            "linecolor": "white",
            "showbackground": true,
            "ticks": "",
            "zerolinecolor": "white"
           },
           "yaxis": {
            "backgroundcolor": "#E5ECF6",
            "gridcolor": "white",
            "gridwidth": 2,
            "linecolor": "white",
            "showbackground": true,
            "ticks": "",
            "zerolinecolor": "white"
           },
           "zaxis": {
            "backgroundcolor": "#E5ECF6",
            "gridcolor": "white",
            "gridwidth": 2,
            "linecolor": "white",
            "showbackground": true,
            "ticks": "",
            "zerolinecolor": "white"
           }
          },
          "shapedefaults": {
           "line": {
            "color": "#2a3f5f"
           }
          },
          "ternary": {
           "aaxis": {
            "gridcolor": "white",
            "linecolor": "white",
            "ticks": ""
           },
           "baxis": {
            "gridcolor": "white",
            "linecolor": "white",
            "ticks": ""
           },
           "bgcolor": "#E5ECF6",
           "caxis": {
            "gridcolor": "white",
            "linecolor": "white",
            "ticks": ""
           }
          },
          "title": {
           "x": 0.05
          },
          "xaxis": {
           "automargin": true,
           "gridcolor": "white",
           "linecolor": "white",
           "ticks": "",
           "title": {
            "standoff": 15
           },
           "zerolinecolor": "white",
           "zerolinewidth": 2
          },
          "yaxis": {
           "automargin": true,
           "gridcolor": "white",
           "linecolor": "white",
           "ticks": "",
           "title": {
            "standoff": 15
           },
           "zerolinecolor": "white",
           "zerolinewidth": 2
          }
         }
        },
        "xaxis": {
         "anchor": "y",
         "autorange": true,
         "domain": [
          0,
          1
         ],
         "range": [
          -0.18207024029574861,
          3.1820702402957486
         ],
         "title": {
          "text": "variable"
         },
         "type": "category"
        },
        "yaxis": {
         "anchor": "x",
         "autorange": true,
         "domain": [
          0,
          1
         ],
         "range": [
          0.23759587268137974,
          1.0976636339973187
         ],
         "title": {
          "text": "value"
         },
         "type": "linear"
        }
       }
      },
      "image/png": "[encoded data removed]",
      "text/html": [
       "<div>                            <div id=\"2b6aa4e6-41dc-43c2-b46d-de54237c6dc1\" class=\"plotly-graph-div\" style=\"height:525px; width:100%;\"></div>            <script type=\"text/javascript\">                require([\"plotly\"], function(Plotly) {                    window.PLOTLYENV=window.PLOTLYENV || {};                                    if (document.getElementById(\"2b6aa4e6-41dc-43c2-b46d-de54237c6dc1\")) {                    Plotly.newPlot(                        \"2b6aa4e6-41dc-43c2-b46d-de54237c6dc1\",                        [{\"hovertemplate\":\"id=mr:0.10 tuplen:3 R:0.95 P:0.64<br>variable=%{x}<br>value=%{y}<extra></extra>\",\"legendgroup\":\"mr:0.10 tuplen:3 R:0.95 P:0.64\",\"line\":{\"color\":\"#636efa\",\"dash\":\"solid\",\"width\":1.5},\"marker\":{\"symbol\":\"circle\"},\"mode\":\"markers+lines\",\"name\":\"mr:0.10 tuplen:3 R:0.95 P:0.64\",\"orientation\":\"v\",\"showlegend\":true,\"x\":[\"mr\",\"tuplen\",\"R\",\"P\"],\"xaxis\":\"x\",\"y\":[0.5,0.6,0.9916317991631799,0.6700063034271369],\"yaxis\":\"y\",\"type\":\"scatter\"},{\"hovertemplate\":\"id=mr:0.10 tuplen:4 R:0.96 P:0.95<br>variable=%{x}<br>value=%{y}<extra></extra>\",\"legendgroup\":\"mr:0.10 tuplen:4 R:0.96 P:0.95\",\"line\":{\"color\":\"#EF553B\",\"dash\":\"solid\",\"width\":1.5},\"marker\":{\"symbol\":\"circle\"},\"mode\":\"markers+lines\",\"name\":\"mr:0.10 tuplen:4 R:0.96 P:0.95\",\"orientation\":\"v\",\"showlegend\":true,\"x\":[\"mr\",\"tuplen\",\"R\",\"P\"],\"xaxis\":\"x\",\"y\":[0.505,0.805,1.005,1.002969938627137],\"yaxis\":\"y\",\"type\":\"scatter\"},{\"hovertemplate\":\"id=mr:0.10 tuplen:5 R:0.95 P:0.95<br>variable=%{x}<br>value=%{y}<extra></extra>\",\"legendgroup\":\"mr:0.10 tuplen:5 R:0.95 P:0.95\",\"line\":{\"color\":\"#00cc96\",\"dash\":\"solid\",\"width\":1.5},\"marker\":{\"symbol\":\"circle\"},\"mode\":\"markers+lines\",\"name\":\"mr:0.10 tuplen:5 R:0.95 P:0.95\",\"orientation\":\"v\",\"showlegend\":true,\"x\":[\"mr\",\"tuplen\",\"R\",\"P\"],\"xaxis\":\"x\",\"y\":[0.51,1.01,1.0068619246861925,1.01],\"yaxis\":\"y\",\"type\":\"scatter\"},{\"hovertemplate\":\"id=mr:0.15 tuplen:3 R:0.77 P:0.79<br>variable=%{x}<br>value=%{y}<extra></extra>\",\"legendgroup\":\"mr:0.15 tuplen:3 R:0.77 P:0.79\",\"line\":{\"color\":\"#ab63fa\",\"dash\":\"solid\",\"width\":1.5},\"marker\":{\"symbol\":\"circle\"},\"mode\":\"markers+lines\",\"name\":\"mr:0.15 tuplen:3 R:0.77 P:0.79\",\"orientation\":\"v\",\"showlegend\":true,\"x\":[\"mr\",\"tuplen\",\"R\",\"P\"],\"xaxis\":\"x\",\"y\":[0.7649999999999999,0.615,0.8152092050209205,0.8489625474759065],\"yaxis\":\"y\",\"type\":\"scatter\"},{\"hovertemplate\":\"id=mr:0.15 tuplen:4 R:0.79 P:0.90<br>variable=%{x}<br>value=%{y}<extra></extra>\",\"legendgroup\":\"mr:0.15 tuplen:4 R:0.79 P:0.90\",\"line\":{\"color\":\"#FFA15A\",\"dash\":\"solid\",\"width\":1.5},\"marker\":{\"symbol\":\"circle\"},\"mode\":\"markers+lines\",\"name\":\"mr:0.15 tuplen:4 R:0.79 P:0.90\",\"orientation\":\"v\",\"showlegend\":true,\"x\":[\"mr\",\"tuplen\",\"R\",\"P\"],\"xaxis\":\"x\",\"y\":[0.7699999999999999,0.8200000000000001,0.8505439330543934,0.965336579244113],\"yaxis\":\"y\",\"type\":\"scatter\"},{\"hovertemplate\":\"id=mr:0.15 tuplen:5 R:0.80 P:0.95<br>variable=%{x}<br>value=%{y}<extra></extra>\",\"legendgroup\":\"mr:0.15 tuplen:5 R:0.80 P:0.95\",\"line\":{\"color\":\"#19d3f3\",\"dash\":\"solid\",\"width\":1.5},\"marker\":{\"symbol\":\"circle\"},\"mode\":\"markers+lines\",\"name\":\"mr:0.15 tuplen:5 R:0.80 P:0.95\",\"orientation\":\"v\",\"showlegend\":true,\"x\":[\"mr\",\"tuplen\",\"R\",\"P\"],\"xaxis\":\"x\",\"y\":[0.7749999999999999,1.025,0.8639121338912135,1.0219835123939602],\"yaxis\":\"y\",\"type\":\"scatter\"},{\"hovertemplate\":\"id=mr:0.20 tuplen:3 R:0.51 P:0.25<br>variable=%{x}<br>value=%{y}<extra></extra>\",\"legendgroup\":\"mr:0.20 tuplen:3 R:0.51 P:0.25\",\"line\":{\"color\":\"#FF6692\",\"dash\":\"solid\",\"width\":1.5},\"marker\":{\"symbol\":\"circle\"},\"mode\":\"markers+lines\",\"name\":\"mr:0.20 tuplen:3 R:0.51 P:0.25\",\"orientation\":\"v\",\"showlegend\":true,\"x\":[\"mr\",\"tuplen\",\"R\",\"P\"],\"xaxis\":\"x\",\"y\":[1.03,0.63,0.5676569037656904,0.2952595066786984],\"yaxis\":\"y\",\"type\":\"scatter\"},{\"hovertemplate\":\"id=mr:0.20 tuplen:4 R:0.50 P:0.90<br>variable=%{x}<br>value=%{y}<extra></extra>\",\"legendgroup\":\"mr:0.20 tuplen:4 R:0.50 P:0.90\",\"line\":{\"color\":\"#B6E880\",\"dash\":\"solid\",\"width\":1.5},\"marker\":{\"symbol\":\"circle\"},\"mode\":\"markers+lines\",\"name\":\"mr:0.20 tuplen:4 R:0.50 P:0.90\",\"orientation\":\"v\",\"showlegend\":true,\"x\":[\"mr\",\"tuplen\",\"R\",\"P\"],\"xaxis\":\"x\",\"y\":[1.035,0.8350000000000001,0.5611506276150628,0.9832472976752689],\"yaxis\":\"y\",\"type\":\"scatter\"},{\"hovertemplate\":\"id=mr:0.20 tuplen:5 R:0.49 P:0.86<br>variable=%{x}<br>value=%{y}<extra></extra>\",\"legendgroup\":\"mr:0.20 tuplen:5 R:0.49 P:0.86\",\"line\":{\"color\":\"#FF97FF\",\"dash\":\"solid\",\"width\":1.5},\"marker\":{\"symbol\":\"circle\"},\"mode\":\"markers+lines\",\"name\":\"mr:0.20 tuplen:5 R:0.49 P:0.86\",\"orientation\":\"v\",\"showlegend\":true,\"x\":[\"mr\",\"tuplen\",\"R\",\"P\"],\"xaxis\":\"x\",\"y\":[1.04,1.04,0.5577824267782427,0.9420927130736167],\"yaxis\":\"y\",\"type\":\"scatter\"}],                        {\"template\":{\"data\":{\"histogram2dcontour\":[{\"type\":\"histogram2dcontour\",\"colorbar\":{\"outlinewidth\":0,\"ticks\":\"\"},\"colorscale\":[[0.0,\"#0d0887\"],[0.1111111111111111,\"#46039f\"],[0.2222222222222222,\"#7201a8\"],[0.3333333333333333,\"#9c179e\"],[0.4444444444444444,\"#bd3786\"],[0.5555555555555556,\"#d8576b\"],[0.6666666666666666,\"#ed7953\"],[0.7777777777777778,\"#fb9f3a\"],[0.8888888888888888,\"#fdca26\"],[1.0,\"#f0f921\"]]}],\"choropleth\":[{\"type\":\"choropleth\",\"colorbar\":{\"outlinewidth\":0,\"ticks\":\"\"}}],\"histogram2d\":[{\"type\":\"histogram2d\",\"colorbar\":{\"outlinewidth\":0,\"ticks\":\"\"},\"colorscale\":[[0.0,\"#0d0887\"],[0.1111111111111111,\"#46039f\"],[0.2222222222222222,\"#7201a8\"],[0.3333333333333333,\"#9c179e\"],[0.4444444444444444,\"#bd3786\"],[0.5555555555555556,\"#d8576b\"],[0.6666666666666666,\"#ed7953\"],[0.7777777777777778,\"#fb9f3a\"],[0.8888888888888888,\"#fdca26\"],[1.0,\"#f0f921\"]]}],\"heatmap\":[{\"type\":\"heatmap\",\"colorbar\":{\"outlinewidth\":0,\"ticks\":\"\"},\"colorscale\":[[0.0,\"#0d0887\"],[0.1111111111111111,\"#46039f\"],[0.2222222222222222,\"#7201a8\"],[0.3333333333333333,\"#9c179e\"],[0.4444444444444444,\"#bd3786\"],[0.5555555555555556,\"#d8576b\"],[0.6666666666666666,\"#ed7953\"],[0.7777777777777778,\"#fb9f3a\"],[0.8888888888888888,\"#fdca26\"],[1.0,\"#f0f921\"]]}],\"heatmapgl\":[{\"type\":\"heatmapgl\",\"colorbar\":{\"outlinewidth\":0,\"ticks\":\"\"},\"colorscale\":[[0.0,\"#0d0887\"],[0.1111111111111111,\"#46039f\"],[0.2222222222222222,\"#7201a8\"],[0.3333333333333333,\"#9c179e\"],[0.4444444444444444,\"#bd3786\"],[0.5555555555555556,\"#d8576b\"],[0.6666666666666666,\"#ed7953\"],[0.7777777777777778,\"#fb9f3a\"],[0.8888888888888888,\"#fdca26\"],[1.0,\"#f0f921\"]]}],\"contourcarpet\":[{\"type\":\"contourcarpet\",\"colorbar\":{\"outlinewidth\":0,\"ticks\":\"\"}}],\"contour\":[{\"type\":\"contour\",\"colorbar\":{\"outlinewidth\":0,\"ticks\":\"\"},\"colorscale\":[[0.0,\"#0d0887\"],[0.1111111111111111,\"#46039f\"],[0.2222222222222222,\"#7201a8\"],[0.3333333333333333,\"#9c179e\"],[0.4444444444444444,\"#bd3786\"],[0.5555555555555556,\"#d8576b\"],[0.6666666666666666,\"#ed7953\"],[0.7777777777777778,\"#fb9f3a\"],[0.8888888888888888,\"#fdca26\"],[1.0,\"#f0f921\"]]}],\"surface\":[{\"type\":\"surface\",\"colorbar\":{\"outlinewidth\":0,\"ticks\":\"\"},\"colorscale\":[[0.0,\"#0d0887\"],[0.1111111111111111,\"#46039f\"],[0.2222222222222222,\"#7201a8\"],[0.3333333333333333,\"#9c179e\"],[0.4444444444444444,\"#bd3786\"],[0.5555555555555556,\"#d8576b\"],[0.6666666666666666,\"#ed7953\"],[0.7777777777777778,\"#fb9f3a\"],[0.8888888888888888,\"#fdca26\"],[1.0,\"#f0f921\"]]}],\"mesh3d\":[{\"type\":\"mesh3d\",\"colorbar\":{\"outlinewidth\":0,\"ticks\":\"\"}}],\"scatter\":[{\"fillpattern\":{\"fillmode\":\"overlay\",\"size\":10,\"solidity\":0.2},\"type\":\"scatter\"}],\"parcoords\":[{\"type\":\"parcoords\",\"line\":{\"colorbar\":{\"outlinewidth\":0,\"ticks\":\"\"}}}],\"scatterpolargl\":[{\"type\":\"scatterpolargl\",\"marker\":{\"colorbar\":{\"outlinewidth\":0,\"ticks\":\"\"}}}],\"bar\":[{\"error_x\":{\"color\":\"#2a3f5f\"},\"error_y\":{\"color\":\"#2a3f5f\"},\"marker\":{\"line\":{\"color\":\"#E5ECF6\",\"width\":0.5},\"pattern\":{\"fillmode\":\"overlay\",\"size\":10,\"solidity\":0.2}},\"type\":\"bar\"}],\"scattergeo\":[{\"type\":\"scattergeo\",\"marker\":{\"colorbar\":{\"outlinewidth\":0,\"ticks\":\"\"}}}],\"scatterpolar\":[{\"type\":\"scatterpolar\",\"marker\":{\"colorbar\":{\"outlinewidth\":0,\"ticks\":\"\"}}}],\"histogram\":[{\"marker\":{\"pattern\":{\"fillmode\":\"overlay\",\"size\":10,\"solidity\":0.2}},\"type\":\"histogram\"}],\"scattergl\":[{\"type\":\"scattergl\",\"marker\":{\"colorbar\":{\"outlinewidth\":0,\"ticks\":\"\"}}}],\"scatter3d\":[{\"type\":\"scatter3d\",\"line\":{\"colorbar\":{\"outlinewidth\":0,\"ticks\":\"\"}},\"marker\":{\"colorbar\":{\"outlinewidth\":0,\"ticks\":\"\"}}}],\"scattermapbox\":[{\"type\":\"scattermapbox\",\"marker\":{\"colorbar\":{\"outlinewidth\":0,\"ticks\":\"\"}}}],\"scatterternary\":[{\"type\":\"scatterternary\",\"marker\":{\"colorbar\":{\"outlinewidth\":0,\"ticks\":\"\"}}}],\"scattercarpet\":[{\"type\":\"scattercarpet\",\"marker\":{\"colorbar\":{\"outlinewidth\":0,\"ticks\":\"\"}}}],\"carpet\":[{\"aaxis\":{\"endlinecolor\":\"#2a3f5f\",\"gridcolor\":\"white\",\"linecolor\":\"white\",\"minorgridcolor\":\"white\",\"startlinecolor\":\"#2a3f5f\"},\"baxis\":{\"endlinecolor\":\"#2a3f5f\",\"gridcolor\":\"white\",\"linecolor\":\"white\",\"minorgridcolor\":\"white\",\"startlinecolor\":\"#2a3f5f\"},\"type\":\"carpet\"}],\"table\":[{\"cells\":{\"fill\":{\"color\":\"#EBF0F8\"},\"line\":{\"color\":\"white\"}},\"header\":{\"fill\":{\"color\":\"#C8D4E3\"},\"line\":{\"color\":\"white\"}},\"type\":\"table\"}],\"barpolar\":[{\"marker\":{\"line\":{\"color\":\"#E5ECF6\",\"width\":0.5},\"pattern\":{\"fillmode\":\"overlay\",\"size\":10,\"solidity\":0.2}},\"type\":\"barpolar\"}],\"pie\":[{\"automargin\":true,\"type\":\"pie\"}]},\"layout\":{\"autotypenumbers\":\"strict\",\"colorway\":[\"#636efa\",\"#EF553B\",\"#00cc96\",\"#ab63fa\",\"#FFA15A\",\"#19d3f3\",\"#FF6692\",\"#B6E880\",\"#FF97FF\",\"#FECB52\"],\"font\":{\"color\":\"#2a3f5f\"},\"hovermode\":\"closest\",\"hoverlabel\":{\"align\":\"left\"},\"paper_bgcolor\":\"white\",\"plot_bgcolor\":\"#E5ECF6\",\"polar\":{\"bgcolor\":\"#E5ECF6\",\"angularaxis\":{\"gridcolor\":\"white\",\"linecolor\":\"white\",\"ticks\":\"\"},\"radialaxis\":{\"gridcolor\":\"white\",\"linecolor\":\"white\",\"ticks\":\"\"}},\"ternary\":{\"bgcolor\":\"#E5ECF6\",\"aaxis\":{\"gridcolor\":\"white\",\"linecolor\":\"white\",\"ticks\":\"\"},\"baxis\":{\"gridcolor\":\"white\",\"linecolor\":\"white\",\"ticks\":\"\"},\"caxis\":{\"gridcolor\":\"white\",\"linecolor\":\"white\",\"ticks\":\"\"}},\"coloraxis\":{\"colorbar\":{\"outlinewidth\":0,\"ticks\":\"\"}},\"colorscale\":{\"sequential\":[[0.0,\"#0d0887\"],[0.1111111111111111,\"#46039f\"],[0.2222222222222222,\"#7201a8\"],[0.3333333333333333,\"#9c179e\"],[0.4444444444444444,\"#bd3786\"],[0.5555555555555556,\"#d8576b\"],[0.6666666666666666,\"#ed7953\"],[0.7777777777777778,\"#fb9f3a\"],[0.8888888888888888,\"#fdca26\"],[1.0,\"#f0f921\"]],\"sequentialminus\":[[0.0,\"#0d0887\"],[0.1111111111111111,\"#46039f\"],[0.2222222222222222,\"#7201a8\"],[0.3333333333333333,\"#9c179e\"],[0.4444444444444444,\"#bd3786\"],[0.5555555555555556,\"#d8576b\"],[0.6666666666666666,\"#ed7953\"],[0.7777777777777778,\"#fb9f3a\"],[0.8888888888888888,\"#fdca26\"],[1.0,\"#f0f921\"]],\"diverging\":[[0,\"#8e0152\"],[0.1,\"#c51b7d\"],[0.2,\"#de77ae\"],[0.3,\"#f1b6da\"],[0.4,\"#fde0ef\"],[0.5,\"#f7f7f7\"],[0.6,\"#e6f5d0\"],[0.7,\"#b8e186\"],[0.8,\"#7fbc41\"],[0.9,\"#4d9221\"],[1,\"#276419\"]]},\"xaxis\":{\"gridcolor\":\"white\",\"linecolor\":\"white\",\"ticks\":\"\",\"title\":{\"standoff\":15},\"zerolinecolor\":\"white\",\"automargin\":true,\"zerolinewidth\":2},\"yaxis\":{\"gridcolor\":\"white\",\"linecolor\":\"white\",\"ticks\":\"\",\"title\":{\"standoff\":15},\"zerolinecolor\":\"white\",\"automargin\":true,\"zerolinewidth\":2},\"scene\":{\"xaxis\":{\"backgroundcolor\":\"#E5ECF6\",\"gridcolor\":\"white\",\"linecolor\":\"white\",\"showbackground\":true,\"ticks\":\"\",\"zerolinecolor\":\"white\",\"gridwidth\":2},\"yaxis\":{\"backgroundcolor\":\"#E5ECF6\",\"gridcolor\":\"white\",\"linecolor\":\"white\",\"showbackground\":true,\"ticks\":\"\",\"zerolinecolor\":\"white\",\"gridwidth\":2},\"zaxis\":{\"backgroundcolor\":\"#E5ECF6\",\"gridcolor\":\"white\",\"linecolor\":\"white\",\"showbackground\":true,\"ticks\":\"\",\"zerolinecolor\":\"white\",\"gridwidth\":2}},\"shapedefaults\":{\"line\":{\"color\":\"#2a3f5f\"}},\"annotationdefaults\":{\"arrowcolor\":\"#2a3f5f\",\"arrowhead\":0,\"arrowwidth\":1},\"geo\":{\"bgcolor\":\"white\",\"landcolor\":\"#E5ECF6\",\"subunitcolor\":\"white\",\"showland\":true,\"showlakes\":true,\"lakecolor\":\"white\"},\"title\":{\"x\":0.05},\"mapbox\":{\"style\":\"light\"}}},\"xaxis\":{\"anchor\":\"y\",\"domain\":[0.0,1.0],\"title\":{\"text\":\"variable\"}},\"yaxis\":{\"anchor\":\"x\",\"domain\":[0.0,1.0],\"title\":{\"text\":\"value\"}},\"legend\":{\"title\":{\"text\":\"id\"},\"tracegroupgap\":0},\"margin\":{\"t\":60}},                        {\"responsive\": true}                    ).then(function(){\n",
       "                            \n",
       "var gd = document.getElementById('2b6aa4e6-41dc-43c2-b46d-de54237c6dc1');\n",
       "var x = new MutationObserver(function (mutations, observer) {{\n",
       "        var display = window.getComputedStyle(gd).display;\n",
       "        if (!display || display === 'none') {{\n",
       "            console.log([gd, 'removed!']);\n",
       "            Plotly.purge(gd);\n",
       "            observer.disconnect();\n",
       "        }}\n",
       "}});\n",
       "\n",
       "// Listen for the removal of the full notebook cells\n",
       "var notebookContainer = gd.closest('#notebook-container');\n",
       "if (notebookContainer) {{\n",
       "    x.observe(notebookContainer, {childList: true});\n",
       "}}\n",
       "\n",
       "// Listen for the clearing of the current output cell\n",
       "var outputEl = gd.closest('.output');\n",
       "if (outputEl) {{\n",
       "    x.observe(outputEl, {childList: true});\n",
       "}}\n",
       "\n",
       "                        })                };                });            </script>        </div>"
      ]
     },
     "metadata": {},
     "output_type": "display_data"
    }
   ],
   "source": [
    "def experiment(conf):\n",
    "    seqInt = np.random.randint(0,len(alphabet), (conf['N']))\n",
    "    seqv = alphabet[seqInt]\n",
    "    seq = ''.join(seqv)\n",
    "    sketcher = DTS(t=conf['tuplen'], D=conf['m'], D2=conf['m2'], A=len(alphabet)) \n",
    "    wmers = [seqInt[i:i+conf['w']] for i in range(0,len(seqInt) - conf['w'] + 1,conf['s'])]\n",
    "    sketches = sketcher.sketch(wmers)\n",
    "    lut = build_lookup(sketches, conf['s'])\n",
    "\n",
    "    paths = generate_paths(seq, conf['path_len'], conf['num_paths'], conf['k'], conf['mr'], alphabet)\n",
    "    recall, hits, tp, dists = np.zeros((4,conf['num_paths']))\n",
    "    dists[:] = np.inf\n",
    "\n",
    "    for i, path in enumerate(tqdm(paths)):\n",
    "        reference, query, node_path = path\n",
    "        queryInt = convert(query, alphabet)\n",
    "\n",
    "        q_wmers = [queryInt[i:i+conf['w']] for i in range(len(queryInt) - conf['w'] + 1)]\n",
    "        q_sketches = sketcher.sketch(q_wmers)\n",
    "\n",
    "        # Lookup\n",
    "        for qi,query_sketch in enumerate(q_sketches):\n",
    "            if query_sketch not in lut:\n",
    "                continue\n",
    "            for node in lut[query_sketch]: # for each node j in the matches\n",
    "                hits[i] += 1 # count a hit\n",
    "                ri = (node-node_path[0]) # relative node location to reference head \n",
    "                d1 = editdistance.eval(reference[:ri], query[:qi])\n",
    "                d2 = editdistance.eval(reference[ri:], query[qi:])\n",
    "                d = editdistance.eval(reference, query)\n",
    "                dists[i] = min(dists[i],d1+d2-d)\n",
    "                if(  d1+d2 <= d + conf['recall_dist']):\n",
    "                    tp[i] += 1\n",
    "                    recall[i] = 1\n",
    "\n",
    "    conf['P'] = np.mean(tp[hits>0]/hits[hits>0])  # np.sum(tp)/np.sum(hits) \n",
    "    conf['R'] = np.mean(recall) \n",
    "    conf['dists_bins'] = list(range(10))\n",
    "    conf['dists_counts'] = np.histogram(dists,bins=conf['dists_bins']+[np.inf])[0]\n",
    "    return conf \n",
    "\n",
    "def show_board(df, cols):  \n",
    "    def legend(x):\n",
    "        leg = []\n",
    "        for i,s in enumerate(x):\n",
    "            col = cols[i]\n",
    "            if int(s)==s:\n",
    "                leg.append(f'{col}:{int(s)}')\n",
    "            else:\n",
    "                leg.append(f'{col}:{s:.2f}')\n",
    "        return ' '.join(leg)\n",
    "\n",
    "    df2 = df[cols]\n",
    "    df2['id'] = df2.apply(lambda x: legend(x.tolist()), axis=1)\n",
    "    df2[cols] = df2[cols] / df2[cols].max()\n",
    "    for i in range(len(df2)):\n",
    "        df2.loc[i,cols] += i*5e-3 # add slight y to make them separately visible\n",
    "    df2 = pd.melt(df2, id_vars='id',value_vars=cols)\n",
    "    fig = px.line(df2,x='variable',y='value',color='id')\n",
    "    fig.update_traces(line=dict(width=1.5),mode=\"markers+lines\")\n",
    "    fig.show()\n",
    "\n",
    "results = []\n",
    "alphabet = np.array(['A','C','G','T'])\n",
    "\n",
    "for w in [14]:\n",
    "    config_grid = dict(\n",
    "        num_paths = 1000,\n",
    "        N = [int(1e6)],\n",
    "        mr = [0.1,.15,0.2],\n",
    "        path_len = 200,\n",
    "        recall_dist = 0,\n",
    "        k=w,\n",
    "        m=[20],\n",
    "        m2=[2**7],\n",
    "        tuplen = [3,4,5],\n",
    "        w = w,\n",
    "        s = [w],\n",
    "    )\n",
    "\n",
    "    for conf in dict_configs(config_grid): \n",
    "        result = experiment(conf)\n",
    "        results.append(result)\n",
    "        print(conf)    \n",
    "\n",
    "df = pd.DataFrame(results)\n",
    "\n",
    "show_board(df,cols = ['mr','tuplen','R','P']) # 'N','w','s',m,m2"
   ]
  },
  {
   "cell_type": "code",
   "execution_count": 42,
   "id": "ee1f66dd-4c76-412c-b370-323bfbe2cb2f",
   "metadata": {},
   "outputs": [
    {
     "data": {
      "image/png": "[encoded data removed]",
      "text/plain": [
       "<Figure size 864x432 with 2 Axes>"
      ]
     },
     "metadata": {},
     "output_type": "display_data"
    }
   ],
   "source": [
    "import seaborn as sns\n",
    "import plotly.express as px\n",
    "import matplotlib.pyplot as plt\n",
    "import pandas as pd\n",
    "df = pd.DataFrame(results)\n",
    "Ys = ['precision', 'recall']\n",
    "fig,axes = plt.subplots(1,len(Ys),figsize=(len(Ys)*6,6))\n",
    "for y,ax in zip(Ys,axes):\n",
    "    sns.set_style(\"whitegrid\")\n",
    "    sns.lineplot(ax=ax,data=df,y=y,x='mutation_rate',marker='.')#,hue='tuple_length')#,style='embed_dim2')\n",
    "    ax.set_ylim(0,1)\n",
    "\n",
    "plt.grid(True)"
   ]
  },
  {
   "cell_type": "markdown",
   "id": "69060065",
   "metadata": {},
   "source": [
    "# Measuring time"
   ]
  },
  {
   "cell_type": "code",
   "execution_count": 24,
   "id": "86fd5c3d",
   "metadata": {},
   "outputs": [
    {
     "name": "stdout",
     "output_type": "stream",
     "text": [
      "1000000: 0.8351550102233887\n",
      "2000000: 1.718003511428833\n",
      "5000000: 4.298624515533447\n",
      "10000000: 8.454844951629639\n"
     ]
    }
   ],
   "source": [
    "times = []\n",
    "sketcher = DTS(t=conf['tuple_length'], D=conf['embed_dim'], D2=conf['embed_dim2'], A=len(conf['alphabet']))    \n",
    "\n",
    "for N in [1000000, 2000000,5000000, 10000000]:\n",
    "    seqv = np.random.choice(conf['alphabet'], N)\n",
    "    seq = ''.join(seqv)\n",
    "    wmers = [np.random.randint(0,4,int(15)) for i in range(int(N/15))]\n",
    "    start = time.time()\n",
    "    sketcher.sketch(wmers)\n",
    "    end = time.time()\n",
    "    print(f'{N}: {end-start}')\n",
    "    times.append(end-start)\n"
   ]
  },
  {
   "cell_type": "markdown",
   "id": "0e0358ca-2fa8-4e47-ae83-7c8c5aa0a82c",
   "metadata": {},
   "source": [
    "# Multi-level sketching"
   ]
  },
  {
   "cell_type": "code",
   "execution_count": null,
   "id": "db7046bb-a555-492b-862a-c9ff2d4b70e6",
   "metadata": {},
   "outputs": [],
   "source": [
    "def sketch_multi(s):\n",
    "    h = s\n",
    "    m = conf['w']\n",
    "    h = [h[i:i+m] for i in range(0,len(h) - m + 1,m)]\n",
    "    h = np.array(sketcher.sketch(h)) % conf['alpha2']\n",
    "    h1 = h\n",
    "\n",
    "    m = conf['m2']\n",
    "    h = [h[i:i+m] for i in range(0,len(h) - m + 1,m)]\n",
    "    h = sketcher2.sketch(h)\n",
    "    h = np.array(h) % conf['alpha3']\n",
    "    h2 = h\n",
    "\n",
    "    return h1, h2\n",
    "\n",
    "\n",
    "w = 10\n",
    "w2 = 10\n",
    "alpha = 4\n",
    "\n",
    "\n",
    "config_grid = dict(\n",
    "    num_paths = 100,\n",
    "    N = [200],\n",
    "    mutation_rate = [0.1],\n",
    "    path_len = 20*w*w2,\n",
    "    embed_dim= 20,\n",
    "    embed_dim2= 2**4,\n",
    "    recall_distance = 3,\n",
    "    m = w,\n",
    "    tuple_length = 2,\n",
    "    m2 = w2,\n",
    "    tuple_length2= 4,\n",
    "    alpha2= 4 ,\n",
    "    alpha3= 8 ,\n",
    ")\n",
    "\n",
    "conf = next( dict_configs(config_grid) )\n",
    "\n",
    "Len = conf['path_len']\n",
    "Num = conf['N']\n",
    "sketcher = DTS(t=conf['tuple_length'], D=conf['embed_dim'], D2=conf['embed_dim2'], A=alpha) \n",
    "sketcher2 = DTS(t=conf['tuple_length2'], D=conf['embed_dim'], D2=conf['embed_dim2'], A=conf['alpha2'])   \n",
    "seqs = np.random.randint(0,alpha,(2,Num,Len))\n",
    "for i in range(Num):\n",
    "    I = np.random.permutation(Len)[:np.random.randint(Len)]\n",
    "    seqs[1,i,I] = seqs[0,i,I] \n",
    "seqs = seqs.reshape(2,Num,Len)\n",
    "Dists = np.zeros((3,Num))\n",
    "for i in range(Num):\n",
    "    seq, seq2 = seqs[0,i,:], seqs[1,i,:]\n",
    "    h, H = sketch_multi(seq)\n",
    "    h2,H2 = sketch_multi(seq2)\n",
    "    d1 = editdistance.eval(seq, seq2)\n",
    "    d2 = editdistance.eval(h, h2)\n",
    "    d3 = editdistance.eval(H, H2)\n",
    "    d3 = np.mean(H!=H2)\n",
    "    Dists[:,i] = (d1,d2,d3)\n",
    "\n",
    "fig, axes = plt.subplots(1,2,figsize=(10,5))\n",
    "axes[0].scatter(Dists[0]/Len,Dists[1],10,alpha=.5)\n",
    "axes[1].scatter(Dists[0]/Len,Dists[2],10,alpha=.5)"
   ]
  },
  {
   "cell_type": "code",
   "execution_count": null,
   "id": "495d8286-4ac7-4d6b-a5dc-9e7d8ae081a8",
   "metadata": {},
   "outputs": [],
   "source": []
  },
  {
   "cell_type": "code",
   "execution_count": null,
   "id": "f14e4895-1545-4aed-bf4f-781f332c5068",
   "metadata": {},
   "outputs": [],
   "source": []
  }
 ],
 "metadata": {
  "kernelspec": {
   "display_name": "Python 3",
   "language": "python",
   "name": "python3"
  },
  "language_info": {
   "codemirror_mode": {
    "name": "ipython",
    "version": 3
   },
   "file_extension": ".py",
   "mimetype": "text/x-python",
   "name": "python",
   "nbconvert_exporter": "python",
   "pygments_lexer": "ipython3",
   "version": "3.8.5"
  }
 },
 "nbformat": 4,
 "nbformat_minor": 5
}
